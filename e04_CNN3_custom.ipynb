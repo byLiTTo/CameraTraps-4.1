{
 "cells": [
  {
   "cell_type": "markdown",
   "source": [
    "# DEFINICIÓN DE PARÁMETROS"
   ],
   "metadata": {
    "collapsed": false,
    "pycharm": {
     "name": "#%% md\n"
    }
   }
  },
  {
   "cell_type": "code",
   "execution_count": 1,
   "outputs": [],
   "source": [
    "#######################################################################################################################\n",
    "\n",
    "# Ruta hacia los CSV del dataset\n",
    "train_file_relative = './data/700Train.csv'\n",
    "validation_file_relative = './data/700Validation.csv'\n",
    "test_file_relative = './data/700Test.csv'\n",
    "\n",
    "# Ruta al directorio de imágenes con máscara aplicada\n",
    "masked_dir_relative = '../local/output_masked'\n",
    "edited_dir_relative = '../local/output_edited'\n",
    "\n",
    "model_dir_relative = \"./models\"\n",
    "\n",
    "# Ruta relativa hacia la librería ai4eutils\n",
    "ai4eutils_relative = \"./repos/ai4eutils\"\n",
    "\n",
    "# Ruta relativa hacia la librería CameraTraps\n",
    "CameraTraps_relative = \"./repos/CameraTraps\"\n",
    "\n",
    "#######################################################################################################################"
   ],
   "metadata": {
    "collapsed": false,
    "pycharm": {
     "name": "#%%\n"
    }
   }
  },
  {
   "cell_type": "markdown",
   "source": [
    "# DEFINICIÓN PARÁMETROS CNN"
   ],
   "metadata": {
    "collapsed": false,
    "pycharm": {
     "name": "#%% md\n"
    }
   }
  },
  {
   "cell_type": "code",
   "execution_count": 2,
   "outputs": [],
   "source": [
    "#######################################################################################################################\n",
    "\n",
    "EPOCHS = 50\n",
    "LEARNING_RATE = 1e-4\n",
    "BATCH_SIZE = 16\n",
    "\n",
    "IMG_HEIGHT = IMG_WIDTH = 448\n",
    "\n",
    "#######################################################################################################################"
   ],
   "metadata": {
    "collapsed": false,
    "pycharm": {
     "name": "#%%\n"
    }
   }
  },
  {
   "cell_type": "code",
   "execution_count": 3,
   "metadata": {
    "collapsed": true,
    "pycharm": {
     "name": "#%%\n"
    }
   },
   "outputs": [
    {
     "name": "stdout",
     "output_type": "stream",
     "text": [
      "\n",
      "=======================================================================================================================================\n",
      "TensorFlow version: 2.10.0\n",
      "Is GPU available? tf.test.is_gpu_available: [PhysicalDevice(name='/physical_device:GPU:0', device_type='GPU')]\n",
      "=======================================================================================================================================\n",
      "\n",
      "==============================================================================================================\n",
      "PYTHONPATH: /Users/carlos/WORKSPACE/TFG-DeteccionFototrampeo:/Users/carlos/WORKSPACE/TFG-DeteccionFototrampeo/repos/ai4eutils:/Users/carlos/WORKSPACE/TFG-DeteccionFototrampeo/repos/CameraTraps\n",
      "\n",
      "ai4eutils PATH: \t\t/Users/carlos/WORKSPACE/TFG-DeteccionFototrampeo/repos/ai4eutils\n",
      "CameraTraps PATH: \t\t/Users/carlos/WORKSPACE/TFG-DeteccionFototrampeo/repos/CameraTraps\n",
      "Train CSV PATH: \t\t/Users/carlos/WORKSPACE/TFG-DeteccionFototrampeo/data/700Train.csv\n",
      "Validation CSV PATH: \t/Users/carlos/WORKSPACE/TFG-DeteccionFototrampeo/data/700Validation.csv\n",
      "Test CSV PATH: \t\t\t/Users/carlos/WORKSPACE/TFG-DeteccionFototrampeo/data/700Test.csv\n",
      "masked PATH: \t\t\t/Users/carlos/WORKSPACE/local/output_masked\n",
      "edited PATH: \t\t\t/Users/carlos/WORKSPACE/local/output_edited\n",
      "models PATH: \t\t\t/Users/carlos/WORKSPACE/TFG-DeteccionFototrampeo/models\n",
      "==============================================================================================================\n"
     ]
    }
   ],
   "source": [
    "import os\n",
    "import platform\n",
    "\n",
    "import numpy as np\n",
    "import pandas as pd\n",
    "import tensorflow as tf\n",
    "from matplotlib import pyplot as plt\n",
    "from sklearn.utils import class_weight\n",
    "from tensorflow import keras\n",
    "\n",
    "from modules.dataset_utils import DatasetUtils\n",
    "\n",
    "home = os.path.expanduser(\"~\")\n",
    "\n",
    "ai4utils = os.path.abspath(ai4eutils_relative)\n",
    "CameraTraps = os.path.abspath(CameraTraps_relative)\n",
    "train_file = os.path.abspath(train_file_relative)\n",
    "validation_file = os.path.abspath(validation_file_relative)\n",
    "test_file = os.path.abspath(test_file_relative)\n",
    "masked_dir = os.path.abspath(masked_dir_relative)\n",
    "edited_dir = os.path.abspath(edited_dir_relative)\n",
    "model_dir = os.path.abspath(model_dir_relative)\n",
    "\n",
    "try:\n",
    "    os.environ['PYTHONPATH']\n",
    "except KeyError:\n",
    "    os.environ['PYTHONPATH'] = \"\"\n",
    "if platform.system() == 'Windows':\n",
    "    os.environ['PYTHONPATH'] += (\";\" + ai4utils)\n",
    "    os.environ['PYTHONPATH'] += (\";\" + CameraTraps)\n",
    "else:\n",
    "    os.environ['PYTHONPATH'] += (\":\" + ai4utils)\n",
    "    os.environ['PYTHONPATH'] += (\":\" + CameraTraps)\n",
    "\n",
    "print('==============================================================================================================')\n",
    "print('PYTHONPATH: ' + os.environ['PYTHONPATH'])\n",
    "print('')\n",
    "print('ai4eutils PATH: ' + '\\t\\t' + ai4utils)\n",
    "print('CameraTraps PATH: ' + '\\t\\t' + CameraTraps)\n",
    "print('Train CSV PATH: ' + '\\t\\t' + train_file)\n",
    "print('Validation CSV PATH: ' + '\\t' + validation_file)\n",
    "print('Test CSV PATH: ' + '\\t\\t\\t' + test_file)\n",
    "print('masked PATH: ' + '\\t\\t\\t' + masked_dir)\n",
    "print('edited PATH: ' + '\\t\\t\\t' + edited_dir)\n",
    "print('models PATH: ' + '\\t\\t\\t' + model_dir)\n",
    "print('==============================================================================================================')"
   ]
  },
  {
   "cell_type": "markdown",
   "source": [
    "# Generate Datasets"
   ],
   "metadata": {
    "collapsed": false,
    "pycharm": {
     "name": "#%% md\n"
    }
   }
  },
  {
   "cell_type": "code",
   "execution_count": 4,
   "outputs": [
    {
     "name": "stdout",
     "output_type": "stream",
     "text": [
      "Found 1450 validated image filenames belonging to 2 classes.\n",
      "Found 312 validated image filenames belonging to 2 classes.\n",
      "Found 311 validated image filenames belonging to 2 classes.\n"
     ]
    }
   ],
   "source": [
    "custom = tf.keras.preprocessing.image.ImageDataGenerator(\n",
    "    rescale=1. / 255,\n",
    "    horizontal_flip=True,\n",
    ")\n",
    "\n",
    "general = tf.keras.preprocessing.image.ImageDataGenerator(rescale=1. / 255)\n",
    "\n",
    "file_names, labels = DatasetUtils.load_dataset(train_file, edited_dir)\n",
    "d = {'file_names': file_names, 'labels': labels}\n",
    "train_df = pd.DataFrame(data=d, dtype=str)\n",
    "train_dataset = custom.flow_from_dataframe(\n",
    "    dataframe=train_df,\n",
    "    directory=None,\n",
    "    x_col=\"file_names\",\n",
    "    y_col=\"labels\",\n",
    "    class_mode='binary',\n",
    "    shuffle=True,\n",
    "    batch_size=BATCH_SIZE,\n",
    "    target_size=(IMG_HEIGHT, IMG_WIDTH)\n",
    ")\n",
    "from collections import Counter\n",
    "itemCt = Counter(train_dataset.classes)\n",
    "maxCt = float(max(itemCt.values()))\n",
    "cw = {clsID : maxCt/numImg for clsID, numImg in itemCt.items()}\n",
    "\n",
    "file_names, labels = DatasetUtils.load_dataset(validation_file, edited_dir)\n",
    "d = {'file_names': file_names, 'labels': labels}\n",
    "validation_df = pd.DataFrame(data=d, dtype=str)\n",
    "validation_dataset = general.flow_from_dataframe(\n",
    "    dataframe=validation_df,\n",
    "    x_col=\"file_names\",\n",
    "    y_col=\"labels\",\n",
    "    class_mode='binary',\n",
    "    shuffle=True,\n",
    "    batch_size=BATCH_SIZE,\n",
    "    target_size=(IMG_HEIGHT, IMG_WIDTH)\n",
    ")\n",
    "\n",
    "file_names, labels = DatasetUtils.load_dataset(test_file, edited_dir)\n",
    "d = {'file_names': file_names, 'labels': labels}\n",
    "test_df = pd.DataFrame(data=d, dtype=str)\n",
    "test_dataset = general.flow_from_dataframe(\n",
    "    dataframe=test_df,\n",
    "    x_col=\"file_names\",\n",
    "    y_col=\"labels\",\n",
    "    class_mode='binary',\n",
    "    shuffle=True,\n",
    "    batch_size=BATCH_SIZE,\n",
    "    target_size=(IMG_HEIGHT, IMG_WIDTH)\n",
    ")"
   ],
   "metadata": {
    "collapsed": false,
    "pycharm": {
     "name": "#%%\n"
    }
   }
  },
  {
   "cell_type": "markdown",
   "source": [
    "# Custom CNN Architecture"
   ],
   "metadata": {
    "collapsed": false,
    "pycharm": {
     "name": "#%% md\n"
    }
   }
  },
  {
   "cell_type": "code",
   "execution_count": 5,
   "outputs": [
    {
     "name": "stdout",
     "output_type": "stream",
     "text": [
      "Metal device set to: Apple M1\n"
     ]
    },
    {
     "name": "stderr",
     "output_type": "stream",
     "text": [
      "2022-10-18 19:18:17.216321: I tensorflow/core/common_runtime/pluggable_device/pluggable_device_factory.cc:306] Could not identify NUMA node of platform GPU ID 0, defaulting to 0. Your kernel may not have been built with NUMA support.\n",
      "2022-10-18 19:18:17.216409: I tensorflow/core/common_runtime/pluggable_device/pluggable_device_factory.cc:272] Created TensorFlow device (/job:localhost/replica:0/task:0/device:GPU:0 with 0 MB memory) -> physical PluggableDevice (device: 0, name: METAL, pci bus id: <undefined>)\n"
     ]
    },
    {
     "name": "stdout",
     "output_type": "stream",
     "text": [
      "Model: \"sequential\"\n",
      "_________________________________________________________________\n",
      " Layer (type)                Output Shape              Param #   \n",
      "=================================================================\n",
      " conv2d (Conv2D)             (None, 448, 448, 16)      448       \n",
      "                                                                 \n",
      " batch_normalization (BatchN  (None, 448, 448, 16)     64        \n",
      " ormalization)                                                   \n",
      "                                                                 \n",
      " max_pooling2d (MaxPooling2D  (None, 224, 224, 16)     0         \n",
      " )                                                               \n",
      "                                                                 \n",
      " conv2d_1 (Conv2D)           (None, 224, 224, 32)      4640      \n",
      "                                                                 \n",
      " batch_normalization_1 (Batc  (None, 224, 224, 32)     128       \n",
      " hNormalization)                                                 \n",
      "                                                                 \n",
      " max_pooling2d_1 (MaxPooling  (None, 112, 112, 32)     0         \n",
      " 2D)                                                             \n",
      "                                                                 \n",
      " conv2d_2 (Conv2D)           (None, 112, 112, 64)      18496     \n",
      "                                                                 \n",
      " batch_normalization_2 (Batc  (None, 112, 112, 64)     256       \n",
      " hNormalization)                                                 \n",
      "                                                                 \n",
      " max_pooling2d_2 (MaxPooling  (None, 56, 56, 64)       0         \n",
      " 2D)                                                             \n",
      "                                                                 \n",
      " conv2d_3 (Conv2D)           (None, 56, 56, 32)        18464     \n",
      "                                                                 \n",
      " batch_normalization_3 (Batc  (None, 56, 56, 32)       128       \n",
      " hNormalization)                                                 \n",
      "                                                                 \n",
      " max_pooling2d_3 (MaxPooling  (None, 28, 28, 32)       0         \n",
      " 2D)                                                             \n",
      "                                                                 \n",
      " conv2d_4 (Conv2D)           (None, 28, 28, 16)        4624      \n",
      "                                                                 \n",
      " batch_normalization_4 (Batc  (None, 28, 28, 16)       64        \n",
      " hNormalization)                                                 \n",
      "                                                                 \n",
      " max_pooling2d_4 (MaxPooling  (None, 14, 14, 16)       0         \n",
      " 2D)                                                             \n",
      "                                                                 \n",
      " flatten (Flatten)           (None, 3136)              0         \n",
      "                                                                 \n",
      " dense (Dense)               (None, 1024)              3212288   \n",
      "                                                                 \n",
      " dropout (Dropout)           (None, 1024)              0         \n",
      "                                                                 \n",
      " dense_1 (Dense)             (None, 1024)              1049600   \n",
      "                                                                 \n",
      " dropout_1 (Dropout)         (None, 1024)              0         \n",
      "                                                                 \n",
      " dense_2 (Dense)             (None, 1)                 1025      \n",
      "                                                                 \n",
      "=================================================================\n",
      "Total params: 4,310,225\n",
      "Trainable params: 4,309,905\n",
      "Non-trainable params: 320\n",
      "_________________________________________________________________\n"
     ]
    }
   ],
   "source": [
    "model = keras.Sequential([\n",
    "    keras.layers.Conv2D(16, kernel_size=3, padding='same', activation=tf.nn.relu,\n",
    "                        input_shape=(IMG_HEIGHT, IMG_WIDTH, 3)),\n",
    "    keras.layers.BatchNormalization(),\n",
    "    keras.layers.MaxPooling2D(2, 2),\n",
    "\n",
    "    keras.layers.Conv2D(32, kernel_size=3, padding='same', activation=tf.nn.relu),\n",
    "    keras.layers.BatchNormalization(),\n",
    "    keras.layers.MaxPooling2D(2, 2),\n",
    "\n",
    "    keras.layers.Conv2D(64, kernel_size=3, padding='same', activation=tf.nn.relu),\n",
    "    keras.layers.BatchNormalization(),\n",
    "    keras.layers.MaxPooling2D(2, 2),\n",
    "\n",
    "    keras.layers.Conv2D(32, kernel_size=3, padding='same', activation=tf.nn.relu),\n",
    "    keras.layers.BatchNormalization(),\n",
    "    keras.layers.MaxPooling2D(2, 2),\n",
    "\n",
    "    keras.layers.Conv2D(16, kernel_size=3, padding='same', activation=tf.nn.relu),\n",
    "    keras.layers.BatchNormalization(),\n",
    "    keras.layers.MaxPooling2D(2, 2),\n",
    "\n",
    "    # Full connected\n",
    "    keras.layers.Flatten(),\n",
    "    keras.layers.Dense(1024, kernel_regularizer=keras.regularizers.l2(LEARNING_RATE), activation=tf.nn.relu),\n",
    "    keras.layers.Dropout(0.3),\n",
    "    keras.layers.Dense(1024, kernel_regularizer=keras.regularizers.l2(LEARNING_RATE), activation=tf.nn.relu),\n",
    "    keras.layers.Dropout(0.3),\n",
    "\n",
    "    # Capa de salida\n",
    "    keras.layers.Dense(1, activation=tf.nn.sigmoid)\n",
    "])\n",
    "\n",
    "model.summary()\n",
    "\n",
    "model.compile(\n",
    "    optimizer=keras.optimizers.Adam(learning_rate=LEARNING_RATE),\n",
    "    loss=[keras.losses.BinaryCrossentropy()],\n",
    "    metrics=['accuracy'])"
   ],
   "metadata": {
    "collapsed": false,
    "pycharm": {
     "name": "#%%\n"
    }
   }
  },
  {
   "cell_type": "code",
   "execution_count": null,
   "outputs": [
    {
     "name": "stdout",
     "output_type": "stream",
     "text": [
      "Epoch 1/50\n"
     ]
    },
    {
     "name": "stderr",
     "output_type": "stream",
     "text": [
      "2022-10-18 19:18:17.631997: W tensorflow/core/platform/profile_utils/cpu_utils.cc:128] Failed to get CPU frequency: 0 Hz\n",
      "2022-10-18 19:18:18.147953: I tensorflow/core/grappler/optimizers/custom_graph_optimizer_registry.cc:114] Plugin optimizer for device_type GPU is enabled.\n"
     ]
    },
    {
     "name": "stdout",
     "output_type": "stream",
     "text": [
      "90/90 [==============================] - ETA: 0s - loss: 1.0239 - accuracy: 0.8103"
     ]
    },
    {
     "name": "stderr",
     "output_type": "stream",
     "text": [
      "2022-10-18 19:18:42.924295: I tensorflow/core/grappler/optimizers/custom_graph_optimizer_registry.cc:114] Plugin optimizer for device_type GPU is enabled.\n"
     ]
    },
    {
     "name": "stdout",
     "output_type": "stream",
     "text": [
      "90/90 [==============================] - 27s 287ms/step - loss: 1.0239 - accuracy: 0.8103 - val_loss: 1.1473 - val_accuracy: 0.3322\n",
      "Epoch 2/50\n",
      "90/90 [==============================] - 25s 276ms/step - loss: 0.7784 - accuracy: 0.8556 - val_loss: 1.2418 - val_accuracy: 0.3355\n",
      "Epoch 3/50\n",
      "90/90 [==============================] - 25s 276ms/step - loss: 0.6726 - accuracy: 0.8856 - val_loss: 0.9567 - val_accuracy: 0.4638\n",
      "Epoch 4/50\n",
      "90/90 [==============================] - 25s 280ms/step - loss: 0.6139 - accuracy: 0.9114 - val_loss: 0.8609 - val_accuracy: 0.5789\n",
      "Epoch 5/50\n",
      "90/90 [==============================] - 25s 278ms/step - loss: 0.5808 - accuracy: 0.9191 - val_loss: 0.6872 - val_accuracy: 0.8092\n",
      "Epoch 6/50\n",
      "90/90 [==============================] - 25s 279ms/step - loss: 0.5296 - accuracy: 0.9219 - val_loss: 0.5824 - val_accuracy: 0.8684\n",
      "Epoch 7/50\n",
      "90/90 [==============================] - 25s 275ms/step - loss: 0.4772 - accuracy: 0.9386 - val_loss: 0.6207 - val_accuracy: 0.8487\n",
      "Epoch 8/50\n",
      "90/90 [==============================] - 25s 272ms/step - loss: 0.4745 - accuracy: 0.9498 - val_loss: 0.7868 - val_accuracy: 0.7862\n",
      "Epoch 9/50\n",
      "90/90 [==============================] - 25s 275ms/step - loss: 0.4479 - accuracy: 0.9519 - val_loss: 0.5638 - val_accuracy: 0.9178\n",
      "Epoch 10/50\n",
      "90/90 [==============================] - 25s 276ms/step - loss: 0.4217 - accuracy: 0.9637 - val_loss: 0.5713 - val_accuracy: 0.9178\n",
      "Epoch 11/50\n",
      "90/90 [==============================] - 25s 276ms/step - loss: 0.4066 - accuracy: 0.9637 - val_loss: 0.6134 - val_accuracy: 0.9046\n",
      "Epoch 12/50\n",
      "90/90 [==============================] - 25s 273ms/step - loss: 0.3776 - accuracy: 0.9721 - val_loss: 0.7047 - val_accuracy: 0.8816\n",
      "Epoch 13/50\n",
      "90/90 [==============================] - 25s 271ms/step - loss: 0.3763 - accuracy: 0.9707 - val_loss: 0.7252 - val_accuracy: 0.9013\n",
      "Epoch 14/50\n",
      "90/90 [==============================] - 24s 271ms/step - loss: 0.3904 - accuracy: 0.9686 - val_loss: 0.6833 - val_accuracy: 0.8947\n",
      "Epoch 15/50\n",
      "90/90 [==============================] - 24s 270ms/step - loss: 0.4277 - accuracy: 0.9568 - val_loss: 0.5899 - val_accuracy: 0.8914\n",
      "Epoch 16/50\n",
      "81/90 [==========================>...] - ETA: 2s - loss: 0.3826 - accuracy: 0.9705"
     ]
    }
   ],
   "source": [
    "hist = model.fit(\n",
    "    train_dataset,\n",
    "    class_weight=cw,\n",
    "    steps_per_epoch=train_dataset.samples // BATCH_SIZE,\n",
    "    epochs=EPOCHS,\n",
    "    validation_data=validation_dataset,\n",
    "    validation_steps=validation_dataset.samples // BATCH_SIZE,\n",
    "    verbose=1\n",
    ")\n",
    "results = model.evaluate(\n",
    "    test_dataset,\n",
    "    batch_size=BATCH_SIZE,\n",
    "    verbose=1\n",
    ")\n",
    "\n",
    "fig = plt.figure(figsize=(15, 12))\n",
    "fig.suptitle('Custom Architecture using edited images')\n",
    "\n",
    "ax1 = fig.add_subplot(2, 1, 1)\n",
    "ax2 = fig.add_subplot(2, 1, 2)\n",
    "\n",
    "ax1.plot(hist.history['loss'], color='blue', label='train loss', )\n",
    "ax1.plot(hist.history['val_loss'], color='green', label='validation loss')\n",
    "ax1.legend(loc=\"upper right\")\n",
    "ax2.plot(hist.history['accuracy'], color='orange', label='train accuracy')\n",
    "ax2.plot(hist.history['val_accuracy'], color='red', label='validation accuracy')\n",
    "ax2.legend(loc=\"lower right\")\n",
    "plt.show()"
   ],
   "metadata": {
    "collapsed": false,
    "pycharm": {
     "name": "#%%\n",
     "is_executing": true
    }
   }
  }
 ],
 "metadata": {
  "kernelspec": {
   "display_name": "Python 3",
   "language": "python",
   "name": "python3"
  },
  "language_info": {
   "codemirror_mode": {
    "name": "ipython",
    "version": 2
   },
   "file_extension": ".py",
   "mimetype": "text/x-python",
   "name": "python",
   "nbconvert_exporter": "python",
   "pygments_lexer": "ipython2",
   "version": "2.7.6"
  }
 },
 "nbformat": 4,
 "nbformat_minor": 0
}