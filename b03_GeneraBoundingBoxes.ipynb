{
 "cells": [
  {
   "cell_type": "code",
   "execution_count": 4,
   "metadata": {
    "pycharm": {
     "name": "#%%\n"
    }
   },
   "outputs": [
    {
     "name": "stdout",
     "output_type": "stream",
     "text": [
      "==================================================================================================================================\n",
      "PYTHONPATH: /Users/carlos/WORKSPACE/TFG-DeteccionFototrampeo:/Users/carlos/WORKSPACE/TFG-DeteccionFototrampeo/repos/ai4eutils:/Users/carlos/WORKSPACE/TFG-DeteccionFototrampeo/repos/CameraTraps:/Users/carlos/WORKSPACE/TFG-DeteccionFototrampeo/modules:/Users/carlos/WORKSPACE/TFG-DeteccionFototrampeo/repos/ai4eutils:/Users/carlos/WORKSPACE/TFG-DeteccionFototrampeo/repos/CameraTraps:/Users/carlos/WORKSPACE/TFG-DeteccionFototrampeo/modules\n",
      "ai4eutils PATH: \t/Users/carlos/WORKSPACE/TFG-DeteccionFototrampeo/repos/ai4eutils\n",
      "CameraTraps PATH: \t/Users/carlos/WORKSPACE/TFG-DeteccionFototrampeo/repos/CameraTraps\n",
      "output_json PATH: \t/Users/carlos/WORKSPACE/local/output_json/5_20210219 (134) (2021_04_15 06_16_22 utc).json\n",
      "output_img PATH: \t/Users/carlos/WORKSPACE/local/output_img\n",
      "==================================================================================================================================\n"
     ]
    }
   ],
   "source": [
    "import os\n",
    "import platform\n",
    "from datetime import datetime\n",
    "\n",
    "now = datetime.now()\n",
    "\n",
    "#######################################################################################################################\n",
    "# PARÁMETROS DEFINIDOS EN FUNCIÓN DEL USUARIO\n",
    "#######################################################################################################################\n",
    "\n",
    "# Ruta relativa hacia la librería ai4eutils\n",
    "ai4eutils_relative = \"./repos/ai4eutils\"\n",
    "\n",
    "# Ruta relativa hacia la librería CameraTraps\n",
    "CameraTraps_relative = \"./repos/CameraTraps\"\n",
    "\n",
    "modules_relative = \"./modules\"\n",
    "\n",
    "# Ruta relativa hacia carpeta de JSON con los datos de entrada\n",
    "output_json_path_relative = '../local/output_json/'\n",
    "\n",
    "# Ruta relativa hacia la carpeta destino de los ficheros JSON:\n",
    "output_img_path_relative = '../local/output_img'\n",
    "\n",
    "# Poner a True si al final de la ejecución se desea mostrar las fotos en este notebook\n",
    "VISUALIZAR_RESULTADOS = False\n",
    "\n",
    "#######################################################################################################################\n",
    "#######################################################################################################################\n",
    "\n",
    "home = os.path.expanduser(\"~\")\n",
    "\n",
    "ai4utils = os.path.abspath(ai4eutils_relative)\n",
    "CameraTraps = os.path.abspath(CameraTraps_relative)\n",
    "modules = os.path.abspath(modules_relative)\n",
    "output_json = os.path.abspath(output_json_path_relative)\n",
    "output_img = os.path.abspath(output_img_path_relative)\n",
    "\n",
    "try:\n",
    "    os.environ['PYTHONPATH']\n",
    "except KeyError:\n",
    "    os.environ['PYTHONPATH'] = \"\"\n",
    "if platform.system() == 'Windows':\n",
    "    os.environ['PYTHONPATH'] += (\";\" + ai4utils)\n",
    "    os.environ['PYTHONPATH'] += (\";\" + CameraTraps)\n",
    "    os.environ['PYTHONPATH'] += (\";\" + modules)\n",
    "else:\n",
    "    os.environ['PYTHONPATH'] += (\":\" + ai4utils)\n",
    "    os.environ['PYTHONPATH'] += (\":\" + CameraTraps)\n",
    "    os.environ['PYTHONPATH'] += (\":\" + modules)\n",
    "\n",
    "print(\n",
    "    '==================================================================================================================================')\n",
    "print('PYTHONPATH: ' + os.environ['PYTHONPATH'])\n",
    "print('ai4eutils PATH: ' + '\\t' + ai4utils)\n",
    "print('CameraTraps PATH: ' + '\\t' + CameraTraps)\n",
    "print('output_json PATH: ' + '\\t' + output_json)\n",
    "print('output_img PATH: ' + '\\t' + output_img)\n",
    "print(\n",
    "    '==================================================================================================================================')"
   ]
  },
  {
   "cell_type": "code",
   "execution_count": 5,
   "metadata": {
    "pycharm": {
     "name": "#%%\n"
    }
   },
   "outputs": [
    {
     "name": "stdout",
     "output_type": "stream",
     "text": [
      "\r\n",
      "==========================================================================================\r\n",
      "Renderizando detecciones de 1 imágenes...\r\n",
      "\r\n",
      "  0%|                                                     | 0/1 [00:00<?, ?it/s]detection_categories provided\r\n",
      "\r\n",
      "\r\n",
      "Renderizadas detecciones de imagen /Users/carlos/WORKSPACE/DATASETs/emptyNonEmptyDataset/cervidae/CERVIDREDORFALLOWDEER_ZOO_5_6_7_9/5_20210219 (134) (2021_04_15 06_16_22 UTC).JPG en 0.05 seconds.\r\n",
      "100%|█████████████████████████████████████████████| 1/1 [00:00<00:00, 18.05it/s]\r\n",
      "\r\n",
      "==========================================================================================\r\n",
      "De media, por cada imagen: \r\n",
      "Ha tomado 0.05 seconds en renderizar las detecciones, con desviación de NO DISPONIBLE\r\n",
      "==========================================================================================\r\n",
      "\r\n",
      "Resultados guardados en: /Users/carlos/WORKSPACE/local/output_img\r\n",
      "\r\n",
      "==========================================================================================\r\n"
     ]
    }
   ],
   "source": [
    "!python ./modules/genera_bboxes.py --input_dir \"$output_json\" --output_dir \"$output_img\""
   ]
  },
  {
   "cell_type": "code",
   "execution_count": 6,
   "metadata": {
    "pycharm": {
     "name": "#%%\n"
    }
   },
   "outputs": [],
   "source": [
    "if VISUALIZAR_RESULTADOS:\n",
    "    import os\n",
    "    import glob\n",
    "    from PIL import Image\n",
    "    from tqdm import tqdm\n",
    "\n",
    "    image_extensions = ['.png']\n",
    "\n",
    "\n",
    "    def is_image_file(s):\n",
    "        ext = os.path.splitext(s)[1]\n",
    "        return ext.lower() in image_extensions\n",
    "\n",
    "\n",
    "    def find_image_files(strings):\n",
    "        return [s for s in strings if is_image_file(s)]\n",
    "\n",
    "\n",
    "    def find_images(dir_name):\n",
    "        strings = glob.glob(os.path.join(dir_name, '*.*'))\n",
    "        image_strings = find_image_files(strings)\n",
    "        return image_strings\n",
    "\n",
    "\n",
    "    image_file_names = find_images(output_img)\n",
    "\n",
    "    for image_file in tqdm(image_file_names):\n",
    "        print(image_file)\n",
    "        im = Image.open(image_file)\n",
    "        display(im)\n",
    "        print('')"
   ]
  }
 ],
 "metadata": {
  "kernelspec": {
   "display_name": "Python 3.8.13 ('tf_gpu')",
   "language": "python",
   "name": "python3"
  },
  "language_info": {
   "codemirror_mode": {
    "name": "ipython",
    "version": 3
   },
   "file_extension": ".py",
   "mimetype": "text/x-python",
   "name": "python",
   "nbconvert_exporter": "python",
   "pygments_lexer": "ipython3",
   "version": "3.8.13"
  },
  "orig_nbformat": 4,
  "vscode": {
   "interpreter": {
    "hash": "907d050957a886e998c55a62a25f72c12f58285fde8e87ef7996a2175b8c9579"
   }
  }
 },
 "nbformat": 4,
 "nbformat_minor": 2
}