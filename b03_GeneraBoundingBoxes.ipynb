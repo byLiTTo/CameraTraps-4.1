{
 "cells": [
  {
   "cell_type": "code",
   "execution_count": 7,
   "metadata": {},
   "outputs": [
    {
     "name": "stdout",
     "output_type": "stream",
     "text": [
      "=======================================================================================================================================\n",
      "PYTHONPATH: /Users/carlos/.vscode/extensions/ms-toolsai.jupyter-2022.4.1021342353/pythonFiles:/Users/carlos/.vscode/extensions/ms-toolsai.jupyter-2022.4.1021342353/pythonFiles/lib/python:/Users/carlos/WORKSPACE/TFG-DeteccionFototrampeo/repos/ai4eutils:/Users/carlos/WORKSPACE/TFG-DeteccionFototrampeo/repos/CameraTraps:/Users/carlos/WORKSPACE/TFG-DeteccionFototrampeo/modules:/Users/carlos/WORKSPACE/TFG-DeteccionFototrampeo/repos/ai4eutils:/Users/carlos/WORKSPACE/TFG-DeteccionFototrampeo/repos/CameraTraps:/Users/carlos/WORKSPACE/TFG-DeteccionFototrampeo/modules:/Users/carlos/WORKSPACE/TFG-DeteccionFototrampeo/repos/ai4eutils:/Users/carlos/WORKSPACE/TFG-DeteccionFototrampeo/repos/CameraTraps:/Users/carlos/WORKSPACE/TFG-DeteccionFototrampeo/modules\n",
      "ai4eutils PATH: \t/Users/carlos/WORKSPACE/TFG-DeteccionFototrampeo/repos/ai4eutils\n",
      "CameraTraps PATH: \t/Users/carlos/WORKSPACE/TFG-DeteccionFototrampeo/repos/CameraTraps\n",
      "output_json PATH: \t/Users/carlos/WORKSPACE/TFG-DeteccionFototrampeo/output_json\n",
      "output_img PATH: \t/Users/carlos/WORKSPACE/TFG-DeteccionFototrampeo/output_img\n",
      "=======================================================================================================================================\n"
     ]
    }
   ],
   "source": [
    "import os\n",
    "import platform\n",
    "from datetime import datetime\n",
    "now = datetime.now()\n",
    "\n",
    "#########################################################################################################################################################\n",
    "# PARAMETROS DEFINIDOS EN FUNCION DEL USUARIO\n",
    "#########################################################################################################################################################\n",
    "\n",
    "# Ruta relativa hacia la librería ai4eutils\n",
    "ai4eutils_relative = \"./repos/ai4eutils\"\n",
    "\n",
    "# Ruta relativa hacia la librería CameraTraps\n",
    "CameraTraps_relative = \"./repos/CameraTraps\"\n",
    "\n",
    "modules_relative = \"./modules\"\n",
    "\n",
    "# Ruta relativa hacia carpeta de JSON con los datos de entrada\n",
    "output_json_path_relative = './output_json'\n",
    "\n",
    "# Ruta relativa hacia la carpeta destino de los ficheros JSON:\n",
    "output_img_path_relative = ('./output_img')\n",
    "\n",
    "VISUALIZAR_RESULTADOS = False\n",
    "\n",
    "\n",
    "#########################################################################################################################################################\n",
    "#########################################################################################################################################################\n",
    "\n",
    "home = os.path.expanduser(\"~\")\n",
    "\n",
    "ai4utils = os.path.abspath(ai4eutils_relative)\n",
    "CameraTraps = os.path.abspath(CameraTraps_relative)\n",
    "modules = os.path.abspath(modules_relative)\n",
    "output_json = os.path.abspath(output_json_path_relative)\n",
    "output_img = os.path.abspath(output_img_path_relative)\n",
    "\n",
    "try:\n",
    "    os.environ['PYTHONPATH']\n",
    "except KeyError:\n",
    "    os.environ['PYTHONPATH'] = \"\"\n",
    "if platform.system() == 'Windows':\n",
    "    os.environ['PYTHONPATH'] += (\";\" + ai4utils)\n",
    "    os.environ['PYTHONPATH'] += (\";\" + CameraTraps)\n",
    "    os.environ['PYTHONPATH'] += (\";\" + modules)\n",
    "else:\n",
    "    os.environ['PYTHONPATH'] += (\":\" + ai4utils)\n",
    "    os.environ['PYTHONPATH'] += (\":\" + CameraTraps)\n",
    "    os.environ['PYTHONPATH'] += (\":\" + modules)\n",
    "\n",
    "print('=======================================================================================================================================')\n",
    "print('PYTHONPATH: ' + os.environ['PYTHONPATH'])\n",
    "print('ai4eutils PATH: ' + '\\t' + ai4utils)\n",
    "print('CameraTraps PATH: ' + '\\t' + CameraTraps)\n",
    "print('output_json PATH: ' + '\\t' + output_json)\n",
    "print('output_img PATH: ' + '\\t' + output_img)\n",
    "print('=======================================================================================================================================')"
   ]
  },
  {
   "cell_type": "code",
   "execution_count": 8,
   "metadata": {},
   "outputs": [
    {
     "name": "stdout",
     "output_type": "stream",
     "text": [
      "  0%|                                                    | 0/11 [00:00<?, ?it/s]detection_categories provided\n",
      "detection_categories provided\n",
      " 18%|████████                                    | 2/11 [00:00<00:00, 16.77it/s]detection_categories provided\n",
      "detection_categories provided\n",
      " 36%|████████████████                            | 4/11 [00:00<00:00, 14.14it/s]detection_categories provided\n",
      "detection_categories provided\n",
      " 55%|████████████████████████                    | 6/11 [00:00<00:00, 14.52it/s]detection_categories provided\n",
      "detection_categories provided\n",
      " 73%|████████████████████████████████            | 8/11 [00:00<00:00, 14.96it/s]detection_categories provided\n",
      "detection_categories provided\n",
      " 91%|███████████████████████████████████████    | 10/11 [00:00<00:00, 16.07it/s]detection_categories provided\n",
      "100%|███████████████████████████████████████████| 11/11 [00:00<00:00, 15.15it/s]\n",
      "==========================================================================================\n"
     ]
    }
   ],
   "source": [
    "!python ./modules/genera_bboxes.py --input_dir \"$output_json\" --output_dir \"$output_img\""
   ]
  },
  {
   "cell_type": "code",
   "execution_count": 9,
   "metadata": {},
   "outputs": [],
   "source": [
    "if VISUALIZAR_RESULTADOS:\n",
    "    import os\n",
    "    import glob\n",
    "    from PIL import Image\n",
    "    from tqdm import tqdm\n",
    "\n",
    "    image_extensions = ['.png']\n",
    "\n",
    "    def is_image_file(s):\n",
    "        \"\"\"\n",
    "        Compara la extesión de un archivo con las extensiones admitadas en \n",
    "        image_extensions.\n",
    "        \"\"\"\n",
    "        ext = os.path.splitext(s)[1]\n",
    "        return ext.lower() in image_extensions\n",
    "\n",
    "    def find_image_files(strings):\n",
    "        \"\"\"\n",
    "        Devuelve una lista de nombres candidatos a ser ficheros de imágenes. Para los \n",
    "        nombres busca a partir de las extensiones incluidas en image_extension.\n",
    "        \"\"\"\n",
    "        return [s for s in strings if is_image_file(s)]\n",
    "\n",
    "    def find_images(dir_name):\n",
    "        \"\"\"\n",
    "        Busca todos los ficheros que parecen imagénes dentro de un directorio.\n",
    "        \"\"\"\n",
    "        strings = glob.glob(os.path.join(dir_name, '*.*'))\n",
    "\n",
    "        image_strings = find_image_files(strings)\n",
    "\n",
    "        return image_strings\n",
    "\n",
    "    image_file_names = find_images(output_img)\n",
    "\n",
    "    for image_file in tqdm(image_file_names):\n",
    "        print(image_file)\n",
    "        im = Image.open(image_file)\n",
    "        display(im)\n",
    "        print('')"
   ]
  }
 ],
 "metadata": {
  "interpreter": {
   "hash": "c869847218dbda1326190bfd304c163a22399a5d0bf580a3267b90a1cd24a9bc"
  },
  "kernelspec": {
   "display_name": "Python 3.8.11 ('tensorflow_2.8')",
   "language": "python",
   "name": "python3"
  },
  "language_info": {
   "codemirror_mode": {
    "name": "ipython",
    "version": 3
   },
   "file_extension": ".py",
   "mimetype": "text/x-python",
   "name": "python",
   "nbconvert_exporter": "python",
   "pygments_lexer": "ipython3",
   "version": "3.8.11"
  },
  "orig_nbformat": 4,
  "vscode": {
   "interpreter": {
    "hash": "1c9218b40fa62d7df6e2c99f2566df2475bdb172dc5334c976c3cfc411fb718d"
   }
  }
 },
 "nbformat": 4,
 "nbformat_minor": 2
}
