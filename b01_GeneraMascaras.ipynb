{
 "cells": [
  {
   "cell_type": "code",
   "execution_count": 1,
   "metadata": {},
   "outputs": [
    {
     "name": "stdout",
     "output_type": "stream",
     "text": [
      "=======================================================================================================================================\n",
      "PYTHONPATH: /home/carlos/.vscode/extensions/ms-toolsai.jupyter-2022.5.1001601848/pythonFiles:/home/carlos/.vscode/extensions/ms-toolsai.jupyter-2022.5.1001601848/pythonFiles/lib/python:/home/carlos/WORKSPACE/TFG-DeteccionFototrampeo/repos/ai4eutils:/home/carlos/WORKSPACE/TFG-DeteccionFototrampeo/repos/CameraTraps\n",
      "ai4eutils PATH: \t/home/carlos/WORKSPACE/TFG-DeteccionFototrampeo/repos/ai4eutils\n",
      "CameraTraps PATH: \t/home/carlos/WORKSPACE/TFG-DeteccionFototrampeo/repos/CameraTraps\n",
      "output_json PATH: \t/home/carlos/WORKSPACE/TFG-DeteccionFototrampeo/output_json\n",
      "output_mask PATH: \t/home/carlos/WORKSPACE/TFG-DeteccionFototrampeo/output_mask\n",
      "=======================================================================================================================================\n"
     ]
    }
   ],
   "source": [
    "import os\n",
    "import platform\n",
    "\n",
    "#########################################################################################################################################################\n",
    "# PARAMETROS DEFINIDOS EN FUNCION DEL USUARIO\n",
    "#########################################################################################################################################################\n",
    "\n",
    "# Ruta relativa hacia la librería ai4eutils\n",
    "ai4eutils_relative = \"./repos/ai4eutils\"\n",
    "\n",
    "# Ruta relativa hacia la librería CameraTraps\n",
    "CameraTraps_relative = \"./repos/CameraTraps\"\n",
    "\n",
    "# Ruta relativa hacia carpeta de JSON con los datos de entrada\n",
    "output_json_path_relative = './input/1.jpg'\n",
    "\n",
    "# Ruta relativa hacia la carpeta destino de los ficheros JSON:\n",
    "output_mask_path_relative = ('./output_mask')\n",
    "\n",
    "\n",
    "#########################################################################################################################################################\n",
    "#########################################################################################################################################################\n",
    "\n",
    "home = os.path.expanduser(\"~\")\n",
    "\n",
    "ai4utils = os.path.abspath(ai4eutils_relative)\n",
    "CameraTraps = os.path.abspath(CameraTraps_relative)\n",
    "output_json = os.path.abspath(output_json_path_relative)\n",
    "output_mask = os.path.abspath(output_mask_path_relative)\n",
    "\n",
    "try:\n",
    "    os.environ['PYTHONPATH']\n",
    "except KeyError:\n",
    "    os.environ['PYTHONPATH'] = \"\"\n",
    "if platform.system() == 'Windows':\n",
    "    os.environ['PYTHONPATH'] += (\";\" + ai4utils)\n",
    "    os.environ['PYTHONPATH'] += (\";\" + CameraTraps)\n",
    "else:\n",
    "    os.environ['PYTHONPATH'] += (\":\" + ai4utils)\n",
    "    os.environ['PYTHONPATH'] += (\":\" + CameraTraps)\n",
    "\n",
    "print('=======================================================================================================================================')\n",
    "print('PYTHONPATH: ' + os.environ['PYTHONPATH'])\n",
    "print('ai4eutils PATH: ' + '\\t' + ai4utils)\n",
    "print('CameraTraps PATH: ' + '\\t' + CameraTraps)\n",
    "print('output_json PATH: ' + '\\t' + output_json)\n",
    "print('output_mask PATH: ' + '\\t' + output_mask)\n",
    "print('=======================================================================================================================================')"
   ]
  },
  {
   "cell_type": "code",
   "execution_count": 3,
   "metadata": {},
   "outputs": [
    {
     "ename": "ModuleNotFoundError",
     "evalue": "No module named 'cv2'",
     "output_type": "error",
     "traceback": [
      "\u001b[0;31m---------------------------------------------------------------------------\u001b[0m",
      "\u001b[0;31mModuleNotFoundError\u001b[0m                       Traceback (most recent call last)",
      "\u001b[1;32m/home/carlos/WORKSPACE/TFG-DeteccionFototrampeo/b01_GeneraMascaras.ipynb Cell 2'\u001b[0m in \u001b[0;36m<cell line: 2>\u001b[0;34m()\u001b[0m\n\u001b[1;32m      <a href='vscode-notebook-cell:/home/carlos/WORKSPACE/TFG-DeteccionFototrampeo/b01_GeneraMascaras.ipynb#ch0000001?line=0'>1</a>\u001b[0m \u001b[39m#!python ./modules/genera_mascaras.py --input_dir \"$output_json\" --output_dir \"$output_mask\"\u001b[39;00m\n\u001b[0;32m----> <a href='vscode-notebook-cell:/home/carlos/WORKSPACE/TFG-DeteccionFototrampeo/b01_GeneraMascaras.ipynb#ch0000001?line=1'>2</a>\u001b[0m \u001b[39mimport\u001b[39;00m \u001b[39mcv2\u001b[39;00m\n",
      "\u001b[0;31mModuleNotFoundError\u001b[0m: No module named 'cv2'"
     ]
    }
   ],
   "source": [
    "#!python ./modules/genera_mascaras.py --input_dir \"$output_json\" --output_dir \"$output_mask\"\n",
    "import numpy as np\n",
    "np.imread(output_json)"
   ]
  }
 ],
 "metadata": {
  "kernelspec": {
   "display_name": "Python 3.8.13 ('tf')",
   "language": "python",
   "name": "python3"
  },
  "language_info": {
   "codemirror_mode": {
    "name": "ipython",
    "version": 3
   },
   "file_extension": ".py",
   "mimetype": "text/x-python",
   "name": "python",
   "nbconvert_exporter": "python",
   "pygments_lexer": "ipython3",
   "version": "3.8.13"
  },
  "orig_nbformat": 4,
  "vscode": {
   "interpreter": {
    "hash": "1c9218b40fa62d7df6e2c99f2566df2475bdb172dc5334c976c3cfc411fb718d"
   }
  }
 },
 "nbformat": 4,
 "nbformat_minor": 2
}
