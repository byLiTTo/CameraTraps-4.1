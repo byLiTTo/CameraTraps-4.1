{
 "cells": [
  {
   "cell_type": "code",
   "execution_count": 5,
   "metadata": {},
   "outputs": [],
   "source": [
    "import os\n",
    "import shutil\n",
    "\n",
    "import pandas as pd\n",
    "import tqdm\n",
    "import src.data.Dataset as dt"
   ]
  },
  {
   "cell_type": "code",
   "execution_count": 6,
   "metadata": {},
   "outputs": [
    {
     "name": "stdout",
     "output_type": "stream",
     "text": [
      "FROM_PATH:         /Users/carlos/WORKSPACE/MegaClassifier/dataset/emptyNonEmptyDataset\n",
      "TO_PATH:           /Users/carlos/WORKSPACE/MegaClassifier/dataset/datasetReduced\n",
      "ORIGINAL_DATASET:  /Users/carlos/WORKSPACE/MegaClassifier/data/raw/1000Images_binary.csv\n",
      "FILTERED_PATH:     /Users/carlos/WORKSPACE/MegaClassifier/data/interim\n",
      "FILTERED_DATASET:  /Users/carlos/WORKSPACE/MegaClassifier/data/interim/1000Images_reduced.csv\n"
     ]
    }
   ],
   "source": [
    "FROM_PATH = os.path.abspath(\"./dataset/emptyNonEmptyDataset\")\n",
    "TO_PATH = os.path.abspath(\"./dataset/datasetFiltered\")\n",
    "\n",
    "ORIGINAL_DATASET = os.path.abspath(\"./data/raw/1000Images_binary.csv\")\n",
    "dataset_file_name = os.path.basename(ORIGINAL_DATASET).split(\"_\")[0] + \"_filtered.csv\"\n",
    "\n",
    "FILTERED_PATH = os.path.abspath(\"./data/interim\")\n",
    "FILTERED_DATASET = os.path.join(FILTERED_PATH, dataset_file_name)\n",
    "\n",
    "print(f\"FROM_PATH:         {FROM_PATH}\")\n",
    "print(f\"TO_PATH:           {TO_PATH}\")\n",
    "print(f\"ORIGINAL_DATASET:  {ORIGINAL_DATASET}\")\n",
    "print(f\"FILTERED_PATH:     {FILTERED_PATH}\")\n",
    "print(f\"FILTERED_DATASET:  {FILTERED_DATASET}\")"
   ]
  },
  {
   "cell_type": "code",
   "execution_count": 7,
   "metadata": {},
   "outputs": [
    {
     "name": "stdout",
     "output_type": "stream",
     "text": [
      "The file /Users/carlos/WORKSPACE/MegaClassifier/data/raw/1000Images_binary.csv has been successfully opened.\n"
     ]
    },
    {
     "data": {
      "text/html": [
       "<div>\n",
       "<style scoped>\n",
       "    .dataframe tbody tr th:only-of-type {\n",
       "        vertical-align: middle;\n",
       "    }\n",
       "\n",
       "    .dataframe tbody tr th {\n",
       "        vertical-align: top;\n",
       "    }\n",
       "\n",
       "    .dataframe thead th {\n",
       "        text-align: right;\n",
       "    }\n",
       "</style>\n",
       "<table border=\"1\" class=\"dataframe\">\n",
       "  <thead>\n",
       "    <tr style=\"text-align: right;\">\n",
       "      <th></th>\n",
       "      <th>file_name</th>\n",
       "      <th>label</th>\n",
       "    </tr>\n",
       "  </thead>\n",
       "  <tbody>\n",
       "    <tr>\n",
       "      <th>0</th>\n",
       "      <td>\\cervidae\\cervidae_alumno_2_TH\\29_20201023 (15...</td>\n",
       "      <td>1</td>\n",
       "    </tr>\n",
       "    <tr>\n",
       "      <th>1</th>\n",
       "      <td>\\cervidae\\CERVIDREDORFALLOWDEER_ZOO_5_6_7_9\\41...</td>\n",
       "      <td>1</td>\n",
       "    </tr>\n",
       "    <tr>\n",
       "      <th>2</th>\n",
       "      <td>\\cervidae\\ciervo_PNM_2012_ME\\d14266IMAG0050.JPG</td>\n",
       "      <td>1</td>\n",
       "    </tr>\n",
       "    <tr>\n",
       "      <th>3</th>\n",
       "      <td>\\vacia\\empty_caltechCameraTraps\\59751691-23d2-...</td>\n",
       "      <td>0</td>\n",
       "    </tr>\n",
       "    <tr>\n",
       "      <th>4</th>\n",
       "      <td>\\zorro\\Zorro_Pepe_IREC\\Zorro_Pepe_Irec_ME\\IMAG...</td>\n",
       "      <td>1</td>\n",
       "    </tr>\n",
       "    <tr>\n",
       "      <th>...</th>\n",
       "      <td>...</td>\n",
       "      <td>...</td>\n",
       "    </tr>\n",
       "    <tr>\n",
       "      <th>2957</th>\n",
       "      <td>\\caballo\\HORSE_ZOO_1_4\\2_20201117 (5162).JPG</td>\n",
       "      <td>1</td>\n",
       "    </tr>\n",
       "    <tr>\n",
       "      <th>2958</th>\n",
       "      <td>\\caballo\\HORSE_ZOO_5_6_7_9\\28_20210318 (15638)...</td>\n",
       "      <td>1</td>\n",
       "    </tr>\n",
       "    <tr>\n",
       "      <th>2959</th>\n",
       "      <td>\\cervidae\\3_ciervo_simone_2\\34_20201024 (5249)...</td>\n",
       "      <td>1</td>\n",
       "    </tr>\n",
       "    <tr>\n",
       "      <th>2960</th>\n",
       "      <td>\\zorro\\zorro_PNM_2013-I_ISAAC\\e1641IM000112.JPG</td>\n",
       "      <td>1</td>\n",
       "    </tr>\n",
       "    <tr>\n",
       "      <th>2961</th>\n",
       "      <td>\\vacia\\empty_SnapshotKaroo\\KAR_S1_C03_R1_IMAG0...</td>\n",
       "      <td>0</td>\n",
       "    </tr>\n",
       "  </tbody>\n",
       "</table>\n",
       "<p>2962 rows × 2 columns</p>\n",
       "</div>"
      ],
      "text/plain": [
       "                                              file_name  label\n",
       "0     \\cervidae\\cervidae_alumno_2_TH\\29_20201023 (15...      1\n",
       "1     \\cervidae\\CERVIDREDORFALLOWDEER_ZOO_5_6_7_9\\41...      1\n",
       "2       \\cervidae\\ciervo_PNM_2012_ME\\d14266IMAG0050.JPG      1\n",
       "3     \\vacia\\empty_caltechCameraTraps\\59751691-23d2-...      0\n",
       "4     \\zorro\\Zorro_Pepe_IREC\\Zorro_Pepe_Irec_ME\\IMAG...      1\n",
       "...                                                 ...    ...\n",
       "2957       \\caballo\\HORSE_ZOO_1_4\\2_20201117 (5162).JPG      1\n",
       "2958  \\caballo\\HORSE_ZOO_5_6_7_9\\28_20210318 (15638)...      1\n",
       "2959  \\cervidae\\3_ciervo_simone_2\\34_20201024 (5249)...      1\n",
       "2960    \\zorro\\zorro_PNM_2013-I_ISAAC\\e1641IM000112.JPG      1\n",
       "2961  \\vacia\\empty_SnapshotKaroo\\KAR_S1_C03_R1_IMAG0...      0\n",
       "\n",
       "[2962 rows x 2 columns]"
      ]
     },
     "execution_count": 7,
     "metadata": {},
     "output_type": "execute_result"
    }
   ],
   "source": [
    "dataset = dt.load_from_csv(ORIGINAL_DATASET)\n",
    "dataset"
   ]
  },
  {
   "cell_type": "code",
   "execution_count": 8,
   "metadata": {},
   "outputs": [
    {
     "name": "stderr",
     "output_type": "stream",
     "text": [
      "2962it [00:02, 1450.85it/s]"
     ]
    },
    {
     "name": "stdout",
     "output_type": "stream",
     "text": [
      "Total images processed: 2962\n",
      "Total images copied: 2962\n",
      "The dataset has been successfully saved to /Users/carlos/WORKSPACE/MegaClassifier/data/interim/1000Images_reduced.csv\n"
     ]
    },
    {
     "name": "stderr",
     "output_type": "stream",
     "text": [
      "\n"
     ]
    }
   ],
   "source": [
    "total_images_processed = 0\n",
    "total_images_copied = 0\n",
    "\n",
    "filtered_dataset = pd.DataFrame({}, columns=dataset.columns)\n",
    "\n",
    "for index, row in tqdm.tqdm(dataset.iterrows()):\n",
    "    file_name = row[\"file_name\"].replace(\"\\\\\", \"/\")\n",
    "\n",
    "    original_file = os.path.join(FROM_PATH, file_name[1:])\n",
    "    \n",
    "    filtered_file = file_name.lower()\n",
    "    filtered_file = filtered_file.replace(\" \",\"\")\n",
    "    filtered_file = filtered_file.replace(\"(\", \"_\")\n",
    "    filtered_file = filtered_file.replace(\")\", \"_\")\n",
    "    filtered_file = filtered_file.replace(\"á\",\"a\").replace(\"é\",\"e\").replace(\"í\",\"i\").replace(\"ó\",\"o\").replace(\"ú\",\"u\")\n",
    "    filtered_file = filtered_file.replace(\"ñ\",\"n\")\n",
    "    \n",
    "    new_row = pd.DataFrame({\"file_name\": [filtered_file[1:]], \"label\": [row[\"label\"]]})\n",
    "    filtered_dataset = pd.concat([filtered_dataset, new_row], ignore_index=True)\n",
    "    \n",
    "    filtered_file = os.path.join(TO_PATH, filtered_file[1:])\n",
    "\n",
    "    os.makedirs(os.path.dirname(filtered_file), exist_ok=True)\n",
    "\n",
    "    try:\n",
    "        shutil.copyfile(original_file, filtered_file)\n",
    "        total_images_copied += 1\n",
    "    except FileNotFoundError:\n",
    "        print(f\"File not found: {original_file}\")\n",
    "\n",
    "    total_images_processed += 1\n",
    "\n",
    "print(f\"Total images processed: {total_images_processed}\")\n",
    "print(f\"Total images copied: {total_images_copied}\")\n",
    "\n",
    "dt.dataset_to_csv(filtered_dataset, FILTERED_DATASET)"
   ]
  }
 ],
 "metadata": {
  "kernelspec": {
   "display_name": "cameratraps-detector",
   "language": "python",
   "name": "python3"
  },
  "language_info": {
   "codemirror_mode": {
    "name": "ipython",
    "version": 3
   },
   "file_extension": ".py",
   "mimetype": "text/x-python",
   "name": "python",
   "nbconvert_exporter": "python",
   "pygments_lexer": "ipython3",
   "version": "3.8.15"
  }
 },
 "nbformat": 4,
 "nbformat_minor": 2
}
