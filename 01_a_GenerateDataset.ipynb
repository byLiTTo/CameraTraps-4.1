{
 "cells": [
  {
   "cell_type": "code",
   "execution_count": 1,
   "metadata": {},
   "outputs": [
    {
     "name": "stdout",
     "output_type": "stream",
     "text": [
      "RAW_FOLDER: /Users/carlos/WORKSPACE/MegaClassifier/data/raw\n",
      "INTERIM_FOLDER: /Users/carlos/WORKSPACE/MegaClassifier/data/interim\n",
      "PROCESSED_FOLDER: /Users/carlos/WORKSPACE/MegaClassifier/data/processed\n"
     ]
    }
   ],
   "source": [
    "import os\n",
    "\n",
    "RAW_FOLDER = os.path.abspath(\"./data/raw\")\n",
    "INTERIM_FOLDER = os.path.abspath(\"./data/interim\")\n",
    "PROCESSED_FOLDER = os.path.abspath(\"./data/processed\")\n",
    "\n",
    "print('RAW_FOLDER: ' + RAW_FOLDER)\n",
    "print('INTERIM_FOLDER: ' + INTERIM_FOLDER)\n",
    "print('PROCESSED_FOLDER: ' + PROCESSED_FOLDER)"
   ]
  },
  {
   "cell_type": "code",
   "execution_count": 2,
   "metadata": {},
   "outputs": [
    {
     "name": "stdout",
     "output_type": "stream",
     "text": [
      "El archivo /Users/carlos/WORKSPACE/MegaClassifier/data/raw/10000Images.csv se ha abierto con éxito.\n"
     ]
    },
    {
     "data": {
      "text/html": [
       "<div>\n",
       "<style scoped>\n",
       "    .dataframe tbody tr th:only-of-type {\n",
       "        vertical-align: middle;\n",
       "    }\n",
       "\n",
       "    .dataframe tbody tr th {\n",
       "        vertical-align: top;\n",
       "    }\n",
       "\n",
       "    .dataframe thead th {\n",
       "        text-align: right;\n",
       "    }\n",
       "</style>\n",
       "<table border=\"1\" class=\"dataframe\">\n",
       "  <thead>\n",
       "    <tr style=\"text-align: right;\">\n",
       "      <th></th>\n",
       "      <th>file_name</th>\n",
       "      <th>label</th>\n",
       "    </tr>\n",
       "  </thead>\n",
       "  <tbody>\n",
       "    <tr>\n",
       "      <th>0</th>\n",
       "      <td>\\cervidae\\CERVIDREDORFALLOWDEER_ZOO_1_4\\20_202...</td>\n",
       "      <td>cervidae</td>\n",
       "    </tr>\n",
       "    <tr>\n",
       "      <th>1</th>\n",
       "      <td>\\leporido\\conejo_WellingtonCameraTraps_SS\\1908...</td>\n",
       "      <td>leporido</td>\n",
       "    </tr>\n",
       "    <tr>\n",
       "      <th>2</th>\n",
       "      <td>\\vacia\\empty_SnapshotMountainZebra\\MTZ_S1_D07_...</td>\n",
       "      <td>vacia</td>\n",
       "    </tr>\n",
       "    <tr>\n",
       "      <th>3</th>\n",
       "      <td>\\vacia\\NOANIMAL_ZOO_5_6_7_9\\37_20210319 (943).JPG</td>\n",
       "      <td>vacia</td>\n",
       "    </tr>\n",
       "    <tr>\n",
       "      <th>4</th>\n",
       "      <td>\\vacia\\empty_IslandConservationCameraTraps\\dom...</td>\n",
       "      <td>vacia</td>\n",
       "    </tr>\n",
       "    <tr>\n",
       "      <th>...</th>\n",
       "      <td>...</td>\n",
       "      <td>...</td>\n",
       "    </tr>\n",
       "    <tr>\n",
       "      <th>31665</th>\n",
       "      <td>\\vacia\\vacia_ss\\27_20201023 (17).JPG</td>\n",
       "      <td>vacia</td>\n",
       "    </tr>\n",
       "    <tr>\n",
       "      <th>31666</th>\n",
       "      <td>\\zorro\\REDFOX_ZOO_1_4\\32_20201218 (348).JPG</td>\n",
       "      <td>zorro</td>\n",
       "    </tr>\n",
       "    <tr>\n",
       "      <th>31667</th>\n",
       "      <td>\\mapache\\raccoon_CaltechCameraTrap_ME\\58af767e...</td>\n",
       "      <td>mapache</td>\n",
       "    </tr>\n",
       "    <tr>\n",
       "      <th>31668</th>\n",
       "      <td>\\cervidae\\CERVIDREDORFALLOWDEER_ZOO_5_6_7_9\\5_...</td>\n",
       "      <td>cervidae</td>\n",
       "    </tr>\n",
       "    <tr>\n",
       "      <th>31669</th>\n",
       "      <td>\\zorro\\zorro_PNM_2012_ME\\d3424IM000012.JPG</td>\n",
       "      <td>zorro</td>\n",
       "    </tr>\n",
       "  </tbody>\n",
       "</table>\n",
       "<p>31670 rows × 2 columns</p>\n",
       "</div>"
      ],
      "text/plain": [
       "                                               file_name     label\n",
       "0      \\cervidae\\CERVIDREDORFALLOWDEER_ZOO_1_4\\20_202...  cervidae\n",
       "1      \\leporido\\conejo_WellingtonCameraTraps_SS\\1908...  leporido\n",
       "2      \\vacia\\empty_SnapshotMountainZebra\\MTZ_S1_D07_...     vacia\n",
       "3      \\vacia\\NOANIMAL_ZOO_5_6_7_9\\37_20210319 (943).JPG     vacia\n",
       "4      \\vacia\\empty_IslandConservationCameraTraps\\dom...     vacia\n",
       "...                                                  ...       ...\n",
       "31665               \\vacia\\vacia_ss\\27_20201023 (17).JPG     vacia\n",
       "31666        \\zorro\\REDFOX_ZOO_1_4\\32_20201218 (348).JPG     zorro\n",
       "31667  \\mapache\\raccoon_CaltechCameraTrap_ME\\58af767e...   mapache\n",
       "31668  \\cervidae\\CERVIDREDORFALLOWDEER_ZOO_5_6_7_9\\5_...  cervidae\n",
       "31669         \\zorro\\zorro_PNM_2012_ME\\d3424IM000012.JPG     zorro\n",
       "\n",
       "[31670 rows x 2 columns]"
      ]
     },
     "execution_count": 2,
     "metadata": {},
     "output_type": "execute_result"
    }
   ],
   "source": [
    "import src.data.Dataset as dt\n",
    "\n",
    "dataset_file = RAW_FOLDER + \"/10000Images.csv\"\n",
    "dataset = dt.load_from_csv(dataset_file)\n",
    "dataset"
   ]
  },
  {
   "cell_type": "code",
   "execution_count": 3,
   "metadata": {},
   "outputs": [
    {
     "name": "stdout",
     "output_type": "stream",
     "text": [
      "Classes of dataset /Users/carlos/WORKSPACE/MegaClassifier/data/raw/10000Images.csv\n",
      "['cervidae' 'leporido' 'vacia' 'gato_domestico' 'humanovehiculo' 'zorro'\n",
      " 'vaca' 'micromamiferos' 'meloncillo' 'dudosa' 'jabali' 'ave' 'lince'\n",
      " 'caballo' 'gineta' 'perro' 'garduna' 'tejon' 'mapache']\n",
      "\n",
      "Number of classes of dataset /Users/carlos/WORKSPACE/MegaClassifier/data/raw/10000Images.csv\n",
      "19\n"
     ]
    }
   ],
   "source": [
    "print(\"Classes of dataset \" + dataset_file)\n",
    "print(dataset[\"label\"].unique())\n",
    "\n",
    "print()\n",
    "print(\"Number of classes of dataset \" + dataset_file)\n",
    "print(dataset[\"label\"].nunique())"
   ]
  },
  {
   "cell_type": "code",
   "execution_count": 4,
   "metadata": {},
   "outputs": [
    {
     "name": "stdout",
     "output_type": "stream",
     "text": [
      "label\n",
      "ave                1750\n",
      "caballo             909\n",
      "cervidae           5447\n",
      "dudosa             2052\n",
      "garduna             183\n",
      "gato_domestico      804\n",
      "gineta              118\n",
      "humanovehiculo     1564\n",
      "jabali             2060\n",
      "leporido           1630\n",
      "lince               997\n",
      "mapache             218\n",
      "meloncillo          204\n",
      "micromamiferos      478\n",
      "perro               119\n",
      "tejon               265\n",
      "vaca               1147\n",
      "vacia             10000\n",
      "zorro              1725\n",
      "Name: count, dtype: int64\n"
     ]
    }
   ],
   "source": [
    "label_counts = dataset[\"label\"].value_counts()\n",
    "label_counts_sorted = label_counts.sort_index()\n",
    "print(label_counts_sorted)"
   ]
  },
  {
   "cell_type": "code",
   "execution_count": 5,
   "metadata": {},
   "outputs": [
    {
     "name": "stdout",
     "output_type": "stream",
     "text": [
      "Number of classes of custom dataset \n",
      "18\n"
     ]
    }
   ],
   "source": [
    "animal_class = [\n",
    "    \"ave\",\n",
    "    \"caballo\",\n",
    "    \"cervidae\",\n",
    "    \"garduna\",\n",
    "    \"gato_domestico\",\n",
    "    \"gineta\",\n",
    "    \"humanovehiculo\",\n",
    "    \"jabali\",\n",
    "    \"leporido\",\n",
    "    \"lince\",\n",
    "    \"mapache\",\n",
    "    \"meloncillo\",\n",
    "    \"micromamiferos\",\n",
    "    \"perro\",\n",
    "    \"tejon\",\n",
    "    \"vaca\",\n",
    "    \"zorro\",\n",
    "]\n",
    "\n",
    "empty_class = [\"vacia\"]\n",
    "\n",
    "print(\"Number of classes of custom dataset \")\n",
    "print(str(len(animal_class) + len(empty_class)))"
   ]
  },
  {
   "cell_type": "code",
   "execution_count": 6,
   "metadata": {},
   "outputs": [
    {
     "data": {
      "text/html": [
       "<div>\n",
       "<style scoped>\n",
       "    .dataframe tbody tr th:only-of-type {\n",
       "        vertical-align: middle;\n",
       "    }\n",
       "\n",
       "    .dataframe tbody tr th {\n",
       "        vertical-align: top;\n",
       "    }\n",
       "\n",
       "    .dataframe thead th {\n",
       "        text-align: right;\n",
       "    }\n",
       "</style>\n",
       "<table border=\"1\" class=\"dataframe\">\n",
       "  <thead>\n",
       "    <tr style=\"text-align: right;\">\n",
       "      <th></th>\n",
       "      <th>file_name</th>\n",
       "      <th>label</th>\n",
       "    </tr>\n",
       "  </thead>\n",
       "  <tbody>\n",
       "    <tr>\n",
       "      <th>0</th>\n",
       "      <td>\\cervidae\\CERVIDREDORFALLOWDEER_ZOO_1_4\\20_202...</td>\n",
       "      <td>1</td>\n",
       "    </tr>\n",
       "    <tr>\n",
       "      <th>1</th>\n",
       "      <td>\\leporido\\conejo_WellingtonCameraTraps_SS\\1908...</td>\n",
       "      <td>1</td>\n",
       "    </tr>\n",
       "    <tr>\n",
       "      <th>2</th>\n",
       "      <td>\\vacia\\empty_SnapshotMountainZebra\\MTZ_S1_D07_...</td>\n",
       "      <td>0</td>\n",
       "    </tr>\n",
       "    <tr>\n",
       "      <th>3</th>\n",
       "      <td>\\vacia\\NOANIMAL_ZOO_5_6_7_9\\37_20210319 (943).JPG</td>\n",
       "      <td>0</td>\n",
       "    </tr>\n",
       "    <tr>\n",
       "      <th>4</th>\n",
       "      <td>\\vacia\\empty_IslandConservationCameraTraps\\dom...</td>\n",
       "      <td>0</td>\n",
       "    </tr>\n",
       "    <tr>\n",
       "      <th>...</th>\n",
       "      <td>...</td>\n",
       "      <td>...</td>\n",
       "    </tr>\n",
       "    <tr>\n",
       "      <th>31665</th>\n",
       "      <td>\\vacia\\vacia_ss\\27_20201023 (17).JPG</td>\n",
       "      <td>0</td>\n",
       "    </tr>\n",
       "    <tr>\n",
       "      <th>31666</th>\n",
       "      <td>\\zorro\\REDFOX_ZOO_1_4\\32_20201218 (348).JPG</td>\n",
       "      <td>1</td>\n",
       "    </tr>\n",
       "    <tr>\n",
       "      <th>31667</th>\n",
       "      <td>\\mapache\\raccoon_CaltechCameraTrap_ME\\58af767e...</td>\n",
       "      <td>1</td>\n",
       "    </tr>\n",
       "    <tr>\n",
       "      <th>31668</th>\n",
       "      <td>\\cervidae\\CERVIDREDORFALLOWDEER_ZOO_5_6_7_9\\5_...</td>\n",
       "      <td>1</td>\n",
       "    </tr>\n",
       "    <tr>\n",
       "      <th>31669</th>\n",
       "      <td>\\zorro\\zorro_PNM_2012_ME\\d3424IM000012.JPG</td>\n",
       "      <td>1</td>\n",
       "    </tr>\n",
       "  </tbody>\n",
       "</table>\n",
       "<p>29618 rows × 2 columns</p>\n",
       "</div>"
      ],
      "text/plain": [
       "                                               file_name label\n",
       "0      \\cervidae\\CERVIDREDORFALLOWDEER_ZOO_1_4\\20_202...     1\n",
       "1      \\leporido\\conejo_WellingtonCameraTraps_SS\\1908...     1\n",
       "2      \\vacia\\empty_SnapshotMountainZebra\\MTZ_S1_D07_...     0\n",
       "3      \\vacia\\NOANIMAL_ZOO_5_6_7_9\\37_20210319 (943).JPG     0\n",
       "4      \\vacia\\empty_IslandConservationCameraTraps\\dom...     0\n",
       "...                                                  ...   ...\n",
       "31665               \\vacia\\vacia_ss\\27_20201023 (17).JPG     0\n",
       "31666        \\zorro\\REDFOX_ZOO_1_4\\32_20201218 (348).JPG     1\n",
       "31667  \\mapache\\raccoon_CaltechCameraTrap_ME\\58af767e...     1\n",
       "31668  \\cervidae\\CERVIDREDORFALLOWDEER_ZOO_5_6_7_9\\5_...     1\n",
       "31669         \\zorro\\zorro_PNM_2012_ME\\d3424IM000012.JPG     1\n",
       "\n",
       "[29618 rows x 2 columns]"
      ]
     },
     "execution_count": 6,
     "metadata": {},
     "output_type": "execute_result"
    }
   ],
   "source": [
    "number_raw_samples = len(dataset[\"file_name\"].values)\n",
    "crop_to = 20\n",
    "\n",
    "dataset = dt.convert_to_binary(dataset, empty_class, animal_class)\n",
    "dataset"
   ]
  }
 ],
 "metadata": {
  "kernelspec": {
   "display_name": "cameratraps-detector",
   "language": "python",
   "name": "python3"
  },
  "language_info": {
   "codemirror_mode": {
    "name": "ipython",
    "version": 3
   },
   "file_extension": ".py",
   "mimetype": "text/x-python",
   "name": "python",
   "nbconvert_exporter": "python",
   "pygments_lexer": "ipython3",
   "version": "3.8.15"
  }
 },
 "nbformat": 4,
 "nbformat_minor": 2
}
