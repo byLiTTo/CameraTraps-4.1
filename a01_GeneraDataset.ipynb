{
 "cells": [
  {
   "cell_type": "code",
   "execution_count": 7,
   "metadata": {},
   "outputs": [
    {
     "name": "stdout",
     "output_type": "stream",
     "text": [
      "31671\n",
      "10001\n"
     ]
    }
   ],
   "source": [
    "import os\n",
    "import csv\n",
    "import platform\n",
    "import numpy as np\n",
    "from modules.dataset_utils  import DatasetUtils as dataset_utils\n",
    "\n",
    "\n",
    "\n",
    "#########################################################################################################################################################\n",
    "# DEFINICIÓN DE CLASES PARA EL NUEVO DATASET\n",
    "#########################################################################################################################################################\n",
    "\n",
    "ORIGINAL_CLASSES = ['ave', 'caballo', 'cervidae', 'dudosa', 'garduna', 'gato_domestico', 'gineta', 'humanovehiculo', 'jabali', 'leporido', 'lince', \n",
    "    'mapache', 'meloncillo', 'micromamiferos', 'perro', 'tejon', 'vaca', 'vacia', 'zorro']\n",
    "\n",
    "CLASS_ANIMAL = ['ave', 'caballo', 'cervidae', 'garduna', 'gato_domestico', 'gineta', 'humanovehiculo', 'jabali', 'leporido', 'lince','mapache', \n",
    "'meloncillo', 'micromamiferos', 'perro', 'tejon', 'vaca', 'zorro']\n",
    "\n",
    "CLASS_EMPTY = ['vacia']\n",
    "\n",
    "#########################################################################################################################################################\n",
    "\n",
    "dataset_location_relative = \"../DATASETs/emptyNonEmptyDataset\"\n",
    "dataset_csv_relative = \"../DATASETs/emptyNonEmptyDataset/10000Images.csv\"\n",
    "custom_csv_relative = \"./data/\"\n",
    "\n",
    "#########################################################################################################################################################\n",
    "\n",
    "dataset_location = os.path.abspath(dataset_location_relative)\n",
    "dataset_csv = os.path.abspath(dataset_csv_relative)\n",
    "custom_CSV = os.path.abspath(custom_csv_relative)\n",
    "\n",
    "image_relative_files, labels = dataset_utils.load_csv(dataset_csv)\n",
    "image_files, labels = dataset_utils.convert_to_abspath(dataset_location, image_relative_files, labels)\n",
    "\n",
    "\n",
    "TOTAL = len(labels)\n",
    "label_vacia = []\n",
    "for i in labels:\n",
    "    if i == 'vacia':\n",
    "        label_vacia.append(i)\n",
    "VACIA = len(label_vacia)\n",
    "\n",
    "print(TOTAL)\n",
    "print(VACIA)"
   ]
  },
  {
   "cell_type": "code",
   "execution_count": null,
   "metadata": {},
   "outputs": [],
   "source": [
    "#########################################################################################################################################################\n",
    "\n",
    "data = [[\"file_name\",\"label\"]]\n",
    "VACIA_CURRENT = 0\n",
    "for imrf, imf, label in zip(image_relative_files, image_files, labels):\n",
    "\n",
    "    if os.path.exists(imf):\n",
    "        if label == 'vacia':\n",
    "            data.append([imrf,'vacia'])\n",
    "            VACIA_CURRENT=VACIA_CURRENT+1\n",
    "        else:\n",
    "            data.append([imrf,'animal'])\n",
    "    \n",
    "if platform.system() == 'Windows':\n",
    "    np.savetxt(custom_CSV + \"\\\\\" + str(VACIA_CURRENT) + \"Imagenes.csv\", data, delimiter=\";\", fmt=\"% s\")\n",
    "else:\n",
    "    np.savetxt(custom_CSV + \"/\" + str(VACIA_CURRENT) + \"Imagenes.csv\", data, delimiter=\";\", fmt=\"% s\")\n",
    "\n",
    "#########################################################################################################################################################"
   ]
  },
  {
   "cell_type": "code",
   "execution_count": null,
   "metadata": {},
   "outputs": [],
   "source": [
    "#########################################################################################################################################################\n",
    "\n",
    "TRAIN = 70\n",
    "VALIDATION = 15\n",
    "TEST = 15\n",
    "\n",
    "\n",
    "#print('=======================================================================================================================================')\n",
    "#print('=======================================================================================================================================')"
   ]
  }
 ],
 "metadata": {
  "kernelspec": {
   "display_name": "Python 3.8.11 ('tensorflow_2.8')",
   "language": "python",
   "name": "python3"
  },
  "language_info": {
   "codemirror_mode": {
    "name": "ipython",
    "version": 3
   },
   "file_extension": ".py",
   "mimetype": "text/x-python",
   "name": "python",
   "nbconvert_exporter": "python",
   "pygments_lexer": "ipython3",
   "version": "3.8.11"
  },
  "orig_nbformat": 4,
  "vscode": {
   "interpreter": {
    "hash": "c869847218dbda1326190bfd304c163a22399a5d0bf580a3267b90a1cd24a9bc"
   }
  }
 },
 "nbformat": 4,
 "nbformat_minor": 2
}
