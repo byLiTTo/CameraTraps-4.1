{
 "cells": [
  {
   "cell_type": "markdown",
   "source": [
    "# DEFINICIÓN DE PARÁMETROS"
   ],
   "metadata": {
    "collapsed": false,
    "pycharm": {
     "name": "#%% md\n"
    }
   }
  },
  {
   "cell_type": "code",
   "execution_count": 2,
   "outputs": [],
   "source": [
    "ORIGINAL_CLASSES = ['ave', 'caballo', 'cervidae', 'dudosa', 'garduna', 'gato_domestico', 'gineta', 'humanovehiculo',\n",
    "                    'jabali', 'leporido', 'lince', 'mapache', 'meloncillo', 'micromamiferos', 'perro', 'tejon', 'vaca',\n",
    "                    'vacia', 'zorro']\n",
    "\n",
    "CLASS_ANIMAL = ['ave', 'caballo', 'cervidae', 'garduna', 'gato_domestico', 'gineta', 'humanovehiculo', 'jabali',\n",
    "                'leporido', 'lince', 'mapache', 'meloncillo', 'micromamiferos', 'perro', 'tejon', 'vaca', 'zorro']\n",
    "\n",
    "CLASS_EMPTY = ['vacia']\n",
    "\n",
    "VACIA = 0\n",
    "ANIMAL = 1\n",
    "\n",
    "#######################################################################################################################\n",
    "\n",
    "dataset_location_relative = \"../DATASETs/emptyNonEmptyDataset\"\n",
    "dataset_csv_relative = \"../DATASETs/emptyNonEmptyDataset/10000Images.csv\"\n",
    "custom_csv_relative = \"./data/\"\n",
    "\n",
    "#######################################################################################################################\n",
    "\n",
    "NUMBER_IMAGES = 10000\n",
    "\n",
    "TRAIN_PERCENTAGE = 0.7\n",
    "VALIDATION_PERCENTAGE = 0.15\n",
    "TEST_PERCENTAGE = 0.15\n",
    "#######################################################################################################################"
   ],
   "metadata": {
    "collapsed": false,
    "pycharm": {
     "name": "#%%\n"
    }
   }
  },
  {
   "cell_type": "markdown",
   "source": [
    "___"
   ],
   "metadata": {
    "collapsed": false,
    "pycharm": {
     "name": "#%% md\n"
    }
   }
  },
  {
   "cell_type": "code",
   "execution_count": null,
   "outputs": [],
   "source": [
    "import os\n",
    "import platform\n",
    "\n",
    "import numpy as np\n",
    "\n",
    "from modules.dataset_utils import DatasetUtils"
   ],
   "metadata": {
    "collapsed": false,
    "pycharm": {
     "name": "#%%\n"
    }
   }
  },
  {
   "cell_type": "code",
   "execution_count": 3,
   "outputs": [
    {
     "name": "stdout",
     "output_type": "stream",
     "text": [
      "==============================================================================================================\n",
      "Total de muestras originales: 31670\n",
      "\n",
      "Nuevo dataset:\n",
      "- Muestras de clase ANIMAL: \t19618\n",
      "- Muestras de clase VACÍA: \t\t10000\n",
      "Total de muestras del nuevo dataset: 29618\n",
      "==============================================================================================================\n"
     ]
    }
   ],
   "source": [
    "dataset_location = os.path.abspath(dataset_location_relative)\n",
    "dataset_csv = os.path.abspath(dataset_csv_relative)\n",
    "custom_CSV = os.path.abspath(custom_csv_relative)\n",
    "\n",
    "image_files, labels = DatasetUtils.load_csv(dataset_csv)\n",
    "\n",
    "images_animals = []\n",
    "images_empty = []\n",
    "dataset = [[\"file_name\", \"label\"]]\n",
    "for imf, label in zip(image_files, labels):\n",
    "    if label in CLASS_EMPTY:\n",
    "        dataset.append([imf, VACIA])\n",
    "        images_empty.append([imf, VACIA])\n",
    "    else:\n",
    "        if label in CLASS_ANIMAL:\n",
    "            dataset.append([imf, ANIMAL])\n",
    "            images_animals.append([imf, ANIMAL])\n",
    "\n",
    "ORIGINAL_NUMBER = len(labels)\n",
    "\n",
    "ANIMAL_NUMBER = len(images_animals)\n",
    "EMPTY_NUMBER = len(images_empty)\n",
    "TOTAL_NUMBER = ANIMAL_NUMBER + EMPTY_NUMBER\n",
    "\n",
    "if platform.system() == 'Windows':\n",
    "    np.savetxt(custom_CSV + \"\\\\\" + str(EMPTY_NUMBER) + \"Imagenes.csv\", dataset, delimiter=\";\", fmt=\"% s\")\n",
    "else:\n",
    "    np.savetxt(custom_CSV + \"/\" + str(EMPTY_NUMBER) + \"Imagenes.csv\", dataset, delimiter=\";\", fmt=\"% s\")\n",
    "\n",
    "print('==============================================================================================================')\n",
    "print('Total de muestras originales: ' + str(ORIGINAL_NUMBER))\n",
    "print('\\nNuevo dataset:')\n",
    "print('- Muestras de clase ANIMAL: ' + '\\t' + str(ANIMAL_NUMBER))\n",
    "print('- Muestras de clase VACÍA: ' + '\\t' + '\\t' + str(EMPTY_NUMBER))\n",
    "print('Total de muestras del nuevo dataset: ' + str(TOTAL_NUMBER))\n",
    "print('==============================================================================================================')"
   ],
   "metadata": {
    "collapsed": false,
    "pycharm": {
     "name": "#%%\n"
    }
   }
  },
  {
   "cell_type": "markdown",
   "source": [],
   "metadata": {
    "collapsed": false,
    "pycharm": {
     "name": "#%% md\n"
    }
   }
  },
  {
   "cell_type": "code",
   "execution_count": 5,
   "outputs": [
    {
     "name": "stdout",
     "output_type": "stream",
     "text": [
      "==============================================================================================================\n",
      "Total de muestras nuevo dataset 29621\n",
      "Total de muestras VACÍA: 10000\n",
      "- Muestras TRAIN: \t\t20733\n",
      "- Muestras VALIDATION: \t4444\n",
      "- Muestras TEST: \t\t4444\n",
      "==============================================================================================================\n"
     ]
    }
   ],
   "source": [
    "#######################################################################################################################\n",
    "\n",
    "train, validation, test = DatasetUtils.generate_train_validation_test(images_empty, images_animals, NUMBER_IMAGES,\n",
    "                                                                      TRAIN_PERCENTAGE, TEST_PERCENTAGE)\n",
    "\n",
    "#######################################################################################################################\n",
    "\n",
    "if platform.system() == 'Windows':\n",
    "    np.savetxt(custom_CSV + \"\\\\\" + str(NUMBER_IMAGES) + \"Train.csv\", train, delimiter=\";\", fmt=\"% s\")\n",
    "    np.savetxt(custom_CSV + \"\\\\\" + str(NUMBER_IMAGES) + \"Validation.csv\", validation, delimiter=\";\", fmt=\"% s\")\n",
    "    np.savetxt(custom_CSV + \"\\\\\" + str(NUMBER_IMAGES) + \"Test.csv\", test, delimiter=\";\", fmt=\"% s\")\n",
    "else:\n",
    "    np.savetxt(custom_CSV + \"/\" + str(NUMBER_IMAGES) + \"Train.csv\", train, delimiter=\";\", fmt=\"% s\")\n",
    "    np.savetxt(custom_CSV + \"/\" + str(NUMBER_IMAGES) + \"Validation.csv\", validation, delimiter=\";\", fmt=\"% s\")\n",
    "    np.savetxt(custom_CSV + \"/\" + str(NUMBER_IMAGES) + \"Test.csv\", test, delimiter=\";\", fmt=\"% s\")\n",
    "\n",
    "#######################################################################################################################\n",
    "\n",
    "print('==============================================================================================================')\n",
    "print('Total de muestras nuevo dataset ' + str(len(train) + len(validation) + len(test)))\n",
    "print('Total de muestras VACÍA: ' + str(NUMBER_IMAGES))\n",
    "print('- Muestras TRAIN: ' + '\\t' + '\\t' + str(len(train)))\n",
    "print('- Muestras VALIDATION: ' + '\\t' + str(len(validation)))\n",
    "print('- Muestras TEST: ' + '\\t' + '\\t' + str(len(test)))\n",
    "print('==============================================================================================================')"
   ],
   "metadata": {
    "collapsed": false,
    "pycharm": {
     "name": "#%%\n"
    }
   }
  }
 ],
 "metadata": {
  "kernelspec": {
   "display_name": "Python 3.8.13 ('tf_gpu')",
   "language": "python",
   "name": "python3"
  },
  "language_info": {
   "codemirror_mode": {
    "name": "ipython",
    "version": 3
   },
   "file_extension": ".py",
   "mimetype": "text/x-python",
   "name": "python",
   "nbconvert_exporter": "python",
   "pygments_lexer": "ipython3",
   "version": "3.8.13"
  },
  "orig_nbformat": 4,
  "vscode": {
   "interpreter": {
    "hash": "907d050957a886e998c55a62a25f72c12f58285fde8e87ef7996a2175b8c9579"
   }
  }
 },
 "nbformat": 4,
 "nbformat_minor": 2
}