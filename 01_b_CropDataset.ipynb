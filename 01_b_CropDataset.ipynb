{
 "cells": [
  {
   "cell_type": "code",
   "execution_count": 1,
   "metadata": {},
   "outputs": [
    {
     "name": "stdout",
     "output_type": "stream",
     "text": [
      "RAW_FOLDER: /Users/carlos/WORKSPACE/MegaClassifier/data/raw\n",
      "INTERIM_FOLDER: /Users/carlos/WORKSPACE/MegaClassifier/data/interim\n",
      "PROCESSED_FOLDER: /Users/carlos/WORKSPACE/MegaClassifier/data/processed\n"
     ]
    }
   ],
   "source": [
    "import os\n",
    "\n",
    "RAW_FOLDER = os.path.abspath(\"./data/raw\")\n",
    "INTERIM_FOLDER = os.path.abspath(\"./data/interim\")\n",
    "PROCESSED_FOLDER = os.path.abspath(\"./data/processed\")\n",
    "\n",
    "print(\"RAW_FOLDER: \" + RAW_FOLDER)\n",
    "print(\"INTERIM_FOLDER: \" + INTERIM_FOLDER)\n",
    "print(\"PROCESSED_FOLDER: \" + PROCESSED_FOLDER)"
   ]
  },
  {
   "cell_type": "code",
   "execution_count": 2,
   "metadata": {},
   "outputs": [
    {
     "name": "stdout",
     "output_type": "stream",
     "text": [
      "The file /Users/carlos/WORKSPACE/MegaClassifier/data/raw/10000Images_binary.csv has been successfully opened.\n"
     ]
    },
    {
     "data": {
      "text/html": [
       "<div>\n",
       "<style scoped>\n",
       "    .dataframe tbody tr th:only-of-type {\n",
       "        vertical-align: middle;\n",
       "    }\n",
       "\n",
       "    .dataframe tbody tr th {\n",
       "        vertical-align: top;\n",
       "    }\n",
       "\n",
       "    .dataframe thead th {\n",
       "        text-align: right;\n",
       "    }\n",
       "</style>\n",
       "<table border=\"1\" class=\"dataframe\">\n",
       "  <thead>\n",
       "    <tr style=\"text-align: right;\">\n",
       "      <th></th>\n",
       "      <th>file_name</th>\n",
       "      <th>label</th>\n",
       "    </tr>\n",
       "  </thead>\n",
       "  <tbody>\n",
       "    <tr>\n",
       "      <th>0</th>\n",
       "      <td>\\cervidae\\CERVIDREDORFALLOWDEER_ZOO_1_4\\20_202...</td>\n",
       "      <td>1</td>\n",
       "    </tr>\n",
       "    <tr>\n",
       "      <th>1</th>\n",
       "      <td>\\leporido\\conejo_WellingtonCameraTraps_SS\\1908...</td>\n",
       "      <td>1</td>\n",
       "    </tr>\n",
       "    <tr>\n",
       "      <th>2</th>\n",
       "      <td>\\vacia\\empty_SnapshotMountainZebra\\MTZ_S1_D07_...</td>\n",
       "      <td>0</td>\n",
       "    </tr>\n",
       "    <tr>\n",
       "      <th>3</th>\n",
       "      <td>\\vacia\\NOANIMAL_ZOO_5_6_7_9\\37_20210319 (943).JPG</td>\n",
       "      <td>0</td>\n",
       "    </tr>\n",
       "    <tr>\n",
       "      <th>4</th>\n",
       "      <td>\\vacia\\empty_IslandConservationCameraTraps\\dom...</td>\n",
       "      <td>0</td>\n",
       "    </tr>\n",
       "    <tr>\n",
       "      <th>...</th>\n",
       "      <td>...</td>\n",
       "      <td>...</td>\n",
       "    </tr>\n",
       "    <tr>\n",
       "      <th>29613</th>\n",
       "      <td>\\vacia\\vacia_ss\\27_20201023 (17).JPG</td>\n",
       "      <td>0</td>\n",
       "    </tr>\n",
       "    <tr>\n",
       "      <th>29614</th>\n",
       "      <td>\\zorro\\REDFOX_ZOO_1_4\\32_20201218 (348).JPG</td>\n",
       "      <td>1</td>\n",
       "    </tr>\n",
       "    <tr>\n",
       "      <th>29615</th>\n",
       "      <td>\\mapache\\raccoon_CaltechCameraTrap_ME\\58af767e...</td>\n",
       "      <td>1</td>\n",
       "    </tr>\n",
       "    <tr>\n",
       "      <th>29616</th>\n",
       "      <td>\\cervidae\\CERVIDREDORFALLOWDEER_ZOO_5_6_7_9\\5_...</td>\n",
       "      <td>1</td>\n",
       "    </tr>\n",
       "    <tr>\n",
       "      <th>29617</th>\n",
       "      <td>\\zorro\\zorro_PNM_2012_ME\\d3424IM000012.JPG</td>\n",
       "      <td>1</td>\n",
       "    </tr>\n",
       "  </tbody>\n",
       "</table>\n",
       "<p>29618 rows × 2 columns</p>\n",
       "</div>"
      ],
      "text/plain": [
       "                                               file_name  label\n",
       "0      \\cervidae\\CERVIDREDORFALLOWDEER_ZOO_1_4\\20_202...      1\n",
       "1      \\leporido\\conejo_WellingtonCameraTraps_SS\\1908...      1\n",
       "2      \\vacia\\empty_SnapshotMountainZebra\\MTZ_S1_D07_...      0\n",
       "3      \\vacia\\NOANIMAL_ZOO_5_6_7_9\\37_20210319 (943).JPG      0\n",
       "4      \\vacia\\empty_IslandConservationCameraTraps\\dom...      0\n",
       "...                                                  ...    ...\n",
       "29613               \\vacia\\vacia_ss\\27_20201023 (17).JPG      0\n",
       "29614        \\zorro\\REDFOX_ZOO_1_4\\32_20201218 (348).JPG      1\n",
       "29615  \\mapache\\raccoon_CaltechCameraTrap_ME\\58af767e...      1\n",
       "29616  \\cervidae\\CERVIDREDORFALLOWDEER_ZOO_5_6_7_9\\5_...      1\n",
       "29617         \\zorro\\zorro_PNM_2012_ME\\d3424IM000012.JPG      1\n",
       "\n",
       "[29618 rows x 2 columns]"
      ]
     },
     "execution_count": 2,
     "metadata": {},
     "output_type": "execute_result"
    }
   ],
   "source": [
    "import src.data.Dataset as dt\n",
    "\n",
    "dataset_file = RAW_FOLDER + \"/10000Images_binary.csv\"\n",
    "dataset = dt.load_from_csv(dataset_file)\n",
    "dataset"
   ]
  },
  {
   "cell_type": "code",
   "execution_count": 3,
   "metadata": {},
   "outputs": [
    {
     "name": "stdout",
     "output_type": "stream",
     "text": [
      "Number of samples in raw dataset: 29618\n",
      "label\n",
      "0    10000\n",
      "1    19618\n",
      "Name: count, dtype: int64\n",
      "\n",
      "The dataset has been successfully saved to /Users/carlos/WORKSPACE/MegaClassifier/data/raw/20Images_binary.csv.\n",
      "\n",
      "Number of samples in set dataset: 60\n",
      "label\n",
      "0    20\n",
      "1    40\n",
      "Name: count, dtype: int64\n"
     ]
    }
   ],
   "source": [
    "number_set_empty = 20\n",
    "\n",
    "number_raw_samples = len(dataset[\"file_name\"].values)\n",
    "number_raw_empty = len(dataset[dataset[\"label\"] == 0])\n",
    "number_raw_animal = len(dataset[dataset[\"label\"] == 1])\n",
    "\n",
    "print(\"Number of samples in raw dataset: \" + str(number_raw_samples))\n",
    "label_counts = dataset[\"label\"].value_counts()\n",
    "label_counts_sorted = label_counts.sort_index()\n",
    "print(label_counts_sorted)\n",
    "print()\n",
    "\n",
    "if number_set_empty < number_raw_empty:\n",
    "    dataset_crop = dt.crop_dataset(dataset, number_set_empty)\n",
    "\n",
    "    number_set_samples = len(dataset_crop[\"file_name\"].values)\n",
    "    number_set_empty = len(dataset_crop[dataset_crop[\"label\"] == 0])\n",
    "    number_set_animal = len(dataset_crop[dataset_crop[\"label\"] == 1])\n",
    "\n",
    "    csv_crop_path = os.path.join(\n",
    "        RAW_FOLDER, str(number_set_empty) + \"Images_binary.csv\"\n",
    "    )\n",
    "    dt.dataset_to_csv(dataset_crop, csv_crop_path)\n",
    "\n",
    "    print()\n",
    "    print(\"Number of samples in set dataset: \" + str(number_set_samples))\n",
    "    label_counts = dataset_crop[\"label\"].value_counts()\n",
    "    label_counts_sorted = label_counts.sort_index()\n",
    "    print(label_counts_sorted)"
   ]
  },
  {
   "cell_type": "code",
   "execution_count": 4,
   "metadata": {},
   "outputs": [
    {
     "name": "stdout",
     "output_type": "stream",
     "text": [
      "The dataset has been successfully saved to /Users/carlos/WORKSPACE/MegaClassifier/data/interim/train/10000Train.csv.\n",
      "The dataset has been successfully saved to /Users/carlos/WORKSPACE/MegaClassifier/data/interim/validation/10000Validation.csv.\n",
      "The dataset has been successfully saved to /Users/carlos/WORKSPACE/MegaClassifier/data/interim/test/10000Test.csv.\n",
      "\n",
      "The dataset has been successfully saved to /Users/carlos/WORKSPACE/MegaClassifier/data/interim/train/20Train.csv.\n",
      "The dataset has been successfully saved to /Users/carlos/WORKSPACE/MegaClassifier/data/interim/validation/20Validation.csv.\n",
      "The dataset has been successfully saved to /Users/carlos/WORKSPACE/MegaClassifier/data/interim/test/20Test.csv.\n"
     ]
    }
   ],
   "source": [
    "percentaje_train = 0.70\n",
    "percentaje_val = 0.15\n",
    "percentaje_test = 0.15\n",
    "\n",
    "csv_train_path = os.path.join(\n",
    "    INTERIM_FOLDER, \"train\", str(number_raw_empty) + \"Train.csv\"\n",
    ")\n",
    "csv_val_path = os.path.join(\n",
    "    INTERIM_FOLDER, \"validation\", str(number_raw_empty) + \"Validation.csv\"\n",
    ")\n",
    "csv_test_path = os.path.join(INTERIM_FOLDER, \"test\", str(number_raw_empty) + \"Test.csv\")\n",
    "\n",
    "train_dataset, val_dataset, test_dataset = dt.split_dataset(\n",
    "    dataset, percentaje_train, percentaje_val, percentaje_test\n",
    ")\n",
    "\n",
    "dt.dataset_to_csv(train_dataset, csv_train_path)\n",
    "dt.dataset_to_csv(val_dataset, csv_val_path)\n",
    "dt.dataset_to_csv(test_dataset, csv_test_path)\n",
    "\n",
    "if number_set_empty < number_raw_empty:\n",
    "    csv_train_path = os.path.join(\n",
    "        INTERIM_FOLDER, \"train\", str(number_set_empty) + \"Train.csv\"\n",
    "    )\n",
    "    csv_val_path = os.path.join(\n",
    "        INTERIM_FOLDER, \"validation\", str(number_set_empty) + \"Validation.csv\"\n",
    "    )\n",
    "    csv_test_path = os.path.join(INTERIM_FOLDER, \"test\", str(number_set_empty) + \"Test.csv\")\n",
    "\n",
    "    train_dataset_crop, val_dataset_crop, test_dataset_crop = dt.split_dataset(\n",
    "        dataset_crop, percentaje_train, percentaje_val, percentaje_test\n",
    "    )\n",
    "    print()\n",
    "    dt.dataset_to_csv(train_dataset_crop, csv_train_path)\n",
    "    dt.dataset_to_csv(val_dataset_crop, csv_val_path)\n",
    "    dt.dataset_to_csv(test_dataset_crop, csv_test_path)"
   ]
  },
  {
   "cell_type": "code",
   "execution_count": 5,
   "metadata": {},
   "outputs": [
    {
     "name": "stdout",
     "output_type": "stream",
     "text": [
      "Vacia RAW = 10000 donde el 70.0% es 7000.0\n",
      "Animal RAW = 19618 donde el 70.0% es 13732.599999999999\n",
      "Vacia TRAIN = 7000\n",
      "Animal TRAIN = 13732\n",
      "\n",
      "Vacia RAW = 10000 donde el 15.0% es 1500.0\n",
      "Animal RAW = 19618 donde el 15.0% es 2942.7\n",
      "Vacia VAL = 1500\n",
      "Animal VAL = 2942\n",
      "\n",
      "Vacia RAW = 10000 donde el 15.0% es 1500.0\n",
      "Animal RAW = 19618 donde el 15.0% es 2942.7\n",
      "Vacia TEST = 1500\n",
      "Animal TEST = 2944\n",
      "\n"
     ]
    }
   ],
   "source": [
    "print(\"Vacia RAW = \" + str(number_raw_empty) + \" donde el \" + str(percentaje_train*100) + \"% es \" + str(number_raw_empty * percentaje_train))\n",
    "print(\"Animal RAW = \" + str(number_raw_animal) + \" donde el \" + str(percentaje_train*100) + \"% es \" + str(number_raw_animal * percentaje_train))\n",
    "number_split_empty = len(train_dataset[train_dataset[\"label\"] == 0])\n",
    "number_split_animal = len(train_dataset[train_dataset[\"label\"] == 1])\n",
    "print(\"Vacia TRAIN = \" + str(number_split_empty))\n",
    "print(\"Animal TRAIN = \" + str(number_split_animal))\n",
    "print()\n",
    "\n",
    "print(\"Vacia RAW = \" + str(number_raw_empty) + \" donde el \" + str(percentaje_val*100) + \"% es \" + str(number_raw_empty * percentaje_val))\n",
    "print(\"Animal RAW = \" + str(number_raw_animal) + \" donde el \" + str(percentaje_val*100) + \"% es \" + str(number_raw_animal * percentaje_val))\n",
    "number_split_empty = len(val_dataset[val_dataset[\"label\"] == 0])\n",
    "number_split_animal = len(val_dataset[val_dataset[\"label\"] == 1])\n",
    "print(\"Vacia VAL = \" + str(number_split_empty))\n",
    "print(\"Animal VAL = \" + str(number_split_animal))\n",
    "print()\n",
    "\n",
    "print(\"Vacia RAW = \" + str(number_raw_empty) + \" donde el \" + str(percentaje_test*100) + \"% es \" + str(number_raw_empty * percentaje_test))\n",
    "print(\"Animal RAW = \" + str(number_raw_animal) + \" donde el \" + str(percentaje_test*100) + \"% es \" + str(number_raw_animal * percentaje_test))\n",
    "number_split_empty = len(test_dataset[test_dataset[\"label\"] == 0])\n",
    "number_split_animal = len(test_dataset[test_dataset[\"label\"] == 1])\n",
    "print(\"Vacia TEST = \" + str(number_split_empty))\n",
    "print(\"Animal TEST = \" + str(number_split_animal))\n",
    "print()"
   ]
  },
  {
   "cell_type": "code",
   "execution_count": 6,
   "metadata": {},
   "outputs": [
    {
     "name": "stdout",
     "output_type": "stream",
     "text": [
      "Proportion of empty class samples in raw dataset: 33.76%\n",
      "Proportion of animal class samples in raw dataset: 66.24%\n",
      "\n",
      "Train Empty Proportion: 33.76%\n",
      "Train Animal Proportion: 66.24%\n",
      "\n",
      "Test Empty Proportion: 33.75%\n",
      "Test Animal Proportion: 66.25%\n",
      "\n",
      "Validation Empty Proportion: 33.77%\n",
      "Validation Animal Proportion: 66.23%\n"
     ]
    }
   ],
   "source": [
    "proportion_empty_raw = number_raw_empty / number_raw_samples\n",
    "proportion_animal_raw = number_raw_animal / number_raw_samples\n",
    "\n",
    "train_empty_proportion = len(train_dataset[train_dataset[\"label\"] == 0]) / len(train_dataset)\n",
    "train_animal_proportion = len(train_dataset[train_dataset[\"label\"] == 1]) / len(train_dataset)\n",
    "\n",
    "test_empty_proportion = len(test_dataset[test_dataset[\"label\"] == 0]) / len(test_dataset)\n",
    "test_animal_proportion = len(test_dataset[test_dataset[\"label\"] == 1]) / len(test_dataset)\n",
    "\n",
    "val_empty_proportion = len(val_dataset[val_dataset[\"label\"] == 0]) / len(val_dataset)\n",
    "val_animal_proportion = len(val_dataset[val_dataset[\"label\"] == 1]) / len(val_dataset)\n",
    "\n",
    "print(\"Proportion of empty class samples in raw dataset: {:.2%}\".format(proportion_empty_raw))\n",
    "print(\"Proportion of animal class samples in raw dataset: {:.2%}\".format(proportion_animal_raw))\n",
    "print()\n",
    "print(\"Train Empty Proportion: {:.2%}\".format(train_empty_proportion))\n",
    "print(\"Train Animal Proportion: {:.2%}\".format(train_animal_proportion))\n",
    "print()\n",
    "print(\"Test Empty Proportion: {:.2%}\".format(test_empty_proportion))\n",
    "print(\"Test Animal Proportion: {:.2%}\".format(test_animal_proportion))\n",
    "print()\n",
    "print(\"Validation Empty Proportion: {:.2%}\".format(val_empty_proportion))\n",
    "print(\"Validation Animal Proportion: {:.2%}\".format(val_animal_proportion))\n"
   ]
  },
  {
   "cell_type": "code",
   "execution_count": 7,
   "metadata": {},
   "outputs": [
    {
     "name": "stdout",
     "output_type": "stream",
     "text": [
      "Vacia RAW = 20 donde el 70.0% es 14.0\n",
      "Animal RAW = 40 donde el 70.0% es 28.0\n",
      "Vacia TRAIN = 14\n",
      "Animal TRAIN = 28\n",
      "\n",
      "Vacia RAW = 20 donde el 15.0% es 3.0\n",
      "Animal RAW = 40 donde el 15.0% es 6.0\n",
      "Vacia VAL = 3\n",
      "Animal VAL = 6\n",
      "\n",
      "Vacia RAW = 20 donde el 15.0% es 3.0\n",
      "Animal RAW = 40 donde el 15.0% es 6.0\n",
      "Vacia TEST = 3\n",
      "Animal TEST = 6\n",
      "\n"
     ]
    }
   ],
   "source": [
    "if number_set_empty < number_raw_empty:\n",
    "    print(\"Vacia RAW = \" + str(number_set_empty) + \" donde el \" + str(percentaje_train*100) + \"% es \" + str(number_set_empty * percentaje_train))\n",
    "    print(\"Animal RAW = \" + str(number_set_animal) + \" donde el \" + str(percentaje_train*100) + \"% es \" + str(number_set_animal * percentaje_train))\n",
    "    number_split_empty = len(train_dataset_crop[train_dataset_crop[\"label\"] == 0])\n",
    "    number_split_animal = len(train_dataset_crop[train_dataset_crop[\"label\"] == 1])\n",
    "    print(\"Vacia TRAIN = \" + str(number_split_empty))\n",
    "    print(\"Animal TRAIN = \" + str(number_split_animal))\n",
    "    print()\n",
    "\n",
    "    print(\"Vacia RAW = \" + str(number_set_empty) + \" donde el \" + str(percentaje_val*100) + \"% es \" + str(number_set_empty * percentaje_val))\n",
    "    print(\"Animal RAW = \" + str(number_set_animal) + \" donde el \" + str(percentaje_val*100) + \"% es \" + str(number_set_animal * percentaje_val))\n",
    "    number_split_empty = len(val_dataset_crop[val_dataset_crop[\"label\"] == 0])\n",
    "    number_split_animal = len(val_dataset_crop[val_dataset_crop[\"label\"] == 1])\n",
    "    print(\"Vacia VAL = \" + str(number_split_empty))\n",
    "    print(\"Animal VAL = \" + str(number_split_animal))\n",
    "    print()\n",
    "\n",
    "    print(\"Vacia RAW = \" + str(number_set_empty) + \" donde el \" + str(percentaje_test*100) + \"% es \" + str(number_set_empty * percentaje_test))\n",
    "    print(\"Animal RAW = \" + str(number_set_animal) + \" donde el \" + str(percentaje_test*100) + \"% es \" + str(number_set_animal * percentaje_test))\n",
    "    number_split_empty = len(test_dataset_crop[test_dataset_crop[\"label\"] == 0])\n",
    "    number_split_animal = len(test_dataset_crop[test_dataset_crop[\"label\"] == 1])\n",
    "    print(\"Vacia TEST = \" + str(number_split_empty))\n",
    "    print(\"Animal TEST = \" + str(number_split_animal))\n",
    "    print()"
   ]
  },
  {
   "cell_type": "code",
   "execution_count": 8,
   "metadata": {},
   "outputs": [
    {
     "name": "stdout",
     "output_type": "stream",
     "text": [
      "Proportion of empty class samples in set dataset: 33.33%\n",
      "Proportion of animal class samples in set dataset: 66.67%\n",
      "\n",
      "Train Empty Proportion: 33.33%\n",
      "Train Animal Proportion: 66.67%\n",
      "\n",
      "Test Empty Proportion: 33.33%\n",
      "Test Animal Proportion: 66.67%\n",
      "\n",
      "Validation Empty Proportion: 33.33%\n",
      "Validation Animal Proportion: 66.67%\n"
     ]
    }
   ],
   "source": [
    "if number_set_empty < number_raw_empty:\n",
    "    proportion_empty_set = number_set_empty / number_set_samples\n",
    "    proportion_animal_set = number_set_animal / number_set_samples\n",
    "\n",
    "    train_empty_proportion = len(train_dataset_crop[train_dataset_crop[\"label\"] == 0]) / len(train_dataset_crop)\n",
    "    train_animal_proportion = len(train_dataset_crop[train_dataset_crop[\"label\"] == 1]) / len(train_dataset_crop)\n",
    "\n",
    "    test_empty_proportion = len(test_dataset_crop[test_dataset_crop[\"label\"] == 0]) / len(test_dataset_crop)\n",
    "    test_animal_proportion = len(test_dataset_crop[test_dataset_crop[\"label\"] == 1]) / len(test_dataset_crop)\n",
    "\n",
    "    val_empty_proportion = len(val_dataset_crop[val_dataset_crop[\"label\"] == 0]) / len(val_dataset_crop)\n",
    "    val_animal_proportion = len(val_dataset_crop[val_dataset_crop[\"label\"] == 1]) / len(val_dataset_crop)\n",
    "\n",
    "    print(\"Proportion of empty class samples in set dataset: {:.2%}\".format(proportion_empty_set))\n",
    "    print(\"Proportion of animal class samples in set dataset: {:.2%}\".format(proportion_animal_set))\n",
    "    print()\n",
    "    print(\"Train Empty Proportion: {:.2%}\".format(train_empty_proportion))\n",
    "    print(\"Train Animal Proportion: {:.2%}\".format(train_animal_proportion))\n",
    "    print()\n",
    "    print(\"Test Empty Proportion: {:.2%}\".format(test_empty_proportion))\n",
    "    print(\"Test Animal Proportion: {:.2%}\".format(test_animal_proportion))\n",
    "    print()\n",
    "    print(\"Validation Empty Proportion: {:.2%}\".format(val_empty_proportion))\n",
    "    print(\"Validation Animal Proportion: {:.2%}\".format(val_animal_proportion))\n"
   ]
  }
 ],
 "metadata": {
  "kernelspec": {
   "display_name": "cameratraps-detector",
   "language": "python",
   "name": "python3"
  },
  "language_info": {
   "codemirror_mode": {
    "name": "ipython",
    "version": 3
   },
   "file_extension": ".py",
   "mimetype": "text/x-python",
   "name": "python",
   "nbconvert_exporter": "python",
   "pygments_lexer": "ipython3",
   "version": "3.8.15"
  }
 },
 "nbformat": 4,
 "nbformat_minor": 2
}
