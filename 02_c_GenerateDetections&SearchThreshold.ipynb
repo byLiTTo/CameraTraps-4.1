{
 "cells": [
  {
   "cell_type": "code",
   "execution_count": 9,
   "metadata": {},
   "outputs": [],
   "source": [
    "import json\n",
    "import os\n",
    "from datetime import datetime\n",
    "\n",
    "import pandas as pd\n",
    "\n",
    "import src.data.Dataset as dt"
   ]
  },
  {
   "cell_type": "code",
   "execution_count": 10,
   "metadata": {},
   "outputs": [
    {
     "name": "stdout",
     "output_type": "stream",
     "text": [
      "PYTHONPATH: :/Users/carlos/WORKSPACE/MegaClassifier/data/external/ai4eutils:/Users/carlos/WORKSPACE/MegaClassifier/data/external/CameraTraps:/Users/carlos/WORKSPACE/MegaClassifier/data/external/yolov5\n"
     ]
    }
   ],
   "source": [
    "required_paths = [\"/ai4eutils\", \"/CameraTraps\", \"/yolov5\"]\n",
    "python_path = os.environ.get(\"PYTHONPATH\", \"\")\n",
    "root_path = os.getcwd()\n",
    "\n",
    "for path in required_paths:\n",
    "    if not any(p.endswith(path) for p in python_path.split(\":\")):\n",
    "        python_path += f\":{root_path}/data/external{path}\"\n",
    "\n",
    "os.environ[\"PYTHONPATH\"] = python_path\n",
    "\n",
    "!echo \"PYTHONPATH: $PYTHONPATH\""
   ]
  },
  {
   "cell_type": "code",
   "execution_count": 11,
   "metadata": {},
   "outputs": [
    {
     "name": "stdout",
     "output_type": "stream",
     "text": [
      "The file /Users/carlos/WORKSPACE/MegaClassifier/data/interim/20Images_binary.csv has been successfully opened.\n",
      "OUTPUT_PATH:       /Users/carlos/WORKSPACE/MegaClassifier/resources/json\n",
      "MODEL_PATH:        /Users/carlos/WORKSPACE/MegaClassifier/models/MegaDetector/md_v4.1.0.pb\n",
      "DATASET_PATH:      /Users/carlos/WORKSPACE/MegaClassifier/dataset/emptyNonEmptyDatasetCropped\n",
      "OUTPUT_FILE_PATH:  /Users/carlos/WORKSPACE/MegaClassifier/resources/json/detections.json\n",
      "TRAIN_CSV:         /Users/carlos/WORKSPACE/MegaClassifier/data/interim/train/20Train.csv\n",
      "REPORT_CSV:        /Users/carlos/WORKSPACE/MegaClassifier/reports/model_coberture\n"
     ]
    }
   ],
   "source": [
    "initial_threshold = float(0.3)\n",
    "# steps_threshold = float(0.005)\n",
    "\n",
    "positives_coberture = 0.0\n",
    "\n",
    "OUTPUT_PATH = os.path.abspath(\"./resources/json\")\n",
    "# MODEL_PATH = os.path.abspath(\"./models/MegaDetector/md_v5a.0.0.pt\")\n",
    "# MODEL_PATH = os.path.abspath(\"./models/MegaDetector/md_v5b.0.0.pt\")\n",
    "MODEL_PATH = os.path.abspath(\"./models/MegaDetector/md_v4.1.0.pb\")\n",
    "\n",
    "DATASET_PATH = os.path.abspath(\"./dataset/emptyNonEmptyDatasetCropped\")\n",
    "CSV_PATH = os.path.abspath(\"./data/interim/20Images_binary.csv\")\n",
    "dataset = dt.load_from_csv(CSV_PATH)\n",
    "\n",
    "dataset['file_name_abspath'] = dataset['file_name'].apply(lambda x: os.path.join(DATASET_PATH, x))\n",
    "IMAGES_PATH_JSON = os.path.join(OUTPUT_PATH, \"dataset_file_paths.json\")\n",
    "\n",
    "\n",
    "OUTPUT_FILE_PATH = os.path.join(OUTPUT_PATH, \"detections.json\")\n",
    "CHECKPOINT_PATH = os.path.join(OUTPUT_PATH, \"checkpoint.json\")\n",
    "CHECKPOINT_FREQ = 30\n",
    "\n",
    "TRAIN_CSV = os.path.abspath(\"./data/interim/train/20Train.csv\")\n",
    "\n",
    "REPORT_CSV = os.path.abspath(\"./reports/model_coberture\")\n",
    "\n",
    "os.makedirs(OUTPUT_PATH, exist_ok=True)\n",
    "\n",
    "with open(IMAGES_PATH_JSON, \"w\") as f:\n",
    "    json.dump(dataset['file_name_abspath'].tolist(), f, indent=1)\n",
    "\n",
    "print(f\"OUTPUT_PATH:       {OUTPUT_PATH}\")\n",
    "print(f\"MODEL_PATH:        {MODEL_PATH}\")\n",
    "print(f\"DATASET_PATH:      {DATASET_PATH}\")\n",
    "print(f\"OUTPUT_FILE_PATH:  {OUTPUT_FILE_PATH}\")\n",
    "print(f\"TRAIN_CSV:         {TRAIN_CSV}\")\n",
    "print(f\"REPORT_CSV:        {REPORT_CSV}\")"
   ]
  },
  {
   "cell_type": "code",
   "execution_count": 12,
   "metadata": {},
   "outputs": [
    {
     "name": "stdout",
     "output_type": "stream",
     "text": [
      "Iniciando ejecucion con umbral: 0.3\n",
      "60 image files found in the json list\n",
      "The checkpoint file will be written to /Users/carlos/WORKSPACE/MegaClassifier/resources/json/checkpoint.json\n"
     ]
    },
    {
     "name": "stderr",
     "output_type": "stream",
     "text": [
      "WARNING:tensorflow:From /Users/carlos/WORKSPACE/MegaClassifier/data/external/CameraTraps/detection/run_detector.py:211: is_gpu_available (from tensorflow.python.framework.test_util) is deprecated and will be removed in a future version.\n",
      "Instructions for updating:\n",
      "Use `tf.config.list_physical_devices('GPU')` instead.\n"
     ]
    },
    {
     "name": "stdout",
     "output_type": "stream",
     "text": [
      "TensorFlow version: 2.8.0\n",
      "tf.test.is_gpu_available: False\n",
      "GPU available: False\n",
      "TensorFlow version: 2.8.0\n",
      "Is GPU available? tf.test.is_gpu_available: False\n",
      "TFDetector: Loading graph...\n",
      "TFDetector: Detection graph loaded.\n",
      "Loaded model in 2.13 seconds\n",
      "Loaded model in 2.13 seconds\n",
      "Processing image /Users/carlos/WORKSPACE/MegaClassifier/dataset/emptyNonEmptyDatasetCropped/vacia/empty_islandconservationcameratraps/dominicanrepublic_cam11618mayo2017_20170410_092515_img_0069.jpg\n"
     ]
    },
    {
     "name": "stderr",
     "output_type": "stream",
     "text": [
      "  0%|          | 0/60 [00:00<?, ?it/s]2024-09-21 13:18:15.357319: W tensorflow/core/platform/profile_utils/cpu_utils.cc:128] Failed to get CPU frequency: 0 Hz\n",
      "2024-09-21 13:18:17.009876: W tensorflow/core/grappler/costs/op_level_cost_estimator.cc:690] Error in PredictCost() for the op: op: \"CropAndResize\" attr { key: \"T\" value { type: DT_FLOAT } } attr { key: \"extrapolation_value\" value { f: 0 } } attr { key: \"method\" value { s: \"bilinear\" } } inputs { dtype: DT_FLOAT shape { dim { size: -1047 } dim { size: -1048 } dim { size: -1049 } dim { size: 1088 } } } inputs { dtype: DT_FLOAT shape { dim { size: -108 } dim { size: 4 } } } inputs { dtype: DT_INT32 shape { dim { size: -108 } } } inputs { dtype: DT_INT32 shape { dim { size: 2 } } value { dtype: DT_INT32 tensor_shape { dim { size: 2 } } int_val: 17 } } device { type: \"CPU\" model: \"0\" num_cores: 8 environment { key: \"cpu_instruction_set\" value: \"ARM NEON\" } environment { key: \"eigen\" value: \"3.4.90\" } l1_cache_size: 16384 l2_cache_size: 524288 l3_cache_size: 524288 memory_size: 268435456 } outputs { dtype: DT_FLOAT shape { dim { size: -108 } dim { size: 17 } dim { size: 17 } dim { size: 1088 } } }\n",
      "  2%|▏         | 1/60 [00:08<08:18,  8.45s/it]"
     ]
    },
    {
     "name": "stdout",
     "output_type": "stream",
     "text": [
      "Processing image /Users/carlos/WORKSPACE/MegaClassifier/dataset/emptyNonEmptyDatasetCropped/vacia/noanimal_zoo_1_4/28_20201019_329_.jpg\n"
     ]
    },
    {
     "name": "stderr",
     "output_type": "stream",
     "text": [
      "  3%|▎         | 2/60 [00:14<06:37,  6.85s/it]"
     ]
    },
    {
     "name": "stdout",
     "output_type": "stream",
     "text": [
      "Processing image /Users/carlos/WORKSPACE/MegaClassifier/dataset/emptyNonEmptyDatasetCropped/jabali/jabali_pnm_2013-o_isaac/f27560imag0113.jpg\n"
     ]
    },
    {
     "name": "stderr",
     "output_type": "stream",
     "text": [
      "  5%|▌         | 3/60 [00:19<05:49,  6.14s/it]"
     ]
    },
    {
     "name": "stdout",
     "output_type": "stream",
     "text": [
      "Processing image /Users/carlos/WORKSPACE/MegaClassifier/dataset/emptyNonEmptyDatasetCropped/jabali/wildboar_zoo_1_4/37_20210115_2245_.jpg\n"
     ]
    },
    {
     "name": "stderr",
     "output_type": "stream",
     "text": [
      "  7%|▋         | 4/60 [00:24<05:26,  5.82s/it]"
     ]
    },
    {
     "name": "stdout",
     "output_type": "stream",
     "text": [
      "Processing image /Users/carlos/WORKSPACE/MegaClassifier/dataset/emptyNonEmptyDatasetCropped/vacia/noanimal_zoo_5_6_7_9/50_20210408_6876_.jpg\n"
     ]
    },
    {
     "name": "stderr",
     "output_type": "stream",
     "text": [
      "  8%|▊         | 5/60 [00:30<05:10,  5.64s/it]"
     ]
    },
    {
     "name": "stdout",
     "output_type": "stream",
     "text": [
      "Processing image /Users/carlos/WORKSPACE/MegaClassifier/dataset/emptyNonEmptyDatasetCropped/lince/lince_a_linces2_leo_jc/lince58_22_.jpg\n"
     ]
    },
    {
     "name": "stderr",
     "output_type": "stream",
     "text": [
      " 10%|█         | 6/60 [00:35<04:53,  5.43s/it]"
     ]
    },
    {
     "name": "stdout",
     "output_type": "stream",
     "text": [
      "Processing image /Users/carlos/WORKSPACE/MegaClassifier/dataset/emptyNonEmptyDatasetCropped/leporido/conejo_paco_carro_jc/pict0646_2_.jpg\n"
     ]
    },
    {
     "name": "stderr",
     "output_type": "stream",
     "text": [
      " 12%|█▏        | 7/60 [00:40<04:39,  5.27s/it]"
     ]
    },
    {
     "name": "stdout",
     "output_type": "stream",
     "text": [
      "Processing image /Users/carlos/WORKSPACE/MegaClassifier/dataset/emptyNonEmptyDatasetCropped/zorro/zorro_leo_otra_fauna_pasada_por_la_red_jc/otrafauna_675_.jpg\n"
     ]
    },
    {
     "name": "stderr",
     "output_type": "stream",
     "text": [
      " 13%|█▎        | 8/60 [00:44<04:27,  5.15s/it]"
     ]
    },
    {
     "name": "stdout",
     "output_type": "stream",
     "text": [
      "Processing image /Users/carlos/WORKSPACE/MegaClassifier/dataset/emptyNonEmptyDatasetCropped/vacia/empty_islandconservationcameratraps/dominicanrepublic_cam1826junio2015_20150505_130939_img_3077.jpg\n"
     ]
    },
    {
     "name": "stderr",
     "output_type": "stream",
     "text": [
      " 15%|█▌        | 9/60 [00:50<04:24,  5.19s/it]"
     ]
    },
    {
     "name": "stdout",
     "output_type": "stream",
     "text": [
      "Processing image /Users/carlos/WORKSPACE/MegaClassifier/dataset/emptyNonEmptyDatasetCropped/cervidae/cervidredorfallowdeer_zoo_1_4/34_20201024_2742_.jpg\n"
     ]
    },
    {
     "name": "stderr",
     "output_type": "stream",
     "text": [
      " 17%|█▋        | 10/60 [00:55<04:19,  5.18s/it]"
     ]
    },
    {
     "name": "stdout",
     "output_type": "stream",
     "text": [
      "Processing image /Users/carlos/WORKSPACE/MegaClassifier/dataset/emptyNonEmptyDatasetCropped/micromamiferos/rat_islandconservationcameratraps/palau_cam6a12132018_20180914_224626_rcnx0468.jpg\n"
     ]
    },
    {
     "name": "stderr",
     "output_type": "stream",
     "text": [
      " 18%|█▊        | 11/60 [01:00<04:10,  5.10s/it]"
     ]
    },
    {
     "name": "stdout",
     "output_type": "stream",
     "text": [
      "Processing image /Users/carlos/WORKSPACE/MegaClassifier/dataset/emptyNonEmptyDatasetCropped/jabali/wildboar_zoo_1_4/22_20210115_801_.jpg\n"
     ]
    },
    {
     "name": "stderr",
     "output_type": "stream",
     "text": [
      " 20%|██        | 12/60 [01:05<04:05,  5.11s/it]"
     ]
    },
    {
     "name": "stdout",
     "output_type": "stream",
     "text": [
      "Processing image /Users/carlos/WORKSPACE/MegaClassifier/dataset/emptyNonEmptyDatasetCropped/jabali/wildboar_zoo_5_6_7_9/1_20210319_7_.jpg\n"
     ]
    },
    {
     "name": "stderr",
     "output_type": "stream",
     "text": [
      " 22%|██▏       | 13/60 [01:10<04:00,  5.11s/it]"
     ]
    },
    {
     "name": "stdout",
     "output_type": "stream",
     "text": [
      "Processing image /Users/carlos/WORKSPACE/MegaClassifier/dataset/emptyNonEmptyDatasetCropped/vacia/empty_snapshotmountainzebra/mtz_s1_d05_r1_imag2029.jpg\n"
     ]
    },
    {
     "name": "stderr",
     "output_type": "stream",
     "text": [
      " 23%|██▎       | 14/60 [01:15<03:49,  5.00s/it]"
     ]
    },
    {
     "name": "stdout",
     "output_type": "stream",
     "text": [
      "Processing image /Users/carlos/WORKSPACE/MegaClassifier/dataset/emptyNonEmptyDatasetCropped/humanovehiculo/humano_vehiculo_pnm_2013-o_isaac/f8130im000003.jpg\n"
     ]
    },
    {
     "name": "stderr",
     "output_type": "stream",
     "text": [
      " 25%|██▌       | 15/60 [01:20<03:41,  4.93s/it]"
     ]
    },
    {
     "name": "stdout",
     "output_type": "stream",
     "text": [
      "Processing image /Users/carlos/WORKSPACE/MegaClassifier/dataset/emptyNonEmptyDatasetCropped/vacia/vacia_javi_2_jc/27_20201023_4595_.jpg\n"
     ]
    },
    {
     "name": "stderr",
     "output_type": "stream",
     "text": [
      " 27%|██▋       | 16/60 [01:25<03:39,  4.98s/it]"
     ]
    },
    {
     "name": "stdout",
     "output_type": "stream",
     "text": [
      "Processing image /Users/carlos/WORKSPACE/MegaClassifier/dataset/emptyNonEmptyDatasetCropped/vacia/snampshotenonkishu/eno_s1_d06_r1_imag5237.jpg\n"
     ]
    },
    {
     "name": "stderr",
     "output_type": "stream",
     "text": [
      " 28%|██▊       | 17/60 [01:30<03:32,  4.93s/it]"
     ]
    },
    {
     "name": "stdout",
     "output_type": "stream",
     "text": [
      "Processing image /Users/carlos/WORKSPACE/MegaClassifier/dataset/emptyNonEmptyDatasetCropped/vacia/empty_snapshotmountainzebra/mtz_s1_d06_r1_imag1583.jpg\n"
     ]
    },
    {
     "name": "stderr",
     "output_type": "stream",
     "text": [
      " 30%|███       | 18/60 [01:35<03:31,  5.02s/it]"
     ]
    },
    {
     "name": "stdout",
     "output_type": "stream",
     "text": [
      "Processing image /Users/carlos/WORKSPACE/MegaClassifier/dataset/emptyNonEmptyDatasetCropped/vaca/vaca_paco_carro_jc/pict0042.jpg\n"
     ]
    },
    {
     "name": "stderr",
     "output_type": "stream",
     "text": [
      " 32%|███▏      | 19/60 [01:40<03:25,  5.02s/it]"
     ]
    },
    {
     "name": "stdout",
     "output_type": "stream",
     "text": [
      "Processing image /Users/carlos/WORKSPACE/MegaClassifier/dataset/emptyNonEmptyDatasetCropped/vacia/empty_snapshotmountainzebra/mtz_s1_c06_r3_imag2525.jpg\n"
     ]
    },
    {
     "name": "stderr",
     "output_type": "stream",
     "text": [
      " 33%|███▎      | 20/60 [01:45<03:21,  5.03s/it]"
     ]
    },
    {
     "name": "stdout",
     "output_type": "stream",
     "text": [
      "Processing image /Users/carlos/WORKSPACE/MegaClassifier/dataset/emptyNonEmptyDatasetCropped/caballo/horse_zoo_1_4/15_20201117_7287_.jpg\n"
     ]
    },
    {
     "name": "stderr",
     "output_type": "stream",
     "text": [
      " 35%|███▌      | 21/60 [01:51<03:31,  5.41s/it]"
     ]
    },
    {
     "name": "stdout",
     "output_type": "stream",
     "text": [
      "Processing image /Users/carlos/WORKSPACE/MegaClassifier/dataset/emptyNonEmptyDatasetCropped/vacia/vacias_pnm_2013-o_isaac/f7213imag0066.jpg\n"
     ]
    },
    {
     "name": "stderr",
     "output_type": "stream",
     "text": [
      " 37%|███▋      | 22/60 [01:57<03:31,  5.57s/it]"
     ]
    },
    {
     "name": "stdout",
     "output_type": "stream",
     "text": [
      "Processing image /Users/carlos/WORKSPACE/MegaClassifier/dataset/emptyNonEmptyDatasetCropped/tejon/tejon_pepe_irec_jc/imag0423__5_.jpg\n"
     ]
    },
    {
     "name": "stderr",
     "output_type": "stream",
     "text": [
      " 38%|███▊      | 23/60 [02:03<03:30,  5.68s/it]"
     ]
    },
    {
     "name": "stdout",
     "output_type": "stream",
     "text": [
      "Processing image /Users/carlos/WORKSPACE/MegaClassifier/dataset/emptyNonEmptyDatasetCropped/ave/bird_caltechcameratrap/5976a214-23d2-11e8-a6a3-ec086b02610b.jpg\n"
     ]
    },
    {
     "name": "stderr",
     "output_type": "stream",
     "text": [
      " 40%|████      | 24/60 [02:09<03:25,  5.69s/it]"
     ]
    },
    {
     "name": "stdout",
     "output_type": "stream",
     "text": [
      "Processing image /Users/carlos/WORKSPACE/MegaClassifier/dataset/emptyNonEmptyDatasetCropped/cervidae/2_ciervo_paco_carro_camarasliron_4_2_pasadas_por_la_red_jc/pict0080.jpg\n"
     ]
    },
    {
     "name": "stderr",
     "output_type": "stream",
     "text": [
      " 42%|████▏     | 25/60 [02:15<03:22,  5.78s/it]"
     ]
    },
    {
     "name": "stdout",
     "output_type": "stream",
     "text": [
      "Processing image /Users/carlos/WORKSPACE/MegaClassifier/dataset/emptyNonEmptyDatasetCropped/vaca/cow_zoo_5_6_7_9/21_20210418_1498_.jpg\n"
     ]
    },
    {
     "name": "stderr",
     "output_type": "stream",
     "text": [
      " 43%|████▎     | 26/60 [02:21<03:25,  6.03s/it]"
     ]
    },
    {
     "name": "stdout",
     "output_type": "stream",
     "text": [
      "Processing image /Users/carlos/WORKSPACE/MegaClassifier/dataset/emptyNonEmptyDatasetCropped/vacia/empty_islandconservationcameratraps/ecuador1_cam1612_20150209_051159_img_1446.jpg\n"
     ]
    },
    {
     "name": "stderr",
     "output_type": "stream",
     "text": [
      " 45%|████▌     | 27/60 [02:27<03:12,  5.83s/it]"
     ]
    },
    {
     "name": "stdout",
     "output_type": "stream",
     "text": [
      "Processing image /Users/carlos/WORKSPACE/MegaClassifier/dataset/emptyNonEmptyDatasetCropped/cervidae/cervidredorfallowdeer_zoo_1_4/20_20201024_741_.jpg\n"
     ]
    },
    {
     "name": "stderr",
     "output_type": "stream",
     "text": [
      " 47%|████▋     | 28/60 [02:32<03:00,  5.65s/it]"
     ]
    },
    {
     "name": "stdout",
     "output_type": "stream",
     "text": [
      "Processing image /Users/carlos/WORKSPACE/MegaClassifier/dataset/emptyNonEmptyDatasetCropped/vacia/noanimal_zoo_1_4/34_20210115_1643_.jpg\n"
     ]
    },
    {
     "name": "stderr",
     "output_type": "stream",
     "text": [
      " 48%|████▊     | 29/60 [02:37<02:51,  5.52s/it]"
     ]
    },
    {
     "name": "stdout",
     "output_type": "stream",
     "text": [
      "Processing image /Users/carlos/WORKSPACE/MegaClassifier/dataset/emptyNonEmptyDatasetCropped/cervidae/cervidredorfallowdeer_zoo_5_6_7_9/20_20210219_2099__2021_04_1506_16_22utc_.jpg\n",
      "Writing a new checkpoint after having processed 30 images since last restart\n",
      "Processing image /Users/carlos/WORKSPACE/MegaClassifier/dataset/emptyNonEmptyDatasetCropped/jabali/jabali_paco_carro_camarasliron_4_2_pasadas_por_la_red_jc/mdgc0675.jpg\n"
     ]
    },
    {
     "name": "stderr",
     "output_type": "stream",
     "text": [
      " 52%|█████▏    | 31/60 [02:47<02:32,  5.26s/it]"
     ]
    },
    {
     "name": "stdout",
     "output_type": "stream",
     "text": [
      "Processing image /Users/carlos/WORKSPACE/MegaClassifier/dataset/emptyNonEmptyDatasetCropped/vacia/noanimal_zoo_5_6_7_9/20_20210618_3959_.jpg\n"
     ]
    },
    {
     "name": "stderr",
     "output_type": "stream",
     "text": [
      " 53%|█████▎    | 32/60 [02:53<02:28,  5.32s/it]"
     ]
    },
    {
     "name": "stdout",
     "output_type": "stream",
     "text": [
      "Processing image /Users/carlos/WORKSPACE/MegaClassifier/dataset/emptyNonEmptyDatasetCropped/leporido/conejo_pnc_2014_jc/c8663im000121.jpg\n"
     ]
    },
    {
     "name": "stderr",
     "output_type": "stream",
     "text": [
      " 55%|█████▌    | 33/60 [02:58<02:22,  5.29s/it]"
     ]
    },
    {
     "name": "stdout",
     "output_type": "stream",
     "text": [
      "Processing image /Users/carlos/WORKSPACE/MegaClassifier/dataset/emptyNonEmptyDatasetCropped/garduna/garduna_pnm_2013-0_me/f14844im000051.jpg\n"
     ]
    },
    {
     "name": "stderr",
     "output_type": "stream",
     "text": [
      " 57%|█████▋    | 34/60 [03:03<02:18,  5.32s/it]"
     ]
    },
    {
     "name": "stdout",
     "output_type": "stream",
     "text": [
      "Processing image /Users/carlos/WORKSPACE/MegaClassifier/dataset/emptyNonEmptyDatasetCropped/vacia/vacia_alumno_am_2/25_20201024_312_.jpg\n"
     ]
    },
    {
     "name": "stderr",
     "output_type": "stream",
     "text": [
      " 58%|█████▊    | 35/60 [03:09<02:15,  5.42s/it]"
     ]
    },
    {
     "name": "stdout",
     "output_type": "stream",
     "text": [
      "Processing image /Users/carlos/WORKSPACE/MegaClassifier/dataset/emptyNonEmptyDatasetCropped/lince/lince_a_linces2_leo_jc/lince130_306_.jpg\n"
     ]
    },
    {
     "name": "stderr",
     "output_type": "stream",
     "text": [
      " 60%|██████    | 36/60 [03:15<02:11,  5.49s/it]"
     ]
    },
    {
     "name": "stdout",
     "output_type": "stream",
     "text": [
      "Processing image /Users/carlos/WORKSPACE/MegaClassifier/dataset/emptyNonEmptyDatasetCropped/cervidae/cervidredorfallowdeer_zoo_5_6_7_9/10_20210417_246_.jpg\n"
     ]
    },
    {
     "name": "stderr",
     "output_type": "stream",
     "text": [
      " 62%|██████▏   | 37/60 [03:20<02:06,  5.48s/it]"
     ]
    },
    {
     "name": "stdout",
     "output_type": "stream",
     "text": [
      "Processing image /Users/carlos/WORKSPACE/MegaClassifier/dataset/emptyNonEmptyDatasetCropped/cervidae/ciervo_pnc_2012_jc/a34265im000500.jpg\n"
     ]
    },
    {
     "name": "stderr",
     "output_type": "stream",
     "text": [
      " 63%|██████▎   | 38/60 [03:25<01:58,  5.37s/it]"
     ]
    },
    {
     "name": "stdout",
     "output_type": "stream",
     "text": [
      "Processing image /Users/carlos/WORKSPACE/MegaClassifier/dataset/emptyNonEmptyDatasetCropped/cervidae/ciervo_simone_2/37_20201024_1156_.jpg\n"
     ]
    },
    {
     "name": "stderr",
     "output_type": "stream",
     "text": [
      " 65%|██████▌   | 39/60 [03:31<01:52,  5.37s/it]"
     ]
    },
    {
     "name": "stdout",
     "output_type": "stream",
     "text": [
      "Processing image /Users/carlos/WORKSPACE/MegaClassifier/dataset/emptyNonEmptyDatasetCropped/cervidae/2_ciervo_alumno_2_th/34_20201024_2381_.jpg\n"
     ]
    },
    {
     "name": "stderr",
     "output_type": "stream",
     "text": [
      " 67%|██████▋   | 40/60 [03:36<01:46,  5.35s/it]"
     ]
    },
    {
     "name": "stdout",
     "output_type": "stream",
     "text": [
      "Processing image /Users/carlos/WORKSPACE/MegaClassifier/dataset/emptyNonEmptyDatasetCropped/cervidae/ciervo_simone_2/34_20201024_5494_.jpg\n"
     ]
    },
    {
     "name": "stderr",
     "output_type": "stream",
     "text": [
      " 68%|██████▊   | 41/60 [03:41<01:41,  5.33s/it]"
     ]
    },
    {
     "name": "stdout",
     "output_type": "stream",
     "text": [
      "Processing image /Users/carlos/WORKSPACE/MegaClassifier/dataset/emptyNonEmptyDatasetCropped/vacia/vacia_alumno_2_2_th_jc/27_20201023_5918_.jpg\n"
     ]
    },
    {
     "name": "stderr",
     "output_type": "stream",
     "text": [
      " 70%|███████   | 42/60 [03:46<01:35,  5.32s/it]"
     ]
    },
    {
     "name": "stdout",
     "output_type": "stream",
     "text": [
      "Processing image /Users/carlos/WORKSPACE/MegaClassifier/dataset/emptyNonEmptyDatasetCropped/humanovehiculo/humano_vehiculo_pnc_2014_isaac/c12199imag0129.jpg\n"
     ]
    },
    {
     "name": "stderr",
     "output_type": "stream",
     "text": [
      " 72%|███████▏  | 43/60 [03:51<01:28,  5.22s/it]"
     ]
    },
    {
     "name": "stdout",
     "output_type": "stream",
     "text": [
      "Processing image /Users/carlos/WORKSPACE/MegaClassifier/dataset/emptyNonEmptyDatasetCropped/vacia/noanimal_zoo_5_6_7_9/50_20210417_25294_.jpg\n"
     ]
    },
    {
     "name": "stderr",
     "output_type": "stream",
     "text": [
      " 73%|███████▎  | 44/60 [03:57<01:23,  5.24s/it]"
     ]
    },
    {
     "name": "stdout",
     "output_type": "stream",
     "text": [
      "Processing image /Users/carlos/WORKSPACE/MegaClassifier/dataset/emptyNonEmptyDatasetCropped/ave/ave_ave_wellingtoncameratraps_ss/050816133858011bs101.jpg\n"
     ]
    },
    {
     "name": "stderr",
     "output_type": "stream",
     "text": [
      " 75%|███████▌  | 45/60 [04:02<01:17,  5.16s/it]"
     ]
    },
    {
     "name": "stdout",
     "output_type": "stream",
     "text": [
      "Processing image /Users/carlos/WORKSPACE/MegaClassifier/dataset/emptyNonEmptyDatasetCropped/cervidae/ciervo_pnc_2012_jc/a14725im000641.jpg\n"
     ]
    },
    {
     "name": "stderr",
     "output_type": "stream",
     "text": [
      " 77%|███████▋  | 46/60 [04:07<01:11,  5.10s/it]"
     ]
    },
    {
     "name": "stdout",
     "output_type": "stream",
     "text": [
      "Processing image /Users/carlos/WORKSPACE/MegaClassifier/dataset/emptyNonEmptyDatasetCropped/vaca/cow_caltechcameratrap/585c030e-23d2-11e8-a6a3-ec086b02610b.jpg\n"
     ]
    },
    {
     "name": "stderr",
     "output_type": "stream",
     "text": [
      " 78%|███████▊  | 47/60 [04:12<01:06,  5.08s/it]"
     ]
    },
    {
     "name": "stdout",
     "output_type": "stream",
     "text": [
      "Processing image /Users/carlos/WORKSPACE/MegaClassifier/dataset/emptyNonEmptyDatasetCropped/cervidae/cervidredorfallowdeer_zoo_1_4/17_20201225_61_.jpg\n"
     ]
    },
    {
     "name": "stderr",
     "output_type": "stream",
     "text": [
      " 80%|████████  | 48/60 [04:17<01:01,  5.15s/it]"
     ]
    },
    {
     "name": "stdout",
     "output_type": "stream",
     "text": [
      "Processing image /Users/carlos/WORKSPACE/MegaClassifier/dataset/emptyNonEmptyDatasetCropped/ave/chicken_ena24/6426.jpg\n"
     ]
    },
    {
     "name": "stderr",
     "output_type": "stream",
     "text": [
      " 82%|████████▏ | 49/60 [04:22<00:57,  5.19s/it]"
     ]
    },
    {
     "name": "stdout",
     "output_type": "stream",
     "text": [
      "Processing image /Users/carlos/WORKSPACE/MegaClassifier/dataset/emptyNonEmptyDatasetCropped/vacia/noanimal_zoo_5_6_7_9/24_20210615_7263_.jpg\n"
     ]
    },
    {
     "name": "stderr",
     "output_type": "stream",
     "text": [
      " 83%|████████▎ | 50/60 [04:28<00:52,  5.22s/it]"
     ]
    },
    {
     "name": "stdout",
     "output_type": "stream",
     "text": [
      "Processing image /Users/carlos/WORKSPACE/MegaClassifier/dataset/emptyNonEmptyDatasetCropped/ave/otherspecies_zoo_5_6_7_9/38_20210618_1691_.jpg\n"
     ]
    },
    {
     "name": "stderr",
     "output_type": "stream",
     "text": [
      " 85%|████████▌ | 51/60 [04:33<00:47,  5.26s/it]"
     ]
    },
    {
     "name": "stdout",
     "output_type": "stream",
     "text": [
      "Processing image /Users/carlos/WORKSPACE/MegaClassifier/dataset/emptyNonEmptyDatasetCropped/vacia/empty_islandconservationcameratraps/dominicanrepublic_cam0926julio2015_20150630_185725_img_0015.jpg\n"
     ]
    },
    {
     "name": "stderr",
     "output_type": "stream",
     "text": [
      " 87%|████████▋ | 52/60 [04:38<00:42,  5.27s/it]"
     ]
    },
    {
     "name": "stdout",
     "output_type": "stream",
     "text": [
      "Processing image /Users/carlos/WORKSPACE/MegaClassifier/dataset/emptyNonEmptyDatasetCropped/garduna/garduna_vacias_humanos_pnc_2012_me/a43103imag0017.jpg\n"
     ]
    },
    {
     "name": "stderr",
     "output_type": "stream",
     "text": [
      " 88%|████████▊ | 53/60 [04:43<00:36,  5.21s/it]"
     ]
    },
    {
     "name": "stdout",
     "output_type": "stream",
     "text": [
      "Processing image /Users/carlos/WORKSPACE/MegaClassifier/dataset/emptyNonEmptyDatasetCropped/jabali/wildboar_zoo_5_6_7_9/20_20210219_2902__2021_04_1506_16_22utc_.jpg\n"
     ]
    },
    {
     "name": "stderr",
     "output_type": "stream",
     "text": [
      " 90%|█████████ | 54/60 [04:49<00:31,  5.25s/it]"
     ]
    },
    {
     "name": "stdout",
     "output_type": "stream",
     "text": [
      "Processing image /Users/carlos/WORKSPACE/MegaClassifier/dataset/emptyNonEmptyDatasetCropped/vacia/empty_snapshotmountainzebra/mtz_s1_d06_r1_imag0865.jpg\n"
     ]
    },
    {
     "name": "stderr",
     "output_type": "stream",
     "text": [
      " 92%|█████████▏| 55/60 [04:54<00:25,  5.16s/it]"
     ]
    },
    {
     "name": "stdout",
     "output_type": "stream",
     "text": [
      "Processing image /Users/carlos/WORKSPACE/MegaClassifier/dataset/emptyNonEmptyDatasetCropped/ave/bird_caltechcameratrap/58ce4024-23d2-11e8-a6a3-ec086b02610b.jpg\n"
     ]
    },
    {
     "name": "stderr",
     "output_type": "stream",
     "text": [
      " 93%|█████████▎| 56/60 [04:59<00:20,  5.11s/it]"
     ]
    },
    {
     "name": "stdout",
     "output_type": "stream",
     "text": [
      "Processing image /Users/carlos/WORKSPACE/MegaClassifier/dataset/emptyNonEmptyDatasetCropped/vacia/vacias_pnc_2014_isaac/c11233imag0016.jpg\n"
     ]
    },
    {
     "name": "stderr",
     "output_type": "stream",
     "text": [
      " 95%|█████████▌| 57/60 [05:03<00:15,  5.06s/it]"
     ]
    },
    {
     "name": "stdout",
     "output_type": "stream",
     "text": [
      "Processing image /Users/carlos/WORKSPACE/MegaClassifier/dataset/emptyNonEmptyDatasetCropped/cervidae/cervidredorfallowdeer_zoo_5_6_7_9/35_20210218_2606__2021_04_1506_16_22utc_.jpg\n"
     ]
    },
    {
     "name": "stderr",
     "output_type": "stream",
     "text": [
      " 97%|█████████▋| 58/60 [05:09<00:10,  5.14s/it]"
     ]
    },
    {
     "name": "stdout",
     "output_type": "stream",
     "text": [
      "Processing image /Users/carlos/WORKSPACE/MegaClassifier/dataset/emptyNonEmptyDatasetCropped/lince/linces_fecha_linces2_leo_jc/3_lince_flecha_linces2_leo_jc/lince103_371_.jpg\n"
     ]
    },
    {
     "name": "stderr",
     "output_type": "stream",
     "text": [
      " 98%|█████████▊| 59/60 [05:14<00:05,  5.22s/it]"
     ]
    },
    {
     "name": "stdout",
     "output_type": "stream",
     "text": [
      "Processing image /Users/carlos/WORKSPACE/MegaClassifier/dataset/emptyNonEmptyDatasetCropped/cervidae/ciervo_pnm_2013-o_isaac/f11190im000199.jpg\n",
      "Writing a new checkpoint after having processed 60 images since last restart\n",
      "Finished inference for 60 images in 5 minutes and 23.33 seconds\n",
      "Output file saved at /Users/carlos/WORKSPACE/MegaClassifier/resources/json/detections.json\n",
      "Deleted checkpoint file /Users/carlos/WORKSPACE/MegaClassifier/resources/json/checkpoint.json\n",
      "Done!\n"
     ]
    },
    {
     "name": "stderr",
     "output_type": "stream",
     "text": [
      "100%|██████████| 60/60 [05:19<00:00,  5.33s/it]\n"
     ]
    },
    {
     "name": "stdout",
     "output_type": "stream",
     "text": [
      "The file /Users/carlos/WORKSPACE/MegaClassifier/data/interim/train/20Train.csv has been successfully opened.\n",
      "The dataset has been successfully saved to /Users/carlos/WORKSPACE/MegaClassifier/reports/model_coberture/60_images_md_v4.csv\n",
      "\n",
      "-----------------------------------------------------------------------\n",
      "El porcentaje de positivos cubiertos es 92.86%\n",
      "-----------------------------------------------------------------------\n",
      "\n",
      "Iniciando ejecucion con umbral: 0.15\n",
      "60 image files found in the json list\n",
      "The checkpoint file will be written to /Users/carlos/WORKSPACE/MegaClassifier/resources/json/checkpoint.json\n"
     ]
    },
    {
     "name": "stderr",
     "output_type": "stream",
     "text": [
      "WARNING:tensorflow:From /Users/carlos/WORKSPACE/MegaClassifier/data/external/CameraTraps/detection/run_detector.py:211: is_gpu_available (from tensorflow.python.framework.test_util) is deprecated and will be removed in a future version.\n",
      "Instructions for updating:\n",
      "Use `tf.config.list_physical_devices('GPU')` instead.\n"
     ]
    },
    {
     "name": "stdout",
     "output_type": "stream",
     "text": [
      "TensorFlow version: 2.8.0\n",
      "tf.test.is_gpu_available: False\n",
      "GPU available: False\n",
      "TensorFlow version: 2.8.0\n",
      "Is GPU available? tf.test.is_gpu_available: False\n",
      "TFDetector: Loading graph...\n",
      "TFDetector: Detection graph loaded.\n",
      "Loaded model in 1.98 seconds\n",
      "Loaded model in 1.98 seconds\n",
      "Processing image /Users/carlos/WORKSPACE/MegaClassifier/dataset/emptyNonEmptyDatasetCropped/vacia/empty_islandconservationcameratraps/dominicanrepublic_cam11618mayo2017_20170410_092515_img_0069.jpg\n"
     ]
    },
    {
     "name": "stderr",
     "output_type": "stream",
     "text": [
      "  0%|          | 0/60 [00:00<?, ?it/s]2024-09-21 13:23:39.525867: W tensorflow/core/platform/profile_utils/cpu_utils.cc:128] Failed to get CPU frequency: 0 Hz\n",
      "2024-09-21 13:23:41.199940: W tensorflow/core/grappler/costs/op_level_cost_estimator.cc:690] Error in PredictCost() for the op: op: \"CropAndResize\" attr { key: \"T\" value { type: DT_FLOAT } } attr { key: \"extrapolation_value\" value { f: 0 } } attr { key: \"method\" value { s: \"bilinear\" } } inputs { dtype: DT_FLOAT shape { dim { size: -1047 } dim { size: -1048 } dim { size: -1049 } dim { size: 1088 } } } inputs { dtype: DT_FLOAT shape { dim { size: -108 } dim { size: 4 } } } inputs { dtype: DT_INT32 shape { dim { size: -108 } } } inputs { dtype: DT_INT32 shape { dim { size: 2 } } value { dtype: DT_INT32 tensor_shape { dim { size: 2 } } int_val: 17 } } device { type: \"CPU\" model: \"0\" num_cores: 8 environment { key: \"cpu_instruction_set\" value: \"ARM NEON\" } environment { key: \"eigen\" value: \"3.4.90\" } l1_cache_size: 16384 l2_cache_size: 524288 l3_cache_size: 524288 memory_size: 268435456 } outputs { dtype: DT_FLOAT shape { dim { size: -108 } dim { size: 17 } dim { size: 17 } dim { size: 1088 } } }\n",
      "  2%|▏         | 1/60 [00:08<08:21,  8.49s/it]"
     ]
    },
    {
     "name": "stdout",
     "output_type": "stream",
     "text": [
      "Processing image /Users/carlos/WORKSPACE/MegaClassifier/dataset/emptyNonEmptyDatasetCropped/vacia/noanimal_zoo_1_4/28_20201019_329_.jpg\n"
     ]
    },
    {
     "name": "stderr",
     "output_type": "stream",
     "text": [
      "  3%|▎         | 2/60 [00:13<06:22,  6.60s/it]"
     ]
    },
    {
     "name": "stdout",
     "output_type": "stream",
     "text": [
      "Processing image /Users/carlos/WORKSPACE/MegaClassifier/dataset/emptyNonEmptyDatasetCropped/jabali/jabali_pnm_2013-o_isaac/f27560imag0113.jpg\n"
     ]
    },
    {
     "name": "stderr",
     "output_type": "stream",
     "text": [
      "  5%|▌         | 3/60 [00:18<05:34,  5.86s/it]"
     ]
    },
    {
     "name": "stdout",
     "output_type": "stream",
     "text": [
      "Processing image /Users/carlos/WORKSPACE/MegaClassifier/dataset/emptyNonEmptyDatasetCropped/jabali/wildboar_zoo_1_4/37_20210115_2245_.jpg\n"
     ]
    },
    {
     "name": "stderr",
     "output_type": "stream",
     "text": [
      "  7%|▋         | 4/60 [00:23<05:14,  5.61s/it]"
     ]
    },
    {
     "name": "stdout",
     "output_type": "stream",
     "text": [
      "Processing image /Users/carlos/WORKSPACE/MegaClassifier/dataset/emptyNonEmptyDatasetCropped/vacia/noanimal_zoo_5_6_7_9/50_20210408_6876_.jpg\n"
     ]
    },
    {
     "name": "stderr",
     "output_type": "stream",
     "text": [
      "  8%|▊         | 5/60 [00:29<05:03,  5.51s/it]"
     ]
    },
    {
     "name": "stdout",
     "output_type": "stream",
     "text": [
      "Processing image /Users/carlos/WORKSPACE/MegaClassifier/dataset/emptyNonEmptyDatasetCropped/lince/lince_a_linces2_leo_jc/lince58_22_.jpg\n"
     ]
    },
    {
     "name": "stderr",
     "output_type": "stream",
     "text": [
      " 10%|█         | 6/60 [00:34<04:47,  5.32s/it]"
     ]
    },
    {
     "name": "stdout",
     "output_type": "stream",
     "text": [
      "Processing image /Users/carlos/WORKSPACE/MegaClassifier/dataset/emptyNonEmptyDatasetCropped/leporido/conejo_paco_carro_jc/pict0646_2_.jpg\n"
     ]
    },
    {
     "name": "stderr",
     "output_type": "stream",
     "text": [
      " 12%|█▏        | 7/60 [00:39<04:34,  5.19s/it]"
     ]
    },
    {
     "name": "stdout",
     "output_type": "stream",
     "text": [
      "Processing image /Users/carlos/WORKSPACE/MegaClassifier/dataset/emptyNonEmptyDatasetCropped/zorro/zorro_leo_otra_fauna_pasada_por_la_red_jc/otrafauna_675_.jpg\n"
     ]
    },
    {
     "name": "stderr",
     "output_type": "stream",
     "text": [
      " 13%|█▎        | 8/60 [00:44<04:25,  5.10s/it]"
     ]
    },
    {
     "name": "stdout",
     "output_type": "stream",
     "text": [
      "Processing image /Users/carlos/WORKSPACE/MegaClassifier/dataset/emptyNonEmptyDatasetCropped/vacia/empty_islandconservationcameratraps/dominicanrepublic_cam1826junio2015_20150505_130939_img_3077.jpg\n"
     ]
    },
    {
     "name": "stderr",
     "output_type": "stream",
     "text": [
      " 15%|█▌        | 9/60 [00:49<04:22,  5.16s/it]"
     ]
    },
    {
     "name": "stdout",
     "output_type": "stream",
     "text": [
      "Processing image /Users/carlos/WORKSPACE/MegaClassifier/dataset/emptyNonEmptyDatasetCropped/cervidae/cervidredorfallowdeer_zoo_1_4/34_20201024_2742_.jpg\n"
     ]
    },
    {
     "name": "stderr",
     "output_type": "stream",
     "text": [
      " 17%|█▋        | 10/60 [00:54<04:20,  5.22s/it]"
     ]
    },
    {
     "name": "stdout",
     "output_type": "stream",
     "text": [
      "Processing image /Users/carlos/WORKSPACE/MegaClassifier/dataset/emptyNonEmptyDatasetCropped/micromamiferos/rat_islandconservationcameratraps/palau_cam6a12132018_20180914_224626_rcnx0468.jpg\n"
     ]
    },
    {
     "name": "stderr",
     "output_type": "stream",
     "text": [
      " 18%|█▊        | 11/60 [00:59<04:15,  5.21s/it]"
     ]
    },
    {
     "name": "stdout",
     "output_type": "stream",
     "text": [
      "Processing image /Users/carlos/WORKSPACE/MegaClassifier/dataset/emptyNonEmptyDatasetCropped/jabali/wildboar_zoo_1_4/22_20210115_801_.jpg\n"
     ]
    },
    {
     "name": "stderr",
     "output_type": "stream",
     "text": [
      " 20%|██        | 12/60 [01:05<04:12,  5.27s/it]"
     ]
    },
    {
     "name": "stdout",
     "output_type": "stream",
     "text": [
      "Processing image /Users/carlos/WORKSPACE/MegaClassifier/dataset/emptyNonEmptyDatasetCropped/jabali/wildboar_zoo_5_6_7_9/1_20210319_7_.jpg\n"
     ]
    },
    {
     "name": "stderr",
     "output_type": "stream",
     "text": [
      " 22%|██▏       | 13/60 [01:10<04:07,  5.27s/it]"
     ]
    },
    {
     "name": "stdout",
     "output_type": "stream",
     "text": [
      "Processing image /Users/carlos/WORKSPACE/MegaClassifier/dataset/emptyNonEmptyDatasetCropped/vacia/empty_snapshotmountainzebra/mtz_s1_d05_r1_imag2029.jpg\n"
     ]
    },
    {
     "name": "stderr",
     "output_type": "stream",
     "text": [
      " 23%|██▎       | 14/60 [01:15<03:57,  5.17s/it]"
     ]
    },
    {
     "name": "stdout",
     "output_type": "stream",
     "text": [
      "Processing image /Users/carlos/WORKSPACE/MegaClassifier/dataset/emptyNonEmptyDatasetCropped/humanovehiculo/humano_vehiculo_pnm_2013-o_isaac/f8130im000003.jpg\n"
     ]
    },
    {
     "name": "stderr",
     "output_type": "stream",
     "text": [
      " 25%|██▌       | 15/60 [01:20<03:49,  5.09s/it]"
     ]
    },
    {
     "name": "stdout",
     "output_type": "stream",
     "text": [
      "Processing image /Users/carlos/WORKSPACE/MegaClassifier/dataset/emptyNonEmptyDatasetCropped/vacia/vacia_javi_2_jc/27_20201023_4595_.jpg\n"
     ]
    },
    {
     "name": "stderr",
     "output_type": "stream",
     "text": [
      " 27%|██▋       | 16/60 [01:25<03:46,  5.14s/it]"
     ]
    },
    {
     "name": "stdout",
     "output_type": "stream",
     "text": [
      "Processing image /Users/carlos/WORKSPACE/MegaClassifier/dataset/emptyNonEmptyDatasetCropped/vacia/snampshotenonkishu/eno_s1_d06_r1_imag5237.jpg\n"
     ]
    },
    {
     "name": "stderr",
     "output_type": "stream",
     "text": [
      " 28%|██▊       | 17/60 [01:30<03:38,  5.07s/it]"
     ]
    },
    {
     "name": "stdout",
     "output_type": "stream",
     "text": [
      "Processing image /Users/carlos/WORKSPACE/MegaClassifier/dataset/emptyNonEmptyDatasetCropped/vacia/empty_snapshotmountainzebra/mtz_s1_d06_r1_imag1583.jpg\n"
     ]
    },
    {
     "name": "stderr",
     "output_type": "stream",
     "text": [
      " 30%|███       | 18/60 [01:35<03:31,  5.03s/it]"
     ]
    },
    {
     "name": "stdout",
     "output_type": "stream",
     "text": [
      "Processing image /Users/carlos/WORKSPACE/MegaClassifier/dataset/emptyNonEmptyDatasetCropped/vaca/vaca_paco_carro_jc/pict0042.jpg\n"
     ]
    },
    {
     "name": "stderr",
     "output_type": "stream",
     "text": [
      " 32%|███▏      | 19/60 [01:40<03:26,  5.03s/it]"
     ]
    },
    {
     "name": "stdout",
     "output_type": "stream",
     "text": [
      "Processing image /Users/carlos/WORKSPACE/MegaClassifier/dataset/emptyNonEmptyDatasetCropped/vacia/empty_snapshotmountainzebra/mtz_s1_c06_r3_imag2525.jpg\n"
     ]
    },
    {
     "name": "stderr",
     "output_type": "stream",
     "text": [
      " 33%|███▎      | 20/60 [01:45<03:19,  5.00s/it]"
     ]
    },
    {
     "name": "stdout",
     "output_type": "stream",
     "text": [
      "Processing image /Users/carlos/WORKSPACE/MegaClassifier/dataset/emptyNonEmptyDatasetCropped/caballo/horse_zoo_1_4/15_20201117_7287_.jpg\n"
     ]
    },
    {
     "name": "stderr",
     "output_type": "stream",
     "text": [
      " 35%|███▌      | 21/60 [01:50<03:18,  5.09s/it]"
     ]
    },
    {
     "name": "stdout",
     "output_type": "stream",
     "text": [
      "Processing image /Users/carlos/WORKSPACE/MegaClassifier/dataset/emptyNonEmptyDatasetCropped/vacia/vacias_pnm_2013-o_isaac/f7213imag0066.jpg\n"
     ]
    },
    {
     "name": "stderr",
     "output_type": "stream",
     "text": [
      " 37%|███▋      | 22/60 [01:55<03:11,  5.05s/it]"
     ]
    },
    {
     "name": "stdout",
     "output_type": "stream",
     "text": [
      "Processing image /Users/carlos/WORKSPACE/MegaClassifier/dataset/emptyNonEmptyDatasetCropped/tejon/tejon_pepe_irec_jc/imag0423__5_.jpg\n"
     ]
    },
    {
     "name": "stderr",
     "output_type": "stream",
     "text": [
      " 38%|███▊      | 23/60 [02:00<03:05,  5.03s/it]"
     ]
    },
    {
     "name": "stdout",
     "output_type": "stream",
     "text": [
      "Processing image /Users/carlos/WORKSPACE/MegaClassifier/dataset/emptyNonEmptyDatasetCropped/ave/bird_caltechcameratrap/5976a214-23d2-11e8-a6a3-ec086b02610b.jpg\n"
     ]
    },
    {
     "name": "stderr",
     "output_type": "stream",
     "text": [
      " 40%|████      | 24/60 [02:05<03:00,  5.03s/it]"
     ]
    },
    {
     "name": "stdout",
     "output_type": "stream",
     "text": [
      "Processing image /Users/carlos/WORKSPACE/MegaClassifier/dataset/emptyNonEmptyDatasetCropped/cervidae/2_ciervo_paco_carro_camarasliron_4_2_pasadas_por_la_red_jc/pict0080.jpg\n"
     ]
    },
    {
     "name": "stderr",
     "output_type": "stream",
     "text": [
      " 42%|████▏     | 25/60 [02:10<02:55,  5.01s/it]"
     ]
    },
    {
     "name": "stdout",
     "output_type": "stream",
     "text": [
      "Processing image /Users/carlos/WORKSPACE/MegaClassifier/dataset/emptyNonEmptyDatasetCropped/vaca/cow_zoo_5_6_7_9/21_20210418_1498_.jpg\n"
     ]
    },
    {
     "name": "stderr",
     "output_type": "stream",
     "text": [
      " 43%|████▎     | 26/60 [02:16<02:53,  5.09s/it]"
     ]
    },
    {
     "name": "stdout",
     "output_type": "stream",
     "text": [
      "Processing image /Users/carlos/WORKSPACE/MegaClassifier/dataset/emptyNonEmptyDatasetCropped/vacia/empty_islandconservationcameratraps/ecuador1_cam1612_20150209_051159_img_1446.jpg\n"
     ]
    },
    {
     "name": "stderr",
     "output_type": "stream",
     "text": [
      " 45%|████▌     | 27/60 [02:21<02:50,  5.18s/it]"
     ]
    },
    {
     "name": "stdout",
     "output_type": "stream",
     "text": [
      "Processing image /Users/carlos/WORKSPACE/MegaClassifier/dataset/emptyNonEmptyDatasetCropped/cervidae/cervidredorfallowdeer_zoo_1_4/20_20201024_741_.jpg\n"
     ]
    },
    {
     "name": "stderr",
     "output_type": "stream",
     "text": [
      " 47%|████▋     | 28/60 [02:26<02:46,  5.22s/it]"
     ]
    },
    {
     "name": "stdout",
     "output_type": "stream",
     "text": [
      "Processing image /Users/carlos/WORKSPACE/MegaClassifier/dataset/emptyNonEmptyDatasetCropped/vacia/noanimal_zoo_1_4/34_20210115_1643_.jpg\n"
     ]
    },
    {
     "name": "stderr",
     "output_type": "stream",
     "text": [
      " 48%|████▊     | 29/60 [02:31<02:42,  5.24s/it]"
     ]
    },
    {
     "name": "stdout",
     "output_type": "stream",
     "text": [
      "Processing image /Users/carlos/WORKSPACE/MegaClassifier/dataset/emptyNonEmptyDatasetCropped/cervidae/cervidredorfallowdeer_zoo_5_6_7_9/20_20210219_2099__2021_04_1506_16_22utc_.jpg\n",
      "Writing a new checkpoint after having processed 30 images since last restart\n",
      "Processing image /Users/carlos/WORKSPACE/MegaClassifier/dataset/emptyNonEmptyDatasetCropped/jabali/jabali_paco_carro_camarasliron_4_2_pasadas_por_la_red_jc/mdgc0675.jpg\n"
     ]
    },
    {
     "name": "stderr",
     "output_type": "stream",
     "text": [
      " 52%|█████▏    | 31/60 [02:42<02:29,  5.17s/it]"
     ]
    },
    {
     "name": "stdout",
     "output_type": "stream",
     "text": [
      "Processing image /Users/carlos/WORKSPACE/MegaClassifier/dataset/emptyNonEmptyDatasetCropped/vacia/noanimal_zoo_5_6_7_9/20_20210618_3959_.jpg\n"
     ]
    },
    {
     "name": "stderr",
     "output_type": "stream",
     "text": [
      " 53%|█████▎    | 32/60 [02:47<02:25,  5.21s/it]"
     ]
    },
    {
     "name": "stdout",
     "output_type": "stream",
     "text": [
      "Processing image /Users/carlos/WORKSPACE/MegaClassifier/dataset/emptyNonEmptyDatasetCropped/leporido/conejo_pnc_2014_jc/c8663im000121.jpg\n"
     ]
    },
    {
     "name": "stderr",
     "output_type": "stream",
     "text": [
      " 55%|█████▌    | 33/60 [02:52<02:18,  5.14s/it]"
     ]
    },
    {
     "name": "stdout",
     "output_type": "stream",
     "text": [
      "Processing image /Users/carlos/WORKSPACE/MegaClassifier/dataset/emptyNonEmptyDatasetCropped/garduna/garduna_pnm_2013-0_me/f14844im000051.jpg\n"
     ]
    },
    {
     "name": "stderr",
     "output_type": "stream",
     "text": [
      " 57%|█████▋    | 34/60 [02:57<02:12,  5.11s/it]"
     ]
    },
    {
     "name": "stdout",
     "output_type": "stream",
     "text": [
      "Processing image /Users/carlos/WORKSPACE/MegaClassifier/dataset/emptyNonEmptyDatasetCropped/vacia/vacia_alumno_am_2/25_20201024_312_.jpg\n"
     ]
    },
    {
     "name": "stderr",
     "output_type": "stream",
     "text": [
      " 58%|█████▊    | 35/60 [03:02<02:09,  5.17s/it]"
     ]
    },
    {
     "name": "stdout",
     "output_type": "stream",
     "text": [
      "Processing image /Users/carlos/WORKSPACE/MegaClassifier/dataset/emptyNonEmptyDatasetCropped/lince/lince_a_linces2_leo_jc/lince130_306_.jpg\n"
     ]
    },
    {
     "name": "stderr",
     "output_type": "stream",
     "text": [
      " 60%|██████    | 36/60 [03:08<02:05,  5.22s/it]"
     ]
    },
    {
     "name": "stdout",
     "output_type": "stream",
     "text": [
      "Processing image /Users/carlos/WORKSPACE/MegaClassifier/dataset/emptyNonEmptyDatasetCropped/cervidae/cervidredorfallowdeer_zoo_5_6_7_9/10_20210417_246_.jpg\n"
     ]
    },
    {
     "name": "stderr",
     "output_type": "stream",
     "text": [
      " 62%|██████▏   | 37/60 [03:13<02:00,  5.25s/it]"
     ]
    },
    {
     "name": "stdout",
     "output_type": "stream",
     "text": [
      "Processing image /Users/carlos/WORKSPACE/MegaClassifier/dataset/emptyNonEmptyDatasetCropped/cervidae/ciervo_pnc_2012_jc/a34265im000500.jpg\n"
     ]
    },
    {
     "name": "stderr",
     "output_type": "stream",
     "text": [
      " 63%|██████▎   | 38/60 [03:18<01:53,  5.16s/it]"
     ]
    },
    {
     "name": "stdout",
     "output_type": "stream",
     "text": [
      "Processing image /Users/carlos/WORKSPACE/MegaClassifier/dataset/emptyNonEmptyDatasetCropped/cervidae/ciervo_simone_2/37_20201024_1156_.jpg\n"
     ]
    },
    {
     "name": "stderr",
     "output_type": "stream",
     "text": [
      " 65%|██████▌   | 39/60 [03:23<01:49,  5.20s/it]"
     ]
    },
    {
     "name": "stdout",
     "output_type": "stream",
     "text": [
      "Processing image /Users/carlos/WORKSPACE/MegaClassifier/dataset/emptyNonEmptyDatasetCropped/cervidae/2_ciervo_alumno_2_th/34_20201024_2381_.jpg\n"
     ]
    },
    {
     "name": "stderr",
     "output_type": "stream",
     "text": [
      " 67%|██████▋   | 40/60 [03:29<01:44,  5.24s/it]"
     ]
    },
    {
     "name": "stdout",
     "output_type": "stream",
     "text": [
      "Processing image /Users/carlos/WORKSPACE/MegaClassifier/dataset/emptyNonEmptyDatasetCropped/cervidae/ciervo_simone_2/34_20201024_5494_.jpg\n"
     ]
    },
    {
     "name": "stderr",
     "output_type": "stream",
     "text": [
      " 68%|██████▊   | 41/60 [03:34<01:40,  5.28s/it]"
     ]
    },
    {
     "name": "stdout",
     "output_type": "stream",
     "text": [
      "Processing image /Users/carlos/WORKSPACE/MegaClassifier/dataset/emptyNonEmptyDatasetCropped/vacia/vacia_alumno_2_2_th_jc/27_20201023_5918_.jpg\n"
     ]
    },
    {
     "name": "stderr",
     "output_type": "stream",
     "text": [
      " 70%|███████   | 42/60 [03:39<01:35,  5.29s/it]"
     ]
    },
    {
     "name": "stdout",
     "output_type": "stream",
     "text": [
      "Processing image /Users/carlos/WORKSPACE/MegaClassifier/dataset/emptyNonEmptyDatasetCropped/humanovehiculo/humano_vehiculo_pnc_2014_isaac/c12199imag0129.jpg\n"
     ]
    },
    {
     "name": "stderr",
     "output_type": "stream",
     "text": [
      " 72%|███████▏  | 43/60 [03:44<01:28,  5.20s/it]"
     ]
    },
    {
     "name": "stdout",
     "output_type": "stream",
     "text": [
      "Processing image /Users/carlos/WORKSPACE/MegaClassifier/dataset/emptyNonEmptyDatasetCropped/vacia/noanimal_zoo_5_6_7_9/50_20210417_25294_.jpg\n"
     ]
    },
    {
     "name": "stderr",
     "output_type": "stream",
     "text": [
      " 73%|███████▎  | 44/60 [03:50<01:23,  5.24s/it]"
     ]
    },
    {
     "name": "stdout",
     "output_type": "stream",
     "text": [
      "Processing image /Users/carlos/WORKSPACE/MegaClassifier/dataset/emptyNonEmptyDatasetCropped/ave/ave_ave_wellingtoncameratraps_ss/050816133858011bs101.jpg\n"
     ]
    },
    {
     "name": "stderr",
     "output_type": "stream",
     "text": [
      " 75%|███████▌  | 45/60 [03:55<01:17,  5.17s/it]"
     ]
    },
    {
     "name": "stdout",
     "output_type": "stream",
     "text": [
      "Processing image /Users/carlos/WORKSPACE/MegaClassifier/dataset/emptyNonEmptyDatasetCropped/cervidae/ciervo_pnc_2012_jc/a14725im000641.jpg\n"
     ]
    },
    {
     "name": "stderr",
     "output_type": "stream",
     "text": [
      " 77%|███████▋  | 46/60 [04:00<01:11,  5.13s/it]"
     ]
    },
    {
     "name": "stdout",
     "output_type": "stream",
     "text": [
      "Processing image /Users/carlos/WORKSPACE/MegaClassifier/dataset/emptyNonEmptyDatasetCropped/vaca/cow_caltechcameratrap/585c030e-23d2-11e8-a6a3-ec086b02610b.jpg\n"
     ]
    },
    {
     "name": "stderr",
     "output_type": "stream",
     "text": [
      " 78%|███████▊  | 47/60 [04:05<01:06,  5.11s/it]"
     ]
    },
    {
     "name": "stdout",
     "output_type": "stream",
     "text": [
      "Processing image /Users/carlos/WORKSPACE/MegaClassifier/dataset/emptyNonEmptyDatasetCropped/cervidae/cervidredorfallowdeer_zoo_1_4/17_20201225_61_.jpg\n"
     ]
    },
    {
     "name": "stderr",
     "output_type": "stream",
     "text": [
      " 80%|████████  | 48/60 [04:10<01:02,  5.19s/it]"
     ]
    },
    {
     "name": "stdout",
     "output_type": "stream",
     "text": [
      "Processing image /Users/carlos/WORKSPACE/MegaClassifier/dataset/emptyNonEmptyDatasetCropped/ave/chicken_ena24/6426.jpg\n"
     ]
    },
    {
     "name": "stderr",
     "output_type": "stream",
     "text": [
      " 82%|████████▏ | 49/60 [04:15<00:57,  5.25s/it]"
     ]
    },
    {
     "name": "stdout",
     "output_type": "stream",
     "text": [
      "Processing image /Users/carlos/WORKSPACE/MegaClassifier/dataset/emptyNonEmptyDatasetCropped/vacia/noanimal_zoo_5_6_7_9/24_20210615_7263_.jpg\n"
     ]
    },
    {
     "name": "stderr",
     "output_type": "stream",
     "text": [
      " 83%|████████▎ | 50/60 [04:21<00:52,  5.28s/it]"
     ]
    },
    {
     "name": "stdout",
     "output_type": "stream",
     "text": [
      "Processing image /Users/carlos/WORKSPACE/MegaClassifier/dataset/emptyNonEmptyDatasetCropped/ave/otherspecies_zoo_5_6_7_9/38_20210618_1691_.jpg\n"
     ]
    },
    {
     "name": "stderr",
     "output_type": "stream",
     "text": [
      " 85%|████████▌ | 51/60 [04:26<00:47,  5.29s/it]"
     ]
    },
    {
     "name": "stdout",
     "output_type": "stream",
     "text": [
      "Processing image /Users/carlos/WORKSPACE/MegaClassifier/dataset/emptyNonEmptyDatasetCropped/vacia/empty_islandconservationcameratraps/dominicanrepublic_cam0926julio2015_20150630_185725_img_0015.jpg\n"
     ]
    },
    {
     "name": "stderr",
     "output_type": "stream",
     "text": [
      " 87%|████████▋ | 52/60 [04:31<00:42,  5.30s/it]"
     ]
    },
    {
     "name": "stdout",
     "output_type": "stream",
     "text": [
      "Processing image /Users/carlos/WORKSPACE/MegaClassifier/dataset/emptyNonEmptyDatasetCropped/garduna/garduna_vacias_humanos_pnc_2012_me/a43103imag0017.jpg\n"
     ]
    },
    {
     "name": "stderr",
     "output_type": "stream",
     "text": [
      " 88%|████████▊ | 53/60 [04:36<00:36,  5.20s/it]"
     ]
    },
    {
     "name": "stdout",
     "output_type": "stream",
     "text": [
      "Processing image /Users/carlos/WORKSPACE/MegaClassifier/dataset/emptyNonEmptyDatasetCropped/jabali/wildboar_zoo_5_6_7_9/20_20210219_2902__2021_04_1506_16_22utc_.jpg\n"
     ]
    },
    {
     "name": "stderr",
     "output_type": "stream",
     "text": [
      " 90%|█████████ | 54/60 [04:42<00:31,  5.24s/it]"
     ]
    },
    {
     "name": "stdout",
     "output_type": "stream",
     "text": [
      "Processing image /Users/carlos/WORKSPACE/MegaClassifier/dataset/emptyNonEmptyDatasetCropped/vacia/empty_snapshotmountainzebra/mtz_s1_d06_r1_imag0865.jpg\n"
     ]
    },
    {
     "name": "stderr",
     "output_type": "stream",
     "text": [
      " 92%|█████████▏| 55/60 [04:47<00:25,  5.16s/it]"
     ]
    },
    {
     "name": "stdout",
     "output_type": "stream",
     "text": [
      "Processing image /Users/carlos/WORKSPACE/MegaClassifier/dataset/emptyNonEmptyDatasetCropped/ave/bird_caltechcameratrap/58ce4024-23d2-11e8-a6a3-ec086b02610b.jpg\n"
     ]
    },
    {
     "name": "stderr",
     "output_type": "stream",
     "text": [
      " 93%|█████████▎| 56/60 [04:52<00:20,  5.13s/it]"
     ]
    },
    {
     "name": "stdout",
     "output_type": "stream",
     "text": [
      "Processing image /Users/carlos/WORKSPACE/MegaClassifier/dataset/emptyNonEmptyDatasetCropped/vacia/vacias_pnc_2014_isaac/c11233imag0016.jpg\n"
     ]
    },
    {
     "name": "stderr",
     "output_type": "stream",
     "text": [
      " 95%|█████████▌| 57/60 [04:57<00:15,  5.09s/it]"
     ]
    },
    {
     "name": "stdout",
     "output_type": "stream",
     "text": [
      "Processing image /Users/carlos/WORKSPACE/MegaClassifier/dataset/emptyNonEmptyDatasetCropped/cervidae/cervidredorfallowdeer_zoo_5_6_7_9/35_20210218_2606__2021_04_1506_16_22utc_.jpg\n"
     ]
    },
    {
     "name": "stderr",
     "output_type": "stream",
     "text": [
      " 97%|█████████▋| 58/60 [05:02<00:10,  5.16s/it]"
     ]
    },
    {
     "name": "stdout",
     "output_type": "stream",
     "text": [
      "Processing image /Users/carlos/WORKSPACE/MegaClassifier/dataset/emptyNonEmptyDatasetCropped/lince/linces_fecha_linces2_leo_jc/3_lince_flecha_linces2_leo_jc/lince103_371_.jpg\n"
     ]
    },
    {
     "name": "stderr",
     "output_type": "stream",
     "text": [
      " 98%|█████████▊| 59/60 [05:07<00:05,  5.22s/it]"
     ]
    },
    {
     "name": "stdout",
     "output_type": "stream",
     "text": [
      "Processing image /Users/carlos/WORKSPACE/MegaClassifier/dataset/emptyNonEmptyDatasetCropped/cervidae/ciervo_pnm_2013-o_isaac/f11190im000199.jpg\n",
      "Writing a new checkpoint after having processed 60 images since last restart\n",
      "Finished inference for 60 images in 5 minutes and 16.48 seconds\n",
      "Output file saved at /Users/carlos/WORKSPACE/MegaClassifier/resources/json/detections.json\n",
      "Deleted checkpoint file /Users/carlos/WORKSPACE/MegaClassifier/resources/json/checkpoint.json\n",
      "Done!\n"
     ]
    },
    {
     "name": "stderr",
     "output_type": "stream",
     "text": [
      "100%|██████████| 60/60 [05:12<00:00,  5.22s/it]\n"
     ]
    },
    {
     "name": "stdout",
     "output_type": "stream",
     "text": [
      "The file /Users/carlos/WORKSPACE/MegaClassifier/data/interim/train/20Train.csv has been successfully opened.\n",
      "The file /Users/carlos/WORKSPACE/MegaClassifier/reports/model_coberture/60_images_md_v4.csv has been successfully opened.\n",
      "The dataset has been successfully saved to /Users/carlos/WORKSPACE/MegaClassifier/reports/model_coberture/60_images_md_v4.csv\n",
      "\n",
      "-----------------------------------------------------------------------\n",
      "El porcentaje de positivos cubiertos es 92.86%\n",
      "-----------------------------------------------------------------------\n",
      "\n",
      "Iniciando ejecucion con umbral: 0.075\n",
      "60 image files found in the json list\n",
      "The checkpoint file will be written to /Users/carlos/WORKSPACE/MegaClassifier/resources/json/checkpoint.json\n"
     ]
    },
    {
     "name": "stderr",
     "output_type": "stream",
     "text": [
      "WARNING:tensorflow:From /Users/carlos/WORKSPACE/MegaClassifier/data/external/CameraTraps/detection/run_detector.py:211: is_gpu_available (from tensorflow.python.framework.test_util) is deprecated and will be removed in a future version.\n",
      "Instructions for updating:\n",
      "Use `tf.config.list_physical_devices('GPU')` instead.\n"
     ]
    },
    {
     "name": "stdout",
     "output_type": "stream",
     "text": [
      "TensorFlow version: 2.8.0\n",
      "tf.test.is_gpu_available: False\n",
      "GPU available: False\n",
      "TensorFlow version: 2.8.0\n",
      "Is GPU available? tf.test.is_gpu_available: False\n",
      "TFDetector: Loading graph...\n",
      "TFDetector: Detection graph loaded.\n",
      "Loaded model in 1.95 seconds\n",
      "Loaded model in 1.95 seconds\n",
      "Processing image /Users/carlos/WORKSPACE/MegaClassifier/dataset/emptyNonEmptyDatasetCropped/vacia/empty_islandconservationcameratraps/dominicanrepublic_cam11618mayo2017_20170410_092515_img_0069.jpg\n"
     ]
    },
    {
     "name": "stderr",
     "output_type": "stream",
     "text": [
      "  0%|          | 0/60 [00:00<?, ?it/s]2024-09-21 13:28:56.636995: W tensorflow/core/platform/profile_utils/cpu_utils.cc:128] Failed to get CPU frequency: 0 Hz\n",
      "2024-09-21 13:28:58.159785: W tensorflow/core/grappler/costs/op_level_cost_estimator.cc:690] Error in PredictCost() for the op: op: \"CropAndResize\" attr { key: \"T\" value { type: DT_FLOAT } } attr { key: \"extrapolation_value\" value { f: 0 } } attr { key: \"method\" value { s: \"bilinear\" } } inputs { dtype: DT_FLOAT shape { dim { size: -1047 } dim { size: -1048 } dim { size: -1049 } dim { size: 1088 } } } inputs { dtype: DT_FLOAT shape { dim { size: -108 } dim { size: 4 } } } inputs { dtype: DT_INT32 shape { dim { size: -108 } } } inputs { dtype: DT_INT32 shape { dim { size: 2 } } value { dtype: DT_INT32 tensor_shape { dim { size: 2 } } int_val: 17 } } device { type: \"CPU\" model: \"0\" num_cores: 8 environment { key: \"cpu_instruction_set\" value: \"ARM NEON\" } environment { key: \"eigen\" value: \"3.4.90\" } l1_cache_size: 16384 l2_cache_size: 524288 l3_cache_size: 524288 memory_size: 268435456 } outputs { dtype: DT_FLOAT shape { dim { size: -108 } dim { size: 17 } dim { size: 17 } dim { size: 1088 } } }\n",
      "  2%|▏         | 1/60 [00:08<08:02,  8.18s/it]"
     ]
    },
    {
     "name": "stdout",
     "output_type": "stream",
     "text": [
      "Processing image /Users/carlos/WORKSPACE/MegaClassifier/dataset/emptyNonEmptyDatasetCropped/vacia/noanimal_zoo_1_4/28_20201019_329_.jpg\n"
     ]
    },
    {
     "name": "stderr",
     "output_type": "stream",
     "text": [
      "  3%|▎         | 2/60 [00:13<06:14,  6.46s/it]"
     ]
    },
    {
     "name": "stdout",
     "output_type": "stream",
     "text": [
      "Processing image /Users/carlos/WORKSPACE/MegaClassifier/dataset/emptyNonEmptyDatasetCropped/jabali/jabali_pnm_2013-o_isaac/f27560imag0113.jpg\n"
     ]
    },
    {
     "name": "stderr",
     "output_type": "stream",
     "text": [
      "  5%|▌         | 3/60 [00:18<05:27,  5.74s/it]"
     ]
    },
    {
     "name": "stdout",
     "output_type": "stream",
     "text": [
      "Processing image /Users/carlos/WORKSPACE/MegaClassifier/dataset/emptyNonEmptyDatasetCropped/jabali/wildboar_zoo_1_4/37_20210115_2245_.jpg\n"
     ]
    },
    {
     "name": "stderr",
     "output_type": "stream",
     "text": [
      "  7%|▋         | 4/60 [00:23<05:10,  5.54s/it]"
     ]
    },
    {
     "name": "stdout",
     "output_type": "stream",
     "text": [
      "Processing image /Users/carlos/WORKSPACE/MegaClassifier/dataset/emptyNonEmptyDatasetCropped/vacia/noanimal_zoo_5_6_7_9/50_20210408_6876_.jpg\n"
     ]
    },
    {
     "name": "stderr",
     "output_type": "stream",
     "text": [
      "  8%|▊         | 5/60 [00:28<04:58,  5.44s/it]"
     ]
    },
    {
     "name": "stdout",
     "output_type": "stream",
     "text": [
      "Processing image /Users/carlos/WORKSPACE/MegaClassifier/dataset/emptyNonEmptyDatasetCropped/lince/lince_a_linces2_leo_jc/lince58_22_.jpg\n"
     ]
    },
    {
     "name": "stderr",
     "output_type": "stream",
     "text": [
      " 10%|█         | 6/60 [00:33<04:43,  5.25s/it]"
     ]
    },
    {
     "name": "stdout",
     "output_type": "stream",
     "text": [
      "Processing image /Users/carlos/WORKSPACE/MegaClassifier/dataset/emptyNonEmptyDatasetCropped/leporido/conejo_paco_carro_jc/pict0646_2_.jpg\n"
     ]
    },
    {
     "name": "stderr",
     "output_type": "stream",
     "text": [
      " 12%|█▏        | 7/60 [00:39<04:39,  5.27s/it]"
     ]
    },
    {
     "name": "stdout",
     "output_type": "stream",
     "text": [
      "Processing image /Users/carlos/WORKSPACE/MegaClassifier/dataset/emptyNonEmptyDatasetCropped/zorro/zorro_leo_otra_fauna_pasada_por_la_red_jc/otrafauna_675_.jpg\n"
     ]
    },
    {
     "name": "stderr",
     "output_type": "stream",
     "text": [
      " 13%|█▎        | 8/60 [00:44<04:35,  5.31s/it]"
     ]
    },
    {
     "name": "stdout",
     "output_type": "stream",
     "text": [
      "Processing image /Users/carlos/WORKSPACE/MegaClassifier/dataset/emptyNonEmptyDatasetCropped/vacia/empty_islandconservationcameratraps/dominicanrepublic_cam1826junio2015_20150505_130939_img_3077.jpg\n"
     ]
    },
    {
     "name": "stderr",
     "output_type": "stream",
     "text": [
      " 15%|█▌        | 9/60 [00:49<04:32,  5.35s/it]"
     ]
    },
    {
     "name": "stdout",
     "output_type": "stream",
     "text": [
      "Processing image /Users/carlos/WORKSPACE/MegaClassifier/dataset/emptyNonEmptyDatasetCropped/cervidae/cervidredorfallowdeer_zoo_1_4/34_20201024_2742_.jpg\n"
     ]
    },
    {
     "name": "stderr",
     "output_type": "stream",
     "text": [
      " 17%|█▋        | 10/60 [00:55<04:28,  5.37s/it]"
     ]
    },
    {
     "name": "stdout",
     "output_type": "stream",
     "text": [
      "Processing image /Users/carlos/WORKSPACE/MegaClassifier/dataset/emptyNonEmptyDatasetCropped/micromamiferos/rat_islandconservationcameratraps/palau_cam6a12132018_20180914_224626_rcnx0468.jpg\n"
     ]
    },
    {
     "name": "stderr",
     "output_type": "stream",
     "text": [
      " 18%|█▊        | 11/60 [01:00<04:20,  5.31s/it]"
     ]
    },
    {
     "name": "stdout",
     "output_type": "stream",
     "text": [
      "Processing image /Users/carlos/WORKSPACE/MegaClassifier/dataset/emptyNonEmptyDatasetCropped/jabali/wildboar_zoo_1_4/22_20210115_801_.jpg\n"
     ]
    },
    {
     "name": "stderr",
     "output_type": "stream",
     "text": [
      " 20%|██        | 12/60 [01:05<04:15,  5.33s/it]"
     ]
    },
    {
     "name": "stdout",
     "output_type": "stream",
     "text": [
      "Processing image /Users/carlos/WORKSPACE/MegaClassifier/dataset/emptyNonEmptyDatasetCropped/jabali/wildboar_zoo_5_6_7_9/1_20210319_7_.jpg\n"
     ]
    },
    {
     "name": "stderr",
     "output_type": "stream",
     "text": [
      " 22%|██▏       | 13/60 [01:11<04:11,  5.36s/it]"
     ]
    },
    {
     "name": "stdout",
     "output_type": "stream",
     "text": [
      "Processing image /Users/carlos/WORKSPACE/MegaClassifier/dataset/emptyNonEmptyDatasetCropped/vacia/empty_snapshotmountainzebra/mtz_s1_d05_r1_imag2029.jpg\n"
     ]
    },
    {
     "name": "stderr",
     "output_type": "stream",
     "text": [
      " 23%|██▎       | 14/60 [01:16<04:03,  5.30s/it]"
     ]
    },
    {
     "name": "stdout",
     "output_type": "stream",
     "text": [
      "Processing image /Users/carlos/WORKSPACE/MegaClassifier/dataset/emptyNonEmptyDatasetCropped/humanovehiculo/humano_vehiculo_pnm_2013-o_isaac/f8130im000003.jpg\n"
     ]
    },
    {
     "name": "stderr",
     "output_type": "stream",
     "text": [
      " 25%|██▌       | 15/60 [01:21<03:54,  5.21s/it]"
     ]
    },
    {
     "name": "stdout",
     "output_type": "stream",
     "text": [
      "Processing image /Users/carlos/WORKSPACE/MegaClassifier/dataset/emptyNonEmptyDatasetCropped/vacia/vacia_javi_2_jc/27_20201023_4595_.jpg\n"
     ]
    },
    {
     "name": "stderr",
     "output_type": "stream",
     "text": [
      " 27%|██▋       | 16/60 [01:26<03:50,  5.24s/it]"
     ]
    },
    {
     "name": "stdout",
     "output_type": "stream",
     "text": [
      "Processing image /Users/carlos/WORKSPACE/MegaClassifier/dataset/emptyNonEmptyDatasetCropped/vacia/snampshotenonkishu/eno_s1_d06_r1_imag5237.jpg\n"
     ]
    },
    {
     "name": "stderr",
     "output_type": "stream",
     "text": [
      " 28%|██▊       | 17/60 [01:31<03:41,  5.15s/it]"
     ]
    },
    {
     "name": "stdout",
     "output_type": "stream",
     "text": [
      "Processing image /Users/carlos/WORKSPACE/MegaClassifier/dataset/emptyNonEmptyDatasetCropped/vacia/empty_snapshotmountainzebra/mtz_s1_d06_r1_imag1583.jpg\n"
     ]
    },
    {
     "name": "stderr",
     "output_type": "stream",
     "text": [
      " 30%|███       | 18/60 [01:36<03:36,  5.14s/it]"
     ]
    },
    {
     "name": "stdout",
     "output_type": "stream",
     "text": [
      "Processing image /Users/carlos/WORKSPACE/MegaClassifier/dataset/emptyNonEmptyDatasetCropped/vaca/vaca_paco_carro_jc/pict0042.jpg\n"
     ]
    },
    {
     "name": "stderr",
     "output_type": "stream",
     "text": [
      " 32%|███▏      | 19/60 [01:41<03:28,  5.09s/it]"
     ]
    },
    {
     "name": "stdout",
     "output_type": "stream",
     "text": [
      "Processing image /Users/carlos/WORKSPACE/MegaClassifier/dataset/emptyNonEmptyDatasetCropped/vacia/empty_snapshotmountainzebra/mtz_s1_c06_r3_imag2525.jpg\n"
     ]
    },
    {
     "name": "stderr",
     "output_type": "stream",
     "text": [
      " 33%|███▎      | 20/60 [01:46<03:22,  5.06s/it]"
     ]
    },
    {
     "name": "stdout",
     "output_type": "stream",
     "text": [
      "Processing image /Users/carlos/WORKSPACE/MegaClassifier/dataset/emptyNonEmptyDatasetCropped/caballo/horse_zoo_1_4/15_20201117_7287_.jpg\n"
     ]
    },
    {
     "name": "stderr",
     "output_type": "stream",
     "text": [
      " 35%|███▌      | 21/60 [01:52<03:20,  5.14s/it]"
     ]
    },
    {
     "name": "stdout",
     "output_type": "stream",
     "text": [
      "Processing image /Users/carlos/WORKSPACE/MegaClassifier/dataset/emptyNonEmptyDatasetCropped/vacia/vacias_pnm_2013-o_isaac/f7213imag0066.jpg\n"
     ]
    },
    {
     "name": "stderr",
     "output_type": "stream",
     "text": [
      " 37%|███▋      | 22/60 [01:57<03:14,  5.11s/it]"
     ]
    },
    {
     "name": "stdout",
     "output_type": "stream",
     "text": [
      "Processing image /Users/carlos/WORKSPACE/MegaClassifier/dataset/emptyNonEmptyDatasetCropped/tejon/tejon_pepe_irec_jc/imag0423__5_.jpg\n"
     ]
    },
    {
     "name": "stderr",
     "output_type": "stream",
     "text": [
      " 38%|███▊      | 23/60 [02:02<03:08,  5.09s/it]"
     ]
    },
    {
     "name": "stdout",
     "output_type": "stream",
     "text": [
      "Processing image /Users/carlos/WORKSPACE/MegaClassifier/dataset/emptyNonEmptyDatasetCropped/ave/bird_caltechcameratrap/5976a214-23d2-11e8-a6a3-ec086b02610b.jpg\n"
     ]
    },
    {
     "name": "stderr",
     "output_type": "stream",
     "text": [
      " 40%|████      | 24/60 [02:07<03:03,  5.09s/it]"
     ]
    },
    {
     "name": "stdout",
     "output_type": "stream",
     "text": [
      "Processing image /Users/carlos/WORKSPACE/MegaClassifier/dataset/emptyNonEmptyDatasetCropped/cervidae/2_ciervo_paco_carro_camarasliron_4_2_pasadas_por_la_red_jc/pict0080.jpg\n"
     ]
    },
    {
     "name": "stderr",
     "output_type": "stream",
     "text": [
      " 42%|████▏     | 25/60 [02:12<02:57,  5.07s/it]"
     ]
    },
    {
     "name": "stdout",
     "output_type": "stream",
     "text": [
      "Processing image /Users/carlos/WORKSPACE/MegaClassifier/dataset/emptyNonEmptyDatasetCropped/vaca/cow_zoo_5_6_7_9/21_20210418_1498_.jpg\n"
     ]
    },
    {
     "name": "stderr",
     "output_type": "stream",
     "text": [
      " 43%|████▎     | 26/60 [02:17<02:55,  5.15s/it]"
     ]
    },
    {
     "name": "stdout",
     "output_type": "stream",
     "text": [
      "Processing image /Users/carlos/WORKSPACE/MegaClassifier/dataset/emptyNonEmptyDatasetCropped/vacia/empty_islandconservationcameratraps/ecuador1_cam1612_20150209_051159_img_1446.jpg\n"
     ]
    },
    {
     "name": "stderr",
     "output_type": "stream",
     "text": [
      " 45%|████▌     | 27/60 [02:22<02:52,  5.22s/it]"
     ]
    },
    {
     "name": "stdout",
     "output_type": "stream",
     "text": [
      "Processing image /Users/carlos/WORKSPACE/MegaClassifier/dataset/emptyNonEmptyDatasetCropped/cervidae/cervidredorfallowdeer_zoo_1_4/20_20201024_741_.jpg\n"
     ]
    },
    {
     "name": "stderr",
     "output_type": "stream",
     "text": [
      " 47%|████▋     | 28/60 [02:28<02:48,  5.27s/it]"
     ]
    },
    {
     "name": "stdout",
     "output_type": "stream",
     "text": [
      "Processing image /Users/carlos/WORKSPACE/MegaClassifier/dataset/emptyNonEmptyDatasetCropped/vacia/noanimal_zoo_1_4/34_20210115_1643_.jpg\n"
     ]
    },
    {
     "name": "stderr",
     "output_type": "stream",
     "text": [
      " 48%|████▊     | 29/60 [02:33<02:45,  5.32s/it]"
     ]
    },
    {
     "name": "stdout",
     "output_type": "stream",
     "text": [
      "Processing image /Users/carlos/WORKSPACE/MegaClassifier/dataset/emptyNonEmptyDatasetCropped/cervidae/cervidredorfallowdeer_zoo_5_6_7_9/20_20210219_2099__2021_04_1506_16_22utc_.jpg\n",
      "Writing a new checkpoint after having processed 30 images since last restart\n",
      "Processing image /Users/carlos/WORKSPACE/MegaClassifier/dataset/emptyNonEmptyDatasetCropped/jabali/jabali_paco_carro_camarasliron_4_2_pasadas_por_la_red_jc/mdgc0675.jpg\n"
     ]
    },
    {
     "name": "stderr",
     "output_type": "stream",
     "text": [
      " 52%|█████▏    | 31/60 [02:44<02:31,  5.23s/it]"
     ]
    },
    {
     "name": "stdout",
     "output_type": "stream",
     "text": [
      "Processing image /Users/carlos/WORKSPACE/MegaClassifier/dataset/emptyNonEmptyDatasetCropped/vacia/noanimal_zoo_5_6_7_9/20_20210618_3959_.jpg\n"
     ]
    },
    {
     "name": "stderr",
     "output_type": "stream",
     "text": [
      " 53%|█████▎    | 32/60 [02:49<02:27,  5.26s/it]"
     ]
    },
    {
     "name": "stdout",
     "output_type": "stream",
     "text": [
      "Processing image /Users/carlos/WORKSPACE/MegaClassifier/dataset/emptyNonEmptyDatasetCropped/leporido/conejo_pnc_2014_jc/c8663im000121.jpg\n"
     ]
    },
    {
     "name": "stderr",
     "output_type": "stream",
     "text": [
      " 55%|█████▌    | 33/60 [02:54<02:19,  5.17s/it]"
     ]
    },
    {
     "name": "stdout",
     "output_type": "stream",
     "text": [
      "Processing image /Users/carlos/WORKSPACE/MegaClassifier/dataset/emptyNonEmptyDatasetCropped/garduna/garduna_pnm_2013-0_me/f14844im000051.jpg\n"
     ]
    },
    {
     "name": "stderr",
     "output_type": "stream",
     "text": [
      " 57%|█████▋    | 34/60 [02:59<02:12,  5.11s/it]"
     ]
    },
    {
     "name": "stdout",
     "output_type": "stream",
     "text": [
      "Processing image /Users/carlos/WORKSPACE/MegaClassifier/dataset/emptyNonEmptyDatasetCropped/vacia/vacia_alumno_am_2/25_20201024_312_.jpg\n"
     ]
    },
    {
     "name": "stderr",
     "output_type": "stream",
     "text": [
      " 58%|█████▊    | 35/60 [03:04<02:09,  5.17s/it]"
     ]
    },
    {
     "name": "stdout",
     "output_type": "stream",
     "text": [
      "Processing image /Users/carlos/WORKSPACE/MegaClassifier/dataset/emptyNonEmptyDatasetCropped/lince/lince_a_linces2_leo_jc/lince130_306_.jpg\n"
     ]
    },
    {
     "name": "stderr",
     "output_type": "stream",
     "text": [
      " 60%|██████    | 36/60 [03:10<02:04,  5.21s/it]"
     ]
    },
    {
     "name": "stdout",
     "output_type": "stream",
     "text": [
      "Processing image /Users/carlos/WORKSPACE/MegaClassifier/dataset/emptyNonEmptyDatasetCropped/cervidae/cervidredorfallowdeer_zoo_5_6_7_9/10_20210417_246_.jpg\n"
     ]
    },
    {
     "name": "stderr",
     "output_type": "stream",
     "text": [
      " 62%|██████▏   | 37/60 [03:15<02:00,  5.23s/it]"
     ]
    },
    {
     "name": "stdout",
     "output_type": "stream",
     "text": [
      "Processing image /Users/carlos/WORKSPACE/MegaClassifier/dataset/emptyNonEmptyDatasetCropped/cervidae/ciervo_pnc_2012_jc/a34265im000500.jpg\n"
     ]
    },
    {
     "name": "stderr",
     "output_type": "stream",
     "text": [
      " 63%|██████▎   | 38/60 [03:20<01:53,  5.16s/it]"
     ]
    },
    {
     "name": "stdout",
     "output_type": "stream",
     "text": [
      "Processing image /Users/carlos/WORKSPACE/MegaClassifier/dataset/emptyNonEmptyDatasetCropped/cervidae/ciervo_simone_2/37_20201024_1156_.jpg\n"
     ]
    },
    {
     "name": "stderr",
     "output_type": "stream",
     "text": [
      " 65%|██████▌   | 39/60 [03:25<01:49,  5.21s/it]"
     ]
    },
    {
     "name": "stdout",
     "output_type": "stream",
     "text": [
      "Processing image /Users/carlos/WORKSPACE/MegaClassifier/dataset/emptyNonEmptyDatasetCropped/cervidae/2_ciervo_alumno_2_th/34_20201024_2381_.jpg\n"
     ]
    },
    {
     "name": "stderr",
     "output_type": "stream",
     "text": [
      " 67%|██████▋   | 40/60 [03:30<01:44,  5.23s/it]"
     ]
    },
    {
     "name": "stdout",
     "output_type": "stream",
     "text": [
      "Processing image /Users/carlos/WORKSPACE/MegaClassifier/dataset/emptyNonEmptyDatasetCropped/cervidae/ciervo_simone_2/34_20201024_5494_.jpg\n"
     ]
    },
    {
     "name": "stderr",
     "output_type": "stream",
     "text": [
      " 68%|██████▊   | 41/60 [03:36<01:39,  5.25s/it]"
     ]
    },
    {
     "name": "stdout",
     "output_type": "stream",
     "text": [
      "Processing image /Users/carlos/WORKSPACE/MegaClassifier/dataset/emptyNonEmptyDatasetCropped/vacia/vacia_alumno_2_2_th_jc/27_20201023_5918_.jpg\n"
     ]
    },
    {
     "name": "stderr",
     "output_type": "stream",
     "text": [
      " 70%|███████   | 42/60 [03:41<01:34,  5.27s/it]"
     ]
    },
    {
     "name": "stdout",
     "output_type": "stream",
     "text": [
      "Processing image /Users/carlos/WORKSPACE/MegaClassifier/dataset/emptyNonEmptyDatasetCropped/humanovehiculo/humano_vehiculo_pnc_2014_isaac/c12199imag0129.jpg\n"
     ]
    },
    {
     "name": "stderr",
     "output_type": "stream",
     "text": [
      " 72%|███████▏  | 43/60 [03:46<01:27,  5.17s/it]"
     ]
    },
    {
     "name": "stdout",
     "output_type": "stream",
     "text": [
      "Processing image /Users/carlos/WORKSPACE/MegaClassifier/dataset/emptyNonEmptyDatasetCropped/vacia/noanimal_zoo_5_6_7_9/50_20210417_25294_.jpg\n"
     ]
    },
    {
     "name": "stderr",
     "output_type": "stream",
     "text": [
      " 73%|███████▎  | 44/60 [03:51<01:23,  5.22s/it]"
     ]
    },
    {
     "name": "stdout",
     "output_type": "stream",
     "text": [
      "Processing image /Users/carlos/WORKSPACE/MegaClassifier/dataset/emptyNonEmptyDatasetCropped/ave/ave_ave_wellingtoncameratraps_ss/050816133858011bs101.jpg\n"
     ]
    },
    {
     "name": "stderr",
     "output_type": "stream",
     "text": [
      " 75%|███████▌  | 45/60 [03:56<01:17,  5.14s/it]"
     ]
    },
    {
     "name": "stdout",
     "output_type": "stream",
     "text": [
      "Processing image /Users/carlos/WORKSPACE/MegaClassifier/dataset/emptyNonEmptyDatasetCropped/cervidae/ciervo_pnc_2012_jc/a14725im000641.jpg\n"
     ]
    },
    {
     "name": "stderr",
     "output_type": "stream",
     "text": [
      " 77%|███████▋  | 46/60 [04:01<01:11,  5.10s/it]"
     ]
    },
    {
     "name": "stdout",
     "output_type": "stream",
     "text": [
      "Processing image /Users/carlos/WORKSPACE/MegaClassifier/dataset/emptyNonEmptyDatasetCropped/vaca/cow_caltechcameratrap/585c030e-23d2-11e8-a6a3-ec086b02610b.jpg\n"
     ]
    },
    {
     "name": "stderr",
     "output_type": "stream",
     "text": [
      " 78%|███████▊  | 47/60 [04:06<01:06,  5.08s/it]"
     ]
    },
    {
     "name": "stdout",
     "output_type": "stream",
     "text": [
      "Processing image /Users/carlos/WORKSPACE/MegaClassifier/dataset/emptyNonEmptyDatasetCropped/cervidae/cervidredorfallowdeer_zoo_1_4/17_20201225_61_.jpg\n"
     ]
    },
    {
     "name": "stderr",
     "output_type": "stream",
     "text": [
      " 80%|████████  | 48/60 [04:12<01:01,  5.15s/it]"
     ]
    },
    {
     "name": "stdout",
     "output_type": "stream",
     "text": [
      "Processing image /Users/carlos/WORKSPACE/MegaClassifier/dataset/emptyNonEmptyDatasetCropped/ave/chicken_ena24/6426.jpg\n"
     ]
    },
    {
     "name": "stderr",
     "output_type": "stream",
     "text": [
      " 82%|████████▏ | 49/60 [04:17<00:57,  5.20s/it]"
     ]
    },
    {
     "name": "stdout",
     "output_type": "stream",
     "text": [
      "Processing image /Users/carlos/WORKSPACE/MegaClassifier/dataset/emptyNonEmptyDatasetCropped/vacia/noanimal_zoo_5_6_7_9/24_20210615_7263_.jpg\n"
     ]
    },
    {
     "name": "stderr",
     "output_type": "stream",
     "text": [
      " 83%|████████▎ | 50/60 [04:22<00:52,  5.24s/it]"
     ]
    },
    {
     "name": "stdout",
     "output_type": "stream",
     "text": [
      "Processing image /Users/carlos/WORKSPACE/MegaClassifier/dataset/emptyNonEmptyDatasetCropped/ave/otherspecies_zoo_5_6_7_9/38_20210618_1691_.jpg\n"
     ]
    },
    {
     "name": "stderr",
     "output_type": "stream",
     "text": [
      " 85%|████████▌ | 51/60 [04:28<00:47,  5.25s/it]"
     ]
    },
    {
     "name": "stdout",
     "output_type": "stream",
     "text": [
      "Processing image /Users/carlos/WORKSPACE/MegaClassifier/dataset/emptyNonEmptyDatasetCropped/vacia/empty_islandconservationcameratraps/dominicanrepublic_cam0926julio2015_20150630_185725_img_0015.jpg\n"
     ]
    },
    {
     "name": "stderr",
     "output_type": "stream",
     "text": [
      " 87%|████████▋ | 52/60 [04:33<00:42,  5.27s/it]"
     ]
    },
    {
     "name": "stdout",
     "output_type": "stream",
     "text": [
      "Processing image /Users/carlos/WORKSPACE/MegaClassifier/dataset/emptyNonEmptyDatasetCropped/garduna/garduna_vacias_humanos_pnc_2012_me/a43103imag0017.jpg\n"
     ]
    },
    {
     "name": "stderr",
     "output_type": "stream",
     "text": [
      " 88%|████████▊ | 53/60 [04:38<00:36,  5.24s/it]"
     ]
    },
    {
     "name": "stdout",
     "output_type": "stream",
     "text": [
      "Processing image /Users/carlos/WORKSPACE/MegaClassifier/dataset/emptyNonEmptyDatasetCropped/jabali/wildboar_zoo_5_6_7_9/20_20210219_2902__2021_04_1506_16_22utc_.jpg\n"
     ]
    },
    {
     "name": "stderr",
     "output_type": "stream",
     "text": [
      " 90%|█████████ | 54/60 [04:43<00:31,  5.28s/it]"
     ]
    },
    {
     "name": "stdout",
     "output_type": "stream",
     "text": [
      "Processing image /Users/carlos/WORKSPACE/MegaClassifier/dataset/emptyNonEmptyDatasetCropped/vacia/empty_snapshotmountainzebra/mtz_s1_d06_r1_imag0865.jpg\n"
     ]
    },
    {
     "name": "stderr",
     "output_type": "stream",
     "text": [
      " 92%|█████████▏| 55/60 [04:48<00:25,  5.19s/it]"
     ]
    },
    {
     "name": "stdout",
     "output_type": "stream",
     "text": [
      "Processing image /Users/carlos/WORKSPACE/MegaClassifier/dataset/emptyNonEmptyDatasetCropped/ave/bird_caltechcameratrap/58ce4024-23d2-11e8-a6a3-ec086b02610b.jpg\n"
     ]
    },
    {
     "name": "stderr",
     "output_type": "stream",
     "text": [
      " 93%|█████████▎| 56/60 [04:53<00:20,  5.15s/it]"
     ]
    },
    {
     "name": "stdout",
     "output_type": "stream",
     "text": [
      "Processing image /Users/carlos/WORKSPACE/MegaClassifier/dataset/emptyNonEmptyDatasetCropped/vacia/vacias_pnc_2014_isaac/c11233imag0016.jpg\n"
     ]
    },
    {
     "name": "stderr",
     "output_type": "stream",
     "text": [
      " 95%|█████████▌| 57/60 [04:58<00:15,  5.10s/it]"
     ]
    },
    {
     "name": "stdout",
     "output_type": "stream",
     "text": [
      "Processing image /Users/carlos/WORKSPACE/MegaClassifier/dataset/emptyNonEmptyDatasetCropped/cervidae/cervidredorfallowdeer_zoo_5_6_7_9/35_20210218_2606__2021_04_1506_16_22utc_.jpg\n"
     ]
    },
    {
     "name": "stderr",
     "output_type": "stream",
     "text": [
      " 97%|█████████▋| 58/60 [05:04<00:10,  5.17s/it]"
     ]
    },
    {
     "name": "stdout",
     "output_type": "stream",
     "text": [
      "Processing image /Users/carlos/WORKSPACE/MegaClassifier/dataset/emptyNonEmptyDatasetCropped/lince/linces_fecha_linces2_leo_jc/3_lince_flecha_linces2_leo_jc/lince103_371_.jpg\n"
     ]
    },
    {
     "name": "stderr",
     "output_type": "stream",
     "text": [
      " 98%|█████████▊| 59/60 [05:09<00:05,  5.26s/it]"
     ]
    },
    {
     "name": "stdout",
     "output_type": "stream",
     "text": [
      "Processing image /Users/carlos/WORKSPACE/MegaClassifier/dataset/emptyNonEmptyDatasetCropped/cervidae/ciervo_pnm_2013-o_isaac/f11190im000199.jpg\n",
      "Writing a new checkpoint after having processed 60 images since last restart\n",
      "Finished inference for 60 images in 5 minutes and 18.01 seconds\n",
      "Output file saved at /Users/carlos/WORKSPACE/MegaClassifier/resources/json/detections.json\n",
      "Deleted checkpoint file /Users/carlos/WORKSPACE/MegaClassifier/resources/json/checkpoint.json\n",
      "Done!\n"
     ]
    },
    {
     "name": "stderr",
     "output_type": "stream",
     "text": [
      "100%|██████████| 60/60 [05:14<00:00,  5.25s/it]\n"
     ]
    },
    {
     "name": "stdout",
     "output_type": "stream",
     "text": [
      "The file /Users/carlos/WORKSPACE/MegaClassifier/data/interim/train/20Train.csv has been successfully opened.\n",
      "The file /Users/carlos/WORKSPACE/MegaClassifier/reports/model_coberture/60_images_md_v4.csv has been successfully opened.\n",
      "The dataset has been successfully saved to /Users/carlos/WORKSPACE/MegaClassifier/reports/model_coberture/60_images_md_v4.csv\n",
      "\n",
      "-----------------------------------------------------------------------\n",
      "El porcentaje de positivos cubiertos es 100.00%\n",
      "-----------------------------------------------------------------------\n",
      "\n"
     ]
    }
   ],
   "source": [
    "threshold = round(initial_threshold *2, 3)\n",
    "load_from_checkpoint = False\n",
    "while positives_coberture != 1.0:\n",
    "    \n",
    "    threshold = round(threshold / 2, 3)\n",
    "    \n",
    "    print(f\"Iniciando ejecucion con umbral: {threshold}\")\n",
    "\n",
    "    detection_inicialitation_time = datetime.utcnow().strftime(\"%Y-%m-%d %H:%M:%S\")\n",
    "\n",
    "    if load_from_checkpoint:\n",
    "        command = f'python data/external/CameraTraps/detection/run_detector_batch.py \"{MODEL_PATH}\" \"{IMAGES_PATH_JSON}\" \"{OUTPUT_FILE_PATH}\" --recursive --threshold \"{threshold}\" --checkpoint_path \"{CHECKPOINT_PATH}\" --checkpoint_frequency \"{CHECKPOINT_FREQ}\" --resume_from_checkpoint \"{CHECKPOINT_PATH}\"'\n",
    "    else:\n",
    "        command = f'python data/external/CameraTraps/detection/run_detector_batch.py \"{MODEL_PATH}\" \"{IMAGES_PATH_JSON}\" \"{OUTPUT_FILE_PATH}\" --recursive --threshold \"{threshold}\" --checkpoint_path \"{CHECKPOINT_PATH}\" --checkpoint_frequency \"{CHECKPOINT_FREQ}\"'\n",
    "    os.system(command)\n",
    "\n",
    "    with open(OUTPUT_FILE_PATH, \"r\") as file:\n",
    "        data = json.load(file)\n",
    "\n",
    "    for image in data[\"images\"]:\n",
    "        image[\"file\"] = (\n",
    "            image[\"file\"]\n",
    "            .replace(\n",
    "                DATASET_PATH + \"/\",\n",
    "                \"\",\n",
    "            )\n",
    "        )\n",
    "\n",
    "    info = {\n",
    "        \"detection_initial_time\": detection_inicialitation_time,\n",
    "        \"detection_completion_time\": data[\"info\"][\"detection_completion_time\"],\n",
    "        \"format_version\": data[\"info\"][\"format_version\"],\n",
    "        \"detector\": data[\"info\"][\"detector\"],\n",
    "        \"detector_threshold\": threshold,\n",
    "        \"detector_metadata\": data[\"info\"][\"detector_metadata\"],\n",
    "    }\n",
    "\n",
    "    final_output = {\n",
    "        \"images\": data[\"images\"],\n",
    "        \"detection_categories\": data[\"detection_categories\"],\n",
    "        \"info\": info,\n",
    "    }\n",
    "\n",
    "    threshold_str = str(threshold).replace(\".\", \"_\")\n",
    "    json_name = f\"{len(data['images'])}_images_{threshold_str}_threshold.json\"\n",
    "    model_name = os.path.basename(MODEL_PATH).split(\".\")[0]\n",
    "    tmp_path = os.path.join(OUTPUT_PATH, model_name)\n",
    "    os.makedirs(tmp_path, exist_ok=True)\n",
    "    NEW_OUTPUT_FILE_PATH = os.path.join(tmp_path, json_name)\n",
    "\n",
    "    with open(NEW_OUTPUT_FILE_PATH, \"w\") as f:\n",
    "        json.dump(final_output, f, indent=1)\n",
    "\n",
    "    os.remove(OUTPUT_FILE_PATH)\n",
    "\n",
    "    data = final_output\n",
    "\n",
    "    dataset = dt.load_from_csv(TRAIN_CSV)\n",
    "\n",
    "    report_columns = [\n",
    "        \"file_name\",\n",
    "        \"label\",\n",
    "        \"threshold\",\n",
    "        \"detector_label\",\n",
    "        \"false_positive\",\n",
    "        \"false_negative\",\n",
    "        \"time_inference\",\n",
    "    ]\n",
    "    report = pd.DataFrame(columns=report_columns)\n",
    "\n",
    "    model = data[\"info\"][\"detector\"].split(\".\")[0]\n",
    "\n",
    "    for image in data[\"images\"]:\n",
    "        image_file = image[\"file\"]\n",
    "        indexes = dataset[dataset[\"file_name\"] == image_file]\n",
    "\n",
    "        if len(indexes) == 1:\n",
    "            label = int(indexes[\"label\"].iloc[0])\n",
    "            detector_label = 1 if image[\"max_detection_conf\"] > 0.0 else 0\n",
    "            false_positive = int(label == 0 and detector_label == 1)\n",
    "            false_negative = int(label == 1 and detector_label == 0)\n",
    "            time_inference = image[\"time_inference\"]\n",
    "\n",
    "            new_row = {\n",
    "                \"file_name\": image_file,\n",
    "                \"label\": label,\n",
    "                \"threshold\": data[\"info\"][\"detector_threshold\"],\n",
    "                \"detector_label\": detector_label,\n",
    "                \"false_positive\": false_positive,\n",
    "                \"false_negative\": false_negative,\n",
    "                \"time_inference\": time_inference,\n",
    "            }\n",
    "            report = pd.concat([report, pd.DataFrame([new_row])], ignore_index=True)\n",
    "\n",
    "    report_name = f\"{len(data['images'])}_images_{model}.csv\"\n",
    "    REPORT_CSV_FILE = os.path.join(REPORT_CSV, report_name)\n",
    "\n",
    "    if os.path.exists(REPORT_CSV_FILE):\n",
    "        existing_report = dt.load_from_csv(REPORT_CSV_FILE)\n",
    "        new_report = pd.concat([existing_report, report], ignore_index=True)\n",
    "        dt.dataset_to_csv(new_report, REPORT_CSV_FILE)\n",
    "    else:\n",
    "        dt.dataset_to_csv(report, REPORT_CSV_FILE)\n",
    "\n",
    "    positivos_reales = report[\"label\"].sum()\n",
    "    positivos_cubiertos = report[\n",
    "        (report[\"label\"] == 1) & (report[\"detector_label\"] == 1)\n",
    "    ].shape[0]\n",
    "\n",
    "    positives_coberture = (\n",
    "        (positivos_cubiertos / positivos_reales) if positivos_reales > 0 else 0\n",
    "    )\n",
    "\n",
    "    load_from_checkpoint = False\n",
    "\n",
    "    print()\n",
    "    print(\"-----------------------------------------------------------------------\")\n",
    "    print(f\"El porcentaje de positivos cubiertos es {positives_coberture*100:.2f}%\")\n",
    "    print(\"-----------------------------------------------------------------------\")\n",
    "    print()\n"
   ]
  }
 ],
 "metadata": {
  "kernelspec": {
   "display_name": "cameratraps-detector",
   "language": "python",
   "name": "python3"
  },
  "language_info": {
   "codemirror_mode": {
    "name": "ipython",
    "version": 3
   },
   "file_extension": ".py",
   "mimetype": "text/x-python",
   "name": "python",
   "nbconvert_exporter": "python",
   "pygments_lexer": "ipython3",
   "version": "3.8.15"
  }
 },
 "nbformat": 4,
 "nbformat_minor": 2
}
