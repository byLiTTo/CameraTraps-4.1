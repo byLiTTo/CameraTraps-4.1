{
 "cells": [
  {
   "cell_type": "code",
   "execution_count": 1,
   "metadata": {},
   "outputs": [],
   "source": [
    "import json\n",
    "import os\n",
    "from datetime import datetime\n",
    "import json\n",
    "import os\n",
    "\n",
    "import matplotlib.pyplot as plt\n",
    "import pandas as pd\n",
    "import seaborn as sns\n",
    "from sklearn.metrics import confusion_matrix\n",
    "\n",
    "import src.data.Dataset as dt"
   ]
  },
  {
   "cell_type": "code",
   "execution_count": 2,
   "metadata": {},
   "outputs": [
    {
     "name": "stdout",
     "output_type": "stream",
     "text": [
      "PYTHONPATH: :/Users/carlos/WORKSPACE/MegaClassifier/data/external/ai4eutils:/Users/carlos/WORKSPACE/MegaClassifier/data/external/CameraTraps:/Users/carlos/WORKSPACE/MegaClassifier/data/external/yolov5\n"
     ]
    }
   ],
   "source": [
    "required_paths = [\"/ai4eutils\", \"/CameraTraps\", \"/yolov5\"]\n",
    "python_path = os.environ.get(\"PYTHONPATH\", \"\")\n",
    "root_path = os.getcwd()\n",
    "\n",
    "for path in required_paths:\n",
    "    if not any(p.endswith(path) for p in python_path.split(\":\")):\n",
    "        python_path += f\":{root_path}/data/external{path}\"\n",
    "\n",
    "os.environ[\"PYTHONPATH\"] = python_path\n",
    "\n",
    "!echo \"PYTHONPATH: $PYTHONPATH\""
   ]
  },
  {
   "cell_type": "code",
   "execution_count": 3,
   "metadata": {},
   "outputs": [
    {
     "name": "stdout",
     "output_type": "stream",
     "text": [
      "MODEL_PATH: /Users/carlos/WORKSPACE/MegaClassifier/models/MegaDetector/md_v5a.0.0.pt\n",
      "OUTPUT_FILE_PATH: /Users/carlos/WORKSPACE/MegaClassifier/resources/json/detector_results.json\n",
      "OUTPUT_PATH: /Users/carlos/WORKSPACE/MegaClassifier/resources/json\n",
      "TRAIN_CSV: /Users/carlos/WORKSPACE/MegaClassifier/data/interim/train/20Train.csv\n"
     ]
    }
   ],
   "source": [
    "initial_threshold = float(0.02)\n",
    "steps_threshold = float(0.005)\n",
    "\n",
    "positives_coberture = 0.0\n",
    "\n",
    "OUTPUT_PATH = os.path.abspath(\"./resources/json\")\n",
    "\n",
    "MODEL_PATH = os.path.abspath(\"./models/MegaDetector/md_v5a.0.0.pt\")\n",
    "# MODEL_PATH = os.path.abspath(\"./models/MegaDetector/md_v5b.0.0.pt\")\n",
    "# MODEL_PATH = os.path.abspath(\"./models/MegaDetector/md_v4.1.0.pb\")\n",
    "\n",
    "DATASET_PATH = os.path.abspath(\"./dataset/emptyNonEmptyDatasetCROP\")\n",
    "\n",
    "OUTPUT_FILE_PATH = os.path.join(OUTPUT_PATH, \"detector_results.json\")\n",
    "CHECKPOINT_PATH = os.path.join(OUTPUT_PATH, \"checkpoint.json\")\n",
    "CHECKPOINT_FREQ = 5\n",
    "\n",
    "TRAIN_CSV = os.path.abspath(\"./data/interim/train/20Train.csv\")\n",
    "\n",
    "REPORT_CSV = os.path.abspath(\"./reports/model_coberture\")\n",
    "\n",
    "os.makedirs(OUTPUT_PATH, exist_ok=True)\n",
    "\n",
    "print(f\"MODEL_PATH: {MODEL_PATH}\")\n",
    "print(f\"OUTPUT_FILE_PATH: {OUTPUT_FILE_PATH}\")\n",
    "print(f\"OUTPUT_PATH: {OUTPUT_PATH}\")\n",
    "print(f\"TRAIN_CSV: {TRAIN_CSV}\")"
   ]
  },
  {
   "cell_type": "code",
   "execution_count": 4,
   "metadata": {},
   "outputs": [
    {
     "name": "stdout",
     "output_type": "stream",
     "text": [
      "Restored 5 entries from the checkpoint\n",
      "60 image files found in the input directory\n",
      "The checkpoint file will be written to /Users/carlos/WORKSPACE/MegaClassifier/resources/json/checkpoint.json\n",
      "PyTorch reports 0 available CUDA devices\n",
      "GPU available: False\n",
      "Using PyTorch version 1.10.1\n"
     ]
    },
    {
     "name": "stderr",
     "output_type": "stream",
     "text": [
      "Fusing layers... \n",
      "Model summary: 574 layers, 139990096 parameters, 0 gradients\n",
      "  0%|          | 0/60 [00:00<?, ?it/s]"
     ]
    },
    {
     "name": "stdout",
     "output_type": "stream",
     "text": [
      "Loaded model in 1.52 seconds\n",
      "Loaded model in 1.52 seconds\n",
      "Bypassing image /Users/carlos/WORKSPACE/MegaClassifier/dataset/emptyNonEmptyDatasetCROP/leporido/conejo_Paco_Carro_JC/PICT0646 (2).JPG\n",
      "Bypassing image /Users/carlos/WORKSPACE/MegaClassifier/dataset/emptyNonEmptyDatasetCROP/leporido/Conejo_PNC_2014_JC/c8663IM000121.JPG\n",
      "Bypassing image /Users/carlos/WORKSPACE/MegaClassifier/dataset/emptyNonEmptyDatasetCROP/vaca/cow_CaltechCameraTrap/585c030e-23d2-11e8-a6a3-ec086b02610b.jpg\n",
      "Bypassing image /Users/carlos/WORKSPACE/MegaClassifier/dataset/emptyNonEmptyDatasetCROP/vaca/vaca_Paco_Carro_JC/PICT0042.JPG\n",
      "Bypassing image /Users/carlos/WORKSPACE/MegaClassifier/dataset/emptyNonEmptyDatasetCROP/vaca/COW_ZOO_5_6_7_9/21_20210418 (1498).JPG\n",
      "Processing image /Users/carlos/WORKSPACE/MegaClassifier/dataset/emptyNonEmptyDatasetCROP/jabali/jabali_PNM_2013-O_ISAAC/f27560IMAG0113.JPG\n"
     ]
    },
    {
     "name": "stderr",
     "output_type": "stream",
     "text": [
      " 10%|█         | 6/60 [00:02<00:23,  2.27it/s]"
     ]
    },
    {
     "name": "stdout",
     "output_type": "stream",
     "text": [
      "Processing image /Users/carlos/WORKSPACE/MegaClassifier/dataset/emptyNonEmptyDatasetCROP/jabali/WILDBOAR_ZOO_5_6_7_9/20_20210219 (2902) (2021_04_15 06_16_22 UTC).JPG\n"
     ]
    },
    {
     "name": "stderr",
     "output_type": "stream",
     "text": [
      " 12%|█▏        | 7/60 [00:04<00:42,  1.26it/s]"
     ]
    },
    {
     "name": "stdout",
     "output_type": "stream",
     "text": [
      "Processing image /Users/carlos/WORKSPACE/MegaClassifier/dataset/emptyNonEmptyDatasetCROP/jabali/WILDBOAR_ZOO_5_6_7_9/1_20210319 (7).JPG\n"
     ]
    },
    {
     "name": "stderr",
     "output_type": "stream",
     "text": [
      " 13%|█▎        | 8/60 [00:07<00:58,  1.13s/it]"
     ]
    },
    {
     "name": "stdout",
     "output_type": "stream",
     "text": [
      "Processing image /Users/carlos/WORKSPACE/MegaClassifier/dataset/emptyNonEmptyDatasetCROP/jabali/jabali_Paco_Carro_camarasliron_4_2_PASADAS_POR_LA_RED_JC/MDGC0675.JPG\n"
     ]
    },
    {
     "name": "stderr",
     "output_type": "stream",
     "text": [
      " 15%|█▌        | 9/60 [00:09<01:15,  1.48s/it]"
     ]
    },
    {
     "name": "stdout",
     "output_type": "stream",
     "text": [
      "Processing image /Users/carlos/WORKSPACE/MegaClassifier/dataset/emptyNonEmptyDatasetCROP/jabali/WILDBOAR_ZOO_1_4/22_20210115 (801).JPG\n",
      "Writing a new checkpoint after having processed 5 images since last restart\n",
      "Processing image /Users/carlos/WORKSPACE/MegaClassifier/dataset/emptyNonEmptyDatasetCROP/jabali/WILDBOAR_ZOO_1_4/37_20210115 (2245).JPG\n"
     ]
    },
    {
     "name": "stderr",
     "output_type": "stream",
     "text": [
      " 18%|█▊        | 11/60 [00:14<01:31,  1.86s/it]"
     ]
    },
    {
     "name": "stdout",
     "output_type": "stream",
     "text": [
      "Processing image /Users/carlos/WORKSPACE/MegaClassifier/dataset/emptyNonEmptyDatasetCROP/cervidae/2_Ciervo_Paco_Carro_camarasliron_4_2_PASADAS_POR_LA_RED_JC/PICT0080.JPG\n"
     ]
    },
    {
     "name": "stderr",
     "output_type": "stream",
     "text": [
      " 20%|██        | 12/60 [00:17<01:39,  2.06s/it]"
     ]
    },
    {
     "name": "stdout",
     "output_type": "stream",
     "text": [
      "Processing image /Users/carlos/WORKSPACE/MegaClassifier/dataset/emptyNonEmptyDatasetCROP/cervidae/ciervo_PNM_2013-O_ISAAC/f11190IM000199.JPG\n"
     ]
    },
    {
     "name": "stderr",
     "output_type": "stream",
     "text": [
      " 22%|██▏       | 13/60 [00:19<01:44,  2.23s/it]"
     ]
    },
    {
     "name": "stdout",
     "output_type": "stream",
     "text": [
      "Processing image /Users/carlos/WORKSPACE/MegaClassifier/dataset/emptyNonEmptyDatasetCROP/cervidae/Ciervo_PNC_2012_JC/a14725IM000641.JPG\n"
     ]
    },
    {
     "name": "stderr",
     "output_type": "stream",
     "text": [
      " 23%|██▎       | 14/60 [00:22<01:47,  2.34s/it]"
     ]
    },
    {
     "name": "stdout",
     "output_type": "stream",
     "text": [
      "Processing image /Users/carlos/WORKSPACE/MegaClassifier/dataset/emptyNonEmptyDatasetCROP/cervidae/Ciervo_PNC_2012_JC/a34265IM000500.JPG\n",
      "Writing a new checkpoint after having processed 10 images since last restart\n",
      "Processing image /Users/carlos/WORKSPACE/MegaClassifier/dataset/emptyNonEmptyDatasetCROP/cervidae/2_ciervo_alumno_2_TH/34_20201024 (2381).JPG\n"
     ]
    },
    {
     "name": "stderr",
     "output_type": "stream",
     "text": [
      " 27%|██▋       | 16/60 [00:27<01:44,  2.37s/it]"
     ]
    },
    {
     "name": "stdout",
     "output_type": "stream",
     "text": [
      "Processing image /Users/carlos/WORKSPACE/MegaClassifier/dataset/emptyNonEmptyDatasetCROP/cervidae/ciervo_simone_2/34_20201024 (5494).JPG\n"
     ]
    },
    {
     "name": "stderr",
     "output_type": "stream",
     "text": [
      " 28%|██▊       | 17/60 [00:29<01:40,  2.34s/it]"
     ]
    },
    {
     "name": "stdout",
     "output_type": "stream",
     "text": [
      "Processing image /Users/carlos/WORKSPACE/MegaClassifier/dataset/emptyNonEmptyDatasetCROP/cervidae/ciervo_simone_2/37_20201024 (1156).JPG\n"
     ]
    },
    {
     "name": "stderr",
     "output_type": "stream",
     "text": [
      " 30%|███       | 18/60 [00:31<01:37,  2.31s/it]"
     ]
    },
    {
     "name": "stdout",
     "output_type": "stream",
     "text": [
      "Processing image /Users/carlos/WORKSPACE/MegaClassifier/dataset/emptyNonEmptyDatasetCROP/cervidae/CERVIDREDORFALLOWDEER_ZOO_1_4/34_20201024 (2742).JPG\n"
     ]
    },
    {
     "name": "stderr",
     "output_type": "stream",
     "text": [
      " 32%|███▏      | 19/60 [00:34<01:34,  2.30s/it]"
     ]
    },
    {
     "name": "stdout",
     "output_type": "stream",
     "text": [
      "Processing image /Users/carlos/WORKSPACE/MegaClassifier/dataset/emptyNonEmptyDatasetCROP/cervidae/CERVIDREDORFALLOWDEER_ZOO_1_4/17_20201225 (61).JPG\n",
      "Writing a new checkpoint after having processed 15 images since last restart\n",
      "Processing image /Users/carlos/WORKSPACE/MegaClassifier/dataset/emptyNonEmptyDatasetCROP/cervidae/CERVIDREDORFALLOWDEER_ZOO_1_4/20_20201024 (741).JPG\n"
     ]
    },
    {
     "name": "stderr",
     "output_type": "stream",
     "text": [
      " 35%|███▌      | 21/60 [00:38<01:29,  2.29s/it]"
     ]
    },
    {
     "name": "stdout",
     "output_type": "stream",
     "text": [
      "Processing image /Users/carlos/WORKSPACE/MegaClassifier/dataset/emptyNonEmptyDatasetCROP/cervidae/CERVIDREDORFALLOWDEER_ZOO_5_6_7_9/10_20210417 (246).JPG\n"
     ]
    },
    {
     "name": "stderr",
     "output_type": "stream",
     "text": [
      " 37%|███▋      | 22/60 [00:40<01:27,  2.29s/it]"
     ]
    },
    {
     "name": "stdout",
     "output_type": "stream",
     "text": [
      "Processing image /Users/carlos/WORKSPACE/MegaClassifier/dataset/emptyNonEmptyDatasetCROP/cervidae/CERVIDREDORFALLOWDEER_ZOO_5_6_7_9/20_20210219 (2099) (2021_04_15 06_16_22 UTC).JPG\n"
     ]
    },
    {
     "name": "stderr",
     "output_type": "stream",
     "text": [
      " 38%|███▊      | 23/60 [00:43<01:24,  2.29s/it]"
     ]
    },
    {
     "name": "stdout",
     "output_type": "stream",
     "text": [
      "Processing image /Users/carlos/WORKSPACE/MegaClassifier/dataset/emptyNonEmptyDatasetCROP/cervidae/CERVIDREDORFALLOWDEER_ZOO_5_6_7_9/35_20210218 (2606) (2021_04_15 06_16_22 UTC).JPG\n"
     ]
    },
    {
     "name": "stderr",
     "output_type": "stream",
     "text": [
      " 40%|████      | 24/60 [00:45<01:21,  2.28s/it]"
     ]
    },
    {
     "name": "stdout",
     "output_type": "stream",
     "text": [
      "Processing image /Users/carlos/WORKSPACE/MegaClassifier/dataset/emptyNonEmptyDatasetCROP/vacia/SnampshotEnonkishu/ENO_S1_D06_R1_IMAG5237.JPG\n",
      "Writing a new checkpoint after having processed 20 images since last restart\n",
      "Processing image /Users/carlos/WORKSPACE/MegaClassifier/dataset/emptyNonEmptyDatasetCROP/vacia/vacia_alumno_AM_2/25_20201024 (312).JPG\n"
     ]
    },
    {
     "name": "stderr",
     "output_type": "stream",
     "text": [
      " 43%|████▎     | 26/60 [00:50<01:20,  2.37s/it]"
     ]
    },
    {
     "name": "stdout",
     "output_type": "stream",
     "text": [
      "Processing image /Users/carlos/WORKSPACE/MegaClassifier/dataset/emptyNonEmptyDatasetCROP/vacia/empty_SnapshotMountainZebra/MTZ_S1_D05_R1_IMAG2029.JPG\n"
     ]
    },
    {
     "name": "stderr",
     "output_type": "stream",
     "text": [
      " 45%|████▌     | 27/60 [00:53<01:20,  2.44s/it]"
     ]
    },
    {
     "name": "stdout",
     "output_type": "stream",
     "text": [
      "Processing image /Users/carlos/WORKSPACE/MegaClassifier/dataset/emptyNonEmptyDatasetCROP/vacia/empty_SnapshotMountainZebra/MTZ_S1_D06_R1_IMAG0865.JPG\n"
     ]
    },
    {
     "name": "stderr",
     "output_type": "stream",
     "text": [
      " 47%|████▋     | 28/60 [00:55<01:20,  2.50s/it]"
     ]
    },
    {
     "name": "stdout",
     "output_type": "stream",
     "text": [
      "Processing image /Users/carlos/WORKSPACE/MegaClassifier/dataset/emptyNonEmptyDatasetCROP/vacia/empty_SnapshotMountainZebra/MTZ_S1_C06_R3_IMAG2525.JPG\n"
     ]
    },
    {
     "name": "stderr",
     "output_type": "stream",
     "text": [
      " 48%|████▊     | 29/60 [00:58<01:18,  2.54s/it]"
     ]
    },
    {
     "name": "stdout",
     "output_type": "stream",
     "text": [
      "Processing image /Users/carlos/WORKSPACE/MegaClassifier/dataset/emptyNonEmptyDatasetCROP/vacia/empty_SnapshotMountainZebra/MTZ_S1_D06_R1_IMAG1583.JPG\n",
      "Writing a new checkpoint after having processed 25 images since last restart\n",
      "Processing image /Users/carlos/WORKSPACE/MegaClassifier/dataset/emptyNonEmptyDatasetCROP/vacia/vacias_PNC_2014_ISAAC/c11233IMAG0016.JPG\n"
     ]
    },
    {
     "name": "stderr",
     "output_type": "stream",
     "text": [
      " 52%|█████▏    | 31/60 [01:03<01:15,  2.59s/it]"
     ]
    },
    {
     "name": "stdout",
     "output_type": "stream",
     "text": [
      "Processing image /Users/carlos/WORKSPACE/MegaClassifier/dataset/emptyNonEmptyDatasetCROP/vacia/vacias_PNM_2013-O_ISAAC/f7213IMAG0066.JPG\n"
     ]
    },
    {
     "name": "stderr",
     "output_type": "stream",
     "text": [
      " 53%|█████▎    | 32/60 [01:06<01:12,  2.59s/it]"
     ]
    },
    {
     "name": "stdout",
     "output_type": "stream",
     "text": [
      "Processing image /Users/carlos/WORKSPACE/MegaClassifier/dataset/emptyNonEmptyDatasetCROP/vacia/empty_IslandConservationCameraTraps/dominicanrepublic_cam11618mayo2017_20170410_092515_img_0069.jpg\n"
     ]
    },
    {
     "name": "stderr",
     "output_type": "stream",
     "text": [
      " 55%|█████▌    | 33/60 [01:08<01:07,  2.50s/it]"
     ]
    },
    {
     "name": "stdout",
     "output_type": "stream",
     "text": [
      "Processing image /Users/carlos/WORKSPACE/MegaClassifier/dataset/emptyNonEmptyDatasetCROP/vacia/empty_IslandConservationCameraTraps/dominicanrepublic_cam1826junio2015_20150505_130939_img_3077.jpg\n"
     ]
    },
    {
     "name": "stderr",
     "output_type": "stream",
     "text": [
      " 57%|█████▋    | 34/60 [01:10<01:02,  2.42s/it]"
     ]
    },
    {
     "name": "stdout",
     "output_type": "stream",
     "text": [
      "Processing image /Users/carlos/WORKSPACE/MegaClassifier/dataset/emptyNonEmptyDatasetCROP/vacia/empty_IslandConservationCameraTraps/ecuador1_cam1612_20150209_051159_img_1446.jpg\n",
      "Writing a new checkpoint after having processed 30 images since last restart\n",
      "Processing image /Users/carlos/WORKSPACE/MegaClassifier/dataset/emptyNonEmptyDatasetCROP/vacia/empty_IslandConservationCameraTraps/dominicanrepublic_cam0926julio2015_20150630_185725_img_0015.jpg\n"
     ]
    },
    {
     "name": "stderr",
     "output_type": "stream",
     "text": [
      " 60%|██████    | 36/60 [01:15<00:56,  2.36s/it]"
     ]
    },
    {
     "name": "stdout",
     "output_type": "stream",
     "text": [
      "Processing image /Users/carlos/WORKSPACE/MegaClassifier/dataset/emptyNonEmptyDatasetCROP/vacia/NOANIMAL_ZOO_5_6_7_9/50_20210408 (6876).JPG\n"
     ]
    },
    {
     "name": "stderr",
     "output_type": "stream",
     "text": [
      " 62%|██████▏   | 37/60 [01:17<00:53,  2.34s/it]"
     ]
    },
    {
     "name": "stdout",
     "output_type": "stream",
     "text": [
      "Processing image /Users/carlos/WORKSPACE/MegaClassifier/dataset/emptyNonEmptyDatasetCROP/vacia/NOANIMAL_ZOO_5_6_7_9/50_20210417 (25294).JPG\n"
     ]
    },
    {
     "name": "stderr",
     "output_type": "stream",
     "text": [
      " 63%|██████▎   | 38/60 [01:19<00:51,  2.32s/it]"
     ]
    },
    {
     "name": "stdout",
     "output_type": "stream",
     "text": [
      "Processing image /Users/carlos/WORKSPACE/MegaClassifier/dataset/emptyNonEmptyDatasetCROP/vacia/NOANIMAL_ZOO_5_6_7_9/24_20210615 (7263).JPG\n"
     ]
    },
    {
     "name": "stderr",
     "output_type": "stream",
     "text": [
      " 65%|██████▌   | 39/60 [01:22<00:48,  2.30s/it]"
     ]
    },
    {
     "name": "stdout",
     "output_type": "stream",
     "text": [
      "Processing image /Users/carlos/WORKSPACE/MegaClassifier/dataset/emptyNonEmptyDatasetCROP/vacia/NOANIMAL_ZOO_5_6_7_9/20_20210618 (3959).JPG\n",
      "Writing a new checkpoint after having processed 35 images since last restart\n",
      "Processing image /Users/carlos/WORKSPACE/MegaClassifier/dataset/emptyNonEmptyDatasetCROP/vacia/NOANIMAL_ZOO_1_4/28_20201019 (329).JPG\n"
     ]
    },
    {
     "name": "stderr",
     "output_type": "stream",
     "text": [
      " 68%|██████▊   | 41/60 [01:26<00:43,  2.31s/it]"
     ]
    },
    {
     "name": "stdout",
     "output_type": "stream",
     "text": [
      "Processing image /Users/carlos/WORKSPACE/MegaClassifier/dataset/emptyNonEmptyDatasetCROP/vacia/NOANIMAL_ZOO_1_4/34_20210115 (1643).JPG\n"
     ]
    },
    {
     "name": "stderr",
     "output_type": "stream",
     "text": [
      " 70%|███████   | 42/60 [01:28<00:41,  2.29s/it]"
     ]
    },
    {
     "name": "stdout",
     "output_type": "stream",
     "text": [
      "Processing image /Users/carlos/WORKSPACE/MegaClassifier/dataset/emptyNonEmptyDatasetCROP/vacia/vacia_javi_2_JC/27_20201023 (4595).JPG\n"
     ]
    },
    {
     "name": "stderr",
     "output_type": "stream",
     "text": [
      " 72%|███████▏  | 43/60 [01:31<00:38,  2.28s/it]"
     ]
    },
    {
     "name": "stdout",
     "output_type": "stream",
     "text": [
      "Processing image /Users/carlos/WORKSPACE/MegaClassifier/dataset/emptyNonEmptyDatasetCROP/vacia/vacia_alumno_2_2_TH_JC/27_20201023 (5918).JPG\n"
     ]
    },
    {
     "name": "stderr",
     "output_type": "stream",
     "text": [
      " 73%|███████▎  | 44/60 [01:33<00:36,  2.27s/it]"
     ]
    },
    {
     "name": "stdout",
     "output_type": "stream",
     "text": [
      "Processing image /Users/carlos/WORKSPACE/MegaClassifier/dataset/emptyNonEmptyDatasetCROP/caballo/HORSE_ZOO_1_4/15_20201117 (7287).JPG\n",
      "Writing a new checkpoint after having processed 40 images since last restart\n",
      "Processing image /Users/carlos/WORKSPACE/MegaClassifier/dataset/emptyNonEmptyDatasetCROP/garduna/garduna_vacías_humanos_PNC_2012_ME/a43103IMAG0017.JPG\n"
     ]
    },
    {
     "name": "stderr",
     "output_type": "stream",
     "text": [
      " 77%|███████▋  | 46/60 [01:38<00:33,  2.39s/it]"
     ]
    },
    {
     "name": "stdout",
     "output_type": "stream",
     "text": [
      "Processing image /Users/carlos/WORKSPACE/MegaClassifier/dataset/emptyNonEmptyDatasetCROP/garduna/Garduna_PNM_2013-0_ME/f14844IM000051.JPG\n"
     ]
    },
    {
     "name": "stderr",
     "output_type": "stream",
     "text": [
      " 78%|███████▊  | 47/60 [01:41<00:31,  2.45s/it]"
     ]
    },
    {
     "name": "stdout",
     "output_type": "stream",
     "text": [
      "Processing image /Users/carlos/WORKSPACE/MegaClassifier/dataset/emptyNonEmptyDatasetCROP/micromamiferos/rat_IslandConservationCameraTraps/palau_cam6a12132018_20180914_224626_rcnx0468.jpg\n"
     ]
    },
    {
     "name": "stderr",
     "output_type": "stream",
     "text": [
      " 80%|████████  | 48/60 [01:43<00:30,  2.52s/it]"
     ]
    },
    {
     "name": "stdout",
     "output_type": "stream",
     "text": [
      "Processing image /Users/carlos/WORKSPACE/MegaClassifier/dataset/emptyNonEmptyDatasetCROP/tejon/Tejon_PEPE_IREC_JC/IMAG0423_(5).JPG\n"
     ]
    },
    {
     "name": "stderr",
     "output_type": "stream",
     "text": [
      " 82%|████████▏ | 49/60 [01:46<00:28,  2.56s/it]"
     ]
    },
    {
     "name": "stdout",
     "output_type": "stream",
     "text": [
      "Processing image /Users/carlos/WORKSPACE/MegaClassifier/dataset/emptyNonEmptyDatasetCROP/humanovehiculo/humano_vehiculo_PNM_2013-O_ISAAC/f8130IM000003.JPG\n",
      "Writing a new checkpoint after having processed 45 images since last restart\n",
      "Processing image /Users/carlos/WORKSPACE/MegaClassifier/dataset/emptyNonEmptyDatasetCROP/humanovehiculo/humano_vehiculo_PNC_2014_ISAAC/c12199IMAG0129.JPG\n"
     ]
    },
    {
     "name": "stderr",
     "output_type": "stream",
     "text": [
      " 85%|████████▌ | 51/60 [01:51<00:23,  2.59s/it]"
     ]
    },
    {
     "name": "stdout",
     "output_type": "stream",
     "text": [
      "Processing image /Users/carlos/WORKSPACE/MegaClassifier/dataset/emptyNonEmptyDatasetCROP/zorro/zorro_Leo_Otra_fauna_PASADA_POR_LA_RED_JC/Otrafauna (675).JPG\n"
     ]
    },
    {
     "name": "stderr",
     "output_type": "stream",
     "text": [
      " 87%|████████▋ | 52/60 [01:54<00:20,  2.59s/it]"
     ]
    },
    {
     "name": "stdout",
     "output_type": "stream",
     "text": [
      "Processing image /Users/carlos/WORKSPACE/MegaClassifier/dataset/emptyNonEmptyDatasetCROP/ave/bird_CaltechCameraTrap/58ce4024-23d2-11e8-a6a3-ec086b02610b.jpg\n"
     ]
    },
    {
     "name": "stderr",
     "output_type": "stream",
     "text": [
      " 88%|████████▊ | 53/60 [01:56<00:18,  2.60s/it]"
     ]
    },
    {
     "name": "stdout",
     "output_type": "stream",
     "text": [
      "Processing image /Users/carlos/WORKSPACE/MegaClassifier/dataset/emptyNonEmptyDatasetCROP/ave/bird_CaltechCameraTrap/5976a214-23d2-11e8-a6a3-ec086b02610b.jpg\n"
     ]
    },
    {
     "name": "stderr",
     "output_type": "stream",
     "text": [
      " 90%|█████████ | 54/60 [01:59<00:15,  2.59s/it]"
     ]
    },
    {
     "name": "stdout",
     "output_type": "stream",
     "text": [
      "Processing image /Users/carlos/WORKSPACE/MegaClassifier/dataset/emptyNonEmptyDatasetCROP/ave/Chicken_ena24/6426.jpg\n",
      "Writing a new checkpoint after having processed 50 images since last restart\n",
      "Processing image /Users/carlos/WORKSPACE/MegaClassifier/dataset/emptyNonEmptyDatasetCROP/ave/OTHERSPECIES_ZOO_5_6_7_9/38_20210618 (1691).JPG\n"
     ]
    },
    {
     "name": "stderr",
     "output_type": "stream",
     "text": [
      " 93%|█████████▎| 56/60 [02:04<00:10,  2.51s/it]"
     ]
    },
    {
     "name": "stdout",
     "output_type": "stream",
     "text": [
      "Processing image /Users/carlos/WORKSPACE/MegaClassifier/dataset/emptyNonEmptyDatasetCROP/ave/ave_ave_WellingtonCameraTraps_SS/050816133858011bs101.JPG\n"
     ]
    },
    {
     "name": "stderr",
     "output_type": "stream",
     "text": [
      " 95%|█████████▌| 57/60 [02:06<00:07,  2.58s/it]"
     ]
    },
    {
     "name": "stdout",
     "output_type": "stream",
     "text": [
      "Processing image /Users/carlos/WORKSPACE/MegaClassifier/dataset/emptyNonEmptyDatasetCROP/lince/Lince_a_Linces2_Leo_JC/Lince58 (22).JPG\n"
     ]
    },
    {
     "name": "stderr",
     "output_type": "stream",
     "text": [
      " 97%|█████████▋| 58/60 [02:09<00:05,  2.62s/it]"
     ]
    },
    {
     "name": "stdout",
     "output_type": "stream",
     "text": [
      "Processing image /Users/carlos/WORKSPACE/MegaClassifier/dataset/emptyNonEmptyDatasetCROP/lince/Lince_a_Linces2_Leo_JC/lince130 (306).JPG\n"
     ]
    },
    {
     "name": "stderr",
     "output_type": "stream",
     "text": [
      " 98%|█████████▊| 59/60 [02:11<00:02,  2.54s/it]"
     ]
    },
    {
     "name": "stdout",
     "output_type": "stream",
     "text": [
      "Processing image /Users/carlos/WORKSPACE/MegaClassifier/dataset/emptyNonEmptyDatasetCROP/lince/linces_fecha_Linces2_Leo_JC/3_Lince_flecha_Linces2_Leo_JC/lince103 (371).JPG\n",
      "Writing a new checkpoint after having processed 55 images since last restart\n",
      "Finished inference for 60 images in 2 minutes and 16.09 seconds\n",
      "Output file saved at /Users/carlos/WORKSPACE/MegaClassifier/resources/json/detector_results.json\n",
      "Deleted checkpoint file /Users/carlos/WORKSPACE/MegaClassifier/resources/json/checkpoint.json\n",
      "Done!\n",
      "The file /Users/carlos/WORKSPACE/MegaClassifier/data/interim/train/20Train.csv has been successfully opened.\n",
      "The dataset has been successfully saved to /Users/carlos/WORKSPACE/MegaClassifier/reports/model_coberture/60_images_md_v5a.csv\n",
      "\n",
      "-----------------------------------------------------------------------\n",
      "El porcentaje de positivos cubiertos es 0.00%\n",
      "-----------------------------------------------------------------------\n",
      "\n"
     ]
    },
    {
     "name": "stderr",
     "output_type": "stream",
     "text": [
      "100%|██████████| 60/60 [02:14<00:00,  2.24s/it]\n"
     ]
    },
    {
     "name": "stdout",
     "output_type": "stream",
     "text": [
      "60 image files found in the input directory\n",
      "The checkpoint file will be written to /Users/carlos/WORKSPACE/MegaClassifier/resources/json/checkpoint.json\n",
      "PyTorch reports 0 available CUDA devices\n",
      "GPU available: False\n",
      "Using PyTorch version 1.10.1\n"
     ]
    },
    {
     "name": "stderr",
     "output_type": "stream",
     "text": [
      "Fusing layers... \n",
      "Model summary: 574 layers, 139990096 parameters, 0 gradients\n",
      "  0%|          | 0/60 [00:00<?, ?it/s]"
     ]
    },
    {
     "name": "stdout",
     "output_type": "stream",
     "text": [
      "Loaded model in 1.41 seconds\n",
      "Loaded model in 1.41 seconds\n",
      "Processing image /Users/carlos/WORKSPACE/MegaClassifier/dataset/emptyNonEmptyDatasetCROP/leporido/conejo_Paco_Carro_JC/PICT0646 (2).JPG\n"
     ]
    },
    {
     "name": "stderr",
     "output_type": "stream",
     "text": [
      "  2%|▏         | 1/60 [00:02<02:36,  2.66s/it]"
     ]
    },
    {
     "name": "stdout",
     "output_type": "stream",
     "text": [
      "Processing image /Users/carlos/WORKSPACE/MegaClassifier/dataset/emptyNonEmptyDatasetCROP/leporido/Conejo_PNC_2014_JC/c8663IM000121.JPG\n"
     ]
    },
    {
     "name": "stderr",
     "output_type": "stream",
     "text": [
      "  3%|▎         | 2/60 [00:05<02:31,  2.62s/it]"
     ]
    },
    {
     "name": "stdout",
     "output_type": "stream",
     "text": [
      "Processing image /Users/carlos/WORKSPACE/MegaClassifier/dataset/emptyNonEmptyDatasetCROP/vaca/cow_CaltechCameraTrap/585c030e-23d2-11e8-a6a3-ec086b02610b.jpg\n"
     ]
    },
    {
     "name": "stderr",
     "output_type": "stream",
     "text": [
      "  5%|▌         | 3/60 [00:07<02:28,  2.61s/it]"
     ]
    },
    {
     "name": "stdout",
     "output_type": "stream",
     "text": [
      "Processing image /Users/carlos/WORKSPACE/MegaClassifier/dataset/emptyNonEmptyDatasetCROP/vaca/vaca_Paco_Carro_JC/PICT0042.JPG\n"
     ]
    },
    {
     "name": "stderr",
     "output_type": "stream",
     "text": [
      "  7%|▋         | 4/60 [00:10<02:25,  2.59s/it]"
     ]
    },
    {
     "name": "stdout",
     "output_type": "stream",
     "text": [
      "Processing image /Users/carlos/WORKSPACE/MegaClassifier/dataset/emptyNonEmptyDatasetCROP/vaca/COW_ZOO_5_6_7_9/21_20210418 (1498).JPG\n",
      "Writing a new checkpoint after having processed 5 images since last restart\n",
      "Processing image /Users/carlos/WORKSPACE/MegaClassifier/dataset/emptyNonEmptyDatasetCROP/jabali/jabali_PNM_2013-O_ISAAC/f27560IMAG0113.JPG\n"
     ]
    },
    {
     "name": "stderr",
     "output_type": "stream",
     "text": [
      " 10%|█         | 6/60 [00:15<02:17,  2.54s/it]"
     ]
    },
    {
     "name": "stdout",
     "output_type": "stream",
     "text": [
      "Processing image /Users/carlos/WORKSPACE/MegaClassifier/dataset/emptyNonEmptyDatasetCROP/jabali/WILDBOAR_ZOO_5_6_7_9/20_20210219 (2902) (2021_04_15 06_16_22 UTC).JPG\n"
     ]
    },
    {
     "name": "stderr",
     "output_type": "stream",
     "text": [
      " 12%|█▏        | 7/60 [00:17<02:09,  2.45s/it]"
     ]
    },
    {
     "name": "stdout",
     "output_type": "stream",
     "text": [
      "Processing image /Users/carlos/WORKSPACE/MegaClassifier/dataset/emptyNonEmptyDatasetCROP/jabali/WILDBOAR_ZOO_5_6_7_9/1_20210319 (7).JPG\n"
     ]
    },
    {
     "name": "stderr",
     "output_type": "stream",
     "text": [
      " 13%|█▎        | 8/60 [00:19<02:04,  2.40s/it]"
     ]
    },
    {
     "name": "stdout",
     "output_type": "stream",
     "text": [
      "Processing image /Users/carlos/WORKSPACE/MegaClassifier/dataset/emptyNonEmptyDatasetCROP/jabali/jabali_Paco_Carro_camarasliron_4_2_PASADAS_POR_LA_RED_JC/MDGC0675.JPG\n"
     ]
    },
    {
     "name": "stderr",
     "output_type": "stream",
     "text": [
      " 15%|█▌        | 9/60 [00:22<02:06,  2.47s/it]"
     ]
    },
    {
     "name": "stdout",
     "output_type": "stream",
     "text": [
      "Processing image /Users/carlos/WORKSPACE/MegaClassifier/dataset/emptyNonEmptyDatasetCROP/jabali/WILDBOAR_ZOO_1_4/22_20210115 (801).JPG\n",
      "Writing a new checkpoint after having processed 10 images since last restart\n",
      "Processing image /Users/carlos/WORKSPACE/MegaClassifier/dataset/emptyNonEmptyDatasetCROP/jabali/WILDBOAR_ZOO_1_4/37_20210115 (2245).JPG\n"
     ]
    },
    {
     "name": "stderr",
     "output_type": "stream",
     "text": [
      " 18%|█▊        | 11/60 [00:27<01:56,  2.39s/it]"
     ]
    },
    {
     "name": "stdout",
     "output_type": "stream",
     "text": [
      "Processing image /Users/carlos/WORKSPACE/MegaClassifier/dataset/emptyNonEmptyDatasetCROP/cervidae/2_Ciervo_Paco_Carro_camarasliron_4_2_PASADAS_POR_LA_RED_JC/PICT0080.JPG\n"
     ]
    },
    {
     "name": "stderr",
     "output_type": "stream",
     "text": [
      " 20%|██        | 12/60 [00:29<01:57,  2.45s/it]"
     ]
    },
    {
     "name": "stdout",
     "output_type": "stream",
     "text": [
      "Processing image /Users/carlos/WORKSPACE/MegaClassifier/dataset/emptyNonEmptyDatasetCROP/cervidae/ciervo_PNM_2013-O_ISAAC/f11190IM000199.JPG\n"
     ]
    },
    {
     "name": "stderr",
     "output_type": "stream",
     "text": [
      " 22%|██▏       | 13/60 [00:32<01:57,  2.49s/it]"
     ]
    },
    {
     "name": "stdout",
     "output_type": "stream",
     "text": [
      "Processing image /Users/carlos/WORKSPACE/MegaClassifier/dataset/emptyNonEmptyDatasetCROP/cervidae/Ciervo_PNC_2012_JC/a14725IM000641.JPG\n"
     ]
    },
    {
     "name": "stderr",
     "output_type": "stream",
     "text": [
      " 23%|██▎       | 14/60 [00:34<01:56,  2.53s/it]"
     ]
    },
    {
     "name": "stdout",
     "output_type": "stream",
     "text": [
      "Processing image /Users/carlos/WORKSPACE/MegaClassifier/dataset/emptyNonEmptyDatasetCROP/cervidae/Ciervo_PNC_2012_JC/a34265IM000500.JPG\n",
      "Writing a new checkpoint after having processed 15 images since last restart\n",
      "Processing image /Users/carlos/WORKSPACE/MegaClassifier/dataset/emptyNonEmptyDatasetCROP/cervidae/2_ciervo_alumno_2_TH/34_20201024 (2381).JPG\n"
     ]
    },
    {
     "name": "stderr",
     "output_type": "stream",
     "text": [
      " 27%|██▋       | 16/60 [00:39<01:48,  2.47s/it]"
     ]
    },
    {
     "name": "stdout",
     "output_type": "stream",
     "text": [
      "Processing image /Users/carlos/WORKSPACE/MegaClassifier/dataset/emptyNonEmptyDatasetCROP/cervidae/ciervo_simone_2/34_20201024 (5494).JPG\n"
     ]
    },
    {
     "name": "stderr",
     "output_type": "stream",
     "text": [
      " 28%|██▊       | 17/60 [00:42<01:43,  2.40s/it]"
     ]
    },
    {
     "name": "stdout",
     "output_type": "stream",
     "text": [
      "Processing image /Users/carlos/WORKSPACE/MegaClassifier/dataset/emptyNonEmptyDatasetCROP/cervidae/ciervo_simone_2/37_20201024 (1156).JPG\n"
     ]
    },
    {
     "name": "stderr",
     "output_type": "stream",
     "text": [
      " 30%|███       | 18/60 [00:44<01:38,  2.35s/it]"
     ]
    },
    {
     "name": "stdout",
     "output_type": "stream",
     "text": [
      "Processing image /Users/carlos/WORKSPACE/MegaClassifier/dataset/emptyNonEmptyDatasetCROP/cervidae/CERVIDREDORFALLOWDEER_ZOO_1_4/34_20201024 (2742).JPG\n"
     ]
    },
    {
     "name": "stderr",
     "output_type": "stream",
     "text": [
      " 32%|███▏      | 19/60 [00:46<01:34,  2.31s/it]"
     ]
    },
    {
     "name": "stdout",
     "output_type": "stream",
     "text": [
      "Processing image /Users/carlos/WORKSPACE/MegaClassifier/dataset/emptyNonEmptyDatasetCROP/cervidae/CERVIDREDORFALLOWDEER_ZOO_1_4/17_20201225 (61).JPG\n",
      "Writing a new checkpoint after having processed 20 images since last restart\n",
      "Processing image /Users/carlos/WORKSPACE/MegaClassifier/dataset/emptyNonEmptyDatasetCROP/cervidae/CERVIDREDORFALLOWDEER_ZOO_1_4/20_20201024 (741).JPG\n"
     ]
    },
    {
     "name": "stderr",
     "output_type": "stream",
     "text": [
      " 35%|███▌      | 21/60 [00:51<01:29,  2.29s/it]"
     ]
    },
    {
     "name": "stdout",
     "output_type": "stream",
     "text": [
      "Processing image /Users/carlos/WORKSPACE/MegaClassifier/dataset/emptyNonEmptyDatasetCROP/cervidae/CERVIDREDORFALLOWDEER_ZOO_5_6_7_9/10_20210417 (246).JPG\n"
     ]
    },
    {
     "name": "stderr",
     "output_type": "stream",
     "text": [
      " 37%|███▋      | 22/60 [00:53<01:27,  2.29s/it]"
     ]
    },
    {
     "name": "stdout",
     "output_type": "stream",
     "text": [
      "Processing image /Users/carlos/WORKSPACE/MegaClassifier/dataset/emptyNonEmptyDatasetCROP/cervidae/CERVIDREDORFALLOWDEER_ZOO_5_6_7_9/20_20210219 (2099) (2021_04_15 06_16_22 UTC).JPG\n"
     ]
    },
    {
     "name": "stderr",
     "output_type": "stream",
     "text": [
      " 38%|███▊      | 23/60 [00:55<01:24,  2.29s/it]"
     ]
    },
    {
     "name": "stdout",
     "output_type": "stream",
     "text": [
      "Processing image /Users/carlos/WORKSPACE/MegaClassifier/dataset/emptyNonEmptyDatasetCROP/cervidae/CERVIDREDORFALLOWDEER_ZOO_5_6_7_9/35_20210218 (2606) (2021_04_15 06_16_22 UTC).JPG\n"
     ]
    },
    {
     "name": "stderr",
     "output_type": "stream",
     "text": [
      " 40%|████      | 24/60 [00:57<01:22,  2.28s/it]"
     ]
    },
    {
     "name": "stdout",
     "output_type": "stream",
     "text": [
      "Processing image /Users/carlos/WORKSPACE/MegaClassifier/dataset/emptyNonEmptyDatasetCROP/vacia/SnampshotEnonkishu/ENO_S1_D06_R1_IMAG5237.JPG\n",
      "Writing a new checkpoint after having processed 25 images since last restart\n",
      "Processing image /Users/carlos/WORKSPACE/MegaClassifier/dataset/emptyNonEmptyDatasetCROP/vacia/vacia_alumno_AM_2/25_20201024 (312).JPG\n"
     ]
    },
    {
     "name": "stderr",
     "output_type": "stream",
     "text": [
      " 43%|████▎     | 26/60 [01:02<01:20,  2.37s/it]"
     ]
    },
    {
     "name": "stdout",
     "output_type": "stream",
     "text": [
      "Processing image /Users/carlos/WORKSPACE/MegaClassifier/dataset/emptyNonEmptyDatasetCROP/vacia/empty_SnapshotMountainZebra/MTZ_S1_D05_R1_IMAG2029.JPG\n"
     ]
    },
    {
     "name": "stderr",
     "output_type": "stream",
     "text": [
      " 45%|████▌     | 27/60 [01:05<01:20,  2.43s/it]"
     ]
    },
    {
     "name": "stdout",
     "output_type": "stream",
     "text": [
      "Processing image /Users/carlos/WORKSPACE/MegaClassifier/dataset/emptyNonEmptyDatasetCROP/vacia/empty_SnapshotMountainZebra/MTZ_S1_D06_R1_IMAG0865.JPG\n"
     ]
    },
    {
     "name": "stderr",
     "output_type": "stream",
     "text": [
      " 47%|████▋     | 28/60 [01:08<01:19,  2.49s/it]"
     ]
    },
    {
     "name": "stdout",
     "output_type": "stream",
     "text": [
      "Processing image /Users/carlos/WORKSPACE/MegaClassifier/dataset/emptyNonEmptyDatasetCROP/vacia/empty_SnapshotMountainZebra/MTZ_S1_C06_R3_IMAG2525.JPG\n"
     ]
    },
    {
     "name": "stderr",
     "output_type": "stream",
     "text": [
      " 48%|████▊     | 29/60 [01:10<01:18,  2.53s/it]"
     ]
    },
    {
     "name": "stdout",
     "output_type": "stream",
     "text": [
      "Processing image /Users/carlos/WORKSPACE/MegaClassifier/dataset/emptyNonEmptyDatasetCROP/vacia/empty_SnapshotMountainZebra/MTZ_S1_D06_R1_IMAG1583.JPG\n",
      "Writing a new checkpoint after having processed 30 images since last restart\n",
      "Processing image /Users/carlos/WORKSPACE/MegaClassifier/dataset/emptyNonEmptyDatasetCROP/vacia/vacias_PNC_2014_ISAAC/c11233IMAG0016.JPG\n"
     ]
    },
    {
     "name": "stderr",
     "output_type": "stream",
     "text": [
      " 52%|█████▏    | 31/60 [01:15<01:14,  2.56s/it]"
     ]
    },
    {
     "name": "stdout",
     "output_type": "stream",
     "text": [
      "Processing image /Users/carlos/WORKSPACE/MegaClassifier/dataset/emptyNonEmptyDatasetCROP/vacia/vacias_PNM_2013-O_ISAAC/f7213IMAG0066.JPG\n"
     ]
    },
    {
     "name": "stderr",
     "output_type": "stream",
     "text": [
      " 53%|█████▎    | 32/60 [01:18<01:12,  2.58s/it]"
     ]
    },
    {
     "name": "stdout",
     "output_type": "stream",
     "text": [
      "Processing image /Users/carlos/WORKSPACE/MegaClassifier/dataset/emptyNonEmptyDatasetCROP/vacia/empty_IslandConservationCameraTraps/dominicanrepublic_cam11618mayo2017_20170410_092515_img_0069.jpg\n"
     ]
    },
    {
     "name": "stderr",
     "output_type": "stream",
     "text": [
      " 55%|█████▌    | 33/60 [01:20<01:06,  2.47s/it]"
     ]
    },
    {
     "name": "stdout",
     "output_type": "stream",
     "text": [
      "Processing image /Users/carlos/WORKSPACE/MegaClassifier/dataset/emptyNonEmptyDatasetCROP/vacia/empty_IslandConservationCameraTraps/dominicanrepublic_cam1826junio2015_20150505_130939_img_3077.jpg\n"
     ]
    },
    {
     "name": "stderr",
     "output_type": "stream",
     "text": [
      " 57%|█████▋    | 34/60 [01:22<01:02,  2.40s/it]"
     ]
    },
    {
     "name": "stdout",
     "output_type": "stream",
     "text": [
      "Processing image /Users/carlos/WORKSPACE/MegaClassifier/dataset/emptyNonEmptyDatasetCROP/vacia/empty_IslandConservationCameraTraps/ecuador1_cam1612_20150209_051159_img_1446.jpg\n",
      "Writing a new checkpoint after having processed 35 images since last restart\n",
      "Processing image /Users/carlos/WORKSPACE/MegaClassifier/dataset/emptyNonEmptyDatasetCROP/vacia/empty_IslandConservationCameraTraps/dominicanrepublic_cam0926julio2015_20150630_185725_img_0015.jpg\n"
     ]
    },
    {
     "name": "stderr",
     "output_type": "stream",
     "text": [
      " 60%|██████    | 36/60 [01:27<00:56,  2.36s/it]"
     ]
    },
    {
     "name": "stdout",
     "output_type": "stream",
     "text": [
      "Processing image /Users/carlos/WORKSPACE/MegaClassifier/dataset/emptyNonEmptyDatasetCROP/vacia/NOANIMAL_ZOO_5_6_7_9/50_20210408 (6876).JPG\n"
     ]
    },
    {
     "name": "stderr",
     "output_type": "stream",
     "text": [
      " 62%|██████▏   | 37/60 [01:29<00:53,  2.33s/it]"
     ]
    },
    {
     "name": "stdout",
     "output_type": "stream",
     "text": [
      "Processing image /Users/carlos/WORKSPACE/MegaClassifier/dataset/emptyNonEmptyDatasetCROP/vacia/NOANIMAL_ZOO_5_6_7_9/50_20210417 (25294).JPG\n"
     ]
    },
    {
     "name": "stderr",
     "output_type": "stream",
     "text": [
      " 63%|██████▎   | 38/60 [01:32<00:50,  2.30s/it]"
     ]
    },
    {
     "name": "stdout",
     "output_type": "stream",
     "text": [
      "Processing image /Users/carlos/WORKSPACE/MegaClassifier/dataset/emptyNonEmptyDatasetCROP/vacia/NOANIMAL_ZOO_5_6_7_9/24_20210615 (7263).JPG\n"
     ]
    },
    {
     "name": "stderr",
     "output_type": "stream",
     "text": [
      " 65%|██████▌   | 39/60 [01:34<00:48,  2.29s/it]"
     ]
    },
    {
     "name": "stdout",
     "output_type": "stream",
     "text": [
      "Processing image /Users/carlos/WORKSPACE/MegaClassifier/dataset/emptyNonEmptyDatasetCROP/vacia/NOANIMAL_ZOO_5_6_7_9/20_20210618 (3959).JPG\n",
      "Writing a new checkpoint after having processed 40 images since last restart\n",
      "Processing image /Users/carlos/WORKSPACE/MegaClassifier/dataset/emptyNonEmptyDatasetCROP/vacia/NOANIMAL_ZOO_1_4/28_20201019 (329).JPG\n"
     ]
    },
    {
     "name": "stderr",
     "output_type": "stream",
     "text": [
      " 68%|██████▊   | 41/60 [01:38<00:43,  2.30s/it]"
     ]
    },
    {
     "name": "stdout",
     "output_type": "stream",
     "text": [
      "Processing image /Users/carlos/WORKSPACE/MegaClassifier/dataset/emptyNonEmptyDatasetCROP/vacia/NOANIMAL_ZOO_1_4/34_20210115 (1643).JPG\n"
     ]
    },
    {
     "name": "stderr",
     "output_type": "stream",
     "text": [
      " 70%|███████   | 42/60 [01:41<00:41,  2.30s/it]"
     ]
    },
    {
     "name": "stdout",
     "output_type": "stream",
     "text": [
      "Processing image /Users/carlos/WORKSPACE/MegaClassifier/dataset/emptyNonEmptyDatasetCROP/vacia/vacia_javi_2_JC/27_20201023 (4595).JPG\n"
     ]
    },
    {
     "name": "stderr",
     "output_type": "stream",
     "text": [
      " 72%|███████▏  | 43/60 [01:43<00:39,  2.34s/it]"
     ]
    },
    {
     "name": "stdout",
     "output_type": "stream",
     "text": [
      "Processing image /Users/carlos/WORKSPACE/MegaClassifier/dataset/emptyNonEmptyDatasetCROP/vacia/vacia_alumno_2_2_TH_JC/27_20201023 (5918).JPG\n"
     ]
    },
    {
     "name": "stderr",
     "output_type": "stream",
     "text": [
      " 73%|███████▎  | 44/60 [01:46<00:37,  2.35s/it]"
     ]
    },
    {
     "name": "stdout",
     "output_type": "stream",
     "text": [
      "Processing image /Users/carlos/WORKSPACE/MegaClassifier/dataset/emptyNonEmptyDatasetCROP/caballo/HORSE_ZOO_1_4/15_20201117 (7287).JPG\n",
      "Writing a new checkpoint after having processed 45 images since last restart\n",
      "Processing image /Users/carlos/WORKSPACE/MegaClassifier/dataset/emptyNonEmptyDatasetCROP/garduna/garduna_vacías_humanos_PNC_2012_ME/a43103IMAG0017.JPG\n"
     ]
    },
    {
     "name": "stderr",
     "output_type": "stream",
     "text": [
      " 77%|███████▋  | 46/60 [01:51<00:34,  2.47s/it]"
     ]
    },
    {
     "name": "stdout",
     "output_type": "stream",
     "text": [
      "Processing image /Users/carlos/WORKSPACE/MegaClassifier/dataset/emptyNonEmptyDatasetCROP/garduna/Garduna_PNM_2013-0_ME/f14844IM000051.JPG\n"
     ]
    },
    {
     "name": "stderr",
     "output_type": "stream",
     "text": [
      " 78%|███████▊  | 47/60 [01:54<00:33,  2.59s/it]"
     ]
    },
    {
     "name": "stdout",
     "output_type": "stream",
     "text": [
      "Processing image /Users/carlos/WORKSPACE/MegaClassifier/dataset/emptyNonEmptyDatasetCROP/micromamiferos/rat_IslandConservationCameraTraps/palau_cam6a12132018_20180914_224626_rcnx0468.jpg\n"
     ]
    },
    {
     "name": "stderr",
     "output_type": "stream",
     "text": [
      " 80%|████████  | 48/60 [01:56<00:31,  2.62s/it]"
     ]
    },
    {
     "name": "stdout",
     "output_type": "stream",
     "text": [
      "Processing image /Users/carlos/WORKSPACE/MegaClassifier/dataset/emptyNonEmptyDatasetCROP/tejon/Tejon_PEPE_IREC_JC/IMAG0423_(5).JPG\n"
     ]
    },
    {
     "name": "stderr",
     "output_type": "stream",
     "text": [
      " 82%|████████▏ | 49/60 [01:59<00:29,  2.70s/it]"
     ]
    },
    {
     "name": "stdout",
     "output_type": "stream",
     "text": [
      "Processing image /Users/carlos/WORKSPACE/MegaClassifier/dataset/emptyNonEmptyDatasetCROP/humanovehiculo/humano_vehiculo_PNM_2013-O_ISAAC/f8130IM000003.JPG\n",
      "Writing a new checkpoint after having processed 50 images since last restart\n",
      "Processing image /Users/carlos/WORKSPACE/MegaClassifier/dataset/emptyNonEmptyDatasetCROP/humanovehiculo/humano_vehiculo_PNC_2014_ISAAC/c12199IMAG0129.JPG\n"
     ]
    },
    {
     "name": "stderr",
     "output_type": "stream",
     "text": [
      " 85%|████████▌ | 51/60 [02:05<00:24,  2.71s/it]"
     ]
    },
    {
     "name": "stdout",
     "output_type": "stream",
     "text": [
      "Processing image /Users/carlos/WORKSPACE/MegaClassifier/dataset/emptyNonEmptyDatasetCROP/zorro/zorro_Leo_Otra_fauna_PASADA_POR_LA_RED_JC/Otrafauna (675).JPG\n"
     ]
    },
    {
     "name": "stderr",
     "output_type": "stream",
     "text": [
      " 87%|████████▋ | 52/60 [02:07<00:21,  2.69s/it]"
     ]
    },
    {
     "name": "stdout",
     "output_type": "stream",
     "text": [
      "Processing image /Users/carlos/WORKSPACE/MegaClassifier/dataset/emptyNonEmptyDatasetCROP/ave/bird_CaltechCameraTrap/58ce4024-23d2-11e8-a6a3-ec086b02610b.jpg\n"
     ]
    },
    {
     "name": "stderr",
     "output_type": "stream",
     "text": [
      " 88%|████████▊ | 53/60 [02:10<00:18,  2.69s/it]"
     ]
    },
    {
     "name": "stdout",
     "output_type": "stream",
     "text": [
      "Processing image /Users/carlos/WORKSPACE/MegaClassifier/dataset/emptyNonEmptyDatasetCROP/ave/bird_CaltechCameraTrap/5976a214-23d2-11e8-a6a3-ec086b02610b.jpg\n"
     ]
    },
    {
     "name": "stderr",
     "output_type": "stream",
     "text": [
      " 90%|█████████ | 54/60 [02:13<00:16,  2.72s/it]"
     ]
    },
    {
     "name": "stdout",
     "output_type": "stream",
     "text": [
      "Processing image /Users/carlos/WORKSPACE/MegaClassifier/dataset/emptyNonEmptyDatasetCROP/ave/Chicken_ena24/6426.jpg\n",
      "Writing a new checkpoint after having processed 55 images since last restart\n",
      "Processing image /Users/carlos/WORKSPACE/MegaClassifier/dataset/emptyNonEmptyDatasetCROP/ave/OTHERSPECIES_ZOO_5_6_7_9/38_20210618 (1691).JPG\n"
     ]
    },
    {
     "name": "stderr",
     "output_type": "stream",
     "text": [
      " 93%|█████████▎| 56/60 [02:17<00:10,  2.53s/it]"
     ]
    },
    {
     "name": "stdout",
     "output_type": "stream",
     "text": [
      "Processing image /Users/carlos/WORKSPACE/MegaClassifier/dataset/emptyNonEmptyDatasetCROP/ave/ave_ave_WellingtonCameraTraps_SS/050816133858011bs101.JPG\n"
     ]
    },
    {
     "name": "stderr",
     "output_type": "stream",
     "text": [
      " 95%|█████████▌| 57/60 [02:20<00:07,  2.58s/it]"
     ]
    },
    {
     "name": "stdout",
     "output_type": "stream",
     "text": [
      "Processing image /Users/carlos/WORKSPACE/MegaClassifier/dataset/emptyNonEmptyDatasetCROP/lince/Lince_a_Linces2_Leo_JC/Lince58 (22).JPG\n"
     ]
    },
    {
     "name": "stderr",
     "output_type": "stream",
     "text": [
      " 97%|█████████▋| 58/60 [02:23<00:05,  2.60s/it]"
     ]
    },
    {
     "name": "stdout",
     "output_type": "stream",
     "text": [
      "Processing image /Users/carlos/WORKSPACE/MegaClassifier/dataset/emptyNonEmptyDatasetCROP/lince/Lince_a_Linces2_Leo_JC/lince130 (306).JPG\n"
     ]
    },
    {
     "name": "stderr",
     "output_type": "stream",
     "text": [
      " 98%|█████████▊| 59/60 [02:26<00:02,  2.69s/it]"
     ]
    },
    {
     "name": "stdout",
     "output_type": "stream",
     "text": [
      "Processing image /Users/carlos/WORKSPACE/MegaClassifier/dataset/emptyNonEmptyDatasetCROP/lince/linces_fecha_Linces2_Leo_JC/3_Lince_flecha_Linces2_Leo_JC/lince103 (371).JPG\n",
      "Writing a new checkpoint after having processed 60 images since last restart\n",
      "Finished inference for 60 images in 2 minutes and 30.99 seconds\n",
      "Output file saved at /Users/carlos/WORKSPACE/MegaClassifier/resources/json/detector_results.json\n",
      "Deleted checkpoint file /Users/carlos/WORKSPACE/MegaClassifier/resources/json/checkpoint.json\n",
      "Done!\n",
      "The file /Users/carlos/WORKSPACE/MegaClassifier/data/interim/train/20Train.csv has been successfully opened.\n",
      "The file /Users/carlos/WORKSPACE/MegaClassifier/reports/model_coberture/60_images_md_v5a.csv has been successfully opened.\n",
      "The dataset has been successfully saved to /Users/carlos/WORKSPACE/MegaClassifier/reports/model_coberture/60_images_md_v5a.csv\n",
      "\n",
      "-----------------------------------------------------------------------\n",
      "El porcentaje de positivos cubiertos es 0.00%\n",
      "-----------------------------------------------------------------------\n",
      "\n"
     ]
    },
    {
     "name": "stderr",
     "output_type": "stream",
     "text": [
      "100%|██████████| 60/60 [02:29<00:00,  2.49s/it]\n"
     ]
    },
    {
     "name": "stdout",
     "output_type": "stream",
     "text": [
      "60 image files found in the input directory\n",
      "The checkpoint file will be written to /Users/carlos/WORKSPACE/MegaClassifier/resources/json/checkpoint.json\n",
      "PyTorch reports 0 available CUDA devices\n",
      "GPU available: False\n",
      "Using PyTorch version 1.10.1\n"
     ]
    },
    {
     "name": "stderr",
     "output_type": "stream",
     "text": [
      "Fusing layers... \n",
      "Model summary: 574 layers, 139990096 parameters, 0 gradients\n",
      "  0%|          | 0/60 [00:00<?, ?it/s]"
     ]
    },
    {
     "name": "stdout",
     "output_type": "stream",
     "text": [
      "Loaded model in 1.74 seconds\n",
      "Loaded model in 1.74 seconds\n",
      "Processing image /Users/carlos/WORKSPACE/MegaClassifier/dataset/emptyNonEmptyDatasetCROP/leporido/conejo_Paco_Carro_JC/PICT0646 (2).JPG\n"
     ]
    },
    {
     "name": "stderr",
     "output_type": "stream",
     "text": [
      "  2%|▏         | 1/60 [00:03<03:17,  3.34s/it]"
     ]
    },
    {
     "name": "stdout",
     "output_type": "stream",
     "text": [
      "Processing image /Users/carlos/WORKSPACE/MegaClassifier/dataset/emptyNonEmptyDatasetCROP/leporido/Conejo_PNC_2014_JC/c8663IM000121.JPG\n"
     ]
    },
    {
     "name": "stderr",
     "output_type": "stream",
     "text": [
      "  3%|▎         | 2/60 [00:06<03:01,  3.13s/it]"
     ]
    },
    {
     "name": "stdout",
     "output_type": "stream",
     "text": [
      "Processing image /Users/carlos/WORKSPACE/MegaClassifier/dataset/emptyNonEmptyDatasetCROP/vaca/cow_CaltechCameraTrap/585c030e-23d2-11e8-a6a3-ec086b02610b.jpg\n"
     ]
    },
    {
     "name": "stderr",
     "output_type": "stream",
     "text": [
      "  5%|▌         | 3/60 [00:09<02:47,  2.93s/it]"
     ]
    },
    {
     "name": "stdout",
     "output_type": "stream",
     "text": [
      "Processing image /Users/carlos/WORKSPACE/MegaClassifier/dataset/emptyNonEmptyDatasetCROP/vaca/vaca_Paco_Carro_JC/PICT0042.JPG\n"
     ]
    },
    {
     "name": "stderr",
     "output_type": "stream",
     "text": [
      "  7%|▋         | 4/60 [00:11<02:37,  2.81s/it]"
     ]
    },
    {
     "name": "stdout",
     "output_type": "stream",
     "text": [
      "Processing image /Users/carlos/WORKSPACE/MegaClassifier/dataset/emptyNonEmptyDatasetCROP/vaca/COW_ZOO_5_6_7_9/21_20210418 (1498).JPG\n",
      "Writing a new checkpoint after having processed 5 images since last restart\n",
      "Processing image /Users/carlos/WORKSPACE/MegaClassifier/dataset/emptyNonEmptyDatasetCROP/jabali/jabali_PNM_2013-O_ISAAC/f27560IMAG0113.JPG\n"
     ]
    },
    {
     "name": "stderr",
     "output_type": "stream",
     "text": [
      " 10%|█         | 6/60 [00:16<02:22,  2.64s/it]"
     ]
    },
    {
     "name": "stdout",
     "output_type": "stream",
     "text": [
      "Processing image /Users/carlos/WORKSPACE/MegaClassifier/dataset/emptyNonEmptyDatasetCROP/jabali/WILDBOAR_ZOO_5_6_7_9/20_20210219 (2902) (2021_04_15 06_16_22 UTC).JPG\n"
     ]
    },
    {
     "name": "stderr",
     "output_type": "stream",
     "text": [
      " 12%|█▏        | 7/60 [00:18<02:14,  2.54s/it]"
     ]
    },
    {
     "name": "stdout",
     "output_type": "stream",
     "text": [
      "Processing image /Users/carlos/WORKSPACE/MegaClassifier/dataset/emptyNonEmptyDatasetCROP/jabali/WILDBOAR_ZOO_5_6_7_9/1_20210319 (7).JPG\n"
     ]
    },
    {
     "name": "stderr",
     "output_type": "stream",
     "text": [
      " 13%|█▎        | 8/60 [00:21<02:07,  2.45s/it]"
     ]
    },
    {
     "name": "stdout",
     "output_type": "stream",
     "text": [
      "Processing image /Users/carlos/WORKSPACE/MegaClassifier/dataset/emptyNonEmptyDatasetCROP/jabali/jabali_Paco_Carro_camarasliron_4_2_PASADAS_POR_LA_RED_JC/MDGC0675.JPG\n"
     ]
    },
    {
     "name": "stderr",
     "output_type": "stream",
     "text": [
      " 15%|█▌        | 9/60 [00:23<02:09,  2.54s/it]"
     ]
    },
    {
     "name": "stdout",
     "output_type": "stream",
     "text": [
      "Processing image /Users/carlos/WORKSPACE/MegaClassifier/dataset/emptyNonEmptyDatasetCROP/jabali/WILDBOAR_ZOO_1_4/22_20210115 (801).JPG\n",
      "Writing a new checkpoint after having processed 10 images since last restart\n",
      "Processing image /Users/carlos/WORKSPACE/MegaClassifier/dataset/emptyNonEmptyDatasetCROP/jabali/WILDBOAR_ZOO_1_4/37_20210115 (2245).JPG\n"
     ]
    },
    {
     "name": "stderr",
     "output_type": "stream",
     "text": [
      " 18%|█▊        | 11/60 [00:28<01:59,  2.45s/it]"
     ]
    },
    {
     "name": "stdout",
     "output_type": "stream",
     "text": [
      "Processing image /Users/carlos/WORKSPACE/MegaClassifier/dataset/emptyNonEmptyDatasetCROP/cervidae/2_Ciervo_Paco_Carro_camarasliron_4_2_PASADAS_POR_LA_RED_JC/PICT0080.JPG\n"
     ]
    },
    {
     "name": "stderr",
     "output_type": "stream",
     "text": [
      " 20%|██        | 12/60 [00:31<02:00,  2.51s/it]"
     ]
    },
    {
     "name": "stdout",
     "output_type": "stream",
     "text": [
      "Processing image /Users/carlos/WORKSPACE/MegaClassifier/dataset/emptyNonEmptyDatasetCROP/cervidae/ciervo_PNM_2013-O_ISAAC/f11190IM000199.JPG\n"
     ]
    },
    {
     "name": "stderr",
     "output_type": "stream",
     "text": [
      " 22%|██▏       | 13/60 [00:34<02:00,  2.56s/it]"
     ]
    },
    {
     "name": "stdout",
     "output_type": "stream",
     "text": [
      "Processing image /Users/carlos/WORKSPACE/MegaClassifier/dataset/emptyNonEmptyDatasetCROP/cervidae/Ciervo_PNC_2012_JC/a14725IM000641.JPG\n"
     ]
    },
    {
     "name": "stderr",
     "output_type": "stream",
     "text": [
      " 23%|██▎       | 14/60 [00:36<02:01,  2.64s/it]"
     ]
    },
    {
     "name": "stdout",
     "output_type": "stream",
     "text": [
      "Processing image /Users/carlos/WORKSPACE/MegaClassifier/dataset/emptyNonEmptyDatasetCROP/cervidae/Ciervo_PNC_2012_JC/a34265IM000500.JPG\n",
      "Writing a new checkpoint after having processed 15 images since last restart\n",
      "Processing image /Users/carlos/WORKSPACE/MegaClassifier/dataset/emptyNonEmptyDatasetCROP/cervidae/2_ciervo_alumno_2_TH/34_20201024 (2381).JPG\n"
     ]
    },
    {
     "name": "stderr",
     "output_type": "stream",
     "text": [
      " 27%|██▋       | 16/60 [00:41<01:53,  2.57s/it]"
     ]
    },
    {
     "name": "stdout",
     "output_type": "stream",
     "text": [
      "Processing image /Users/carlos/WORKSPACE/MegaClassifier/dataset/emptyNonEmptyDatasetCROP/cervidae/ciervo_simone_2/34_20201024 (5494).JPG\n"
     ]
    },
    {
     "name": "stderr",
     "output_type": "stream",
     "text": [
      " 28%|██▊       | 17/60 [00:44<01:47,  2.51s/it]"
     ]
    },
    {
     "name": "stdout",
     "output_type": "stream",
     "text": [
      "Processing image /Users/carlos/WORKSPACE/MegaClassifier/dataset/emptyNonEmptyDatasetCROP/cervidae/ciervo_simone_2/37_20201024 (1156).JPG\n"
     ]
    },
    {
     "name": "stderr",
     "output_type": "stream",
     "text": [
      " 30%|███       | 18/60 [00:46<01:43,  2.46s/it]"
     ]
    },
    {
     "name": "stdout",
     "output_type": "stream",
     "text": [
      "Processing image /Users/carlos/WORKSPACE/MegaClassifier/dataset/emptyNonEmptyDatasetCROP/cervidae/CERVIDREDORFALLOWDEER_ZOO_1_4/34_20201024 (2742).JPG\n"
     ]
    }
   ],
   "source": [
    "threshold = round(initial_threshold + steps_threshold, 3)\n",
    "load_from_checkpoint = True\n",
    "while positives_coberture != 1.0:\n",
    "    threshold = round(threshold - steps_threshold, 3)\n",
    "\n",
    "    detection_inicialitation_time = datetime.utcnow().strftime(\"%Y-%m-%d %H:%M:%S\")\n",
    "\n",
    "    if load_from_checkpoint:\n",
    "        command = f'python data/external/CameraTraps/detection/run_detector_batch.py \"{MODEL_PATH}\" \"{DATASET_PATH}\" \"{OUTPUT_FILE_PATH}\" --recursive --threshold \"{threshold}\" --checkpoint_path \"{CHECKPOINT_PATH}\" --checkpoint_frequency \"{CHECKPOINT_FREQ}\" --resume_from_checkpoint \"{CHECKPOINT_PATH}\"'\n",
    "    else:\n",
    "        command = f'python data/external/CameraTraps/detection/run_detector_batch.py \"{MODEL_PATH}\" \"{DATASET_PATH}\" \"{OUTPUT_FILE_PATH}\" --recursive --threshold \"{threshold}\" --checkpoint_path \"{CHECKPOINT_PATH}\" --checkpoint_frequency \"{CHECKPOINT_FREQ}\"'\n",
    "    os.system(command)\n",
    "\n",
    "    with open(OUTPUT_FILE_PATH, \"r\") as file:\n",
    "        data = json.load(file)\n",
    "\n",
    "    for image in data[\"images\"]:\n",
    "        image[\"file\"] = (\n",
    "            image[\"file\"]\n",
    "            .replace(\n",
    "                OUTPUT_FILE_PATH,\n",
    "                \"\",\n",
    "            )\n",
    "            .replace(\"/\", \"\\\\\")\n",
    "        )\n",
    "\n",
    "    info = {\n",
    "        \"detection_initial_time\": detection_inicialitation_time,\n",
    "        \"detection_completion_time\": data[\"info\"][\"detection_completion_time\"],\n",
    "        \"format_version\": data[\"info\"][\"format_version\"],\n",
    "        \"detector\": data[\"info\"][\"detector\"],\n",
    "        \"detector_threshold\": threshold,\n",
    "        \"detector_metadata\": data[\"info\"][\"detector_metadata\"],\n",
    "    }\n",
    "\n",
    "    final_output = {\n",
    "        \"images\": data[\"images\"],\n",
    "        \"detection_categories\": data[\"detection_categories\"],\n",
    "        \"info\": info,\n",
    "    }\n",
    "\n",
    "    threshold_str = str(threshold).replace(\".\", \"_\")\n",
    "    json_name = f\"{len(data['images'])}_images_{threshold_str}_threshold.json\"\n",
    "    model_name = os.path.basename(MODEL_PATH).split(\".\")[0]\n",
    "    tmp_path = os.path.join(OUTPUT_PATH, model_name)\n",
    "    os.makedirs(tmp_path, exist_ok=True)\n",
    "    NEW_OUTPUT_FILE_PATH = os.path.join(tmp_path, json_name)\n",
    "\n",
    "    with open(NEW_OUTPUT_FILE_PATH, \"w\") as f:\n",
    "        json.dump(final_output, f, indent=1)\n",
    "\n",
    "    os.remove(OUTPUT_FILE_PATH)\n",
    "\n",
    "    data = final_output\n",
    "\n",
    "    dataset = dt.load_from_csv(TRAIN_CSV)\n",
    "\n",
    "    report_columns = [\n",
    "        \"file_name\",\n",
    "        \"label\",\n",
    "        \"threshold\",\n",
    "        \"detector_label\",\n",
    "        \"false_positive\",\n",
    "        \"false_negative\",\n",
    "        \"time_inference\",\n",
    "    ]\n",
    "    report = pd.DataFrame(columns=report_columns)\n",
    "\n",
    "    model = data[\"info\"][\"detector\"].split(\".\")[0]\n",
    "\n",
    "    for image in data[\"images\"]:\n",
    "        image_file = image[\"file\"]\n",
    "        indexes = dataset[dataset[\"file_name\"] == image_file]\n",
    "\n",
    "        if len(indexes) == 1:\n",
    "            label = int(indexes[\"label\"].iloc[0])\n",
    "            detector_label = 1 if image[\"max_detection_conf\"] > 0.0 else 0\n",
    "            false_positive = int(label == 0 and detector_label == 1)\n",
    "            false_negative = int(label == 1 and detector_label == 0)\n",
    "            time_inference = image[\"time_inference\"]\n",
    "\n",
    "            new_row = {\n",
    "                \"file_name\": image_file,\n",
    "                \"label\": label,\n",
    "                \"threshold\": data[\"info\"][\"detector_threshold\"],\n",
    "                \"detector_label\": detector_label,\n",
    "                \"false_positive\": false_positive,\n",
    "                \"false_negative\": false_negative,\n",
    "                \"time_inference\": time_inference,\n",
    "            }\n",
    "            report = pd.concat([report, pd.DataFrame([new_row])], ignore_index=True)\n",
    "\n",
    "    report_name = f\"{len(data['images'])}_images_{model}.csv\"\n",
    "    REPORT_CSV_FILE = os.path.join(REPORT_CSV, report_name)\n",
    "\n",
    "    if os.path.exists(REPORT_CSV_FILE):\n",
    "        existing_report = dt.load_from_csv(REPORT_CSV_FILE)\n",
    "        new_report = pd.concat([existing_report, report], ignore_index=True)\n",
    "        dt.dataset_to_csv(new_report, REPORT_CSV_FILE)\n",
    "    else:\n",
    "        dt.dataset_to_csv(report, REPORT_CSV_FILE)\n",
    "\n",
    "    positivos_reales = report[\"label\"].sum()\n",
    "    positivos_cubiertos = report[\n",
    "        (report[\"label\"] == 1) & (report[\"detector_label\"] == 1)\n",
    "    ].shape[0]\n",
    "\n",
    "    positives_coberture = (\n",
    "        (positivos_cubiertos / positivos_reales) if positivos_reales > 0 else 0\n",
    "    )\n",
    "    \n",
    "    load_from_checkpoint = False\n",
    "    \n",
    "    print()\n",
    "    print(\"-----------------------------------------------------------------------\")\n",
    "    print(f\"El porcentaje de positivos cubiertos es {positives_coberture*100:.2f}%\")\n",
    "    print(\"-----------------------------------------------------------------------\")\n",
    "    print()\n"
   ]
  }
 ],
 "metadata": {
  "kernelspec": {
   "display_name": "cameratraps-detector",
   "language": "python",
   "name": "python3"
  },
  "language_info": {
   "codemirror_mode": {
    "name": "ipython",
    "version": 3
   },
   "file_extension": ".py",
   "mimetype": "text/x-python",
   "name": "python",
   "nbconvert_exporter": "python",
   "pygments_lexer": "ipython3",
   "version": "3.8.15"
  }
 },
 "nbformat": 4,
 "nbformat_minor": 2
}
