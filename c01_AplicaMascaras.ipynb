{
 "cells": [
  {
   "cell_type": "code",
   "execution_count": 1,
   "metadata": {},
   "outputs": [
    {
     "name": "stdout",
     "output_type": "stream",
     "text": [
      "=======================================================================================================================================\n",
      "PYTHONPATH: /home/carlos/.vscode/extensions/ms-toolsai.jupyter-2022.6.1101950301/pythonFiles:/home/carlos/.vscode/extensions/ms-toolsai.jupyter-2022.6.1101950301/pythonFiles/lib/python:/home/carlos/WORKSPACE/TFG-DeteccionFototrampeo/repos/ai4eutils:/home/carlos/WORKSPACE/TFG-DeteccionFototrampeo/repos/CameraTraps\n",
      "\n",
      "ai4eutils PATH: \t/home/carlos/WORKSPACE/TFG-DeteccionFototrampeo/repos/ai4eutils\n",
      "CameraTraps PATH: \t/home/carlos/WORKSPACE/TFG-DeteccionFototrampeo/repos/CameraTraps\n",
      "output_json PATH: \t/home/carlos/WORKSPACE/TFG-DeteccionFototrampeo/output_json\n",
      "output_mask PATH: \t/home/carlos/WORKSPACE/TFG-DeteccionFototrampeo/output_mask\n",
      "output_masked PATH: \t/home/carlos/WORKSPACE/TFG-DeteccionFototrampeo/output_masked\n",
      "=======================================================================================================================================\n"
     ]
    }
   ],
   "source": [
    "import os\n",
    "import platform\n",
    "\n",
    "#########################################################################################################################################################\n",
    "# PARAMETROS DEFINIDOS EN FUNCION DEL USUARIO\n",
    "#########################################################################################################################################################\n",
    "\n",
    "# Ruta relativa hacia la librería ai4eutils\n",
    "ai4eutils_relative = \"./repos/ai4eutils\"\n",
    "\n",
    "# Ruta relativa hacia la librería CameraTraps\n",
    "CameraTraps_relative = \"./repos/CameraTraps\"\n",
    "\n",
    "# Ruta relativa hacia carpeta de JSON de donde se obtendrán los datos de entrada\n",
    "output_json_path_relative = './output_json'\n",
    "\n",
    "# Ruta relativa hacia la carpeta destino de los ficheros JSON:\n",
    "output_mask_path_relative = './output_mask'\n",
    "\n",
    "# Ruta relativa hacia la carpeta destino de los ficheros JSON:\n",
    "output_masked_path_relative = './output_masked'\n",
    "\n",
    "#########################################################################################################################################################\n",
    "#########################################################################################################################################################\n",
    "\n",
    "home = os.path.expanduser(\"~\")\n",
    "\n",
    "ai4utils = os.path.abspath(ai4eutils_relative)\n",
    "CameraTraps = os.path.abspath(CameraTraps_relative)\n",
    "output_json = os.path.abspath(output_json_path_relative)\n",
    "output_mask = os.path.abspath(output_mask_path_relative)\n",
    "output_masked = os.path.abspath(output_masked_path_relative)\n",
    "\n",
    "try:\n",
    "    os.environ['PYTHONPATH']\n",
    "except KeyError:\n",
    "    os.environ['PYTHONPATH'] = \"\"\n",
    "if platform.system() == 'Windows':\n",
    "    os.environ['PYTHONPATH'] += (\";\" + ai4utils)\n",
    "    os.environ['PYTHONPATH'] += (\";\" + CameraTraps)\n",
    "else:\n",
    "    os.environ['PYTHONPATH'] += (\":\" + ai4utils)\n",
    "    os.environ['PYTHONPATH'] += (\":\" + CameraTraps)\n",
    "\n",
    "print('=======================================================================================================================================')\n",
    "print('PYTHONPATH: ' + os.environ['PYTHONPATH']) \n",
    "print('')\n",
    "print('ai4eutils PATH: ' + '\\t' + ai4utils)\n",
    "print('CameraTraps PATH: ' + '\\t' + CameraTraps)\n",
    "print('output_json PATH: ' + '\\t' + output_json)\n",
    "print('output_mask PATH: ' + '\\t' + output_mask)\n",
    "print('output_masked PATH: ' + '\\t' + output_masked)\n",
    "print('=======================================================================================================================================')"
   ]
  },
  {
   "cell_type": "code",
   "execution_count": 2,
   "metadata": {},
   "outputs": [
    {
     "name": "stdout",
     "output_type": "stream",
     "text": [
      "\n",
      "==========================================================================================\n",
      "Aplicando máscaras en 8 imágenes...\n",
      "\n",
      "  0%|                                                     | 0/8 [00:00<?, ?it/s]\n",
      "\n",
      "Aplicada máscara en imagen /home/carlos/WORKSPACE/TFG-DeteccionFototrampeo/input/PICT0030.JPG en 0.03 seconds.\n",
      "\n",
      "\n",
      "Aplicada máscara en imagen /home/carlos/WORKSPACE/TFG-DeteccionFototrampeo/input/c18196IMAG0001.JPG en 0.02 seconds.\n",
      "\n",
      "\n",
      "Aplicada máscara en imagen /home/carlos/WORKSPACE/TFG-DeteccionFototrampeo/input/Vulvul 23_frame140.jpg en 0.02 seconds.\n",
      "\n",
      "\n",
      "Aplicada máscara en imagen /home/carlos/WORKSPACE/TFG-DeteccionFototrampeo/input/b1405IMAG0258.JPG en 0.02 seconds.\n",
      " 50%|██████████████████████▌                      | 4/8 [00:00<00:00, 32.65it/s]\n",
      "\n",
      "Aplicada máscara en imagen /home/carlos/WORKSPACE/TFG-DeteccionFototrampeo/input/lince70 (208).JPG en 0.02 seconds.\n",
      "\n",
      "\n",
      "Aplicada máscara en imagen /home/carlos/WORKSPACE/TFG-DeteccionFototrampeo/input/lince71 (78).JPG en 0.02 seconds.\n",
      "\n",
      "\n",
      "Aplicada máscara en imagen /home/carlos/WORKSPACE/TFG-DeteccionFototrampeo/input/2_20201215 (5209).JPG en 0.01 seconds.\n",
      "\n",
      "\n",
      "Aplicada máscara en imagen /home/carlos/WORKSPACE/TFG-DeteccionFototrampeo/input/35_20201218 (279).JPG en 0.01 seconds.\n",
      "100%|█████████████████████████████████████████████| 8/8 [00:00<00:00, 35.57it/s]\n",
      "\n",
      "==========================================================================================\n",
      "De media, por cada imagen: \n",
      "Ha tomado 0.02 seconds en aplicar la máscara, con desviación de 0 seconds\n",
      "==========================================================================================\n",
      "\n",
      "Resultados guardados en: /home/carlos/WORKSPACE/TFG-DeteccionFototrampeo/output_masked\n",
      "\n",
      "==========================================================================================\n"
     ]
    }
   ],
   "source": [
    "!python ./modules/aplica_mascaras.py --json_dir \"$output_json\" --output_mask \"$output_mask\" --output_masked \"$output_masked\""
   ]
  }
 ],
 "metadata": {
  "kernelspec": {
   "display_name": "Python 3.8.13 ('tf')",
   "language": "python",
   "name": "python3"
  },
  "language_info": {
   "codemirror_mode": {
    "name": "ipython",
    "version": 3
   },
   "file_extension": ".py",
   "mimetype": "text/x-python",
   "name": "python",
   "nbconvert_exporter": "python",
   "pygments_lexer": "ipython3",
   "version": "3.8.13"
  },
  "orig_nbformat": 4,
  "vscode": {
   "interpreter": {
    "hash": "1c9218b40fa62d7df6e2c99f2566df2475bdb172dc5334c976c3cfc411fb718d"
   }
  }
 },
 "nbformat": 4,
 "nbformat_minor": 2
}
