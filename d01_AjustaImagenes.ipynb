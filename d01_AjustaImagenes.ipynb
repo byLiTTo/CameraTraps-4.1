{
 "cells": [
  {
   "cell_type": "code",
   "execution_count": null,
   "metadata": {
    "collapsed": true,
    "pycharm": {
     "name": "#%%\n"
    }
   },
   "outputs": [],
   "source": [
    "import os\n",
    "import platform\n",
    "\n",
    "#######################################################################################################################\n",
    "# PARÁMETROS DEFINIDOS EN FUNCIÓN DEL USUARIO\n",
    "#######################################################################################################################\n",
    "\n",
    "# Ruta relativa hacia la librería ai4eutils\n",
    "ai4eutils_relative = \"./repos/ai4eutils\"\n",
    "\n",
    "# Ruta relativa hacia la librería CameraTraps\n",
    "CameraTraps_relative = \"./repos/CameraTraps\"\n",
    "\n",
    "# Ruta relativa hacia carpeta de JSON de donde se obtendrán los datos de entrada\n",
    "output_json_path_relative = '../local/output_json'\n",
    "\n",
    "# Ruta relativa hacia carpeta donde se encuentran las imágenes con máscara aplicada\n",
    "output_masked_path_relative = '../local/output_masked'\n",
    "\n",
    "# Ruta relativa hacia la carpeta destino output_edited, se guardarán las imágenes ajustadas\n",
    "output_edited_path_relative = '../local/output_edited'\n",
    "\n",
    "# Poner a True si al final de la ejecución se desea mostrar las fotos en este notebook\n",
    "VISUALIZAR_RESULTADOS = False\n",
    "\n",
    "#######################################################################################################################\n",
    "#######################################################################################################################\n",
    "\n",
    "home = os.path.expanduser(\"~\")\n",
    "\n",
    "ai4utils = os.path.abspath(ai4eutils_relative)\n",
    "CameraTraps = os.path.abspath(CameraTraps_relative)\n",
    "output_json = os.path.abspath(output_json_path_relative)\n",
    "output_masked = os.path.abspath(output_masked_path_relative)\n",
    "output_edited = os.path.abspath(output_edited_path_relative)\n",
    "\n",
    "try:\n",
    "    os.environ['PYTHONPATH']\n",
    "except KeyError:\n",
    "    os.environ['PYTHONPATH'] = \"\"\n",
    "if platform.system() == 'Windows':\n",
    "    os.environ['PYTHONPATH'] += (\";\" + ai4utils)\n",
    "    os.environ['PYTHONPATH'] += (\";\" + CameraTraps)\n",
    "else:\n",
    "    os.environ['PYTHONPATH'] += (\":\" + ai4utils)\n",
    "    os.environ['PYTHONPATH'] += (\":\" + CameraTraps)\n",
    "\n",
    "print(\n",
    "    '==================================================================================================================================')\n",
    "print('PYTHONPATH: ' + os.environ['PYTHONPATH'])\n",
    "print('')\n",
    "print('ai4eutils PATH: ' + '\\t' + '\\t' + ai4utils)\n",
    "print('CameraTraps PATH: ' + '\\t' + '\\t' + CameraTraps)\n",
    "print('output_json PATH: ' + '\\t' + '\\t' + output_json)\n",
    "print('output_masked PATH: ' + '\\t' + output_masked)\n",
    "print('output_edited PATH: ' + '\\t' + output_edited)\n",
    "print(\n",
    "    '==================================================================================================================================')"
   ]
  },
  {
   "cell_type": "code",
   "execution_count": null,
   "outputs": [],
   "source": [
    "!python ./modules/prepara_imagenes.py --json_dir \"$output_json\" --output_masked \"$output_masked\" --output_edited \"$output_edited\""
   ],
   "metadata": {
    "collapsed": false,
    "pycharm": {
     "name": "#%%\n"
    }
   }
  },
  {
   "cell_type": "code",
   "execution_count": null,
   "outputs": [],
   "source": [
    "if VISUALIZAR_RESULTADOS:\n",
    "    import os\n",
    "    import glob\n",
    "    from PIL import Image\n",
    "    from tqdm import tqdm\n",
    "\n",
    "    image_extensions = ['.png']\n",
    "\n",
    "\n",
    "    def is_image_file(s):\n",
    "        ext = os.path.splitext(s)[1]\n",
    "        return ext.lower() in image_extensions\n",
    "\n",
    "\n",
    "    def find_image_files(strings):\n",
    "        return [s for s in strings if is_image_file(s)]\n",
    "\n",
    "\n",
    "    def find_images(dir_name):\n",
    "        strings = glob.glob(os.path.join(dir_name, '*.*'))\n",
    "        image_strings = find_image_files(strings)\n",
    "        return image_strings\n",
    "\n",
    "\n",
    "    image_file_names = find_images(output_edited)\n",
    "\n",
    "    for image_file in tqdm(image_file_names):\n",
    "        print(image_file)\n",
    "        im = Image.open(image_file)\n",
    "        display(im)\n",
    "        print('\\n\\n')"
   ],
   "metadata": {
    "collapsed": false,
    "pycharm": {
     "name": "#%%\n"
    }
   }
  }
 ],
 "metadata": {
  "kernelspec": {
   "display_name": "Python 3",
   "language": "python",
   "name": "python3"
  },
  "language_info": {
   "codemirror_mode": {
    "name": "ipython",
    "version": 2
   },
   "file_extension": ".py",
   "mimetype": "text/x-python",
   "name": "python",
   "nbconvert_exporter": "python",
   "pygments_lexer": "ipython2",
   "version": "2.7.6"
  }
 },
 "nbformat": 4,
 "nbformat_minor": 0
}