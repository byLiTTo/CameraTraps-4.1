{
 "cells": [
  {
   "cell_type": "code",
   "execution_count": 1,
   "metadata": {
    "collapsed": true,
    "pycharm": {
     "name": "#%%\n"
    }
   },
   "outputs": [
    {
     "name": "stdout",
     "output_type": "stream",
     "text": [
      "==================================================================================================================================\n",
      "PYTHONPATH: /Users/carlos/WORKSPACE/TFG-DeteccionFototrampeo:/Users/carlos/WORKSPACE/TFG-DeteccionFototrampeo/repos/ai4eutils:/Users/carlos/WORKSPACE/TFG-DeteccionFototrampeo/repos/CameraTraps\n",
      "\n",
      "ai4eutils PATH: \t\t/Users/carlos/WORKSPACE/TFG-DeteccionFototrampeo/repos/ai4eutils\n",
      "CameraTraps PATH: \t\t/Users/carlos/WORKSPACE/TFG-DeteccionFototrampeo/repos/CameraTraps\n",
      "output_masked PATH: \t/Users/carlos/WORKSPACE/local/output_masked/18_20201024 (6).png\n",
      "output_edited PATH: \t/Users/carlos/WORKSPACE/local/output_edited\n",
      "==================================================================================================================================\n"
     ]
    }
   ],
   "source": [
    "import os\n",
    "import platform\n",
    "\n",
    "#######################################################################################################################\n",
    "# PARÁMETROS DEFINIDOS EN FUNCIÓN DEL USUARIO\n",
    "#######################################################################################################################\n",
    "\n",
    "# Ruta relativa hacia la librería ai4eutils\n",
    "ai4eutils_relative = \"./repos/ai4eutils\"\n",
    "\n",
    "# Ruta relativa hacia la librería CameraTraps\n",
    "CameraTraps_relative = \"./repos/CameraTraps\"\n",
    "\n",
    "# Ruta relativa hacia carpeta donde se encuentran las imágenes con máscara aplicada\n",
    "output_masked_path_relative = '../local/output_masked/18_20201024 (6).png'\n",
    "\n",
    "# Ruta relativa hacia la carpeta destino output_edited, se guardarán las imágenes ajustadas\n",
    "output_edited_path_relative = '../local/output_edited'\n",
    "\n",
    "# Poner a True si al final de la ejecución se desea mostrar las fotos en este notebook\n",
    "VISUALIZAR_RESULTADOS = False\n",
    "\n",
    "#######################################################################################################################\n",
    "#######################################################################################################################\n",
    "\n",
    "home = os.path.expanduser(\"~\")\n",
    "\n",
    "ai4utils = os.path.abspath(ai4eutils_relative)\n",
    "CameraTraps = os.path.abspath(CameraTraps_relative)\n",
    "output_masked = os.path.abspath(output_masked_path_relative)\n",
    "output_edited = os.path.abspath(output_edited_path_relative)\n",
    "\n",
    "try:\n",
    "    os.environ['PYTHONPATH']\n",
    "except KeyError:\n",
    "    os.environ['PYTHONPATH'] = \"\"\n",
    "if platform.system() == 'Windows':\n",
    "    os.environ['PYTHONPATH'] += (\";\" + ai4utils)\n",
    "    os.environ['PYTHONPATH'] += (\";\" + CameraTraps)\n",
    "else:\n",
    "    os.environ['PYTHONPATH'] += (\":\" + ai4utils)\n",
    "    os.environ['PYTHONPATH'] += (\":\" + CameraTraps)\n",
    "\n",
    "print(\n",
    "    '==================================================================================================================================')\n",
    "print('PYTHONPATH: ' + os.environ['PYTHONPATH'])\n",
    "print('')\n",
    "print('ai4eutils PATH: ' + '\\t' + '\\t' + ai4utils)\n",
    "print('CameraTraps PATH: ' + '\\t' + '\\t' + CameraTraps)\n",
    "print('output_masked PATH: ' + '\\t' + output_masked)\n",
    "print('output_edited PATH: ' + '\\t' + output_edited)\n",
    "print(\n",
    "    '==================================================================================================================================')"
   ]
  },
  {
   "cell_type": "code",
   "execution_count": 2,
   "outputs": [
    {
     "name": "stdout",
     "output_type": "stream",
     "text": [
      "\r\n",
      "==========================================================================================\r\n",
      "Generando máscaras de 1 imágenes...\r\n",
      "\r\n",
      "  0%|                                                     | 0/1 [00:00<?, ?it/s]\r\n",
      "  0%|                                                     | 0/1 [00:01<?, ?it/s]\r\n",
      "Traceback (most recent call last):\r\n",
      "  File \"./modules/prepara_imagenes.py\", line 187, in <module>\r\n",
      "    main()\r\n",
      "  File \"./modules/prepara_imagenes.py\", line 178, in main\r\n",
      "    run(image_file_names=image_file_names, output_edited=args.output_edited)\r\n",
      "  File \"./modules/prepara_imagenes.py\", line 99, in run\r\n",
      "    image_without_border = remove_border(image_obj)\r\n",
      "  File \"./modules/prepara_imagenes.py\", line 40, in remove_border\r\n",
      "    if img_np[i][j][0] != 0 or img_np[i][j][1] != 0 or img_np[i][j][2] != 0:\r\n",
      "IndexError: index 562 is out of bounds for axis 0 with size 562\r\n"
     ]
    }
   ],
   "source": [
    "!python ./modules/prepara_imagenes.py --image_file \"$output_masked\" --output_edited \"$output_edited\""
   ],
   "metadata": {
    "collapsed": false,
    "pycharm": {
     "name": "#%%\n"
    }
   }
  },
  {
   "cell_type": "code",
   "execution_count": 3,
   "outputs": [],
   "source": [
    "if VISUALIZAR_RESULTADOS:\n",
    "    import os\n",
    "    import glob\n",
    "    from PIL import Image\n",
    "    from tqdm import tqdm\n",
    "\n",
    "    image_extensions = ['.png']\n",
    "\n",
    "\n",
    "    def is_image_file(s):\n",
    "        ext = os.path.splitext(s)[1]\n",
    "        return ext.lower() in image_extensions\n",
    "\n",
    "\n",
    "    def find_image_files(strings):\n",
    "        return [s for s in strings if is_image_file(s)]\n",
    "\n",
    "\n",
    "    def find_images(dir_name):\n",
    "        strings = glob.glob(os.path.join(dir_name, '*.*'))\n",
    "        image_strings = find_image_files(strings)\n",
    "        return image_strings\n",
    "\n",
    "\n",
    "    image_file_names = find_images(output_edited)\n",
    "\n",
    "    for image_file in tqdm(image_file_names):\n",
    "        print(image_file)\n",
    "        im = Image.open(image_file)\n",
    "        display(im)\n",
    "        print('\\n\\n')"
   ],
   "metadata": {
    "collapsed": false,
    "pycharm": {
     "name": "#%%\n"
    }
   }
  }
 ],
 "metadata": {
  "kernelspec": {
   "display_name": "Python 3",
   "language": "python",
   "name": "python3"
  },
  "language_info": {
   "codemirror_mode": {
    "name": "ipython",
    "version": 2
   },
   "file_extension": ".py",
   "mimetype": "text/x-python",
   "name": "python",
   "nbconvert_exporter": "python",
   "pygments_lexer": "ipython2",
   "version": "2.7.6"
  }
 },
 "nbformat": 4,
 "nbformat_minor": 0
}