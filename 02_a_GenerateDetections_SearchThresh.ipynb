{
 "cells": [
  {
   "cell_type": "code",
   "execution_count": 4,
   "metadata": {},
   "outputs": [],
   "source": [
    "import os\n",
    "\n",
    "threshold = float(0.8)\n",
    "\n",
    "DATASET_FOLDER = os.path.abspath(\"./dataset/emptyNonEmptyDataset\")\n",
    "DATASET_CSV_FILE = os.path.abspath(\"./data/raw/binary/20Imagenes_binary.csv\")\n",
    "\n",
    "OUTPUT_FOLDER = os.path.abspath(\"./resources/output_json\")\n",
    "\n",
    "DETECTION_MODEL_FILE = os.path.abspath(\"./models/MegaDetector/md_v4.1.0.pb\")"
   ]
  },
  {
   "cell_type": "code",
   "execution_count": null,
   "metadata": {},
   "outputs": [],
   "source": [
    "# import platform\n",
    "\n",
    "# if platform.system() == \"Windows\":\n",
    "#     os.environ[\"PYTHONPATH\"] += \";\" + ai4eutils_path + \";\" + CameraTraps_path\n",
    "# else:\n",
    "#     os.environ[\"PYTHONPATH\"] += \":\" + ai4eutils_path + \":\" + CameraTraps_path"
   ]
  },
  {
   "cell_type": "code",
   "execution_count": 8,
   "metadata": {},
   "outputs": [
    {
     "name": "stdout",
     "output_type": "stream",
     "text": [
      "JSON_FILE_NAME:  2024-08-23_20-35_thresh_0_8_20Imagenes\n"
     ]
    }
   ],
   "source": [
    "from datetime import datetime as dt\n",
    "\n",
    "threshold_string = \"_thresh_\" + str(threshold).replace(\".\", \"_\")\n",
    "date_string = dt.now().strftime(\"%Y-%m-%d_%H-%M\")\n",
    "imagenes_string = \"_\" + DATASET_CSV_FILE.split(\"/\")[-1].split(\".\")[0].split(\"_\")[0]\n",
    "JSON_FILE_NAME = date_string + threshold_string + imagenes_string + \".json\""
   ]
  }
 ],
 "metadata": {
  "kernelspec": {
   "display_name": "TFG",
   "language": "python",
   "name": "python3"
  },
  "language_info": {
   "codemirror_mode": {
    "name": "ipython",
    "version": 3
   },
   "file_extension": ".py",
   "mimetype": "text/x-python",
   "name": "python",
   "nbconvert_exporter": "python",
   "pygments_lexer": "ipython3",
   "version": "3.8.13"
  }
 },
 "nbformat": 4,
 "nbformat_minor": 2
}
