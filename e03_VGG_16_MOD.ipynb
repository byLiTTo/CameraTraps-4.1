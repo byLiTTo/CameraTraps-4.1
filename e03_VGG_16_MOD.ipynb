{
 "cells": [
  {
   "cell_type": "markdown",
   "source": [
    "# DEFINICIÓN DE PARÁMETROS"
   ],
   "metadata": {
    "collapsed": false,
    "pycharm": {
     "name": "#%% md\n"
    }
   }
  },
  {
   "cell_type": "code",
   "execution_count": null,
   "outputs": [],
   "source": [
    "#######################################################################################################################\n",
    "\n",
    "# Ruta hacia los CSV del dataset\n",
    "train_file_relative = './data/700Train.csv'\n",
    "validation_file_relative = './data/700Validation.csv'\n",
    "test_file_relative = './data/700Test.csv'\n",
    "\n",
    "# Ruta al directorio de imágenes con máscara aplicada\n",
    "masked_dir_relative = '../local/output_masked'\n",
    "edited_dir_relative = '../local/output_edited'\n",
    "\n",
    "model_dir_relative = \"./models\"\n",
    "\n",
    "# Ruta relativa hacia la librería ai4eutils\n",
    "ai4eutils_relative = \"./repos/ai4eutils\"\n",
    "\n",
    "# Ruta relativa hacia la librería CameraTraps\n",
    "CameraTraps_relative = \"./repos/CameraTraps\"\n",
    "\n",
    "#######################################################################################################################"
   ],
   "metadata": {
    "collapsed": false,
    "pycharm": {
     "name": "#%%\n"
    }
   }
  },
  {
   "cell_type": "markdown",
   "source": [
    "# DEFINICIÓN PARÁMETROS CNN"
   ],
   "metadata": {
    "collapsed": false,
    "pycharm": {
     "name": "#%% md\n"
    }
   }
  },
  {
   "cell_type": "code",
   "execution_count": null,
   "outputs": [],
   "source": [
    "#######################################################################################################################\n",
    "\n",
    "EPOCHS = 50\n",
    "LEARNING_RATE = 1e-4\n",
    "BATCH_SIZE = 16\n",
    "\n",
    "IMG_HEIGHT = IMG_WIDTH = 448\n",
    "\n",
    "#######################################################################################################################"
   ],
   "metadata": {
    "collapsed": false,
    "pycharm": {
     "name": "#%%\n"
    }
   }
  },
  {
   "cell_type": "code",
   "execution_count": null,
   "metadata": {
    "collapsed": true,
    "pycharm": {
     "name": "#%%\n"
    }
   },
   "outputs": [],
   "source": [
    "import os\n",
    "import platform\n",
    "\n",
    "import pandas as pd\n",
    "import tensorflow as tf\n",
    "from matplotlib import pyplot as plt\n",
    "from tensorflow import keras\n",
    "\n",
    "from modules.dataset_utils import DatasetUtils\n",
    "\n",
    "home = os.path.expanduser(\"~\")\n",
    "\n",
    "ai4utils = os.path.abspath(ai4eutils_relative)\n",
    "CameraTraps = os.path.abspath(CameraTraps_relative)\n",
    "train_file = os.path.abspath(train_file_relative)\n",
    "validation_file = os.path.abspath(validation_file_relative)\n",
    "test_file = os.path.abspath(test_file_relative)\n",
    "masked_dir = os.path.abspath(masked_dir_relative)\n",
    "edited_dir = os.path.abspath(edited_dir_relative)\n",
    "model_dir = os.path.abspath(model_dir_relative)\n",
    "\n",
    "try:\n",
    "    os.environ['PYTHONPATH']\n",
    "except KeyError:\n",
    "    os.environ['PYTHONPATH'] = \"\"\n",
    "if platform.system() == 'Windows':\n",
    "    os.environ['PYTHONPATH'] += (\";\" + ai4utils)\n",
    "    os.environ['PYTHONPATH'] += (\";\" + CameraTraps)\n",
    "else:\n",
    "    os.environ['PYTHONPATH'] += (\":\" + ai4utils)\n",
    "    os.environ['PYTHONPATH'] += (\":\" + CameraTraps)\n",
    "\n",
    "print('==============================================================================================================')\n",
    "print('PYTHONPATH: ' + os.environ['PYTHONPATH'])\n",
    "print('')\n",
    "print('ai4eutils PATH: ' + '\\t\\t' + ai4utils)\n",
    "print('CameraTraps PATH: ' + '\\t\\t' + CameraTraps)\n",
    "print('Train CSV PATH: ' + '\\t\\t' + train_file)\n",
    "print('Validation CSV PATH: ' + '\\t' + validation_file)\n",
    "print('Test CSV PATH: ' + '\\t\\t\\t' + test_file)\n",
    "print('masked PATH: ' + '\\t\\t\\t' + masked_dir)\n",
    "print('edited PATH: ' + '\\t\\t\\t' + edited_dir)\n",
    "print('models PATH: ' + '\\t\\t\\t' + model_dir)\n",
    "print('==============================================================================================================')"
   ]
  },
  {
   "cell_type": "markdown",
   "source": [
    "# Generate Datasets"
   ],
   "metadata": {
    "collapsed": false,
    "pycharm": {
     "name": "#%% md\n"
    }
   }
  },
  {
   "cell_type": "code",
   "execution_count": null,
   "outputs": [],
   "source": [
    "custom = tf.keras.preprocessing.image.ImageDataGenerator(\n",
    "    rescale=1. / 255,\n",
    "    horizontal_flip=True,\n",
    ")\n",
    "\n",
    "general = tf.keras.preprocessing.image.ImageDataGenerator(rescale=1. / 255)\n",
    "\n",
    "file_names, labels = DatasetUtils.load_dataset(train_file, edited_dir)\n",
    "d = {'file_names': file_names, 'labels': labels}\n",
    "train_df = pd.DataFrame(data=d, dtype=str)\n",
    "train_dataset = custom.flow_from_dataframe(\n",
    "    dataframe=train_df,\n",
    "    directory=None,\n",
    "    x_col=\"file_names\",\n",
    "    y_col=\"labels\",\n",
    "    class_mode='binary',\n",
    "    shuffle=True,\n",
    "    batch_size=BATCH_SIZE,\n",
    "    target_size=(IMG_HEIGHT, IMG_WIDTH)\n",
    ")\n",
    "\n",
    "file_names, labels = DatasetUtils.load_dataset(validation_file, edited_dir)\n",
    "d = {'file_names': file_names, 'labels': labels}\n",
    "validation_df = pd.DataFrame(data=d, dtype=str)\n",
    "validation_dataset = general.flow_from_dataframe(\n",
    "    dataframe=validation_df,\n",
    "    x_col=\"file_names\",\n",
    "    y_col=\"labels\",\n",
    "    class_mode='binary',\n",
    "    shuffle=True,\n",
    "    batch_size=BATCH_SIZE,\n",
    "    target_size=(IMG_HEIGHT, IMG_WIDTH)\n",
    ")\n",
    "\n",
    "file_names, labels = DatasetUtils.load_dataset(test_file, edited_dir)\n",
    "d = {'file_names': file_names, 'labels': labels}\n",
    "test_df = pd.DataFrame(data=d, dtype=str)\n",
    "test_dataset = general.flow_from_dataframe(\n",
    "    dataframe=test_df,\n",
    "    x_col=\"file_names\",\n",
    "    y_col=\"labels\",\n",
    "    class_mode='binary',\n",
    "    shuffle=True,\n",
    "    batch_size=BATCH_SIZE,\n",
    "    target_size=(IMG_HEIGHT, IMG_WIDTH)\n",
    ")"
   ],
   "metadata": {
    "collapsed": false,
    "pycharm": {
     "name": "#%%\n"
    }
   }
  },
  {
   "cell_type": "markdown",
   "source": [
    "# VGG 16 Architecture"
   ],
   "metadata": {
    "collapsed": false,
    "pycharm": {
     "name": "#%% md\n"
    }
   }
  },
  {
   "cell_type": "code",
   "execution_count": null,
   "outputs": [],
   "source": [
    "VGG16 = keras.Sequential()\n",
    "VGG16.add(keras.layers.Conv2D(input_shape=(IMG_HEIGHT, IMG_WIDTH, 3), filters=64, kernel_size=(3, 3), padding=\"same\", activation=\"relu\"))\n",
    "\n",
    "VGG16.add(keras.layers.Conv2D(filters=64, kernel_size=(3, 3), padding=\"same\", activation=\"relu\"))\n",
    "VGG16.add(keras.layers.MaxPool2D(pool_size=(2, 2), strides=(2, 2)))\n",
    "\n",
    "VGG16.add(keras.layers.Conv2D(filters=128, kernel_size=(3, 3), padding=\"same\", activation=\"relu\"))\n",
    "VGG16.add(keras.layers.Conv2D(filters=128, kernel_size=(3, 3), padding=\"same\", activation=\"relu\"))\n",
    "VGG16.add(keras.layers.MaxPool2D(pool_size=(2, 2), strides=(2, 2)))\n",
    "\n",
    "VGG16.add(keras.layers.Conv2D(filters=256, kernel_size=(3, 3), padding=\"same\", activation=\"relu\"))\n",
    "VGG16.add(keras.layers.Conv2D(filters=256, kernel_size=(3, 3), padding=\"same\", activation=\"relu\"))\n",
    "VGG16.add(keras.layers.Conv2D(filters=256, kernel_size=(3, 3), padding=\"same\", activation=\"relu\"))\n",
    "VGG16.add(keras.layers.MaxPool2D(pool_size=(2, 2), strides=(2, 2)))\n",
    "\n",
    "VGG16.add(keras.layers.Conv2D(filters=512, kernel_size=(3, 3), padding=\"same\", activation=\"relu\"))\n",
    "VGG16.add(keras.layers.Conv2D(filters=512, kernel_size=(3, 3), padding=\"same\", activation=\"relu\"))\n",
    "VGG16.add(keras.layers.Conv2D(filters=512, kernel_size=(3, 3), padding=\"same\", activation=\"relu\"))\n",
    "VGG16.add(keras.layers.MaxPool2D(pool_size=(2, 2), strides=(2, 2)))\n",
    "\n",
    "VGG16.add(keras.layers.Conv2D(filters=512, kernel_size=(3, 3), padding=\"same\", activation=\"relu\"))\n",
    "VGG16.add(keras.layers.Conv2D(filters=512, kernel_size=(3, 3), padding=\"same\", activation=\"relu\"))\n",
    "VGG16.add(keras.layers.Conv2D(filters=512, kernel_size=(3, 3), padding=\"same\", activation=\"relu\"))\n",
    "VGG16.add(keras.layers.MaxPool2D(pool_size=(2, 2), strides=(2, 2)))\n",
    "\n",
    "VGG16.add(keras.layers.Flatten())\n",
    "VGG16.add(keras.layers.Dense(units=4096,activation=\"relu\"))\n",
    "VGG16.add(keras.layers.Dense(units=4096,activation=\"relu\"))\n",
    "\n",
    "VGG16.add(keras.layers.Dense(1, activation='sigmoid'))\n",
    "\n",
    "VGG16.summary()\n",
    "\n",
    "VGG16.compile(\n",
    "    optimizer=keras.optimizers.Adam(learning_rate=LEARNING_RATE),\n",
    "    loss=[keras.losses.BinaryCrossentropy()],\n",
    "    metrics=['accuracy'])"
   ],
   "metadata": {
    "collapsed": false,
    "pycharm": {
     "name": "#%%\n"
    }
   }
  },
  {
   "cell_type": "code",
   "execution_count": null,
   "outputs": [],
   "source": [
    "hist = VGG16.fit(\n",
    "    train_dataset,\n",
    "    steps_per_epoch=train_dataset.samples // BATCH_SIZE,\n",
    "    epochs=EPOCHS,\n",
    "    validation_data=validation_dataset,\n",
    "    validation_steps=validation_dataset.samples // BATCH_SIZE,\n",
    "    verbose=1\n",
    ")\n",
    "results = VGG16.evaluate(\n",
    "    test_dataset,\n",
    "    batch_size=BATCH_SIZE,\n",
    "    verbose=1\n",
    ")\n",
    "\n",
    "fig = plt.figure(figsize=(15, 12))\n",
    "fig.suptitle('VGG16 using edited images')\n",
    "\n",
    "ax1 = fig.add_subplot(2, 1, 1)\n",
    "ax2 = fig.add_subplot(2, 1, 2)\n",
    "\n",
    "ax1.plot(hist.history['loss'], color='blue', label='train loss', )\n",
    "ax1.plot(hist.history['val_loss'], color='green', label='validation loss')\n",
    "ax1.legend(loc=\"upper right\")\n",
    "ax2.plot(hist.history['accuracy'], color='orange', label='train accuracy')\n",
    "ax2.plot(hist.history['val_accuracy'], color='red', label='validation accuracy')\n",
    "ax2.legend(loc=\"lower right\")\n",
    "plt.show()"
   ],
   "metadata": {
    "collapsed": false,
    "pycharm": {
     "name": "#%%\n"
    }
   }
  }
 ],
 "metadata": {
  "kernelspec": {
   "display_name": "Python 3",
   "language": "python",
   "name": "python3"
  },
  "language_info": {
   "codemirror_mode": {
    "name": "ipython",
    "version": 2
   },
   "file_extension": ".py",
   "mimetype": "text/x-python",
   "name": "python",
   "nbconvert_exporter": "python",
   "pygments_lexer": "ipython2",
   "version": "2.7.6"
  }
 },
 "nbformat": 4,
 "nbformat_minor": 0
}