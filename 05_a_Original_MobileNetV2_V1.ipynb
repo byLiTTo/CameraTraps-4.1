{
 "cells": [
  {
   "cell_type": "code",
   "execution_count": 2,
   "metadata": {},
   "outputs": [],
   "source": [
    "import json\n",
    "import os\n",
    "\n",
    "import tqdm\n",
    "import pandas as pd\n",
    "\n",
    "import src.data.Dataset as dt\n",
    "\n",
    "import tensorflow as tf\n",
    "# import tensorboard\n",
    "from keras.callbacks import TensorBoard\n",
    "from tensorflow.keras.applications import ResNet50, MobileNetV2\n",
    "from tensorflow.keras.models import Sequential\n",
    "from tensorflow.keras.layers import Dense, Flatten, GlobalAveragePooling2D\n",
    "from tensorflow.keras.preprocessing.image import ImageDataGenerator\n",
    "from tensorflow.keras.callbacks import ModelCheckpoint, EarlyStopping"
   ]
  },
  {
   "cell_type": "code",
   "execution_count": 3,
   "metadata": {},
   "outputs": [
    {
     "name": "stdout",
     "output_type": "stream",
     "text": [
      "PYTHONPATH: :/Users/carlos/WORKSPACE/MegaClassifier/data/external/ai4eutils:/Users/carlos/WORKSPACE/MegaClassifier/data/external/CameraTraps:/Users/carlos/WORKSPACE/MegaClassifier/data/external/yolov5\n"
     ]
    }
   ],
   "source": [
    "required_paths = [\"/ai4eutils\", \"/CameraTraps\", \"/yolov5\"]\n",
    "python_path = os.environ.get(\"PYTHONPATH\", \"\")\n",
    "root_path = os.getcwd()\n",
    "\n",
    "for path in required_paths:\n",
    "    if not any(p.endswith(path) for p in python_path.split(\":\")):\n",
    "        python_path += f\":{root_path}/data/external{path}\"\n",
    "\n",
    "os.environ[\"PYTHONPATH\"] = python_path\n",
    "\n",
    "!echo \"PYTHONPATH: $PYTHONPATH\""
   ]
  },
  {
   "cell_type": "code",
   "execution_count": 4,
   "metadata": {},
   "outputs": [
    {
     "name": "stdout",
     "output_type": "stream",
     "text": [
      "DATASET_PATH:   /Users/carlos/WORKSPACE/MegaClassifier/dataset/datasetFiltered\n",
      "TRAIN_CSV:      /Users/carlos/WORKSPACE/MegaClassifier/data/processed/train/10000Train.csv\n",
      "VALIDATION_CSV: /Users/carlos/WORKSPACE/MegaClassifier/data/processed/validation/10000Validation.csv\n",
      "TEST_CSV:       /Users/carlos/WORKSPACE/MegaClassifier/data/processed/test/10000Test.csv\n",
      "RESULT_JSON:    /Users/carlos/WORKSPACE/MegaClassifier/reports/model_coberture\n"
     ]
    }
   ],
   "source": [
    "DATASET_PATH = os.path.abspath(\"./dataset/datasetFiltered\")\n",
    "\n",
    "TRAIN_CSV = os.path.abspath(\"./data/processed/train/10000Train.csv\")\n",
    "VALIDATION_CSV = os.path.abspath(\"./data/processed/validation/10000Validation.csv\")\n",
    "TEST_CSV = os.path.abspath(\"./data/processed/test/10000Test.csv\")\n",
    "\n",
    "RESULT_CSV = os.path.abspath(\"./reports/model_coberture/\")\n",
    "\n",
    "print(f\"DATASET_PATH:   {DATASET_PATH}\")\n",
    "print(f\"TRAIN_CSV:      {TRAIN_CSV}\")\n",
    "print(f\"VALIDATION_CSV: {VALIDATION_CSV}\")\n",
    "print(f\"TEST_CSV:       {TEST_CSV}\")\n",
    "print(f\"RESULT_JSON:    {RESULT_CSV}\")\n"
   ]
  },
  {
   "cell_type": "code",
   "execution_count": 5,
   "metadata": {},
   "outputs": [
    {
     "name": "stdout",
     "output_type": "stream",
     "text": [
      "The file /Users/carlos/WORKSPACE/MegaClassifier/data/processed/train/10000Train.csv has been successfully opened.\n",
      "The file /Users/carlos/WORKSPACE/MegaClassifier/data/processed/validation/10000Validation.csv has been successfully opened.\n",
      "The file /Users/carlos/WORKSPACE/MegaClassifier/data/processed/test/10000Test.csv has been successfully opened.\n"
     ]
    }
   ],
   "source": [
    "train_csv = dt.load_from_csv(TRAIN_CSV)\n",
    "vali_csv = dt.load_from_csv(VALIDATION_CSV)\n",
    "test_csv = dt.load_from_csv(TEST_CSV)"
   ]
  },
  {
   "cell_type": "code",
   "execution_count": 6,
   "metadata": {},
   "outputs": [],
   "source": [
    "columns = ['file_name', 'label']\n",
    "\n",
    "data = []\n",
    "for _, row in train_csv.iterrows():\n",
    "    file_name = os.path.join(DATASET_PATH, row['file_name'])\n",
    "    label = row['label']\n",
    "    data.append([file_name, label])\n",
    "train_dataset = pd.DataFrame(data, columns=columns)\n",
    "train_dataset['label'] = train_dataset['label'].astype(str)\n",
    "\n",
    "data = []\n",
    "for _, row in vali_csv.iterrows():\n",
    "    file_name = os.path.join(DATASET_PATH, row['file_name'])\n",
    "    label = row['label']\n",
    "    data.append([file_name, label])\n",
    "vali_dataset = pd.DataFrame(data, columns=columns)\n",
    "vali_dataset['label'] = vali_dataset['label'].astype(str)\n",
    "\n",
    "data = []\n",
    "for _, row in test_csv.iterrows():\n",
    "    file_name = os.path.join(DATASET_PATH, row['file_name'])\n",
    "    label = row['label']\n",
    "    data.append([file_name, label])\n",
    "test_dataset = pd.DataFrame(data, columns=columns)\n",
    "test_dataset['label'] = test_dataset['label'].astype(str)"
   ]
  },
  {
   "cell_type": "code",
   "execution_count": 7,
   "metadata": {},
   "outputs": [],
   "source": [
    "img_weight = 224\n",
    "img_height = 224\n",
    "\n",
    "batch_size = 64\n",
    "\n",
    "seed = 42"
   ]
  },
  {
   "cell_type": "code",
   "execution_count": 8,
   "metadata": {},
   "outputs": [
    {
     "name": "stdout",
     "output_type": "stream",
     "text": [
      "Found 20732 validated image filenames belonging to 2 classes.\n",
      "Found 4442 validated image filenames belonging to 2 classes.\n",
      "Found 4444 validated image filenames belonging to 2 classes.\n"
     ]
    }
   ],
   "source": [
    "datagen_train = ImageDataGenerator(\n",
    "    rescale=1.0 / 255,\n",
    "    horizontal_flip=True,\n",
    "    brightness_range=[0.8, 1.2]\n",
    ")\n",
    "datagen_val_test = ImageDataGenerator(rescale=1.0 / 255)\n",
    "\n",
    "train_generator = datagen_train.flow_from_dataframe(\n",
    "    dataframe=train_dataset,\n",
    "    x_col=\"file_name\",\n",
    "    y_col=\"label\",\n",
    "    target_size=(img_weight, img_height),\n",
    "    batch_size=batch_size,\n",
    "    class_mode=\"binary\",\n",
    "    shuffle=True,\n",
    "    seed=seed,\n",
    ")\n",
    "\n",
    "val_generator = datagen_val_test.flow_from_dataframe(\n",
    "    dataframe=vali_dataset,\n",
    "    x_col=\"file_name\",\n",
    "    y_col=\"label\",\n",
    "    target_size=(img_weight, img_height),\n",
    "    batch_size=batch_size,\n",
    "    class_mode=\"binary\",\n",
    "    shuffle=True,\n",
    "    seed=seed,\n",
    ")\n",
    "\n",
    "test_generator = datagen_val_test.flow_from_dataframe(\n",
    "    dataframe=test_dataset,\n",
    "    x_col=\"file_name\",\n",
    "    y_col=\"label\",\n",
    "    target_size=(img_weight, img_height),\n",
    "    batch_size=batch_size,\n",
    "    class_mode=\"binary\",\n",
    "    shuffle=False,\n",
    ")"
   ]
  },
  {
   "cell_type": "code",
   "execution_count": 9,
   "metadata": {},
   "outputs": [
    {
     "name": "stdout",
     "output_type": "stream",
     "text": [
      "Model: \"sequential\"\n",
      "_________________________________________________________________\n",
      " Layer (type)                Output Shape              Param #   \n",
      "=================================================================\n",
      " mobilenetv2_1.00_224 (Funct  (None, 7, 7, 1280)       2257984   \n",
      " ional)                                                          \n",
      "                                                                 \n",
      " global_average_pooling2d (G  (None, 1280)             0         \n",
      " lobalAveragePooling2D)                                          \n",
      "                                                                 \n",
      " dense (Dense)               (None, 1)                 1281      \n",
      "                                                                 \n",
      "=================================================================\n",
      "Total params: 2,259,265\n",
      "Trainable params: 1,281\n",
      "Non-trainable params: 2,257,984\n",
      "_________________________________________________________________\n"
     ]
    }
   ],
   "source": [
    "mobilenetV2 = MobileNetV2(\n",
    "    include_top=False, \n",
    "    input_shape=(img_weight, img_height, 3),\n",
    "    weights=\"imagenet\",\n",
    ")\n",
    "\n",
    "# Congelar las capas del modelo base\n",
    "mobilenetV2.trainable = False\n",
    "\n",
    "model = Sequential([\n",
    "    mobilenetV2,\n",
    "    GlobalAveragePooling2D(),\n",
    "    Dense(1, activation='sigmoid')\n",
    "])\n",
    "\n",
    "# Compilar el modelo\n",
    "model.compile(optimizer='adam',\n",
    "              loss='binary_crossentropy',\n",
    "              metrics=['accuracy'])\n",
    "\n",
    "# Mostrar el resumen del modelo\n",
    "model.summary()"
   ]
  },
  {
   "cell_type": "code",
   "execution_count": null,
   "metadata": {},
   "outputs": [],
   "source": [
    "\n",
    "# Definir el callback para guardar el mejor modelo basado en la menor pérdida de validación\n",
    "checkpoint = ModelCheckpoint('./models/CNNs/original_MobileNetV2_V1.h5', \n",
    "                             monitor='val_loss',  # Monitoreamos la pérdida en validación\n",
    "                             save_best_only=True,  # Guardamos solo el mejor modelo\n",
    "                             mode='min',           # Queremos minimizar la pérdida\n",
    "                             verbose=1)            # Muestra un mensaje cada vez que guarda\n",
    "\n",
    "\n",
    "tensorBoard = TensorBoard(log_dir='./logs/original/MobileNetV2/version_1')\n",
    "\n",
    "# Entrenar el modelo con el callback de checkpoint\n",
    "history = model.fit(\n",
    "    train_generator,\n",
    "    epochs=100,\n",
    "    validation_data=val_generator,\n",
    "    callbacks=[checkpoint, tensorBoard]\n",
    ")"
   ]
  },
  {
   "cell_type": "code",
   "execution_count": null,
   "metadata": {},
   "outputs": [],
   "source": [
    "import matplotlib.pyplot as plt\n",
    "\n",
    "# Graficar la precisión y pérdida en entrenamiento y validación\n",
    "def plot_training_history(history):\n",
    "    acc = history.history['accuracy']\n",
    "    val_acc = history.history['val_accuracy']\n",
    "    loss = history.history['loss']\n",
    "    val_loss = history.history['val_loss']\n",
    "    epochs_range = range(len(acc))\n",
    "\n",
    "    plt.figure(figsize=(20, 5))\n",
    "    plt.subplot(1, 2, 1)\n",
    "    plt.plot(epochs_range, acc, label='Accuracy')\n",
    "    plt.plot(epochs_range, val_acc, label='Validation Accuracy')\n",
    "    plt.legend(loc='lower right')\n",
    "    plt.title('Training and Validation Accuracy')\n",
    "\n",
    "    plt.subplot(1, 2, 2)\n",
    "    plt.plot(epochs_range, loss, label='Loss')\n",
    "    plt.plot(epochs_range, val_loss, label='Validation Loss')\n",
    "    plt.legend(loc='upper right')\n",
    "    plt.title('Training and Validation Loss')\n",
    "    plt.show()\n",
    "\n",
    "# Llamar a la función para graficar\n",
    "plot_training_history(history)"
   ]
  },
  {
   "cell_type": "code",
   "execution_count": 10,
   "metadata": {},
   "outputs": [
    {
     "name": "stderr",
     "output_type": "stream",
     "text": [
      "2024-09-28 20:46:44.888813: W tensorflow/core/platform/profile_utils/cpu_utils.cc:128] Failed to get CPU frequency: 0 Hz\n"
     ]
    },
    {
     "name": "stdout",
     "output_type": "stream",
     "text": [
      "70/70 [==============================] - 27s 374ms/step - loss: 0.2074 - accuracy: 0.9120\n"
     ]
    },
    {
     "data": {
      "text/plain": [
       "[0.20741039514541626, 0.9120162129402161]"
      ]
     },
     "execution_count": 10,
     "metadata": {},
     "output_type": "execute_result"
    }
   ],
   "source": [
    "from tensorflow.keras.models import load_model\n",
    "\n",
    "# Cargar el mejor modelo guardado durante el entrenamiento\n",
    "best_model = load_model('./models/CNNs/original_MobileNetV2_V1.h5')\n",
    "\n",
    "# Evaluar o usar el mejor modelo\n",
    "best_model.evaluate(test_generator)"
   ]
  }
 ],
 "metadata": {
  "kernelspec": {
   "display_name": "cameratraps-detector",
   "language": "python",
   "name": "python3"
  },
  "language_info": {
   "codemirror_mode": {
    "name": "ipython",
    "version": 3
   },
   "file_extension": ".py",
   "mimetype": "text/x-python",
   "name": "python",
   "nbconvert_exporter": "python",
   "pygments_lexer": "ipython3",
   "version": "3.8.15"
  }
 },
 "nbformat": 4,
 "nbformat_minor": 2
}
