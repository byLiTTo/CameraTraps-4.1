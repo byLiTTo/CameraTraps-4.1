{
 "cells": [
  {
   "cell_type": "code",
   "execution_count": 1,
   "metadata": {
    "pycharm": {
     "name": "#%%\n"
    }
   },
   "outputs": [
    {
     "name": "stdout",
     "output_type": "stream",
     "text": [
      "\n",
      "==========================================================================================\n",
      "TensorFlow version: 2.9.2\n",
      "Is GPU available? tf.test.is_gpu_available: [PhysicalDevice(name='/physical_device:GPU:0', device_type='GPU')]\n",
      "==========================================================================================\n",
      "\n",
      "=======================================================================================================================================\n",
      "PYTHONPATH: /Users/carlos/.vscode/extensions/ms-toolsai.jupyter-2022.6.1201981810/pythonFiles:/Users/carlos/.vscode/extensions/ms-toolsai.jupyter-2022.6.1201981810/pythonFiles/lib/python:/Users/carlos/WORKSPACE/TFG-DeteccionFototrampeo/repos/ai4eutils:/Users/carlos/WORKSPACE/TFG-DeteccionFototrampeo/repos/CameraTraps\n",
      "\n",
      "ai4eutils PATH: \t/Users/carlos/WORKSPACE/TFG-DeteccionFototrampeo/repos/ai4eutils\n",
      "CameraTraps PATH: \t/Users/carlos/WORKSPACE/TFG-DeteccionFototrampeo/repos/CameraTraps\n",
      "Train CSV PATH: \t/Users/carlos/WORKSPACE/TFG-DeteccionFototrampeo/data/700Train.csv\n",
      "Validation CSV PATH: \t/Users/carlos/WORKSPACE/TFG-DeteccionFototrampeo/data/700Validation.csv\n",
      "Test CSV PATH: \t\t/Users/carlos/WORKSPACE/TFG-DeteccionFototrampeo/data/700Test.csv\n",
      "masked PATH: \t\t/Users/carlos/WORKSPACE/local/output_masked\n",
      "models PATH: \t\t/Users/carlos/WORKSPACE/TFG-DeteccionFototrampeo/models\n",
      "=======================================================================================================================================\n"
     ]
    }
   ],
   "source": [
    "import os\n",
    "import platform\n",
    "from datetime import datetime\n",
    "\n",
    "import pandas as pd\n",
    "import tensorflow as tf\n",
    "from matplotlib import pyplot as plt\n",
    "from tensorflow import keras\n",
    "from tensorflow.python.keras import layers\n",
    "from tensorflow.python.keras.metrics import Precision, Recall, BinaryAccuracy\n",
    "\n",
    "from modules.dataset_utils import DatasetUtils\n",
    "\n",
    "#######################################################################################################################\n",
    "# PARÁMETROS DEFINIDOS EN FUNCIÓN DEL USUARIO\n",
    "#######################################################################################################################\n",
    "\n",
    "# Ruta hacia los CSV del dataset\n",
    "train_file_relative = './data/700Train.csv'\n",
    "validation_file_relative = './data/700Validation.csv'\n",
    "test_file_relative = './data/700Test.csv'\n",
    "\n",
    "# Ruta al directorio de imágenes con máscara aplicada\n",
    "masked_dir_relative = '../local/output_masked/'\n",
    "\n",
    "model_dir_relative = \"./models\"\n",
    "\n",
    "# Ruta relativa hacia la librería ai4eutils\n",
    "ai4eutils_relative = \"./repos/ai4eutils\"\n",
    "\n",
    "# Ruta relativa hacia la librería CameraTraps\n",
    "CameraTraps_relative = \"./repos/CameraTraps\"\n",
    "\n",
    "#######################################################################################################################\n",
    "# PARÁMETROS PARA CNN\n",
    "#######################################################################################################################\n",
    "\n",
    "IMG_HEIGHT = IMG_WEIGHT = 500\n",
    "EPOCHS = 50\n",
    "BATCH_SIZE = 16\n",
    "\n",
    "#######################################################################################################################\n",
    "#######################################################################################################################\n",
    "\n",
    "home = os.path.expanduser(\"~\")\n",
    "\n",
    "ai4utils = os.path.abspath(ai4eutils_relative)\n",
    "CameraTraps = os.path.abspath(CameraTraps_relative)\n",
    "train_file = os.path.abspath(train_file_relative)\n",
    "validation_file = os.path.abspath(validation_file_relative)\n",
    "test_file = os.path.abspath(test_file_relative)\n",
    "masked_dir = os.path.abspath(masked_dir_relative)\n",
    "model_dir = os.path.abspath(model_dir_relative)\n",
    "\n",
    "try:\n",
    "    os.environ['PYTHONPATH']\n",
    "except KeyError:\n",
    "    os.environ['PYTHONPATH'] = \"\"\n",
    "if platform.system() == 'Windows':\n",
    "    os.environ['PYTHONPATH'] += (\";\" + ai4utils)\n",
    "    os.environ['PYTHONPATH'] += (\";\" + CameraTraps)\n",
    "else:\n",
    "    os.environ['PYTHONPATH'] += (\":\" + ai4utils)\n",
    "    os.environ['PYTHONPATH'] += (\":\" + CameraTraps)\n",
    "\n",
    "print(\n",
    "    '=======================================================================================================================================')\n",
    "print('PYTHONPATH: ' + os.environ['PYTHONPATH'])\n",
    "print('')\n",
    "print('ai4eutils PATH: ' + '\\t' + ai4utils)\n",
    "print('CameraTraps PATH: ' + '\\t' + CameraTraps)\n",
    "print('Train CSV PATH: ' + '\\t' + train_file)\n",
    "print('Validation CSV PATH: ' + '\\t' + validation_file)\n",
    "print('Test CSV PATH: ' + '\\t' + '\\t' + test_file)\n",
    "print('masked PATH: ' + '\\t' + '\\t' + masked_dir)\n",
    "print('models PATH: ' + '\\t' + '\\t' + model_dir)\n",
    "print(\n",
    "    '=======================================================================================================================================')"
   ]
  },
  {
   "cell_type": "code",
   "execution_count": 2,
   "metadata": {
    "pycharm": {
     "name": "#%%\n"
    }
   },
   "outputs": [
    {
     "name": "stdout",
     "output_type": "stream",
     "text": [
      "Metal device set to: Apple M1\n",
      "\n",
      "systemMemory: 16.00 GB\n",
      "maxCacheSize: 5.33 GB\n",
      "\n"
     ]
    },
    {
     "name": "stderr",
     "output_type": "stream",
     "text": [
      "2022-07-29 13:09:26.487004: I tensorflow/core/common_runtime/pluggable_device/pluggable_device_factory.cc:305] Could not identify NUMA node of platform GPU ID 0, defaulting to 0. Your kernel may not have been built with NUMA support.\n",
      "2022-07-29 13:09:26.487113: I tensorflow/core/common_runtime/pluggable_device/pluggable_device_factory.cc:271] Created TensorFlow device (/job:localhost/replica:0/task:0/device:GPU:0 with 0 MB memory) -> physical PluggableDevice (device: 0, name: METAL, pci bus id: <undefined>)\n"
     ]
    }
   ],
   "source": [
    "file_path, labels = DatasetUtils.load_dataset(train_file, masked_dir)\n",
    "\n",
    "TRAIN_BUFFER = len(labels)\n",
    "train_dataset = tf.data.Dataset.from_tensor_slices((file_path, labels))\n",
    "train_dataset = train_dataset.map(DatasetUtils.load_image).map(DatasetUtils.normalize_images).map(\n",
    "    DatasetUtils.resize_image).shuffle(TRAIN_BUFFER).batch(BATCH_SIZE)\n",
    "\n",
    "file_path, labels = DatasetUtils.load_dataset(validation_file, masked_dir)\n",
    "VALIDATION_BUFFER = len(labels)\n",
    "validation_dataset = tf.data.Dataset.from_tensor_slices((file_path, labels))\n",
    "validation_dataset = validation_dataset.map(DatasetUtils.load_image).map(DatasetUtils.normalize_images).map(\n",
    "    DatasetUtils.resize_image).shuffle(VALIDATION_BUFFER).batch(BATCH_SIZE)\n",
    "\n",
    "file_path, labels = DatasetUtils.load_dataset(test_file, masked_dir)\n",
    "TEST_BUFFER = len(labels)\n",
    "test_dataset = tf.data.Dataset.from_tensor_slices((file_path, labels))\n",
    "test_dataset = test_dataset.map(DatasetUtils.load_image).map(DatasetUtils.normalize_images).map(\n",
    "    DatasetUtils.resize_image).shuffle(TEST_BUFFER).batch(BATCH_SIZE)"
   ]
  },
  {
   "cell_type": "code",
   "execution_count": 3,
   "metadata": {
    "pycharm": {
     "name": "#%%\n"
    }
   },
   "outputs": [],
   "source": [
    "model = keras.Sequential([\n",
    "\n",
    "    layers.Conv2D(16, kernel_size=3, padding='same', activation=tf.nn.relu, input_shape=(IMG_HEIGHT, IMG_WEIGHT, 3)),\n",
    "    layers.MaxPooling2D(2, 2),\n",
    "\n",
    "    layers.Conv2D(32, kernel_size=3, padding='same', activation=tf.nn.relu),\n",
    "    layers.MaxPooling2D(2, 2),\n",
    "\n",
    "    layers.Conv2D(64, kernel_size=3, padding='same', activation=tf.nn.relu),\n",
    "    layers.MaxPooling2D(2, 2),\n",
    "\n",
    "    layers.Conv2D(32, kernel_size=3, padding='same', activation=tf.nn.relu),\n",
    "    layers.MaxPooling2D(2, 2),\n",
    "\n",
    "    layers.Conv2D(16, kernel_size=3, padding='same', activation=tf.nn.relu),\n",
    "    layers.MaxPooling2D(2, 2),\n",
    "\n",
    "    # Full connected\n",
    "    layers.Flatten(),\n",
    "    layers.Dense(1024, kernel_regularizer=keras.regularizers.l2(1e-3), activation=tf.nn.relu),\n",
    "    layers.Dropout(0.5),\n",
    "    layers.Dense(1024, kernel_regularizer=keras.regularizers.l2(1e-3), activation=tf.nn.relu),\n",
    "    layers.Dropout(0.5),\n",
    "\n",
    "    # Capa de salida\n",
    "    layers.Dense(1, activation=tf.nn.sigmoid)\n",
    "])"
   ]
  },
  {
   "cell_type": "code",
   "execution_count": 4,
   "metadata": {
    "pycharm": {
     "name": "#%%\n"
    }
   },
   "outputs": [
    {
     "name": "stdout",
     "output_type": "stream",
     "text": [
      "Model: \"sequential\"\n",
      "_________________________________________________________________\n",
      " Layer (type)                Output Shape              Param #   \n",
      "=================================================================\n",
      " conv2d (Conv2D)             (None, 500, 500, 16)      448       \n",
      "                                                                 \n",
      " max_pooling2d (MaxPooling2D  (None, 250, 250, 16)     0         \n",
      " )                                                               \n",
      "                                                                 \n",
      " conv2d_1 (Conv2D)           (None, 250, 250, 32)      4640      \n",
      "                                                                 \n",
      " max_pooling2d_1 (MaxPooling  (None, 125, 125, 32)     0         \n",
      " 2D)                                                             \n",
      "                                                                 \n",
      " conv2d_2 (Conv2D)           (None, 125, 125, 64)      18496     \n",
      "                                                                 \n",
      " max_pooling2d_2 (MaxPooling  (None, 62, 62, 64)       0         \n",
      " 2D)                                                             \n",
      "                                                                 \n",
      " conv2d_3 (Conv2D)           (None, 62, 62, 32)        18464     \n",
      "                                                                 \n",
      " max_pooling2d_3 (MaxPooling  (None, 31, 31, 32)       0         \n",
      " 2D)                                                             \n",
      "                                                                 \n",
      " conv2d_4 (Conv2D)           (None, 31, 31, 16)        4624      \n",
      "                                                                 \n",
      " max_pooling2d_4 (MaxPooling  (None, 15, 15, 16)       0         \n",
      " 2D)                                                             \n",
      "                                                                 \n",
      " flatten (Flatten)           (None, 3600)              0         \n",
      "                                                                 \n",
      " dense (Dense)               (None, 1024)              3687424   \n",
      "                                                                 \n",
      " dropout (Dropout)           (None, 1024)              0         \n",
      "                                                                 \n",
      " dense_1 (Dense)             (None, 1024)              1049600   \n",
      "                                                                 \n",
      " dropout_1 (Dropout)         (None, 1024)              0         \n",
      "                                                                 \n",
      " dense_2 (Dense)             (None, 1)                 1025      \n",
      "                                                                 \n",
      "=================================================================\n",
      "Total params: 4,784,721\n",
      "Trainable params: 4,784,721\n",
      "Non-trainable params: 0\n",
      "_________________________________________________________________\n"
     ]
    }
   ],
   "source": [
    "model.compile(optimizer=keras.optimizers.Adam(learning_rate=1e-4), loss=[keras.losses.BinaryCrossentropy()],\n",
    "              metrics=['accuracy'])\n",
    "model.summary()"
   ]
  },
  {
   "cell_type": "code",
   "execution_count": 5,
   "metadata": {
    "pycharm": {
     "name": "#%%\n"
    }
   },
   "outputs": [
    {
     "name": "stdout",
     "output_type": "stream",
     "text": [
      "Epoch 1/50\n"
     ]
    },
    {
     "name": "stderr",
     "output_type": "stream",
     "text": [
      "2022-07-29 13:09:27.222218: W tensorflow/core/platform/profile_utils/cpu_utils.cc:128] Failed to get CPU frequency: 0 Hz\n",
      "2022-07-29 13:09:27.222394: I tensorflow/core/grappler/optimizers/custom_graph_optimizer_registry.cc:113] Plugin optimizer for device_type GPU is enabled.\n"
     ]
    },
    {
     "name": "stdout",
     "output_type": "stream",
     "text": [
      "91/91 [==============================] - ETA: 0s - loss: 2.6273 - accuracy: 0.6669"
     ]
    },
    {
     "name": "stderr",
     "output_type": "stream",
     "text": [
      "2022-07-29 13:09:54.184361: I tensorflow/core/grappler/optimizers/custom_graph_optimizer_registry.cc:113] Plugin optimizer for device_type GPU is enabled.\n"
     ]
    },
    {
     "name": "stdout",
     "output_type": "stream",
     "text": [
      "91/91 [==============================] - 30s 265ms/step - loss: 2.6273 - accuracy: 0.6669 - val_loss: 2.0890 - val_accuracy: 0.6603\n",
      "Epoch 2/50\n",
      "91/91 [==============================] - 28s 260ms/step - loss: 1.7384 - accuracy: 0.6628 - val_loss: 1.4145 - val_accuracy: 0.6603\n",
      "Epoch 3/50\n",
      "91/91 [==============================] - 28s 261ms/step - loss: 1.1703 - accuracy: 0.6628 - val_loss: 0.9660 - val_accuracy: 0.6603\n",
      "Epoch 4/50\n",
      "91/91 [==============================] - 28s 259ms/step - loss: 0.8974 - accuracy: 0.8483 - val_loss: 0.7922 - val_accuracy: 0.9199\n",
      "Epoch 5/50\n",
      "91/91 [==============================] - 28s 261ms/step - loss: 0.7254 - accuracy: 0.8931 - val_loss: 0.6927 - val_accuracy: 0.9199\n",
      "Epoch 6/50\n",
      "91/91 [==============================] - 28s 259ms/step - loss: 0.6122 - accuracy: 0.9103 - val_loss: 0.6333 - val_accuracy: 0.9327\n",
      "Epoch 7/50\n",
      "91/91 [==============================] - 28s 259ms/step - loss: 0.5511 - accuracy: 0.9207 - val_loss: 0.5800 - val_accuracy: 0.9327\n",
      "Epoch 8/50\n",
      "91/91 [==============================] - 28s 258ms/step - loss: 0.4824 - accuracy: 0.9221 - val_loss: 0.4956 - val_accuracy: 0.9423\n",
      "Epoch 9/50\n",
      "91/91 [==============================] - 28s 259ms/step - loss: 0.4151 - accuracy: 0.9200 - val_loss: 0.4545 - val_accuracy: 0.9391\n",
      "Epoch 10/50\n",
      "91/91 [==============================] - 28s 259ms/step - loss: 0.3691 - accuracy: 0.9338 - val_loss: 0.3987 - val_accuracy: 0.9327\n",
      "Epoch 11/50\n",
      "91/91 [==============================] - 28s 259ms/step - loss: 0.3280 - accuracy: 0.9372 - val_loss: 0.3655 - val_accuracy: 0.9423\n",
      "Epoch 12/50\n",
      "91/91 [==============================] - 28s 260ms/step - loss: 0.3291 - accuracy: 0.9331 - val_loss: 0.3560 - val_accuracy: 0.9423\n",
      "Epoch 13/50\n",
      "91/91 [==============================] - 28s 261ms/step - loss: 0.3094 - accuracy: 0.9331 - val_loss: 0.3845 - val_accuracy: 0.9295\n",
      "Epoch 14/50\n",
      "91/91 [==============================] - 28s 260ms/step - loss: 0.2977 - accuracy: 0.9366 - val_loss: 0.3226 - val_accuracy: 0.9423\n",
      "Epoch 15/50\n",
      "91/91 [==============================] - 28s 260ms/step - loss: 0.2778 - accuracy: 0.9421 - val_loss: 0.3327 - val_accuracy: 0.9391\n",
      "Epoch 16/50\n",
      "91/91 [==============================] - 28s 260ms/step - loss: 0.2686 - accuracy: 0.9414 - val_loss: 0.3199 - val_accuracy: 0.9391\n",
      "Epoch 17/50\n",
      "91/91 [==============================] - 28s 259ms/step - loss: 0.2563 - accuracy: 0.9434 - val_loss: 0.3517 - val_accuracy: 0.9103\n",
      "Epoch 18/50\n",
      "91/91 [==============================] - 28s 260ms/step - loss: 0.2500 - accuracy: 0.9455 - val_loss: 0.3125 - val_accuracy: 0.9455\n",
      "Epoch 19/50\n",
      "91/91 [==============================] - 28s 259ms/step - loss: 0.2754 - accuracy: 0.9372 - val_loss: 0.3268 - val_accuracy: 0.9263\n",
      "Epoch 20/50\n",
      "91/91 [==============================] - 28s 261ms/step - loss: 0.2325 - accuracy: 0.9524 - val_loss: 0.3020 - val_accuracy: 0.9359\n",
      "Epoch 21/50\n",
      "91/91 [==============================] - 28s 260ms/step - loss: 0.2360 - accuracy: 0.9490 - val_loss: 0.3219 - val_accuracy: 0.9327\n",
      "Epoch 22/50\n",
      "91/91 [==============================] - 28s 262ms/step - loss: 0.2108 - accuracy: 0.9572 - val_loss: 0.3034 - val_accuracy: 0.9231\n",
      "Epoch 23/50\n",
      "91/91 [==============================] - 28s 259ms/step - loss: 0.2033 - accuracy: 0.9600 - val_loss: 0.3022 - val_accuracy: 0.9295\n",
      "Epoch 24/50\n",
      "91/91 [==============================] - 28s 259ms/step - loss: 0.2001 - accuracy: 0.9593 - val_loss: 0.2957 - val_accuracy: 0.9327\n",
      "Epoch 25/50\n",
      "91/91 [==============================] - 28s 259ms/step - loss: 0.2051 - accuracy: 0.9510 - val_loss: 0.3139 - val_accuracy: 0.9263\n",
      "Epoch 26/50\n",
      "91/91 [==============================] - 28s 259ms/step - loss: 0.1889 - accuracy: 0.9655 - val_loss: 0.3079 - val_accuracy: 0.9327\n",
      "Epoch 27/50\n",
      "91/91 [==============================] - 28s 260ms/step - loss: 0.1869 - accuracy: 0.9607 - val_loss: 0.3533 - val_accuracy: 0.9327\n",
      "Epoch 28/50\n",
      "91/91 [==============================] - 28s 258ms/step - loss: 0.1914 - accuracy: 0.9607 - val_loss: 0.2983 - val_accuracy: 0.9359\n",
      "Epoch 29/50\n",
      "91/91 [==============================] - 28s 261ms/step - loss: 0.1690 - accuracy: 0.9683 - val_loss: 0.3323 - val_accuracy: 0.9006\n",
      "Epoch 30/50\n",
      "91/91 [==============================] - 30s 274ms/step - loss: 0.1915 - accuracy: 0.9579 - val_loss: 0.3370 - val_accuracy: 0.9199\n",
      "Epoch 31/50\n",
      "91/91 [==============================] - 29s 266ms/step - loss: 0.1639 - accuracy: 0.9683 - val_loss: 0.3372 - val_accuracy: 0.9263\n",
      "Epoch 32/50\n",
      "91/91 [==============================] - 29s 263ms/step - loss: 0.1536 - accuracy: 0.9662 - val_loss: 0.3541 - val_accuracy: 0.9359\n",
      "Epoch 33/50\n",
      "91/91 [==============================] - 28s 261ms/step - loss: 0.1504 - accuracy: 0.9738 - val_loss: 0.3586 - val_accuracy: 0.9295\n",
      "Epoch 34/50\n",
      "91/91 [==============================] - 28s 259ms/step - loss: 0.1526 - accuracy: 0.9683 - val_loss: 0.3356 - val_accuracy: 0.9231\n",
      "Epoch 35/50\n",
      "91/91 [==============================] - 28s 260ms/step - loss: 0.1704 - accuracy: 0.9579 - val_loss: 0.3376 - val_accuracy: 0.9167\n",
      "Epoch 36/50\n",
      "91/91 [==============================] - 28s 258ms/step - loss: 0.1972 - accuracy: 0.9503 - val_loss: 0.3899 - val_accuracy: 0.9071\n",
      "Epoch 37/50\n",
      "91/91 [==============================] - 28s 260ms/step - loss: 0.1606 - accuracy: 0.9648 - val_loss: 0.3856 - val_accuracy: 0.9295\n",
      "Epoch 38/50\n",
      "91/91 [==============================] - 28s 259ms/step - loss: 0.1357 - accuracy: 0.9745 - val_loss: 0.3841 - val_accuracy: 0.9103\n",
      "Epoch 39/50\n",
      "91/91 [==============================] - 28s 260ms/step - loss: 0.1318 - accuracy: 0.9759 - val_loss: 0.3876 - val_accuracy: 0.9295\n",
      "Epoch 40/50\n",
      "91/91 [==============================] - 28s 260ms/step - loss: 0.1314 - accuracy: 0.9779 - val_loss: 0.3986 - val_accuracy: 0.9327\n",
      "Epoch 41/50\n",
      "91/91 [==============================] - 28s 260ms/step - loss: 0.1200 - accuracy: 0.9779 - val_loss: 0.4327 - val_accuracy: 0.9167\n",
      "Epoch 42/50\n",
      "91/91 [==============================] - 29s 260ms/step - loss: 0.1160 - accuracy: 0.9821 - val_loss: 0.4405 - val_accuracy: 0.9199\n",
      "Epoch 43/50\n",
      "91/91 [==============================] - 28s 259ms/step - loss: 0.1300 - accuracy: 0.9766 - val_loss: 0.4018 - val_accuracy: 0.9231\n",
      "Epoch 44/50\n",
      "91/91 [==============================] - 28s 260ms/step - loss: 0.1141 - accuracy: 0.9772 - val_loss: 0.4375 - val_accuracy: 0.9167\n",
      "Epoch 45/50\n",
      "91/91 [==============================] - 29s 260ms/step - loss: 0.1107 - accuracy: 0.9821 - val_loss: 0.4489 - val_accuracy: 0.9199\n",
      "Epoch 46/50\n",
      "91/91 [==============================] - 29s 263ms/step - loss: 0.1058 - accuracy: 0.9821 - val_loss: 0.4794 - val_accuracy: 0.9231\n",
      "Epoch 47/50\n",
      "91/91 [==============================] - 29s 259ms/step - loss: 0.1077 - accuracy: 0.9807 - val_loss: 0.4439 - val_accuracy: 0.9231\n",
      "Epoch 48/50\n",
      "91/91 [==============================] - 28s 261ms/step - loss: 0.1103 - accuracy: 0.9786 - val_loss: 0.4551 - val_accuracy: 0.9199\n",
      "Epoch 49/50\n",
      "91/91 [==============================] - 29s 261ms/step - loss: 0.0986 - accuracy: 0.9869 - val_loss: 0.4917 - val_accuracy: 0.9167\n",
      "Epoch 50/50\n",
      "91/91 [==============================] - 28s 261ms/step - loss: 0.0965 - accuracy: 0.9862 - val_loss: 0.4963 - val_accuracy: 0.9199\n"
     ]
    }
   ],
   "source": [
    "hist = model.fit(train_dataset, epochs=EPOCHS, validation_data=validation_dataset, batch_size=BATCH_SIZE)"
   ]
  },
  {
   "cell_type": "code",
   "execution_count": 6,
   "metadata": {
    "pycharm": {
     "name": "#%%\n"
    }
   },
   "outputs": [
    {
     "data": {
      "image/png": "[encoded data removed]",
      "text/plain": [
       "<Figure size 1080x504 with 1 Axes>"
      ]
     },
     "metadata": {
      "needs_background": "light"
     },
     "output_type": "display_data"
    }
   ],
   "source": [
    "ax = pd.DataFrame(data=hist.history).plot(figsize=(15, 7))\n",
    "ax.grid()\n",
    "_ = ax.set(title=\"Training loss and accuracy\", xlabel=\"Epochs\")\n",
    "_ = ax.legend([\"Training loss\", \"Training accuracy\", \"Validation loss\", \"Validation accuracy\"])"
   ]
  },
  {
   "cell_type": "code",
   "execution_count": 7,
   "metadata": {
    "pycharm": {
     "name": "#%%\n"
    }
   },
   "outputs": [
    {
     "data": {
      "image/png": "[encoded data removed]",
      "text/plain": [
       "<Figure size 432x288 with 1 Axes>"
      ]
     },
     "metadata": {
      "needs_background": "light"
     },
     "output_type": "display_data"
    }
   ],
   "source": [
    "fig = plt.figure()\n",
    "plt.plot(hist.history['loss'], color='blue', label='loss', )\n",
    "plt.plot(hist.history['val_loss'], color='green', label='val_loss')\n",
    "fig.suptitle('Loss', fontsize=20)\n",
    "plt.legend(loc=\"upper left\")\n",
    "plt.show()"
   ]
  },
  {
   "cell_type": "code",
   "execution_count": 8,
   "metadata": {
    "pycharm": {
     "name": "#%%\n"
    }
   },
   "outputs": [
    {
     "data": {
      "image/png": "[encoded data removed]",
      "text/plain": [
       "<Figure size 432x288 with 1 Axes>"
      ]
     },
     "metadata": {
      "needs_background": "light"
     },
     "output_type": "display_data"
    }
   ],
   "source": [
    "fig = plt.figure()\n",
    "plt.plot(hist.history['accuracy'], color='orange', label='accuracy')\n",
    "plt.plot(hist.history['val_accuracy'], color='red', label='val_accuracy')\n",
    "fig.suptitle('Accuracy', fontsize=20)\n",
    "plt.legend(loc=\"upper left\")\n",
    "plt.show()"
   ]
  },
  {
   "cell_type": "code",
   "execution_count": 9,
   "metadata": {
    "pycharm": {
     "name": "#%%\n"
    }
   },
   "outputs": [
    {
     "name": "stdout",
     "output_type": "stream",
     "text": [
      "20/20 [==============================] - 3s 76ms/step - loss: 0.2777 - accuracy: 0.9421\n"
     ]
    }
   ],
   "source": [
    "results = model.evaluate(test_dataset, verbose=1)"
   ]
  },
  {
   "cell_type": "code",
   "execution_count": 10,
   "metadata": {
    "pycharm": {
     "name": "#%%\n"
    }
   },
   "outputs": [
    {
     "name": "stdout",
     "output_type": "stream",
     "text": [
      "1/1 [==============================] - 0s 124ms/step\n",
      "1/1 [==============================] - 0s 18ms/step\n"
     ]
    },
    {
     "name": "stderr",
     "output_type": "stream",
     "text": [
      "2022-07-29 13:33:05.186934: I tensorflow/core/grappler/optimizers/custom_graph_optimizer_registry.cc:113] Plugin optimizer for device_type GPU is enabled.\n"
     ]
    },
    {
     "name": "stdout",
     "output_type": "stream",
     "text": [
      "1/1 [==============================] - 0s 19ms/step\n",
      "1/1 [==============================] - 0s 18ms/step\n",
      "1/1 [==============================] - 0s 18ms/step\n",
      "1/1 [==============================] - 0s 19ms/step\n",
      "1/1 [==============================] - 0s 20ms/step\n",
      "1/1 [==============================] - 0s 19ms/step\n",
      "1/1 [==============================] - 0s 18ms/step\n",
      "1/1 [==============================] - 0s 19ms/step\n",
      "1/1 [==============================] - 0s 19ms/step\n",
      "1/1 [==============================] - 0s 18ms/step\n",
      "1/1 [==============================] - 0s 18ms/step\n",
      "1/1 [==============================] - 0s 18ms/step\n",
      "1/1 [==============================] - 0s 17ms/step\n",
      "1/1 [==============================] - 0s 18ms/step\n",
      "1/1 [==============================] - 0s 19ms/step\n",
      "1/1 [==============================] - 0s 18ms/step\n",
      "1/1 [==============================] - 0s 18ms/step\n",
      "1/1 [==============================] - 0s 43ms/step\n",
      "Precision: tf.Tensor(0.9607844, shape=(), dtype=float32)\n",
      "Recall: tf.Tensor(0.9514563, shape=(), dtype=float32)\n",
      "BinaryAccuracy: tf.Tensor(0.94212216, shape=(), dtype=float32)\n"
     ]
    }
   ],
   "source": [
    "pre = Precision()\n",
    "re = Recall()\n",
    "acc = BinaryAccuracy()\n",
    "for sample in test_dataset:\n",
    "    X = sample[0]\n",
    "    y = sample[1]\n",
    "    yhat = model.predict(X)\n",
    "    pre.update_state(y, yhat)\n",
    "    re.update_state(y, yhat)\n",
    "    acc.update_state(y, yhat)\n",
    "print('Precision: ' + str(pre.result()))\n",
    "print('Recall: ' + str(re.result()))\n",
    "print('BinaryAccuracy: ' + str(acc.result()))"
   ]
  },
  {
   "cell_type": "code",
   "execution_count": 11,
   "metadata": {
    "pycharm": {
     "name": "#%%\n"
    }
   },
   "outputs": [
    {
     "name": "stderr",
     "output_type": "stream",
     "text": [
      "WARNING:absl:Found untraced functions such as _jit_compiled_convolution_op, _jit_compiled_convolution_op, _jit_compiled_convolution_op, _jit_compiled_convolution_op, _jit_compiled_convolution_op while saving (showing 5 of 5). These functions will not be directly callable after loading.\n"
     ]
    },
    {
     "name": "stdout",
     "output_type": "stream",
     "text": [
      "INFO:tensorflow:Assets written to: /Users/carlos/WORKSPACE/TFG-DeteccionFototrampeo/models/2022-07-29_11-33/assets\n"
     ]
    },
    {
     "name": "stderr",
     "output_type": "stream",
     "text": [
      "INFO:tensorflow:Assets written to: /Users/carlos/WORKSPACE/TFG-DeteccionFototrampeo/models/2022-07-29_11-33/assets\n"
     ]
    }
   ],
   "source": [
    "date = datetime.utcnow().strftime('%Y-%m-%d_%H-%M')\n",
    "if platform.system() == 'Windows':\n",
    "    path = model_dir + '\\\\' + date\n",
    "else:\n",
    "    path = model_dir + '/' + date\n",
    "\n",
    "model.save(path)"
   ]
  }
 ],
 "metadata": {
  "kernelspec": {
   "display_name": "Python 3.8.13 ('tf_gpu')",
   "language": "python",
   "name": "python3"
  },
  "language_info": {
   "codemirror_mode": {
    "name": "ipython",
    "version": 3
   },
   "file_extension": ".py",
   "mimetype": "text/x-python",
   "name": "python",
   "nbconvert_exporter": "python",
   "pygments_lexer": "ipython3",
   "version": "3.8.13"
  },
  "orig_nbformat": 4,
  "vscode": {
   "interpreter": {
    "hash": "907d050957a886e998c55a62a25f72c12f58285fde8e87ef7996a2175b8c9579"
   }
  }
 },
 "nbformat": 4,
 "nbformat_minor": 2
}