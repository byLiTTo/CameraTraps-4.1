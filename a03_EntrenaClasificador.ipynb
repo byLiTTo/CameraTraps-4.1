{
 "cells": [
  {
   "cell_type": "code",
   "execution_count": 1,
   "metadata": {},
   "outputs": [
    {
     "name": "stdout",
     "output_type": "stream",
     "text": [
      "\n",
      "==========================================================================================\n",
      "TensorFlow version: 2.9.2\n",
      "Is GPU available? tf.test.is_gpu_available: [PhysicalDevice(name='/physical_device:GPU:0', device_type='GPU')]\n",
      "==========================================================================================\n",
      "\n",
      "=======================================================================================================================================\n",
      "PYTHONPATH: /Users/carlos/.vscode/extensions/ms-toolsai.jupyter-2022.6.1201981810/pythonFiles:/Users/carlos/.vscode/extensions/ms-toolsai.jupyter-2022.6.1201981810/pythonFiles/lib/python:/Users/carlos/WORKSPACE/TFG-DeteccionFototrampeo/repos/ai4eutils:/Users/carlos/WORKSPACE/TFG-DeteccionFototrampeo/repos/CameraTraps\n",
      "\n",
      "ai4eutils PATH: \t/Users/carlos/WORKSPACE/TFG-DeteccionFototrampeo/repos/ai4eutils\n",
      "CameraTraps PATH: \t/Users/carlos/WORKSPACE/TFG-DeteccionFototrampeo/repos/CameraTraps\n",
      "Train CSV PATH: \t/Users/carlos/WORKSPACE/TFG-DeteccionFototrampeo/data/700Train.csv\n",
      "Validation CSV PATH: \t/Users/carlos/WORKSPACE/TFG-DeteccionFototrampeo/data/700Validation.csv\n",
      "Test CSV PATH: \t\t/Users/carlos/WORKSPACE/TFG-DeteccionFototrampeo/data/700Test.csv\n",
      "masked PATH: \t\t/Users/carlos/WORKSPACE/local/output_masked\n",
      "models PATH: \t\t/Users/carlos/WORKSPACE/TFG-DeteccionFototrampeo/models\n",
      "=======================================================================================================================================\n"
     ]
    }
   ],
   "source": [
    "import os\n",
    "import platform\n",
    "import pandas as pd\n",
    "import tensorflow as tf\n",
    "\n",
    "from modules.dataset_utils import DatasetUtils as dataset\n",
    "from tensorflow import keras\n",
    "from datetime import datetime\n",
    "from tensorflow.keras import layers\n",
    "from matplotlib import pyplot as plt\n",
    "from tensorflow.keras.metrics import Precision, Recall, BinaryAccuracy\n",
    "\n",
    "\n",
    "#########################################################################################################################################################\n",
    "# PARAMETROS DEFINIDOS EN FUNCION DEL USUARIO\n",
    "#########################################################################################################################################################\n",
    "\n",
    "# Ruta hacia los CSV del dataset\n",
    "train_file_relative = './data/700Train.csv'\n",
    "validation_file_relative = './data/700Validation.csv'\n",
    "test_file_relative = './data/700Test.csv'\n",
    "\n",
    "# Ruta al directorio de imágenes con máscara aplicada\n",
    "masked_dir_relative = '../local/output_masked/'\n",
    "\n",
    "model_dir_relative = \"./models\"\n",
    "\n",
    "# Ruta relativa hacia la librería ai4eutils\n",
    "ai4eutils_relative = \"./repos/ai4eutils\"\n",
    "\n",
    "# Ruta relativa hacia la librería CameraTraps\n",
    "CameraTraps_relative = \"./repos/CameraTraps\"\n",
    "\n",
    "#########################################################################################################################################################\n",
    "# PARAMETROS PARA CNN\n",
    "#########################################################################################################################################################\n",
    "\n",
    "IMG_HEIGHT = IMG_WEIGHT = 500\n",
    "EPOCHS = 50\n",
    "BATCH_SIZE = 16\n",
    "#########################################################################################################################################################\n",
    "#########################################################################################################################################################\n",
    "\n",
    "home = os.path.expanduser(\"~\")\n",
    "\n",
    "ai4utils = os.path.abspath(ai4eutils_relative)\n",
    "CameraTraps = os.path.abspath(CameraTraps_relative)\n",
    "train_file = os.path.abspath(train_file_relative)\n",
    "validation_file = os.path.abspath(validation_file_relative)\n",
    "test_file = os.path.abspath(test_file_relative)\n",
    "masked_dir = os.path.abspath(masked_dir_relative)\n",
    "model_dir = os.path.abspath(model_dir_relative)\n",
    "\n",
    "try:\n",
    "    os.environ['PYTHONPATH']\n",
    "except KeyError:\n",
    "    os.environ['PYTHONPATH'] = \"\"\n",
    "if platform.system() == 'Windows':\n",
    "    os.environ['PYTHONPATH'] += (\";\" + ai4utils)\n",
    "    os.environ['PYTHONPATH'] += (\";\" + CameraTraps)\n",
    "else:\n",
    "    os.environ['PYTHONPATH'] += (\":\" + ai4utils)\n",
    "    os.environ['PYTHONPATH'] += (\":\" + CameraTraps)\n",
    "\n",
    "print('=======================================================================================================================================')\n",
    "print('PYTHONPATH: ' + os.environ['PYTHONPATH'])\n",
    "print('')\n",
    "print('ai4eutils PATH: ' + '\\t' + ai4utils)\n",
    "print('CameraTraps PATH: ' + '\\t' + CameraTraps)\n",
    "print('Train CSV PATH: ' + '\\t'  + train_file)\n",
    "print('Validation CSV PATH: ' + '\\t' + validation_file)\n",
    "print('Test CSV PATH: ' + '\\t' + '\\t' + test_file)\n",
    "print('masked PATH: ' + '\\t' + '\\t' + masked_dir)\n",
    "print('models PATH: ' + '\\t' + '\\t' + model_dir)\n",
    "print('=======================================================================================================================================')"
   ]
  },
  {
   "cell_type": "code",
   "execution_count": 2,
   "metadata": {},
   "outputs": [
    {
     "name": "stdout",
     "output_type": "stream",
     "text": [
      "Metal device set to: Apple M1\n",
      "\n",
      "systemMemory: 16.00 GB\n",
      "maxCacheSize: 5.33 GB\n",
      "\n"
     ]
    },
    {
     "name": "stderr",
     "output_type": "stream",
     "text": [
      "2022-07-29 11:39:05.958624: I tensorflow/core/common_runtime/pluggable_device/pluggable_device_factory.cc:305] Could not identify NUMA node of platform GPU ID 0, defaulting to 0. Your kernel may not have been built with NUMA support.\n",
      "2022-07-29 11:39:05.958729: I tensorflow/core/common_runtime/pluggable_device/pluggable_device_factory.cc:271] Created TensorFlow device (/job:localhost/replica:0/task:0/device:GPU:0 with 0 MB memory) -> physical PluggableDevice (device: 0, name: METAL, pci bus id: <undefined>)\n"
     ]
    }
   ],
   "source": [
    "file_path, labels = dataset.load_dataset(train_file, masked_dir)\n",
    "TRAIN_BUFFER = len(labels)\n",
    "train_dataset = tf.data.Dataset.from_tensor_slices((file_path, labels))\n",
    "train_dataset = train_dataset.map(dataset.load_image).map(dataset.normalize_images).map(dataset.resize_image).shuffle(TRAIN_BUFFER).batch(BATCH_SIZE)\n",
    "\n",
    "file_path, labels = dataset.load_dataset(validation_file, masked_dir)\n",
    "VALIDATION_BUFFER = len(labels)\n",
    "validation_dataset = tf.data.Dataset.from_tensor_slices((file_path, labels))\n",
    "validation_dataset = validation_dataset.map(dataset.load_image).map(dataset.normalize_images).map(dataset.resize_image).shuffle(VALIDATION_BUFFER).batch(BATCH_SIZE)\n",
    "\n",
    "file_path, labels = dataset.load_dataset(test_file, masked_dir)\n",
    "TEST_BUFFER = len(labels)\n",
    "test_dataset = tf.data.Dataset.from_tensor_slices((file_path, labels))\n",
    "test_dataset = test_dataset.map(dataset.load_image).map(dataset.normalize_images).map(dataset.resize_image).shuffle(TEST_BUFFER).batch(BATCH_SIZE)"
   ]
  },
  {
   "cell_type": "code",
   "execution_count": 3,
   "metadata": {},
   "outputs": [],
   "source": [
    "model = keras.Sequential([\n",
    "    \n",
    "    layers.Conv2D(16, kernel_size=3, padding='same', activation=tf.nn.relu, input_shape=(IMG_HEIGHT, IMG_WEIGHT, 3)),\n",
    "    layers.MaxPooling2D(2,2),\n",
    "\n",
    "    layers.Conv2D(32, kernel_size=3, padding='same', activation=tf.nn.relu),\n",
    "    layers.MaxPooling2D(2,2),\n",
    "\n",
    "    layers.Conv2D(64, kernel_size=3, padding='same', activation=tf.nn.relu),\n",
    "    layers.MaxPooling2D(2,2),\n",
    "\n",
    "    layers.Conv2D(32, kernel_size=3, padding='same', activation=tf.nn.relu),\n",
    "    layers.MaxPooling2D(2,2),\n",
    "\n",
    "    layers.Conv2D(16, kernel_size=3, padding='same', activation=tf.nn.relu),\n",
    "    layers.MaxPooling2D(2,2),\n",
    "\n",
    "    # Full conected\n",
    "    layers.Flatten(),\n",
    "    layers.Dense(1024, kernel_regularizer=keras.regularizers.l2(1e-3), activation=tf.nn.relu),\n",
    "    layers.Dropout(0.5),\n",
    "    layers.Dense(1024, kernel_regularizer=keras.regularizers.l2(1e-3), activation=tf.nn.relu),\n",
    "    layers.Dropout(0.5),\n",
    "\n",
    "    # Capa de salida\n",
    "    layers.Dense(1, activation=tf.nn.sigmoid)\n",
    "])"
   ]
  },
  {
   "cell_type": "code",
   "execution_count": 4,
   "metadata": {},
   "outputs": [
    {
     "name": "stdout",
     "output_type": "stream",
     "text": [
      "Model: \"sequential\"\n",
      "_________________________________________________________________\n",
      " Layer (type)                Output Shape              Param #   \n",
      "=================================================================\n",
      " conv2d (Conv2D)             (None, 500, 500, 16)      448       \n",
      "                                                                 \n",
      " max_pooling2d (MaxPooling2D  (None, 250, 250, 16)     0         \n",
      " )                                                               \n",
      "                                                                 \n",
      " conv2d_1 (Conv2D)           (None, 250, 250, 32)      4640      \n",
      "                                                                 \n",
      " max_pooling2d_1 (MaxPooling  (None, 125, 125, 32)     0         \n",
      " 2D)                                                             \n",
      "                                                                 \n",
      " conv2d_2 (Conv2D)           (None, 125, 125, 64)      18496     \n",
      "                                                                 \n",
      " max_pooling2d_2 (MaxPooling  (None, 62, 62, 64)       0         \n",
      " 2D)                                                             \n",
      "                                                                 \n",
      " conv2d_3 (Conv2D)           (None, 62, 62, 32)        18464     \n",
      "                                                                 \n",
      " max_pooling2d_3 (MaxPooling  (None, 31, 31, 32)       0         \n",
      " 2D)                                                             \n",
      "                                                                 \n",
      " conv2d_4 (Conv2D)           (None, 31, 31, 16)        4624      \n",
      "                                                                 \n",
      " max_pooling2d_4 (MaxPooling  (None, 15, 15, 16)       0         \n",
      " 2D)                                                             \n",
      "                                                                 \n",
      " flatten (Flatten)           (None, 3600)              0         \n",
      "                                                                 \n",
      " dense (Dense)               (None, 1024)              3687424   \n",
      "                                                                 \n",
      " dropout (Dropout)           (None, 1024)              0         \n",
      "                                                                 \n",
      " dense_1 (Dense)             (None, 1024)              1049600   \n",
      "                                                                 \n",
      " dropout_1 (Dropout)         (None, 1024)              0         \n",
      "                                                                 \n",
      " dense_2 (Dense)             (None, 1)                 1025      \n",
      "                                                                 \n",
      "=================================================================\n",
      "Total params: 4,784,721\n",
      "Trainable params: 4,784,721\n",
      "Non-trainable params: 0\n",
      "_________________________________________________________________\n"
     ]
    }
   ],
   "source": [
    "model.compile(\n",
    "    optimizer = keras.optimizers.Adam(learning_rate=1e-5),\n",
    "    loss = [keras.losses.BinaryCrossentropy()],\n",
    "    metrics =  ['accuracy']\n",
    ")\n",
    "model.summary()"
   ]
  },
  {
   "cell_type": "code",
   "execution_count": 5,
   "metadata": {},
   "outputs": [
    {
     "name": "stdout",
     "output_type": "stream",
     "text": [
      "Epoch 1/50\n"
     ]
    },
    {
     "name": "stderr",
     "output_type": "stream",
     "text": [
      "2022-07-29 11:39:06.738396: W tensorflow/core/platform/profile_utils/cpu_utils.cc:128] Failed to get CPU frequency: 0 Hz\n",
      "2022-07-29 11:39:06.738574: I tensorflow/core/grappler/optimizers/custom_graph_optimizer_registry.cc:113] Plugin optimizer for device_type GPU is enabled.\n"
     ]
    },
    {
     "name": "stdout",
     "output_type": "stream",
     "text": [
      "91/91 [==============================] - ETA: 0s - loss: 3.2256 - accuracy: 0.6634"
     ]
    },
    {
     "name": "stderr",
     "output_type": "stream",
     "text": [
      "2022-07-29 11:39:32.771237: I tensorflow/core/grappler/optimizers/custom_graph_optimizer_registry.cc:113] Plugin optimizer for device_type GPU is enabled.\n"
     ]
    },
    {
     "name": "stdout",
     "output_type": "stream",
     "text": [
      "91/91 [==============================] - 29s 262ms/step - loss: 3.2256 - accuracy: 0.6634 - val_loss: 3.1392 - val_accuracy: 0.6603\n",
      "Epoch 2/50\n",
      "91/91 [==============================] - 28s 260ms/step - loss: 3.0429 - accuracy: 0.6628 - val_loss: 2.9553 - val_accuracy: 0.6603\n",
      "Epoch 3/50\n",
      "91/91 [==============================] - 28s 261ms/step - loss: 2.8835 - accuracy: 0.6628 - val_loss: 2.8173 - val_accuracy: 0.6603\n",
      "Epoch 4/50\n",
      "91/91 [==============================] - 28s 259ms/step - loss: 2.7552 - accuracy: 0.6628 - val_loss: 2.6980 - val_accuracy: 0.6603\n",
      "Epoch 5/50\n",
      "91/91 [==============================] - 28s 259ms/step - loss: 2.6385 - accuracy: 0.6628 - val_loss: 2.5834 - val_accuracy: 0.6603\n",
      "Epoch 6/50\n",
      "91/91 [==============================] - 28s 260ms/step - loss: 2.5250 - accuracy: 0.6628 - val_loss: 2.4745 - val_accuracy: 0.6603\n",
      "Epoch 7/50\n",
      "91/91 [==============================] - 28s 259ms/step - loss: 2.4211 - accuracy: 0.6628 - val_loss: 2.3743 - val_accuracy: 0.6603\n",
      "Epoch 8/50\n",
      "91/91 [==============================] - 29s 260ms/step - loss: 2.3218 - accuracy: 0.6628 - val_loss: 2.2781 - val_accuracy: 0.6603\n",
      "Epoch 9/50\n",
      "91/91 [==============================] - 28s 261ms/step - loss: 2.2304 - accuracy: 0.6628 - val_loss: 2.1874 - val_accuracy: 0.6603\n",
      "Epoch 10/50\n",
      "91/91 [==============================] - 28s 261ms/step - loss: 2.1423 - accuracy: 0.6628 - val_loss: 2.1028 - val_accuracy: 0.6603\n",
      "Epoch 11/50\n",
      "91/91 [==============================] - 28s 259ms/step - loss: 2.0611 - accuracy: 0.6628 - val_loss: 2.0216 - val_accuracy: 0.6603\n",
      "Epoch 12/50\n",
      "91/91 [==============================] - 28s 260ms/step - loss: 1.9836 - accuracy: 0.6628 - val_loss: 1.9453 - val_accuracy: 0.6603\n",
      "Epoch 13/50\n",
      "91/91 [==============================] - 28s 260ms/step - loss: 1.9067 - accuracy: 0.6628 - val_loss: 1.8741 - val_accuracy: 0.6603\n",
      "Epoch 14/50\n",
      "91/91 [==============================] - 28s 259ms/step - loss: 1.8368 - accuracy: 0.6628 - val_loss: 1.8052 - val_accuracy: 0.6603\n",
      "Epoch 15/50\n",
      "91/91 [==============================] - 28s 258ms/step - loss: 1.7701 - accuracy: 0.6628 - val_loss: 1.7401 - val_accuracy: 0.6603\n",
      "Epoch 16/50\n",
      "91/91 [==============================] - 28s 257ms/step - loss: 1.7055 - accuracy: 0.6628 - val_loss: 1.6794 - val_accuracy: 0.6603\n",
      "Epoch 17/50\n",
      "91/91 [==============================] - 28s 258ms/step - loss: 1.6456 - accuracy: 0.6628 - val_loss: 1.6192 - val_accuracy: 0.6603\n",
      "Epoch 18/50\n",
      "91/91 [==============================] - 28s 258ms/step - loss: 1.5858 - accuracy: 0.6628 - val_loss: 1.5603 - val_accuracy: 0.6603\n",
      "Epoch 19/50\n",
      "91/91 [==============================] - 28s 259ms/step - loss: 1.5261 - accuracy: 0.6628 - val_loss: 1.5005 - val_accuracy: 0.6603\n",
      "Epoch 20/50\n",
      "91/91 [==============================] - 28s 259ms/step - loss: 1.4672 - accuracy: 0.6628 - val_loss: 1.4388 - val_accuracy: 0.6603\n",
      "Epoch 21/50\n",
      "91/91 [==============================] - 28s 258ms/step - loss: 1.4019 - accuracy: 0.6628 - val_loss: 1.3707 - val_accuracy: 0.6603\n",
      "Epoch 22/50\n",
      "91/91 [==============================] - 28s 258ms/step - loss: 1.3289 - accuracy: 0.6628 - val_loss: 1.2985 - val_accuracy: 0.6603\n",
      "Epoch 23/50\n",
      "91/91 [==============================] - 28s 259ms/step - loss: 1.2572 - accuracy: 0.6628 - val_loss: 1.2208 - val_accuracy: 0.6603\n",
      "Epoch 24/50\n",
      "91/91 [==============================] - 29s 260ms/step - loss: 1.2012 - accuracy: 0.6628 - val_loss: 1.1686 - val_accuracy: 0.6603\n",
      "Epoch 25/50\n",
      "91/91 [==============================] - 28s 258ms/step - loss: 1.1539 - accuracy: 0.7255 - val_loss: 1.1282 - val_accuracy: 0.9135\n",
      "Epoch 26/50\n",
      "91/91 [==============================] - 28s 259ms/step - loss: 1.1157 - accuracy: 0.7952 - val_loss: 1.0879 - val_accuracy: 0.9135\n",
      "Epoch 27/50\n",
      "91/91 [==============================] - 28s 259ms/step - loss: 1.0734 - accuracy: 0.8690 - val_loss: 1.0524 - val_accuracy: 0.9167\n",
      "Epoch 28/50\n",
      "91/91 [==============================] - 28s 258ms/step - loss: 1.0424 - accuracy: 0.8814 - val_loss: 1.0240 - val_accuracy: 0.9199\n",
      "Epoch 29/50\n",
      "91/91 [==============================] - 28s 260ms/step - loss: 1.0085 - accuracy: 0.8924 - val_loss: 0.9957 - val_accuracy: 0.9199\n",
      "Epoch 30/50\n",
      "91/91 [==============================] - 28s 258ms/step - loss: 0.9785 - accuracy: 0.8945 - val_loss: 0.9717 - val_accuracy: 0.9199\n",
      "Epoch 31/50\n",
      "91/91 [==============================] - 29s 260ms/step - loss: 0.9507 - accuracy: 0.9021 - val_loss: 0.9476 - val_accuracy: 0.9231\n",
      "Epoch 32/50\n",
      "91/91 [==============================] - 29s 260ms/step - loss: 0.9210 - accuracy: 0.9028 - val_loss: 0.9257 - val_accuracy: 0.9231\n",
      "Epoch 33/50\n",
      "91/91 [==============================] - 28s 258ms/step - loss: 0.8927 - accuracy: 0.9048 - val_loss: 0.9036 - val_accuracy: 0.9231\n",
      "Epoch 34/50\n",
      "91/91 [==============================] - 28s 259ms/step - loss: 0.8675 - accuracy: 0.9028 - val_loss: 0.8874 - val_accuracy: 0.9135\n",
      "Epoch 35/50\n",
      "91/91 [==============================] - 28s 259ms/step - loss: 0.8415 - accuracy: 0.9083 - val_loss: 0.8681 - val_accuracy: 0.9167\n",
      "Epoch 36/50\n",
      "91/91 [==============================] - 28s 257ms/step - loss: 0.8194 - accuracy: 0.9083 - val_loss: 0.8508 - val_accuracy: 0.9167\n",
      "Epoch 37/50\n",
      "91/91 [==============================] - 28s 260ms/step - loss: 0.7949 - accuracy: 0.9090 - val_loss: 0.8348 - val_accuracy: 0.9135\n",
      "Epoch 38/50\n",
      "91/91 [==============================] - 28s 258ms/step - loss: 0.7747 - accuracy: 0.9124 - val_loss: 0.8175 - val_accuracy: 0.9199\n",
      "Epoch 39/50\n",
      "91/91 [==============================] - 29s 259ms/step - loss: 0.7533 - accuracy: 0.9090 - val_loss: 0.7995 - val_accuracy: 0.9359\n",
      "Epoch 40/50\n",
      "91/91 [==============================] - 28s 259ms/step - loss: 0.7283 - accuracy: 0.9110 - val_loss: 0.7806 - val_accuracy: 0.9391\n",
      "Epoch 41/50\n",
      "91/91 [==============================] - 28s 259ms/step - loss: 0.7043 - accuracy: 0.9069 - val_loss: 0.7584 - val_accuracy: 0.9423\n",
      "Epoch 42/50\n",
      "91/91 [==============================] - 28s 259ms/step - loss: 0.6795 - accuracy: 0.9048 - val_loss: 0.7355 - val_accuracy: 0.9359\n",
      "Epoch 43/50\n",
      "91/91 [==============================] - 28s 258ms/step - loss: 0.6561 - accuracy: 0.9069 - val_loss: 0.7131 - val_accuracy: 0.9391\n",
      "Epoch 44/50\n",
      "91/91 [==============================] - 28s 259ms/step - loss: 0.6272 - accuracy: 0.9124 - val_loss: 0.6934 - val_accuracy: 0.9423\n",
      "Epoch 45/50\n",
      "91/91 [==============================] - 28s 257ms/step - loss: 0.6095 - accuracy: 0.9117 - val_loss: 0.6803 - val_accuracy: 0.9423\n",
      "Epoch 46/50\n",
      "91/91 [==============================] - 28s 258ms/step - loss: 0.5925 - accuracy: 0.9186 - val_loss: 0.6681 - val_accuracy: 0.9423\n",
      "Epoch 47/50\n",
      "91/91 [==============================] - 28s 259ms/step - loss: 0.5680 - accuracy: 0.9172 - val_loss: 0.6546 - val_accuracy: 0.9327\n",
      "Epoch 48/50\n",
      "91/91 [==============================] - 28s 260ms/step - loss: 0.5644 - accuracy: 0.9193 - val_loss: 0.6478 - val_accuracy: 0.9263\n",
      "Epoch 49/50\n",
      "91/91 [==============================] - 28s 259ms/step - loss: 0.5429 - accuracy: 0.9228 - val_loss: 0.6362 - val_accuracy: 0.9391\n",
      "Epoch 50/50\n",
      "91/91 [==============================] - 28s 258ms/step - loss: 0.5322 - accuracy: 0.9248 - val_loss: 0.6246 - val_accuracy: 0.9359\n"
     ]
    }
   ],
   "source": [
    "hist = model.fit(\n",
    "            train_dataset, \n",
    "            epochs=EPOCHS,\n",
    "            validation_data=validation_dataset,\n",
    "            batch_size=BATCH_SIZE\n",
    ")"
   ]
  },
  {
   "cell_type": "code",
   "execution_count": 6,
   "metadata": {},
   "outputs": [
    {
     "data": {
      "image/png": "[encoded data removed]",
      "text/plain": [
       "<Figure size 1080x504 with 1 Axes>"
      ]
     },
     "metadata": {
      "needs_background": "light"
     },
     "output_type": "display_data"
    }
   ],
   "source": [
    "ax = pd.DataFrame(data=hist.history).plot(figsize=(15, 7))\n",
    "ax.grid()\n",
    "_ = ax.set(title=\"Training loss and accuracy\", xlabel=\"Epochs\")\n",
    "_ = ax.legend([\"Training loss\", \"Trainig accuracy\", \"Validation loss\", \"Validation accuracy\"])"
   ]
  },
  {
   "cell_type": "code",
   "execution_count": 13,
   "metadata": {},
   "outputs": [
    {
     "data": {
      "image/png": "[encoded data removed]",
      "text/plain": [
       "<Figure size 432x288 with 1 Axes>"
      ]
     },
     "metadata": {
      "needs_background": "light"
     },
     "output_type": "display_data"
    }
   ],
   "source": [
    "fig = plt.figure()\n",
    "plt.plot(hist.history['loss'], color='blue', label='loss', )\n",
    "plt.plot(hist.history['val_loss'], color='green', label='val_loss')\n",
    "fig.suptitle('Loss', fontsize=20)\n",
    "plt.legend(loc=\"upper left\")\n",
    "plt.show()"
   ]
  },
  {
   "cell_type": "code",
   "execution_count": 8,
   "metadata": {},
   "outputs": [
    {
     "data": {
      "image/png": "[encoded data removed]",
      "text/plain": [
       "<Figure size 432x288 with 1 Axes>"
      ]
     },
     "metadata": {
      "needs_background": "light"
     },
     "output_type": "display_data"
    }
   ],
   "source": [
    "fig = plt.figure()\n",
    "plt.plot(hist.history['accuracy'], color='orange', label='accuracy')\n",
    "plt.plot(hist.history['val_accuracy'], color='red', label='val_accuracy')\n",
    "fig.suptitle('Accuracy', fontsize=20)\n",
    "plt.legend(loc=\"upper left\")\n",
    "plt.show()"
   ]
  },
  {
   "cell_type": "code",
   "execution_count": 9,
   "metadata": {},
   "outputs": [
    {
     "name": "stdout",
     "output_type": "stream",
     "text": [
      "20/20 [==============================] - 2s 73ms/step - loss: 0.5406 - accuracy: 0.9228\n"
     ]
    }
   ],
   "source": [
    "results = model.evaluate(test_dataset, verbose=1)"
   ]
  },
  {
   "cell_type": "code",
   "execution_count": 10,
   "metadata": {},
   "outputs": [
    {
     "name": "stdout",
     "output_type": "stream",
     "text": [
      "1/1 [==============================] - 0s 128ms/step\n",
      "1/1 [==============================] - 0s 21ms/step\n"
     ]
    },
    {
     "name": "stderr",
     "output_type": "stream",
     "text": [
      "2022-07-29 12:02:35.988623: I tensorflow/core/grappler/optimizers/custom_graph_optimizer_registry.cc:113] Plugin optimizer for device_type GPU is enabled.\n"
     ]
    },
    {
     "name": "stdout",
     "output_type": "stream",
     "text": [
      "1/1 [==============================] - 0s 21ms/step\n",
      "1/1 [==============================] - 0s 20ms/step\n",
      "1/1 [==============================] - 0s 19ms/step\n",
      "1/1 [==============================] - 0s 19ms/step\n",
      "1/1 [==============================] - 0s 20ms/step\n",
      "1/1 [==============================] - 0s 19ms/step\n",
      "1/1 [==============================] - 0s 19ms/step\n",
      "1/1 [==============================] - 0s 19ms/step\n",
      "1/1 [==============================] - 0s 20ms/step\n",
      "1/1 [==============================] - 0s 20ms/step\n",
      "1/1 [==============================] - 0s 19ms/step\n",
      "1/1 [==============================] - 0s 19ms/step\n",
      "1/1 [==============================] - 0s 19ms/step\n",
      "1/1 [==============================] - 0s 19ms/step\n",
      "1/1 [==============================] - 0s 19ms/step\n",
      "1/1 [==============================] - 0s 20ms/step\n",
      "1/1 [==============================] - 0s 19ms/step\n",
      "1/1 [==============================] - 0s 46ms/step\n",
      "Precision: tf.Tensor(0.959596, shape=(), dtype=float32)\n",
      "Recall: tf.Tensor(0.9223301, shape=(), dtype=float32)\n",
      "BinaryAccuracy: tf.Tensor(0.92282957, shape=(), dtype=float32)\n"
     ]
    }
   ],
   "source": [
    "pre = Precision()\n",
    "re = Recall()\n",
    "acc = BinaryAccuracy()\n",
    "for sample in test_dataset: \n",
    "    X = sample[0]\n",
    "    y = sample[1]\n",
    "    yhat = model.predict(X)\n",
    "    pre.update_state(y, yhat)\n",
    "    re.update_state(y, yhat)\n",
    "    acc.update_state(y, yhat)\n",
    "print('Precision: ' + str(pre.result()))\n",
    "print('Recall: ' + str(re.result()))\n",
    "print('BinaryAccuracy: ' + str(acc.result()))"
   ]
  },
  {
   "cell_type": "code",
   "execution_count": 11,
   "metadata": {},
   "outputs": [
    {
     "name": "stderr",
     "output_type": "stream",
     "text": [
      "WARNING:absl:Found untraced functions such as _jit_compiled_convolution_op, _jit_compiled_convolution_op, _jit_compiled_convolution_op, _jit_compiled_convolution_op, _jit_compiled_convolution_op while saving (showing 5 of 5). These functions will not be directly callable after loading.\n"
     ]
    },
    {
     "name": "stdout",
     "output_type": "stream",
     "text": [
      "INFO:tensorflow:Assets written to: /Users/carlos/WORKSPACE/TFG-DeteccionFototrampeo/models/2022-07-29_10-02/assets\n"
     ]
    },
    {
     "name": "stderr",
     "output_type": "stream",
     "text": [
      "INFO:tensorflow:Assets written to: /Users/carlos/WORKSPACE/TFG-DeteccionFototrampeo/models/2022-07-29_10-02/assets\n"
     ]
    }
   ],
   "source": [
    "date = datetime.utcnow().strftime('%Y-%m-%d_%H-%M')\n",
    "if platform.system() == 'Windows':\n",
    "    path = model_dir + '\\\\'+ date\n",
    "else:\n",
    "    path = model_dir + '/'+ date\n",
    "\n",
    "model.save(path)"
   ]
  }
 ],
 "metadata": {
  "kernelspec": {
   "display_name": "Python 3.8.13 ('tf_gpu')",
   "language": "python",
   "name": "python3"
  },
  "language_info": {
   "codemirror_mode": {
    "name": "ipython",
    "version": 3
   },
   "file_extension": ".py",
   "mimetype": "text/x-python",
   "name": "python",
   "nbconvert_exporter": "python",
   "pygments_lexer": "ipython3",
   "version": "3.8.13"
  },
  "orig_nbformat": 4,
  "vscode": {
   "interpreter": {
    "hash": "907d050957a886e998c55a62a25f72c12f58285fde8e87ef7996a2175b8c9579"
   }
  }
 },
 "nbformat": 4,
 "nbformat_minor": 2
}
