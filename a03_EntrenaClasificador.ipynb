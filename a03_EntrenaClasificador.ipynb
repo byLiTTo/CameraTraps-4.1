{
 "cells": [
  {
   "cell_type": "code",
   "execution_count": null,
   "metadata": {
    "pycharm": {
     "name": "#%%\n"
    }
   },
   "outputs": [],
   "source": [
    "import os\n",
    "import platform\n",
    "from datetime import datetime\n",
    "\n",
    "import pandas as pd\n",
    "import tensorflow as tf\n",
    "from matplotlib import pyplot as plt\n",
    "from tensorflow import keras\n",
    "from tensorflow.python.keras import layers\n",
    "from tensorflow.python.keras.metrics import Precision, Recall, BinaryAccuracy\n",
    "\n",
    "from modules.dataset_utils import DatasetUtils\n",
    "\n",
    "#######################################################################################################################\n",
    "# PARÁMETROS DEFINIDOS EN FUNCIÓN DEL USUARIO\n",
    "#######################################################################################################################\n",
    "\n",
    "# Ruta hacia los CSV del dataset\n",
    "train_file_relative = './data/700Train.csv'\n",
    "validation_file_relative = './data/700Validation.csv'\n",
    "test_file_relative = './data/700Test.csv'\n",
    "\n",
    "# Ruta al directorio de imágenes con máscara aplicada\n",
    "masked_dir_relative = '../local/output_edited'\n",
    "\n",
    "model_dir_relative = \"./models\"\n",
    "\n",
    "# Ruta relativa hacia la librería ai4eutils\n",
    "ai4eutils_relative = \"./repos/ai4eutils\"\n",
    "\n",
    "# Ruta relativa hacia la librería CameraTraps\n",
    "CameraTraps_relative = \"./repos/CameraTraps\"\n",
    "\n",
    "#######################################################################################################################\n",
    "# PARÁMETROS PARA CNN\n",
    "#######################################################################################################################\n",
    "\n",
    "IMG_HEIGHT = IMG_WEIGHT = 500\n",
    "EPOCHS = 50\n",
    "BATCH_SIZE = 16\n",
    "\n",
    "#######################################################################################################################\n",
    "#######################################################################################################################\n",
    "\n",
    "home = os.path.expanduser(\"~\")\n",
    "\n",
    "ai4utils = os.path.abspath(ai4eutils_relative)\n",
    "CameraTraps = os.path.abspath(CameraTraps_relative)\n",
    "train_file = os.path.abspath(train_file_relative)\n",
    "validation_file = os.path.abspath(validation_file_relative)\n",
    "test_file = os.path.abspath(test_file_relative)\n",
    "masked_dir = os.path.abspath(masked_dir_relative)\n",
    "model_dir = os.path.abspath(model_dir_relative)\n",
    "\n",
    "try:\n",
    "    os.environ['PYTHONPATH']\n",
    "except KeyError:\n",
    "    os.environ['PYTHONPATH'] = \"\"\n",
    "if platform.system() == 'Windows':\n",
    "    os.environ['PYTHONPATH'] += (\";\" + ai4utils)\n",
    "    os.environ['PYTHONPATH'] += (\";\" + CameraTraps)\n",
    "else:\n",
    "    os.environ['PYTHONPATH'] += (\":\" + ai4utils)\n",
    "    os.environ['PYTHONPATH'] += (\":\" + CameraTraps)\n",
    "\n",
    "print(\n",
    "    '==================================================================================================================================')\n",
    "print('PYTHONPATH: ' + os.environ['PYTHONPATH'])\n",
    "print('')\n",
    "print('ai4eutils PATH: ' + '\\t' + ai4utils)\n",
    "print('CameraTraps PATH: ' + '\\t' + CameraTraps)\n",
    "print('Train CSV PATH: ' + '\\t' + train_file)\n",
    "print('Validation CSV PATH: ' + '\\t' + validation_file)\n",
    "print('Test CSV PATH: ' + '\\t' + '\\t' + test_file)\n",
    "print('masked PATH: ' + '\\t' + '\\t' + masked_dir)\n",
    "print('models PATH: ' + '\\t' + '\\t' + model_dir)\n",
    "print(\n",
    "    '==================================================================================================================================')"
   ]
  },
  {
   "cell_type": "code",
   "execution_count": null,
   "metadata": {
    "pycharm": {
     "name": "#%%\n"
    }
   },
   "outputs": [],
   "source": [
    "file_path, labels = DatasetUtils.load_dataset(train_file, masked_dir)\n",
    "\n",
    "TRAIN_BUFFER = len(labels)\n",
    "train_dataset = tf.data.Dataset.from_tensor_slices((file_path, labels))\n",
    "train_dataset = train_dataset.map(DatasetUtils.load_image).map(DatasetUtils.normalize_images).map(\n",
    "    DatasetUtils.resize_image).shuffle(TRAIN_BUFFER).batch(BATCH_SIZE)\n",
    "\n",
    "file_path, labels = DatasetUtils.load_dataset(validation_file, masked_dir)\n",
    "VALIDATION_BUFFER = len(labels)\n",
    "validation_dataset = tf.data.Dataset.from_tensor_slices((file_path, labels))\n",
    "validation_dataset = validation_dataset.map(DatasetUtils.load_image).map(DatasetUtils.normalize_images).map(\n",
    "    DatasetUtils.resize_image).shuffle(VALIDATION_BUFFER).batch(BATCH_SIZE)\n",
    "\n",
    "file_path, labels = DatasetUtils.load_dataset(test_file, masked_dir)\n",
    "TEST_BUFFER = len(labels)\n",
    "test_dataset = tf.data.Dataset.from_tensor_slices((file_path, labels))\n",
    "test_dataset = test_dataset.map(DatasetUtils.load_image).map(DatasetUtils.normalize_images).map(\n",
    "    DatasetUtils.resize_image).shuffle(TEST_BUFFER).batch(BATCH_SIZE)"
   ]
  },
  {
   "cell_type": "code",
   "execution_count": null,
   "metadata": {
    "pycharm": {
     "name": "#%%\n"
    }
   },
   "outputs": [],
   "source": [
    "model = keras.Sequential([\n",
    "\n",
    "    layers.Conv2D(16, kernel_size=3, padding='same', activation=tf.nn.relu, input_shape=(IMG_HEIGHT, IMG_WEIGHT, 3)),\n",
    "    layers.MaxPooling2D(2, 2),\n",
    "\n",
    "    layers.Conv2D(32, kernel_size=3, padding='same', activation=tf.nn.relu),\n",
    "    layers.MaxPooling2D(2, 2),\n",
    "\n",
    "    layers.Conv2D(64, kernel_size=3, padding='same', activation=tf.nn.relu),\n",
    "    layers.MaxPooling2D(2, 2),\n",
    "\n",
    "    layers.Conv2D(32, kernel_size=3, padding='same', activation=tf.nn.relu),\n",
    "    layers.MaxPooling2D(2, 2),\n",
    "\n",
    "    layers.Conv2D(16, kernel_size=3, padding='same', activation=tf.nn.relu),\n",
    "    layers.MaxPooling2D(2, 2),\n",
    "\n",
    "    # Full connected\n",
    "    layers.Flatten(),\n",
    "    layers.Dense(1024, kernel_regularizer=keras.regularizers.l2(1e-3), activation=tf.nn.relu),\n",
    "    layers.Dropout(0.5),\n",
    "    layers.Dense(1024, kernel_regularizer=keras.regularizers.l2(1e-3), activation=tf.nn.relu),\n",
    "    layers.Dropout(0.5),\n",
    "\n",
    "    # Capa de salida\n",
    "    layers.Dense(1, activation=tf.nn.sigmoid)\n",
    "])"
   ]
  },
  {
   "cell_type": "code",
   "execution_count": null,
   "metadata": {
    "pycharm": {
     "name": "#%%\n"
    }
   },
   "outputs": [],
   "source": [
    "model.compile(optimizer=keras.optimizers.Adam(learning_rate=1e-4), loss=[keras.losses.BinaryCrossentropy()],\n",
    "              metrics=['accuracy'])\n",
    "model.summary()"
   ]
  },
  {
   "cell_type": "code",
   "execution_count": null,
   "metadata": {
    "pycharm": {
     "name": "#%%\n"
    }
   },
   "outputs": [],
   "source": [
    "hist = model.fit(train_dataset, epochs=EPOCHS, validation_data=validation_dataset, batch_size=BATCH_SIZE)"
   ]
  },
  {
   "cell_type": "code",
   "execution_count": null,
   "metadata": {
    "pycharm": {
     "name": "#%%\n"
    }
   },
   "outputs": [],
   "source": [
    "ax = pd.DataFrame(data=hist.history).plot(figsize=(15, 7))\n",
    "ax.grid()\n",
    "_ = ax.set(title=\"Training loss and accuracy\", xlabel=\"Epochs\")\n",
    "_ = ax.legend([\"Training loss\", \"Training accuracy\", \"Validation loss\", \"Validation accuracy\"])"
   ]
  },
  {
   "cell_type": "code",
   "execution_count": null,
   "metadata": {
    "pycharm": {
     "name": "#%%\n"
    }
   },
   "outputs": [],
   "source": [
    "fig = plt.figure()\n",
    "plt.plot(hist.history['loss'], color='blue', label='loss', )\n",
    "plt.plot(hist.history['val_loss'], color='green', label='val_loss')\n",
    "fig.suptitle('Loss', fontsize=20)\n",
    "plt.legend(loc=\"upper left\")\n",
    "plt.show()"
   ]
  },
  {
   "cell_type": "code",
   "execution_count": null,
   "metadata": {
    "pycharm": {
     "name": "#%%\n"
    }
   },
   "outputs": [],
   "source": [
    "fig = plt.figure()\n",
    "plt.plot(hist.history['accuracy'], color='orange', label='accuracy')\n",
    "plt.plot(hist.history['val_accuracy'], color='red', label='val_accuracy')\n",
    "fig.suptitle('Accuracy', fontsize=20)\n",
    "plt.legend(loc=\"upper left\")\n",
    "plt.show()"
   ]
  },
  {
   "cell_type": "code",
   "execution_count": null,
   "metadata": {
    "pycharm": {
     "name": "#%%\n"
    }
   },
   "outputs": [],
   "source": [
    "results = model.evaluate(test_dataset, verbose=1)"
   ]
  },
  {
   "cell_type": "code",
   "execution_count": null,
   "metadata": {
    "pycharm": {
     "name": "#%%\n"
    }
   },
   "outputs": [],
   "source": [
    "pre = Precision()\n",
    "re = Recall()\n",
    "acc = BinaryAccuracy()\n",
    "for sample in test_dataset:\n",
    "    X = sample[0]\n",
    "    y = sample[1]\n",
    "    yhat = model.predict(X)\n",
    "    pre.update_state(y, yhat)\n",
    "    re.update_state(y, yhat)\n",
    "    acc.update_state(y, yhat)\n",
    "print('Precision: ' + str(pre.result()))\n",
    "print('Recall: ' + str(re.result()))\n",
    "print('BinaryAccuracy: ' + str(acc.result()))"
   ]
  },
  {
   "cell_type": "code",
   "execution_count": null,
   "metadata": {
    "pycharm": {
     "name": "#%%\n"
    }
   },
   "outputs": [],
   "source": [
    "date = datetime.utcnow().strftime('%Y-%m-%d_%H-%M')\n",
    "if platform.system() == 'Windows':\n",
    "    path = model_dir + '\\\\' + date\n",
    "else:\n",
    "    path = model_dir + '/' + date\n",
    "\n",
    "model.save(path)"
   ]
  }
 ],
 "metadata": {
  "kernelspec": {
   "display_name": "Python 3.8.13 ('tf_gpu')",
   "language": "python",
   "name": "python3"
  },
  "language_info": {
   "codemirror_mode": {
    "name": "ipython",
    "version": 3
   },
   "file_extension": ".py",
   "mimetype": "text/x-python",
   "name": "python",
   "nbconvert_exporter": "python",
   "pygments_lexer": "ipython3",
   "version": "3.8.13"
  },
  "orig_nbformat": 4,
  "vscode": {
   "interpreter": {
    "hash": "907d050957a886e998c55a62a25f72c12f58285fde8e87ef7996a2175b8c9579"
   }
  }
 },
 "nbformat": 4,
 "nbformat_minor": 2
}