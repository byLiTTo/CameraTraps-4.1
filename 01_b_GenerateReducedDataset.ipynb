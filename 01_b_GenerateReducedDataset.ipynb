{
 "cells": [
  {
   "cell_type": "code",
   "execution_count": 1,
   "metadata": {},
   "outputs": [],
   "source": [
    "import os\n",
    "\n",
    "import src.data.Dataset as dt"
   ]
  },
  {
   "cell_type": "code",
   "execution_count": 2,
   "metadata": {},
   "outputs": [
    {
     "name": "stdout",
     "output_type": "stream",
     "text": [
      "RAW_DATASET: /Users/carlos/WORKSPACE/MegaClassifier/data/raw/10000Images_binary.csv\n",
      "RAW_FOLDER:  /Users/carlos/WORKSPACE/MegaClassifier/data/raw\n"
     ]
    }
   ],
   "source": [
    "RAW_DATASET = os.path.abspath(\"./data/raw/10000Images_binary.csv\")\n",
    "\n",
    "print(f\"RAW_DATASET: {RAW_DATASET}\")"
   ]
  },
  {
   "cell_type": "code",
   "execution_count": 3,
   "metadata": {},
   "outputs": [
    {
     "name": "stdout",
     "output_type": "stream",
     "text": [
      "The file /Users/carlos/WORKSPACE/MegaClassifier/data/raw/10000Images_binary.csv has been successfully opened.\n"
     ]
    },
    {
     "data": {
      "text/html": [
       "<div>\n",
       "<style scoped>\n",
       "    .dataframe tbody tr th:only-of-type {\n",
       "        vertical-align: middle;\n",
       "    }\n",
       "\n",
       "    .dataframe tbody tr th {\n",
       "        vertical-align: top;\n",
       "    }\n",
       "\n",
       "    .dataframe thead th {\n",
       "        text-align: right;\n",
       "    }\n",
       "</style>\n",
       "<table border=\"1\" class=\"dataframe\">\n",
       "  <thead>\n",
       "    <tr style=\"text-align: right;\">\n",
       "      <th></th>\n",
       "      <th>file_name</th>\n",
       "      <th>label</th>\n",
       "    </tr>\n",
       "  </thead>\n",
       "  <tbody>\n",
       "    <tr>\n",
       "      <th>0</th>\n",
       "      <td>\\cervidae\\CERVIDREDORFALLOWDEER_ZOO_1_4\\20_202...</td>\n",
       "      <td>1</td>\n",
       "    </tr>\n",
       "    <tr>\n",
       "      <th>1</th>\n",
       "      <td>\\leporido\\conejo_WellingtonCameraTraps_SS\\1908...</td>\n",
       "      <td>1</td>\n",
       "    </tr>\n",
       "    <tr>\n",
       "      <th>2</th>\n",
       "      <td>\\vacia\\empty_SnapshotMountainZebra\\MTZ_S1_D07_...</td>\n",
       "      <td>0</td>\n",
       "    </tr>\n",
       "    <tr>\n",
       "      <th>3</th>\n",
       "      <td>\\vacia\\NOANIMAL_ZOO_5_6_7_9\\37_20210319 (943).JPG</td>\n",
       "      <td>0</td>\n",
       "    </tr>\n",
       "    <tr>\n",
       "      <th>4</th>\n",
       "      <td>\\vacia\\empty_IslandConservationCameraTraps\\dom...</td>\n",
       "      <td>0</td>\n",
       "    </tr>\n",
       "    <tr>\n",
       "      <th>...</th>\n",
       "      <td>...</td>\n",
       "      <td>...</td>\n",
       "    </tr>\n",
       "    <tr>\n",
       "      <th>29613</th>\n",
       "      <td>\\vacia\\vacia_ss\\27_20201023 (17).JPG</td>\n",
       "      <td>0</td>\n",
       "    </tr>\n",
       "    <tr>\n",
       "      <th>29614</th>\n",
       "      <td>\\zorro\\REDFOX_ZOO_1_4\\32_20201218 (348).JPG</td>\n",
       "      <td>1</td>\n",
       "    </tr>\n",
       "    <tr>\n",
       "      <th>29615</th>\n",
       "      <td>\\mapache\\raccoon_CaltechCameraTrap_ME\\58af767e...</td>\n",
       "      <td>1</td>\n",
       "    </tr>\n",
       "    <tr>\n",
       "      <th>29616</th>\n",
       "      <td>\\cervidae\\CERVIDREDORFALLOWDEER_ZOO_5_6_7_9\\5_...</td>\n",
       "      <td>1</td>\n",
       "    </tr>\n",
       "    <tr>\n",
       "      <th>29617</th>\n",
       "      <td>\\zorro\\zorro_PNM_2012_ME\\d3424IM000012.JPG</td>\n",
       "      <td>1</td>\n",
       "    </tr>\n",
       "  </tbody>\n",
       "</table>\n",
       "<p>29618 rows × 2 columns</p>\n",
       "</div>"
      ],
      "text/plain": [
       "                                               file_name  label\n",
       "0      \\cervidae\\CERVIDREDORFALLOWDEER_ZOO_1_4\\20_202...      1\n",
       "1      \\leporido\\conejo_WellingtonCameraTraps_SS\\1908...      1\n",
       "2      \\vacia\\empty_SnapshotMountainZebra\\MTZ_S1_D07_...      0\n",
       "3      \\vacia\\NOANIMAL_ZOO_5_6_7_9\\37_20210319 (943).JPG      0\n",
       "4      \\vacia\\empty_IslandConservationCameraTraps\\dom...      0\n",
       "...                                                  ...    ...\n",
       "29613               \\vacia\\vacia_ss\\27_20201023 (17).JPG      0\n",
       "29614        \\zorro\\REDFOX_ZOO_1_4\\32_20201218 (348).JPG      1\n",
       "29615  \\mapache\\raccoon_CaltechCameraTrap_ME\\58af767e...      1\n",
       "29616  \\cervidae\\CERVIDREDORFALLOWDEER_ZOO_5_6_7_9\\5_...      1\n",
       "29617         \\zorro\\zorro_PNM_2012_ME\\d3424IM000012.JPG      1\n",
       "\n",
       "[29618 rows x 2 columns]"
      ]
     },
     "execution_count": 3,
     "metadata": {},
     "output_type": "execute_result"
    }
   ],
   "source": [
    "dataset = dt.load_from_csv(RAW_DATASET)\n",
    "dataset"
   ]
  },
  {
   "cell_type": "code",
   "execution_count": 4,
   "metadata": {},
   "outputs": [
    {
     "name": "stdout",
     "output_type": "stream",
     "text": [
      "Number of samples in raw dataset: 29618\n",
      "label\n",
      "0    10000\n",
      "1    19618\n",
      "Name: count, dtype: int64\n",
      "\n"
     ]
    }
   ],
   "source": [
    "samples_empty_class = 1000\n",
    "\n",
    "number_raw_samples = len(dataset[\"file_name\"].values)\n",
    "number_raw_empty = len(dataset[dataset[\"label\"] == 0])\n",
    "number_raw_animal = len(dataset[dataset[\"label\"] == 1])\n",
    "\n",
    "print(\"Number of samples in raw dataset: \" + str(number_raw_samples))\n",
    "label_counts = dataset[\"label\"].value_counts()\n",
    "label_counts_sorted = label_counts.sort_index()\n",
    "print(label_counts_sorted)\n",
    "print()"
   ]
  },
  {
   "cell_type": "code",
   "execution_count": 5,
   "metadata": {},
   "outputs": [
    {
     "name": "stdout",
     "output_type": "stream",
     "text": [
      "The dataset has been successfully saved to /Users/carlos/WORKSPACE/MegaClassifier/data/raw/1000Images_binary.csv\n",
      "Number of samples in set dataset: 2962\n",
      "label\n",
      "0    1000\n",
      "1    1962\n",
      "Name: count, dtype: int64\n"
     ]
    }
   ],
   "source": [
    "dataset_crop = dt.crop_dataset(dataset, samples_empty_class)\n",
    "\n",
    "number_set_samples = len(dataset_crop[\"file_name\"].values)\n",
    "number_set_empty = len(dataset_crop[dataset_crop[\"label\"] == 0])\n",
    "number_set_animal = len(dataset_crop[dataset_crop[\"label\"] == 1])\n",
    "\n",
    "csv_crop_path = os.path.join(\n",
    "    RAW_DATASET[: -len(os.path.basename(RAW_DATASET))],\n",
    "    str(number_set_empty) + \"Images_binary.csv\",\n",
    ")\n",
    "dt.dataset_to_csv(dataset_crop, csv_crop_path)\n",
    "\n",
    "print(\"Number of samples in set dataset: \" + str(number_set_samples))\n",
    "label_counts = dataset_crop[\"label\"].value_counts()\n",
    "label_counts_sorted = label_counts.sort_index()\n",
    "print(label_counts_sorted)"
   ]
  }
 ],
 "metadata": {
  "kernelspec": {
   "display_name": "cameratraps-detector",
   "language": "python",
   "name": "python3"
  },
  "language_info": {
   "codemirror_mode": {
    "name": "ipython",
    "version": 3
   },
   "file_extension": ".py",
   "mimetype": "text/x-python",
   "name": "python",
   "nbconvert_exporter": "python",
   "pygments_lexer": "ipython3",
   "version": "3.8.15"
  }
 },
 "nbformat": 4,
 "nbformat_minor": 2
}
