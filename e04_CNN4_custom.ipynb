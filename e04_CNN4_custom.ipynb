{
 "cells": [
  {
   "cell_type": "markdown",
   "source": [
    "# DEFINICIÓN DE PARÁMETROS"
   ],
   "metadata": {
    "collapsed": false,
    "pycharm": {
     "name": "#%% md\n"
    }
   }
  },
  {
   "cell_type": "code",
   "execution_count": 1,
   "outputs": [],
   "source": [
    "#######################################################################################################################\n",
    "\n",
    "# Ruta hacia los CSV del dataset\n",
    "train_file_relative = './data/700Train.csv'\n",
    "validation_file_relative = './data/700Validation.csv'\n",
    "test_file_relative = './data/700Test.csv'\n",
    "\n",
    "# Ruta al directorio de imágenes con máscara aplicada\n",
    "masked_dir_relative = '../local/output_masked'\n",
    "edited_dir_relative = '../local/output_edited'\n",
    "\n",
    "model_dir_relative = \"./models\"\n",
    "\n",
    "# Ruta relativa hacia la librería ai4eutils\n",
    "ai4eutils_relative = \"./repos/ai4eutils\"\n",
    "\n",
    "# Ruta relativa hacia la librería CameraTraps\n",
    "CameraTraps_relative = \"./repos/CameraTraps\"\n",
    "\n",
    "#######################################################################################################################"
   ],
   "metadata": {
    "collapsed": false,
    "pycharm": {
     "name": "#%%\n"
    }
   }
  },
  {
   "cell_type": "markdown",
   "source": [
    "# DEFINICIÓN PARÁMETROS CNN"
   ],
   "metadata": {
    "collapsed": false,
    "pycharm": {
     "name": "#%% md\n"
    }
   }
  },
  {
   "cell_type": "code",
   "execution_count": 2,
   "outputs": [],
   "source": [
    "#######################################################################################################################\n",
    "\n",
    "EPOCHS = 50\n",
    "LEARNING_RATE = 1e-4\n",
    "BATCH_SIZE = 16\n",
    "\n",
    "IMG_HEIGHT = IMG_WIDTH = 448\n",
    "\n",
    "#######################################################################################################################"
   ],
   "metadata": {
    "collapsed": false,
    "pycharm": {
     "name": "#%%\n"
    }
   }
  },
  {
   "cell_type": "code",
   "execution_count": 3,
   "metadata": {
    "collapsed": true,
    "pycharm": {
     "name": "#%%\n"
    }
   },
   "outputs": [
    {
     "name": "stdout",
     "output_type": "stream",
     "text": [
      "\n",
      "=======================================================================================================================================\n",
      "TensorFlow version: 2.10.0\n",
      "Is GPU available? tf.test.is_gpu_available: [PhysicalDevice(name='/physical_device:GPU:0', device_type='GPU')]\n",
      "=======================================================================================================================================\n",
      "\n",
      "==============================================================================================================\n",
      "PYTHONPATH: /Users/carlos/WORKSPACE/TFG-DeteccionFototrampeo:/Users/carlos/WORKSPACE/TFG-DeteccionFototrampeo/repos/ai4eutils:/Users/carlos/WORKSPACE/TFG-DeteccionFototrampeo/repos/CameraTraps\n",
      "\n",
      "ai4eutils PATH: \t\t/Users/carlos/WORKSPACE/TFG-DeteccionFototrampeo/repos/ai4eutils\n",
      "CameraTraps PATH: \t\t/Users/carlos/WORKSPACE/TFG-DeteccionFototrampeo/repos/CameraTraps\n",
      "Train CSV PATH: \t\t/Users/carlos/WORKSPACE/TFG-DeteccionFototrampeo/data/700Train.csv\n",
      "Validation CSV PATH: \t/Users/carlos/WORKSPACE/TFG-DeteccionFototrampeo/data/700Validation.csv\n",
      "Test CSV PATH: \t\t\t/Users/carlos/WORKSPACE/TFG-DeteccionFototrampeo/data/700Test.csv\n",
      "masked PATH: \t\t\t/Users/carlos/WORKSPACE/local/output_masked\n",
      "edited PATH: \t\t\t/Users/carlos/WORKSPACE/local/output_edited\n",
      "models PATH: \t\t\t/Users/carlos/WORKSPACE/TFG-DeteccionFototrampeo/models\n",
      "==============================================================================================================\n"
     ]
    }
   ],
   "source": [
    "import os\n",
    "import platform\n",
    "\n",
    "import numpy as np\n",
    "import pandas as pd\n",
    "import tensorflow as tf\n",
    "from matplotlib import pyplot as plt\n",
    "from sklearn.utils import class_weight\n",
    "from tensorflow import keras\n",
    "\n",
    "from modules.dataset_utils import DatasetUtils\n",
    "\n",
    "home = os.path.expanduser(\"~\")\n",
    "\n",
    "ai4utils = os.path.abspath(ai4eutils_relative)\n",
    "CameraTraps = os.path.abspath(CameraTraps_relative)\n",
    "train_file = os.path.abspath(train_file_relative)\n",
    "validation_file = os.path.abspath(validation_file_relative)\n",
    "test_file = os.path.abspath(test_file_relative)\n",
    "masked_dir = os.path.abspath(masked_dir_relative)\n",
    "edited_dir = os.path.abspath(edited_dir_relative)\n",
    "model_dir = os.path.abspath(model_dir_relative)\n",
    "\n",
    "try:\n",
    "    os.environ['PYTHONPATH']\n",
    "except KeyError:\n",
    "    os.environ['PYTHONPATH'] = \"\"\n",
    "if platform.system() == 'Windows':\n",
    "    os.environ['PYTHONPATH'] += (\";\" + ai4utils)\n",
    "    os.environ['PYTHONPATH'] += (\";\" + CameraTraps)\n",
    "else:\n",
    "    os.environ['PYTHONPATH'] += (\":\" + ai4utils)\n",
    "    os.environ['PYTHONPATH'] += (\":\" + CameraTraps)\n",
    "\n",
    "print('==============================================================================================================')\n",
    "print('PYTHONPATH: ' + os.environ['PYTHONPATH'])\n",
    "print('')\n",
    "print('ai4eutils PATH: ' + '\\t\\t' + ai4utils)\n",
    "print('CameraTraps PATH: ' + '\\t\\t' + CameraTraps)\n",
    "print('Train CSV PATH: ' + '\\t\\t' + train_file)\n",
    "print('Validation CSV PATH: ' + '\\t' + validation_file)\n",
    "print('Test CSV PATH: ' + '\\t\\t\\t' + test_file)\n",
    "print('masked PATH: ' + '\\t\\t\\t' + masked_dir)\n",
    "print('edited PATH: ' + '\\t\\t\\t' + edited_dir)\n",
    "print('models PATH: ' + '\\t\\t\\t' + model_dir)\n",
    "print('==============================================================================================================')"
   ]
  },
  {
   "cell_type": "markdown",
   "source": [
    "# Generate Datasets"
   ],
   "metadata": {
    "collapsed": false,
    "pycharm": {
     "name": "#%% md\n"
    }
   }
  },
  {
   "cell_type": "code",
   "execution_count": 4,
   "outputs": [
    {
     "name": "stdout",
     "output_type": "stream",
     "text": [
      "Found 1450 validated image filenames belonging to 2 classes.\n",
      "Found 312 validated image filenames belonging to 2 classes.\n",
      "Found 311 validated image filenames belonging to 2 classes.\n"
     ]
    }
   ],
   "source": [
    "custom = tf.keras.preprocessing.image.ImageDataGenerator(\n",
    "    rescale=1. / 255,\n",
    "    horizontal_flip=True,\n",
    ")\n",
    "\n",
    "general = tf.keras.preprocessing.image.ImageDataGenerator(rescale=1. / 255)\n",
    "\n",
    "file_names, labels = DatasetUtils.load_dataset(train_file, edited_dir)\n",
    "d = {'file_names': file_names, 'labels': labels}\n",
    "train_df = pd.DataFrame(data=d, dtype=str)\n",
    "train_dataset = custom.flow_from_dataframe(\n",
    "    dataframe=train_df,\n",
    "    directory=None,\n",
    "    x_col=\"file_names\",\n",
    "    y_col=\"labels\",\n",
    "    class_mode='binary',\n",
    "    shuffle=True,\n",
    "    batch_size=BATCH_SIZE,\n",
    "    target_size=(IMG_HEIGHT, IMG_WIDTH)\n",
    ")\n",
    "from collections import Counter\n",
    "itemCt = Counter(train_dataset.classes)\n",
    "maxCt = float(max(itemCt.values()))\n",
    "cw = {clsID : maxCt/numImg for clsID, numImg in itemCt.items()}\n",
    "\n",
    "file_names, labels = DatasetUtils.load_dataset(validation_file, edited_dir)\n",
    "d = {'file_names': file_names, 'labels': labels}\n",
    "validation_df = pd.DataFrame(data=d, dtype=str)\n",
    "validation_dataset = general.flow_from_dataframe(\n",
    "    dataframe=validation_df,\n",
    "    x_col=\"file_names\",\n",
    "    y_col=\"labels\",\n",
    "    class_mode='binary',\n",
    "    shuffle=True,\n",
    "    batch_size=BATCH_SIZE,\n",
    "    target_size=(IMG_HEIGHT, IMG_WIDTH)\n",
    ")\n",
    "\n",
    "file_names, labels = DatasetUtils.load_dataset(test_file, edited_dir)\n",
    "d = {'file_names': file_names, 'labels': labels}\n",
    "test_df = pd.DataFrame(data=d, dtype=str)\n",
    "test_dataset = general.flow_from_dataframe(\n",
    "    dataframe=test_df,\n",
    "    x_col=\"file_names\",\n",
    "    y_col=\"labels\",\n",
    "    class_mode='binary',\n",
    "    shuffle=True,\n",
    "    batch_size=BATCH_SIZE,\n",
    "    target_size=(IMG_HEIGHT, IMG_WIDTH)\n",
    ")"
   ],
   "metadata": {
    "collapsed": false,
    "pycharm": {
     "name": "#%%\n"
    }
   }
  },
  {
   "cell_type": "markdown",
   "source": [
    "# Custom CNN Architecture"
   ],
   "metadata": {
    "collapsed": false,
    "pycharm": {
     "name": "#%% md\n"
    }
   }
  },
  {
   "cell_type": "code",
   "execution_count": 5,
   "outputs": [
    {
     "name": "stdout",
     "output_type": "stream",
     "text": [
      "Metal device set to: Apple M1\n",
      "Model: \"sequential\"\n",
      "_________________________________________________________________\n",
      " Layer (type)                Output Shape              Param #   \n",
      "=================================================================\n",
      " conv2d (Conv2D)             (None, 448, 448, 16)      448       \n",
      "                                                                 \n",
      " max_pooling2d (MaxPooling2D  (None, 224, 224, 16)     0         \n",
      " )                                                               \n",
      "                                                                 \n",
      " conv2d_1 (Conv2D)           (None, 224, 224, 32)      4640      \n",
      "                                                                 \n",
      " max_pooling2d_1 (MaxPooling  (None, 112, 112, 32)     0         \n",
      " 2D)                                                             \n",
      "                                                                 \n",
      " conv2d_2 (Conv2D)           (None, 112, 112, 64)      18496     \n",
      "                                                                 \n",
      " max_pooling2d_2 (MaxPooling  (None, 56, 56, 64)       0         \n",
      " 2D)                                                             \n",
      "                                                                 \n",
      " conv2d_3 (Conv2D)           (None, 56, 56, 32)        18464     \n",
      "                                                                 \n",
      " max_pooling2d_3 (MaxPooling  (None, 28, 28, 32)       0         \n",
      " 2D)                                                             \n",
      "                                                                 \n",
      " conv2d_4 (Conv2D)           (None, 28, 28, 16)        4624      \n",
      "                                                                 \n",
      " max_pooling2d_4 (MaxPooling  (None, 14, 14, 16)       0         \n",
      " 2D)                                                             \n",
      "                                                                 \n",
      " flatten (Flatten)           (None, 3136)              0         \n",
      "                                                                 \n",
      " dense (Dense)               (None, 1024)              3212288   \n",
      "                                                                 \n",
      " dropout (Dropout)           (None, 1024)              0         \n",
      "                                                                 \n",
      " dense_1 (Dense)             (None, 1024)              1049600   \n",
      "                                                                 \n",
      " dropout_1 (Dropout)         (None, 1024)              0         \n",
      "                                                                 \n",
      " dense_2 (Dense)             (None, 1)                 1025      \n",
      "                                                                 \n",
      "=================================================================\n",
      "Total params: 4,309,585\n",
      "Trainable params: 4,309,585\n",
      "Non-trainable params: 0\n",
      "_________________________________________________________________\n"
     ]
    },
    {
     "name": "stderr",
     "output_type": "stream",
     "text": [
      "2022-10-19 11:53:22.610714: I tensorflow/core/common_runtime/pluggable_device/pluggable_device_factory.cc:306] Could not identify NUMA node of platform GPU ID 0, defaulting to 0. Your kernel may not have been built with NUMA support.\n",
      "2022-10-19 11:53:22.610815: I tensorflow/core/common_runtime/pluggable_device/pluggable_device_factory.cc:272] Created TensorFlow device (/job:localhost/replica:0/task:0/device:GPU:0 with 0 MB memory) -> physical PluggableDevice (device: 0, name: METAL, pci bus id: <undefined>)\n"
     ]
    }
   ],
   "source": [
    "model = keras.Sequential([\n",
    "    keras.layers.Conv2D(16, kernel_size=3, padding='same', activation=tf.nn.relu,\n",
    "                        input_shape=(IMG_HEIGHT, IMG_WIDTH, 3)),\n",
    "    keras.layers.MaxPooling2D(2, 2),\n",
    "\n",
    "    keras.layers.Conv2D(32, kernel_size=3, padding='same', activation=tf.nn.relu),\n",
    "    keras.layers.MaxPooling2D(2, 2),\n",
    "\n",
    "    keras.layers.Conv2D(64, kernel_size=3, padding='same', activation=tf.nn.relu),\n",
    "    keras.layers.MaxPooling2D(2, 2),\n",
    "\n",
    "    keras.layers.Conv2D(32, kernel_size=3, padding='same', activation=tf.nn.relu),\n",
    "    keras.layers.MaxPooling2D(2, 2),\n",
    "\n",
    "    keras.layers.Conv2D(16, kernel_size=3, padding='same', activation=tf.nn.relu),\n",
    "    keras.layers.MaxPooling2D(2, 2),\n",
    "\n",
    "    # Full connected\n",
    "    keras.layers.Flatten(),\n",
    "    keras.layers.Dense(1024, kernel_regularizer=keras.regularizers.l2(LEARNING_RATE), activation=tf.nn.relu),\n",
    "    keras.layers.Dropout(0.3),\n",
    "    keras.layers.Dense(1024, kernel_regularizer=keras.regularizers.l2(LEARNING_RATE), activation=tf.nn.relu),\n",
    "    keras.layers.Dropout(0.3),\n",
    "\n",
    "    # Capa de salida\n",
    "    keras.layers.Dense(1, activation=tf.nn.sigmoid)\n",
    "])\n",
    "\n",
    "model.summary()\n",
    "\n",
    "model.compile(\n",
    "    optimizer=keras.optimizers.Adam(learning_rate=LEARNING_RATE),\n",
    "    loss=[keras.losses.BinaryCrossentropy()],\n",
    "    metrics=['accuracy'])"
   ],
   "metadata": {
    "collapsed": false,
    "pycharm": {
     "name": "#%%\n"
    }
   }
  },
  {
   "cell_type": "code",
   "execution_count": null,
   "outputs": [
    {
     "name": "stdout",
     "output_type": "stream",
     "text": [
      "Epoch 1/50\n"
     ]
    },
    {
     "name": "stderr",
     "output_type": "stream",
     "text": [
      "2022-10-19 11:53:22.876438: W tensorflow/core/platform/profile_utils/cpu_utils.cc:128] Failed to get CPU frequency: 0 Hz\n",
      "2022-10-19 11:53:23.208031: I tensorflow/core/grappler/optimizers/custom_graph_optimizer_registry.cc:114] Plugin optimizer for device_type GPU is enabled.\n"
     ]
    },
    {
     "name": "stdout",
     "output_type": "stream",
     "text": [
      "90/90 [==============================] - ETA: 0s - loss: 0.9992 - accuracy: 0.8487"
     ]
    },
    {
     "name": "stderr",
     "output_type": "stream",
     "text": [
      "2022-10-19 11:53:41.448063: I tensorflow/core/grappler/optimizers/custom_graph_optimizer_registry.cc:114] Plugin optimizer for device_type GPU is enabled.\n"
     ]
    },
    {
     "name": "stdout",
     "output_type": "stream",
     "text": [
      "90/90 [==============================] - 20s 212ms/step - loss: 0.9992 - accuracy: 0.8487 - val_loss: 0.5761 - val_accuracy: 0.8651\n",
      "Epoch 2/50\n",
      "90/90 [==============================] - 19s 205ms/step - loss: 0.7375 - accuracy: 0.8717 - val_loss: 0.5522 - val_accuracy: 0.9046\n",
      "Epoch 3/50\n",
      "90/90 [==============================] - 19s 205ms/step - loss: 0.6756 - accuracy: 0.8933 - val_loss: 0.5372 - val_accuracy: 0.9046\n",
      "Epoch 4/50\n",
      "90/90 [==============================] - 19s 206ms/step - loss: 0.6418 - accuracy: 0.8982 - val_loss: 0.4651 - val_accuracy: 0.9112\n",
      "Epoch 5/50\n",
      "90/90 [==============================] - 18s 205ms/step - loss: 0.6246 - accuracy: 0.8961 - val_loss: 0.4869 - val_accuracy: 0.9079\n",
      "Epoch 6/50\n",
      "90/90 [==============================] - 18s 205ms/step - loss: 0.6184 - accuracy: 0.8996 - val_loss: 0.4605 - val_accuracy: 0.9112\n",
      "Epoch 7/50\n",
      "90/90 [==============================] - 19s 208ms/step - loss: 0.5848 - accuracy: 0.9038 - val_loss: 0.5107 - val_accuracy: 0.8816\n",
      "Epoch 8/50\n",
      "90/90 [==============================] - 19s 205ms/step - loss: 0.5657 - accuracy: 0.8982 - val_loss: 0.4711 - val_accuracy: 0.9112\n",
      "Epoch 9/50\n",
      "90/90 [==============================] - 21s 229ms/step - loss: 0.5543 - accuracy: 0.8989 - val_loss: 0.4631 - val_accuracy: 0.9046\n",
      "Epoch 10/50\n",
      "90/90 [==============================] - 24s 262ms/step - loss: 0.5206 - accuracy: 0.9073 - val_loss: 0.4612 - val_accuracy: 0.8980\n",
      "Epoch 11/50\n",
      "90/90 [==============================] - 23s 257ms/step - loss: 0.5094 - accuracy: 0.9010 - val_loss: 0.4819 - val_accuracy: 0.8487\n",
      "Epoch 12/50\n",
      "90/90 [==============================] - 24s 267ms/step - loss: 0.4885 - accuracy: 0.9100 - val_loss: 0.4404 - val_accuracy: 0.9046\n",
      "Epoch 13/50\n",
      "90/90 [==============================] - 24s 261ms/step - loss: 0.4617 - accuracy: 0.9191 - val_loss: 0.4922 - val_accuracy: 0.8717\n",
      "Epoch 14/50\n",
      "90/90 [==============================] - 23s 254ms/step - loss: 0.4279 - accuracy: 0.9247 - val_loss: 0.4853 - val_accuracy: 0.8717\n",
      "Epoch 15/50\n",
      "90/90 [==============================] - 23s 258ms/step - loss: 0.4286 - accuracy: 0.9282 - val_loss: 0.5063 - val_accuracy: 0.8454\n",
      "Epoch 16/50\n",
      "90/90 [==============================] - 22s 244ms/step - loss: 0.3999 - accuracy: 0.9310 - val_loss: 0.4783 - val_accuracy: 0.9046\n",
      "Epoch 17/50\n",
      "90/90 [==============================] - 23s 253ms/step - loss: 0.3730 - accuracy: 0.9435 - val_loss: 0.4649 - val_accuracy: 0.8816\n",
      "Epoch 18/50\n",
      "90/90 [==============================] - 23s 258ms/step - loss: 0.3776 - accuracy: 0.9310 - val_loss: 0.4414 - val_accuracy: 0.9013\n",
      "Epoch 19/50\n",
      "90/90 [==============================] - 23s 254ms/step - loss: 0.3382 - accuracy: 0.9484 - val_loss: 0.4735 - val_accuracy: 0.9013\n",
      "Epoch 20/50\n",
      "90/90 [==============================] - 23s 259ms/step - loss: 0.3141 - accuracy: 0.9540 - val_loss: 0.4512 - val_accuracy: 0.8947\n",
      "Epoch 21/50\n",
      "90/90 [==============================] - 24s 265ms/step - loss: 0.2886 - accuracy: 0.9623 - val_loss: 0.5347 - val_accuracy: 0.9079\n",
      "Epoch 22/50\n",
      "90/90 [==============================] - 24s 267ms/step - loss: 0.3016 - accuracy: 0.9477 - val_loss: 0.5120 - val_accuracy: 0.8816\n",
      "Epoch 23/50\n",
      "90/90 [==============================] - 23s 257ms/step - loss: 0.2887 - accuracy: 0.9616 - val_loss: 0.5597 - val_accuracy: 0.8421\n",
      "Epoch 24/50\n",
      "86/90 [===========================>..] - ETA: 0s - loss: 0.2628 - accuracy: 0.9664"
     ]
    }
   ],
   "source": [
    "hist = model.fit(\n",
    "    train_dataset,\n",
    "    class_weight=cw,\n",
    "    steps_per_epoch=train_dataset.samples // BATCH_SIZE,\n",
    "    epochs=EPOCHS,\n",
    "    validation_data=validation_dataset,\n",
    "    validation_steps=validation_dataset.samples // BATCH_SIZE,\n",
    "    verbose=1\n",
    ")\n",
    "results = model.evaluate(\n",
    "    test_dataset,\n",
    "    batch_size=BATCH_SIZE,\n",
    "    verbose=1\n",
    ")\n",
    "\n",
    "fig = plt.figure(figsize=(15, 12))\n",
    "fig.suptitle('Custom Architecture using edited images')\n",
    "\n",
    "ax1 = fig.add_subplot(2, 1, 1)\n",
    "ax2 = fig.add_subplot(2, 1, 2)\n",
    "\n",
    "ax1.plot(hist.history['loss'], color='blue', label='train loss', )\n",
    "ax1.plot(hist.history['val_loss'], color='green', label='validation loss')\n",
    "ax1.legend(loc=\"upper right\")\n",
    "ax2.plot(hist.history['accuracy'], color='orange', label='train accuracy')\n",
    "ax2.plot(hist.history['val_accuracy'], color='red', label='validation accuracy')\n",
    "ax2.legend(loc=\"lower right\")\n",
    "plt.show()"
   ],
   "metadata": {
    "collapsed": false,
    "pycharm": {
     "name": "#%%\n",
     "is_executing": true
    }
   }
  }
 ],
 "metadata": {
  "kernelspec": {
   "display_name": "Python 3",
   "language": "python",
   "name": "python3"
  },
  "language_info": {
   "codemirror_mode": {
    "name": "ipython",
    "version": 2
   },
   "file_extension": ".py",
   "mimetype": "text/x-python",
   "name": "python",
   "nbconvert_exporter": "python",
   "pygments_lexer": "ipython2",
   "version": "2.7.6"
  }
 },
 "nbformat": 4,
 "nbformat_minor": 0
}