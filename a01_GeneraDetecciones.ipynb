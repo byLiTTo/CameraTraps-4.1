{
 "cells": [
  {
   "cell_type": "code",
   "execution_count": 12,
   "metadata": {},
   "outputs": [
    {
     "name": "stdout",
     "output_type": "stream",
     "text": [
      "/home/carlos/WORKSPACE/TFG-DeteccionFototrampeo\n",
      "/home/carlos/WORKSPACE/TFG-DeteccionFototrampeo\n",
      "/home/carlos/WORKSPACE/TFG-DeteccionFototrampeo/repos/ai4eutils\n",
      "/home/carlos/WORKSPACE/TFG-DeteccionFototrampeo/repos\n"
     ]
    }
   ],
   "source": [
    "import os\n",
    "\n",
    "workspacePATH = os.path.abspath(os.getcwd())\n",
    "\n",
    "ai4eutilsPATH = os.path.join(workspacePATH,'repos','ai4eutils')\n",
    "CameraTraps = os.path.join(workspacePATH,'repos','CameraTraps')\n",
    "\n",
    "\n",
    "\n",
    "repos=os.path.join(absolutepath,'repos','ai4eutils')\n",
    "print(repos)\n",
    "\n",
    "\n",
    "ai4eutils=os.path.abspath('repos')\n",
    "print(ai4eutils)\n",
    "CameraTraps=os.path.abspath('')\n",
    "\n",
    "#os.environ['PYTHONPATH'] += \":/Users/carlos/WORKSPACE/TFG-Repositorio/MegaDetector/repos/ai4eutils\"\n",
    "#os.environ['PYTHONPATH'] += \":/Users/carlos/WORKSPACE/TFG-Repositorio/MegaDetector/repos/CameraTraps\"\n",
    "\n",
    "#!echo \"PYTHONPATH: $PYTHONPATH\""
   ]
  }
 ],
 "metadata": {
  "language_info": {
   "name": "python"
  },
  "orig_nbformat": 4
 },
 "nbformat": 4,
 "nbformat_minor": 2
}
