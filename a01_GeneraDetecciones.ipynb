{
 "cells": [
  {
   "cell_type": "code",
   "execution_count": 2,
   "metadata": {},
   "outputs": [
    {
     "name": "stdout",
     "output_type": "stream",
     "text": [
      "=======================================================================================================================================\n",
      "PYTHONPATH: ;d:\\WORKSPACE\\TFG-DeteccionFototrampeo\\repos\\ai4eutils;d:\\WORKSPACE\\TFG-DeteccionFototrampeo\\repos\\CameraTraps;d:\\WORKSPACE\\TFG-DeteccionFototrampeo\\repos\\ai4eutils;d:\\WORKSPACE\\TFG-DeteccionFototrampeo\\repos\\CameraTraps\n",
      "ai4eutils PATH: d:\\WORKSPACE\\TFG-DeteccionFototrampeo\\repos\\ai4eutils\n",
      "CameraTraps PATH: d:\\WORKSPACE\\TFG-DeteccionFototrampeo\\repos\\CameraTraps\n",
      "input PATH: d:\\WORKSPACE\\TFG-DeteccionFototrampeo\\input\n",
      "output_file_path: d:\\WORKSPACE\\TFG-DeteccionFototrampeo\\output_tmp\\2022-06-08_13-47.json\n",
      "output PATH: d:\\WORKSPACE\\TFG-DeteccionFototrampeo\\output\n",
      "modelo: d:\\WORKSPACE\\TFG-DeteccionFototrampeo\\models\\megadetector_v4_1_0.pb\n",
      "=======================================================================================================================================\n",
      "Version de TENSORFLOW: 2.3.0\n",
      "Configuracion de GPU:\n"
     ]
    },
    {
     "data": {
      "text/plain": [
       "[PhysicalDevice(name='/physical_device:GPU:0', device_type='GPU')]"
      ]
     },
     "execution_count": 2,
     "metadata": {},
     "output_type": "execute_result"
    }
   ],
   "source": [
    "import os\n",
    "import platform\n",
    "import tensorflow as tf\n",
    "\n",
    "from datetime import datetime\n",
    "now = datetime.now()\n",
    "\n",
    "#########################################################################################################################################################\n",
    "# PARAMETROS DEFINIDOS EN FUNCION DEL USUARIO\n",
    "\n",
    "# Ruta relativa hacia la librería ai4eutils\n",
    "ai4eutils_relative = \"./repos/ai4eutils\"\n",
    "\n",
    "# Ruta relativa hacia la librería CameraTraps\n",
    "CameraTraps_relative = \"./repos/CameraTraps\"\n",
    "\n",
    "# Ruta relativa hacia carpeta de imagenes de entrada\n",
    "images_dir_relative = './input'\n",
    "\n",
    "# Ruta relativa y nombre del fichero JSON de salida\n",
    "output_file_path_relative = ''\n",
    "# Si se desea generar de forma automatica en cada ejecución descomentar:\n",
    "output_file_path_relative = ('./output_tmp/' + str(now.date()) + '_' + str(now.hour) + '-' + str(now.minute) + '.json')\n",
    "\n",
    "# Ruta relativa a carpeta de imagenes de salida\n",
    "visualization_dir_relative = './output'\n",
    "\n",
    "# Ruta relativa al modelo\n",
    "model_relative = './models/megadetector_v4_1_0.pb'\n",
    "\n",
    "#########################################################################################################################################################\n",
    "\n",
    "home = os.path.expanduser(\"~\")\n",
    "\n",
    "ai4utils = os.path.abspath(ai4eutils_relative)\n",
    "CameraTraps = os.path.abspath(CameraTraps_relative)\n",
    "images_dir = os.path.abspath(images_dir_relative)\n",
    "output_file_path = os.path.abspath(output_file_path_relative)\n",
    "visualization_dir = os.path.abspath(visualization_dir_relative)\n",
    "model = os.path.abspath(model_relative)\n",
    "\n",
    "try:\n",
    "    os.environ['PYTHONPATH']\n",
    "except KeyError:\n",
    "    os.environ['PYTHONPATH'] = \"\"\n",
    "if platform.system() == 'Windows':\n",
    "    os.environ['PYTHONPATH'] += (\";\" + ai4utils)\n",
    "    os.environ['PYTHONPATH'] += (\";\" + CameraTraps)\n",
    "else:\n",
    "    os.environ['PYTHONPATH'] += (\":\" + ai4utils)\n",
    "    os.environ['PYTHONPATH'] += (\":\" + CameraTraps)\n",
    "\n",
    "print('=======================================================================================================================================')\n",
    "print('PYTHONPATH: ' + os.environ['PYTHONPATH'])\n",
    "print('ai4eutils PATH: ' + ai4utils)\n",
    "print('CameraTraps PATH: ' + CameraTraps)\n",
    "print('input PATH: ' + images_dir)\n",
    "print('output_file_path: ' + output_file_path)\n",
    "print('output PATH: ' + visualization_dir)\n",
    "print('modelo: ' + model)\n",
    "print('=======================================================================================================================================')\n",
    "print('Version de TENSORFLOW: ' + tf.__version__)\n",
    "print('Configuracion de GPU:')\n",
    "tf.config.list_physical_devices('GPU')\n"
   ]
  },
  {
   "cell_type": "code",
   "execution_count": 8,
   "metadata": {},
   "outputs": [
    {
     "name": "stdout",
     "output_type": "stream",
     "text": [
      "TensorFlow version: 2.3.0\n",
      "Is GPU available? tf.test.is_gpu_available: True\n"
     ]
    },
    {
     "name": "stderr",
     "output_type": "stream",
     "text": [
      "2022-06-08 13:52:25.620774: I tensorflow/stream_executor/platform/default/dso_loader.cc:48] Successfully opened dynamic library cudart64_101.dll\n",
      "WARNING:tensorflow:From ./modules/tf_detector.py:39: is_gpu_available (from tensorflow.python.framework.test_util) is deprecated and will be removed in a future version.\n",
      "Instructions for updating:\n",
      "Use `tf.config.list_physical_devices('GPU')` instead.\n",
      "2022-06-08 13:52:27.548430: I tensorflow/core/platform/cpu_feature_guard.cc:142] This TensorFlow binary is optimized with oneAPI Deep Neural Network Library (oneDNN)to use the following CPU instructions in performance-critical operations:  AVX2\n",
      "To enable them in other operations, rebuild TensorFlow with the appropriate compiler flags.\n",
      "2022-06-08 13:52:27.558766: I tensorflow/compiler/xla/service/service.cc:168] XLA service 0x24d10727a80 initialized for platform Host (this does not guarantee that XLA will be used). Devices:\n",
      "2022-06-08 13:52:27.559068: I tensorflow/compiler/xla/service/service.cc:176]   StreamExecutor device (0): Host, Default Version\n",
      "2022-06-08 13:52:27.561254: I tensorflow/stream_executor/platform/default/dso_loader.cc:48] Successfully opened dynamic library nvcuda.dll\n",
      "2022-06-08 13:52:28.383595: I tensorflow/core/common_runtime/gpu/gpu_device.cc:1716] Found device 0 with properties: \n",
      "pciBusID: 0000:01:00.0 name: GeForce GTX 1050 Ti with Max-Q Design computeCapability: 6.1\n",
      "coreClock: 1.2905GHz coreCount: 6 deviceMemorySize: 4.00GiB deviceMemoryBandwidth: 104.43GiB/s\n",
      "2022-06-08 13:52:28.384027: I tensorflow/stream_executor/platform/default/dso_loader.cc:48] Successfully opened dynamic library cudart64_101.dll\n",
      "2022-06-08 13:52:28.387432: I tensorflow/stream_executor/platform/default/dso_loader.cc:48] Successfully opened dynamic library cublas64_10.dll\n",
      "2022-06-08 13:52:28.390462: I tensorflow/stream_executor/platform/default/dso_loader.cc:48] Successfully opened dynamic library cufft64_10.dll\n",
      "2022-06-08 13:52:28.391566: I tensorflow/stream_executor/platform/default/dso_loader.cc:48] Successfully opened dynamic library curand64_10.dll\n",
      "2022-06-08 13:52:28.398007: I tensorflow/stream_executor/platform/default/dso_loader.cc:48] Successfully opened dynamic library cusolver64_10.dll\n",
      "2022-06-08 13:52:28.400101: I tensorflow/stream_executor/platform/default/dso_loader.cc:48] Successfully opened dynamic library cusparse64_10.dll\n",
      "2022-06-08 13:52:28.406683: I tensorflow/stream_executor/platform/default/dso_loader.cc:48] Successfully opened dynamic library cudnn64_7.dll\n",
      "2022-06-08 13:52:28.406981: I tensorflow/core/common_runtime/gpu/gpu_device.cc:1858] Adding visible gpu devices: 0\n",
      "2022-06-08 13:52:29.030298: I tensorflow/core/common_runtime/gpu/gpu_device.cc:1257] Device interconnect StreamExecutor with strength 1 edge matrix:\n",
      "2022-06-08 13:52:29.030525: I tensorflow/core/common_runtime/gpu/gpu_device.cc:1263]      0 \n",
      "2022-06-08 13:52:29.030651: I tensorflow/core/common_runtime/gpu/gpu_device.cc:1276] 0:   N \n",
      "2022-06-08 13:52:29.030986: I tensorflow/core/common_runtime/gpu/gpu_device.cc:1402] Created TensorFlow device (/device:GPU:0 with 2984 MB memory) -> physical GPU (device: 0, name: GeForce GTX 1050 Ti with Max-Q Design, pci bus id: 0000:01:00.0, compute capability: 6.1)\n",
      "2022-06-08 13:52:29.034258: I tensorflow/compiler/xla/service/service.cc:168] XLA service 0x24d308049e0 initialized for platform CUDA (this does not guarantee that XLA will be used). Devices:\n",
      "2022-06-08 13:52:29.034515: I tensorflow/compiler/xla/service/service.cc:176]   StreamExecutor device (0): GeForce GTX 1050 Ti with Max-Q Design, Compute Capability 6.1\n",
      "Traceback (most recent call last):\n",
      "  File \"./modules/tf_detector.py\", line 272, in <module>\n",
      "    render_confidence_threshold=TFDetector.DEFAULT_RENDERING_CONFIDENCE_THRESHOLD,\n",
      "NameError: name 'TFDetector' is not defined\n"
     ]
    }
   ],
   "source": [
    "!python ./modules/tf_detector.py \"$model\" \"$images_dir\" \"$output_file_path\" --recursive"
   ]
  },
  {
   "cell_type": "code",
   "execution_count": null,
   "metadata": {},
   "outputs": [],
   "source": []
  },
  {
   "cell_type": "code",
   "execution_count": null,
   "metadata": {},
   "outputs": [],
   "source": [
    "import os\n",
    "from PIL import Image\n",
    "\n",
    "for viz_file_name in os.listdir(visualization_dir):\n",
    "  print(viz_file_name)\n",
    "  im = Image.open(os.path.join(visualization_dir, viz_file_name))\n",
    "  display(im)"
   ]
  }
 ],
 "metadata": {
  "interpreter": {
   "hash": "5781d4d123495c858c015b7c66daac8fcf47e8d083aea67d0f04bc4616f08c49"
  },
  "kernelspec": {
   "display_name": "Python 3.8.13 ('tf_gpu')",
   "language": "python",
   "name": "python3"
  },
  "language_info": {
   "codemirror_mode": {
    "name": "ipython",
    "version": 3
   },
   "file_extension": ".py",
   "mimetype": "text/x-python",
   "name": "python",
   "nbconvert_exporter": "python",
   "pygments_lexer": "ipython3",
   "version": "3.8.13"
  },
  "orig_nbformat": 4
 },
 "nbformat": 4,
 "nbformat_minor": 2
}
