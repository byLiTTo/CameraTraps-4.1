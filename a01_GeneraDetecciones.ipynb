{
 "cells": [
  {
   "cell_type": "code",
   "execution_count": 10,
   "metadata": {},
   "outputs": [
    {
     "name": "stdout",
     "output_type": "stream",
     "text": [
      "=======================================================================================================================================\n",
      "PYTHONPATH: ;d:\\WORKSPACE\\TFG-DeteccionFototrampeo\\repos\\ai4eutils;d:\\WORKSPACE\\TFG-DeteccionFototrampeo\\repos\\CameraTraps;d:\\WORKSPACE\\TFG-DeteccionFototrampeo\\repos\\ai4eutils;d:\\WORKSPACE\\TFG-DeteccionFototrampeo\\repos\\CameraTraps;d:\\WORKSPACE\\TFG-DeteccionFototrampeo\\repos\\ai4eutils;d:\\WORKSPACE\\TFG-DeteccionFototrampeo\\repos\\CameraTraps;d:\\WORKSPACE\\TFG-DeteccionFototrampeo\\repos\\ai4eutils;d:\\WORKSPACE\\TFG-DeteccionFototrampeo\\repos\\CameraTraps\n",
      "ai4eutils PATH: d:\\WORKSPACE\\TFG-DeteccionFototrampeo\\repos\\ai4eutils\n",
      "CameraTraps PATH: d:\\WORKSPACE\\TFG-DeteccionFototrampeo\\repos\\CameraTraps\n",
      "input PATH: d:\\WORKSPACE\\TFG-DeteccionFototrampeo\\input\\1.jpg\n",
      "output_file_path: d:\\WORKSPACE\\TFG-DeteccionFototrampeo\\output_tmp\\2022-06-09_11-59.json\n",
      "output PATH: d:\\WORKSPACE\\TFG-DeteccionFototrampeo\\output\n",
      "modelo: d:\\WORKSPACE\\TFG-DeteccionFototrampeo\\models\\megadetector_v4_1_0.pb\n",
      "=======================================================================================================================================\n",
      "Version de TENSORFLOW: 2.3.0\n",
      "Configuracion de GPU:\n"
     ]
    },
    {
     "data": {
      "text/plain": [
       "[PhysicalDevice(name='/physical_device:GPU:0', device_type='GPU')]"
      ]
     },
     "execution_count": 10,
     "metadata": {},
     "output_type": "execute_result"
    }
   ],
   "source": [
    "import os\n",
    "import platform\n",
    "import tensorflow as tf\n",
    "\n",
    "from datetime import datetime\n",
    "now = datetime.now()\n",
    "\n",
    "#########################################################################################################################################################\n",
    "# PARAMETROS DEFINIDOS EN FUNCION DEL USUARIO\n",
    "\n",
    "# Ruta relativa hacia la librería ai4eutils\n",
    "ai4eutils_relative = \"./repos/ai4eutils\"\n",
    "\n",
    "# Ruta relativa hacia la librería CameraTraps\n",
    "CameraTraps_relative = \"./repos/CameraTraps\"\n",
    "\n",
    "# Ruta relativa hacia carpeta de imagenes de entrada\n",
    "images_dir_relative = './input/10.jpg'\n",
    "\n",
    "# Ruta relativa y nombre del fichero JSON de salida\n",
    "output_file_path_relative = ''\n",
    "# Si se desea generar de forma automatica en cada ejecución descomentar:\n",
    "output_file_path_relative = ('./output_tmp/' + str(now.date()) + '_' + str(now.hour) + '-' + str(now.minute) + '.json')\n",
    "\n",
    "# Ruta relativa a carpeta de imagenes de salida\n",
    "visualization_dir_relative = './output'\n",
    "\n",
    "# Ruta relativa al modelo\n",
    "model_relative = './models/megadetector_v4_1_0.pb'\n",
    "\n",
    "#########################################################################################################################################################\n",
    "\n",
    "home = os.path.expanduser(\"~\")\n",
    "\n",
    "ai4utils = os.path.abspath(ai4eutils_relative)\n",
    "CameraTraps = os.path.abspath(CameraTraps_relative)\n",
    "images_dir = os.path.abspath(images_dir_relative)\n",
    "output_file_path = os.path.abspath(output_file_path_relative)\n",
    "visualization_dir = os.path.abspath(visualization_dir_relative)\n",
    "model = os.path.abspath(model_relative)\n",
    "\n",
    "try:\n",
    "    os.environ['PYTHONPATH']\n",
    "except KeyError:\n",
    "    os.environ['PYTHONPATH'] = \"\"\n",
    "if platform.system() == 'Windows':\n",
    "    os.environ['PYTHONPATH'] += (\";\" + ai4utils)\n",
    "    os.environ['PYTHONPATH'] += (\";\" + CameraTraps)\n",
    "else:\n",
    "    os.environ['PYTHONPATH'] += (\":\" + ai4utils)\n",
    "    os.environ['PYTHONPATH'] += (\":\" + CameraTraps)\n",
    "\n",
    "print('=======================================================================================================================================')\n",
    "print('PYTHONPATH: ' + os.environ['PYTHONPATH'])\n",
    "print('ai4eutils PATH: ' + ai4utils)\n",
    "print('CameraTraps PATH: ' + CameraTraps)\n",
    "print('input PATH: ' + images_dir)\n",
    "print('output_file_path: ' + output_file_path)\n",
    "print('output PATH: ' + visualization_dir)\n",
    "print('modelo: ' + model)\n",
    "print('=======================================================================================================================================')\n",
    "print('Version de TENSORFLOW: ' + tf.__version__)\n",
    "print('Configuracion de GPU:')\n",
    "tf.config.list_physical_devices('GPU')\n"
   ]
  },
  {
   "cell_type": "code",
   "execution_count": 11,
   "metadata": {},
   "outputs": [
    {
     "name": "stdout",
     "output_type": "stream",
     "text": [
      "TensorFlow version: 2.3.0\n",
      "Is GPU available? tf.test.is_gpu_available: True\n",
      "Running detector on 1 images...\n",
      "TFDetector: Loading graph...\n",
      "TFDetector: Detection graph loaded.\n",
      "Loaded model in 10.43 seconds\n",
      "Visualizing results on the image d:\\WORKSPACE\\TFG-DeteccionFototrampeo\\input\\1.jpg failed. Exception: list indices must be integers or slices, not str\n",
      "On average, for each image,\n",
      "- loading took 0.02 seconds, std dev is not available\n",
      "- inference took 17.5 seconds, std dev is not available\n"
     ]
    },
    {
     "name": "stderr",
     "output_type": "stream",
     "text": [
      "2022-06-09 11:59:44.055014: I tensorflow/stream_executor/platform/default/dso_loader.cc:48] Successfully opened dynamic library cudart64_101.dll\n",
      "WARNING:tensorflow:From ./modules/tf_detector.py:43: is_gpu_available (from tensorflow.python.framework.test_util) is deprecated and will be removed in a future version.\n",
      "Instructions for updating:\n",
      "Use `tf.config.list_physical_devices('GPU')` instead.\n",
      "2022-06-09 11:59:45.978637: I tensorflow/core/platform/cpu_feature_guard.cc:142] This TensorFlow binary is optimized with oneAPI Deep Neural Network Library (oneDNN)to use the following CPU instructions in performance-critical operations:  AVX2\n",
      "To enable them in other operations, rebuild TensorFlow with the appropriate compiler flags.\n",
      "2022-06-09 11:59:45.989417: I tensorflow/compiler/xla/service/service.cc:168] XLA service 0x212cbad4870 initialized for platform Host (this does not guarantee that XLA will be used). Devices:\n",
      "2022-06-09 11:59:45.989767: I tensorflow/compiler/xla/service/service.cc:176]   StreamExecutor device (0): Host, Default Version\n",
      "2022-06-09 11:59:45.992211: I tensorflow/stream_executor/platform/default/dso_loader.cc:48] Successfully opened dynamic library nvcuda.dll\n",
      "2022-06-09 11:59:46.813970: I tensorflow/core/common_runtime/gpu/gpu_device.cc:1716] Found device 0 with properties: \n",
      "pciBusID: 0000:01:00.0 name: GeForce GTX 1050 Ti with Max-Q Design computeCapability: 6.1\n",
      "coreClock: 1.2905GHz coreCount: 6 deviceMemorySize: 4.00GiB deviceMemoryBandwidth: 104.43GiB/s\n",
      "2022-06-09 11:59:46.814403: I tensorflow/stream_executor/platform/default/dso_loader.cc:48] Successfully opened dynamic library cudart64_101.dll\n",
      "2022-06-09 11:59:46.817763: I tensorflow/stream_executor/platform/default/dso_loader.cc:48] Successfully opened dynamic library cublas64_10.dll\n",
      "2022-06-09 11:59:46.820473: I tensorflow/stream_executor/platform/default/dso_loader.cc:48] Successfully opened dynamic library cufft64_10.dll\n",
      "2022-06-09 11:59:46.821357: I tensorflow/stream_executor/platform/default/dso_loader.cc:48] Successfully opened dynamic library curand64_10.dll\n",
      "2022-06-09 11:59:46.824836: I tensorflow/stream_executor/platform/default/dso_loader.cc:48] Successfully opened dynamic library cusolver64_10.dll\n",
      "2022-06-09 11:59:46.826767: I tensorflow/stream_executor/platform/default/dso_loader.cc:48] Successfully opened dynamic library cusparse64_10.dll\n",
      "2022-06-09 11:59:46.833382: I tensorflow/stream_executor/platform/default/dso_loader.cc:48] Successfully opened dynamic library cudnn64_7.dll\n",
      "2022-06-09 11:59:46.833669: I tensorflow/core/common_runtime/gpu/gpu_device.cc:1858] Adding visible gpu devices: 0\n",
      "2022-06-09 11:59:47.339229: I tensorflow/core/common_runtime/gpu/gpu_device.cc:1257] Device interconnect StreamExecutor with strength 1 edge matrix:\n",
      "2022-06-09 11:59:47.339455: I tensorflow/core/common_runtime/gpu/gpu_device.cc:1263]      0 \n",
      "2022-06-09 11:59:47.339578: I tensorflow/core/common_runtime/gpu/gpu_device.cc:1276] 0:   N \n",
      "2022-06-09 11:59:47.339858: I tensorflow/core/common_runtime/gpu/gpu_device.cc:1402] Created TensorFlow device (/device:GPU:0 with 2984 MB memory) -> physical GPU (device: 0, name: GeForce GTX 1050 Ti with Max-Q Design, pci bus id: 0000:01:00.0, compute capability: 6.1)\n",
      "2022-06-09 11:59:47.342880: I tensorflow/compiler/xla/service/service.cc:168] XLA service 0x212eb6482f0 initialized for platform CUDA (this does not guarantee that XLA will be used). Devices:\n",
      "2022-06-09 11:59:47.343146: I tensorflow/compiler/xla/service/service.cc:176]   StreamExecutor device (0): GeForce GTX 1050 Ti with Max-Q Design, Compute Capability 6.1\n",
      "2022-06-09 11:59:57.670314: I tensorflow/core/common_runtime/gpu/gpu_device.cc:1716] Found device 0 with properties: \n",
      "pciBusID: 0000:01:00.0 name: GeForce GTX 1050 Ti with Max-Q Design computeCapability: 6.1\n",
      "coreClock: 1.2905GHz coreCount: 6 deviceMemorySize: 4.00GiB deviceMemoryBandwidth: 104.43GiB/s\n",
      "2022-06-09 11:59:57.670765: I tensorflow/stream_executor/platform/default/dso_loader.cc:48] Successfully opened dynamic library cudart64_101.dll\n",
      "2022-06-09 11:59:57.670967: I tensorflow/stream_executor/platform/default/dso_loader.cc:48] Successfully opened dynamic library cublas64_10.dll\n",
      "2022-06-09 11:59:57.671215: I tensorflow/stream_executor/platform/default/dso_loader.cc:48] Successfully opened dynamic library cufft64_10.dll\n",
      "2022-06-09 11:59:57.671466: I tensorflow/stream_executor/platform/default/dso_loader.cc:48] Successfully opened dynamic library curand64_10.dll\n",
      "2022-06-09 11:59:57.671675: I tensorflow/stream_executor/platform/default/dso_loader.cc:48] Successfully opened dynamic library cusolver64_10.dll\n",
      "2022-06-09 11:59:57.671947: I tensorflow/stream_executor/platform/default/dso_loader.cc:48] Successfully opened dynamic library cusparse64_10.dll\n",
      "2022-06-09 11:59:57.672210: I tensorflow/stream_executor/platform/default/dso_loader.cc:48] Successfully opened dynamic library cudnn64_7.dll\n",
      "2022-06-09 11:59:57.672471: I tensorflow/core/common_runtime/gpu/gpu_device.cc:1858] Adding visible gpu devices: 0\n",
      "2022-06-09 11:59:57.673228: I tensorflow/core/common_runtime/gpu/gpu_device.cc:1716] Found device 0 with properties: \n",
      "pciBusID: 0000:01:00.0 name: GeForce GTX 1050 Ti with Max-Q Design computeCapability: 6.1\n",
      "coreClock: 1.2905GHz coreCount: 6 deviceMemorySize: 4.00GiB deviceMemoryBandwidth: 104.43GiB/s\n",
      "2022-06-09 11:59:57.673628: I tensorflow/stream_executor/platform/default/dso_loader.cc:48] Successfully opened dynamic library cudart64_101.dll\n",
      "2022-06-09 11:59:57.673819: I tensorflow/stream_executor/platform/default/dso_loader.cc:48] Successfully opened dynamic library cublas64_10.dll\n",
      "2022-06-09 11:59:57.674003: I tensorflow/stream_executor/platform/default/dso_loader.cc:48] Successfully opened dynamic library cufft64_10.dll\n",
      "2022-06-09 11:59:57.674182: I tensorflow/stream_executor/platform/default/dso_loader.cc:48] Successfully opened dynamic library curand64_10.dll\n",
      "2022-06-09 11:59:57.674366: I tensorflow/stream_executor/platform/default/dso_loader.cc:48] Successfully opened dynamic library cusolver64_10.dll\n",
      "2022-06-09 11:59:57.674552: I tensorflow/stream_executor/platform/default/dso_loader.cc:48] Successfully opened dynamic library cusparse64_10.dll\n",
      "2022-06-09 11:59:57.674738: I tensorflow/stream_executor/platform/default/dso_loader.cc:48] Successfully opened dynamic library cudnn64_7.dll\n",
      "2022-06-09 11:59:57.674957: I tensorflow/core/common_runtime/gpu/gpu_device.cc:1858] Adding visible gpu devices: 0\n",
      "2022-06-09 11:59:57.675134: I tensorflow/core/common_runtime/gpu/gpu_device.cc:1257] Device interconnect StreamExecutor with strength 1 edge matrix:\n",
      "2022-06-09 11:59:57.675325: I tensorflow/core/common_runtime/gpu/gpu_device.cc:1263]      0 \n",
      "2022-06-09 11:59:57.675443: I tensorflow/core/common_runtime/gpu/gpu_device.cc:1276] 0:   N \n",
      "2022-06-09 11:59:57.771190: I tensorflow/core/common_runtime/gpu/gpu_device.cc:1402] Created TensorFlow device (/job:localhost/replica:0/task:0/device:GPU:0 with 2984 MB memory) -> physical GPU (device: 0, name: GeForce GTX 1050 Ti with Max-Q Design, pci bus id: 0000:01:00.0, compute capability: 6.1)\n",
      "\n",
      "  0%|          | 0/1 [00:00<?, ?it/s]2022-06-09 12:00:07.949405: I tensorflow/stream_executor/platform/default/dso_loader.cc:48] Successfully opened dynamic library cublas64_10.dll\n",
      "2022-06-09 12:00:08.160636: I tensorflow/stream_executor/platform/default/dso_loader.cc:48] Successfully opened dynamic library cudnn64_7.dll\n",
      "2022-06-09 12:00:08.798723: W tensorflow/stream_executor/gpu/redzone_allocator.cc:314] Internal: Invoking GPU asm compilation is supported on Cuda non-Windows platforms only\n",
      "Relying on driver to perform ptx compilation. \n",
      "Modify $PATH to customize ptxas location.\n",
      "This message will be only logged once.\n",
      "2022-06-09 12:00:11.453562: W tensorflow/core/common_runtime/bfc_allocator.cc:246] Allocator (GPU_0_bfc) ran out of memory trying to allocate 3.13GiB with freed_by_count=0. The caller indicates that this is not a failure, but may mean that there could be performance gains if more memory were available.\n",
      "2022-06-09 12:00:13.135311: W tensorflow/core/common_runtime/bfc_allocator.cc:246] Allocator (GPU_0_bfc) ran out of memory trying to allocate 2.21GiB with freed_by_count=0. The caller indicates that this is not a failure, but may mean that there could be performance gains if more memory were available.\n",
      "2022-06-09 12:00:13.463062: W tensorflow/core/common_runtime/bfc_allocator.cc:246] Allocator (GPU_0_bfc) ran out of memory trying to allocate 2.31GiB with freed_by_count=0. The caller indicates that this is not a failure, but may mean that there could be performance gains if more memory were available.\n",
      "\n",
      "100%|██████████| 1/1 [00:17<00:00, 17.52s/it]\n",
      "100%|██████████| 1/1 [00:17<00:00, 17.52s/it]\n"
     ]
    }
   ],
   "source": [
    "!python ./modules/tf_detector.py \"$model\" --image_file \"$images_dir\" --output_dir \"$visualization_dir_relative\" --crop"
   ]
  },
  {
   "cell_type": "code",
   "execution_count": null,
   "metadata": {},
   "outputs": [],
   "source": []
  },
  {
   "cell_type": "code",
   "execution_count": 6,
   "metadata": {},
   "outputs": [
    {
     "name": "stdout",
     "output_type": "stream",
     "text": [
      ".gitkepp\n"
     ]
    },
    {
     "ename": "UnidentifiedImageError",
     "evalue": "cannot identify image file 'd:\\\\WORKSPACE\\\\TFG-DeteccionFototrampeo\\\\output\\\\.gitkepp'",
     "output_type": "error",
     "traceback": [
      "\u001b[1;31m---------------------------------------------------------------------------\u001b[0m",
      "\u001b[1;31mUnidentifiedImageError\u001b[0m                    Traceback (most recent call last)",
      "\u001b[1;32md:\\WORKSPACE\\TFG-DeteccionFototrampeo\\a01_GeneraDetecciones.ipynb Cell 4'\u001b[0m in \u001b[0;36m<cell line: 4>\u001b[1;34m()\u001b[0m\n\u001b[0;32m      <a href='vscode-notebook-cell:/d%3A/WORKSPACE/TFG-DeteccionFototrampeo/a01_GeneraDetecciones.ipynb#ch0000003?line=3'>4</a>\u001b[0m \u001b[39mfor\u001b[39;00m viz_file_name \u001b[39min\u001b[39;00m os\u001b[39m.\u001b[39mlistdir(visualization_dir):\n\u001b[0;32m      <a href='vscode-notebook-cell:/d%3A/WORKSPACE/TFG-DeteccionFototrampeo/a01_GeneraDetecciones.ipynb#ch0000003?line=4'>5</a>\u001b[0m   \u001b[39mprint\u001b[39m(viz_file_name)\n\u001b[1;32m----> <a href='vscode-notebook-cell:/d%3A/WORKSPACE/TFG-DeteccionFototrampeo/a01_GeneraDetecciones.ipynb#ch0000003?line=5'>6</a>\u001b[0m   im \u001b[39m=\u001b[39m Image\u001b[39m.\u001b[39;49mopen(os\u001b[39m.\u001b[39;49mpath\u001b[39m.\u001b[39;49mjoin(visualization_dir, viz_file_name))\n\u001b[0;32m      <a href='vscode-notebook-cell:/d%3A/WORKSPACE/TFG-DeteccionFototrampeo/a01_GeneraDetecciones.ipynb#ch0000003?line=6'>7</a>\u001b[0m   display(im)\n",
      "File \u001b[1;32mc:\\Users\\carlo\\.conda\\envs\\tf_gpu\\lib\\site-packages\\PIL\\Image.py:3008\u001b[0m, in \u001b[0;36mopen\u001b[1;34m(fp, mode, formats)\u001b[0m\n\u001b[0;32m   <a href='file:///c%3A/Users/carlo/.conda/envs/tf_gpu/lib/site-packages/PIL/Image.py?line=3005'>3006</a>\u001b[0m \u001b[39mfor\u001b[39;00m message \u001b[39min\u001b[39;00m accept_warnings:\n\u001b[0;32m   <a href='file:///c%3A/Users/carlo/.conda/envs/tf_gpu/lib/site-packages/PIL/Image.py?line=3006'>3007</a>\u001b[0m     warnings\u001b[39m.\u001b[39mwarn(message)\n\u001b[1;32m-> <a href='file:///c%3A/Users/carlo/.conda/envs/tf_gpu/lib/site-packages/PIL/Image.py?line=3007'>3008</a>\u001b[0m \u001b[39mraise\u001b[39;00m UnidentifiedImageError(\n\u001b[0;32m   <a href='file:///c%3A/Users/carlo/.conda/envs/tf_gpu/lib/site-packages/PIL/Image.py?line=3008'>3009</a>\u001b[0m     \u001b[39m\"\u001b[39m\u001b[39mcannot identify image file \u001b[39m\u001b[39m%r\u001b[39;00m\u001b[39m\"\u001b[39m \u001b[39m%\u001b[39m (filename \u001b[39mif\u001b[39;00m filename \u001b[39melse\u001b[39;00m fp)\n\u001b[0;32m   <a href='file:///c%3A/Users/carlo/.conda/envs/tf_gpu/lib/site-packages/PIL/Image.py?line=3009'>3010</a>\u001b[0m )\n",
      "\u001b[1;31mUnidentifiedImageError\u001b[0m: cannot identify image file 'd:\\\\WORKSPACE\\\\TFG-DeteccionFototrampeo\\\\output\\\\.gitkepp'"
     ]
    }
   ],
   "source": [
    "import os\n",
    "from PIL import Image\n",
    "\n",
    "for viz_file_name in os.listdir(visualization_dir):\n",
    "  print(viz_file_name)\n",
    "  im = Image.open(os.path.join(visualization_dir, viz_file_name))\n",
    "  display(im)"
   ]
  }
 ],
 "metadata": {
  "interpreter": {
   "hash": "5781d4d123495c858c015b7c66daac8fcf47e8d083aea67d0f04bc4616f08c49"
  },
  "kernelspec": {
   "display_name": "Python 3.8.13 ('tf_gpu')",
   "language": "python",
   "name": "python3"
  },
  "language_info": {
   "codemirror_mode": {
    "name": "ipython",
    "version": 3
   },
   "file_extension": ".py",
   "mimetype": "text/x-python",
   "name": "python",
   "nbconvert_exporter": "python",
   "pygments_lexer": "ipython3",
   "version": "3.8.13"
  },
  "orig_nbformat": 4
 },
 "nbformat": 4,
 "nbformat_minor": 2
}
