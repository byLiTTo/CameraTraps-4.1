{
 "cells": [
  {
   "cell_type": "code",
   "execution_count": 29,
   "metadata": {},
   "outputs": [
    {
     "name": "stdout",
     "output_type": "stream",
     "text": [
      "=======================================================================================================================================\n",
      "PYTHONPATH: ;d:\\WORKSPACE\\TFG-DeteccionFototrampeo\\repos\\ai4eutils;d:\\WORKSPACE\\TFG-DeteccionFototrampeo\\repos\\CameraTraps;d:\\WORKSPACE\\TFG-DeteccionFototrampeo\\repos\\ai4eutils;d:\\WORKSPACE\\TFG-DeteccionFototrampeo\\repos\\CameraTraps;d:\\WORKSPACE\\TFG-DeteccionFototrampeo\\repos\\ai4eutils;d:\\WORKSPACE\\TFG-DeteccionFototrampeo\\repos\\CameraTraps;d:\\WORKSPACE\\TFG-DeteccionFototrampeo\\repos\\ai4eutils;d:\\WORKSPACE\\TFG-DeteccionFototrampeo\\repos\\CameraTraps;d:\\WORKSPACE\\TFG-DeteccionFototrampeo\\repos\\ai4eutils;d:\\WORKSPACE\\TFG-DeteccionFototrampeo\\repos\\CameraTraps;d:\\WORKSPACE\\TFG-DeteccionFototrampeo\\repos\\ai4eutils;d:\\WORKSPACE\\TFG-DeteccionFototrampeo\\repos\\CameraTraps;d:\\WORKSPACE\\TFG-DeteccionFototrampeo\\repos\\ai4eutils;d:\\WORKSPACE\\TFG-DeteccionFototrampeo\\repos\\CameraTraps;d:\\WORKSPACE\\TFG-DeteccionFototrampeo\\repos\\ai4eutils;d:\\WORKSPACE\\TFG-DeteccionFototrampeo\\repos\\CameraTraps\n",
      "ai4eutils PATH: d:\\WORKSPACE\\TFG-DeteccionFototrampeo\\repos\\ai4eutils\n",
      "CameraTraps PATH: d:\\WORKSPACE\\TFG-DeteccionFototrampeo\\repos\\CameraTraps\n",
      "input PATH: d:\\WORKSPACE\\TFG-DeteccionFototrampeo\\input\\1.jpg\n",
      "output_file_path: d:\\WORKSPACE\\TFG-DeteccionFototrampeo\\output_json\\2022-06-27_18-31.json\n",
      "output PATH: d:\\WORKSPACE\\TFG-DeteccionFototrampeo\\output\n",
      "modelo: d:\\WORKSPACE\\TFG-DeteccionFototrampeo\\models\\megadetector_v4_1_0.pb\n",
      "=======================================================================================================================================\n",
      "Version de TENSORFLOW: 2.3.0\n",
      "Configuracion de GPU:\n"
     ]
    },
    {
     "data": {
      "text/plain": [
       "[PhysicalDevice(name='/physical_device:GPU:0', device_type='GPU')]"
      ]
     },
     "execution_count": 29,
     "metadata": {},
     "output_type": "execute_result"
    }
   ],
   "source": [
    "import os\n",
    "import platform\n",
    "import tensorflow as tf\n",
    "\n",
    "from datetime import datetime\n",
    "now = datetime.now()\n",
    "\n",
    "#########################################################################################################################################################\n",
    "# PARAMETROS DEFINIDOS EN FUNCION DEL USUARIO\n",
    "\n",
    "# Ruta relativa hacia la librería ai4eutils\n",
    "ai4eutils_relative = \"./repos/ai4eutils\"\n",
    "\n",
    "# Ruta relativa hacia la librería CameraTraps\n",
    "CameraTraps_relative = \"./repos/CameraTraps\"\n",
    "\n",
    "# Ruta relativa hacia carpeta de imagenes de entrada\n",
    "images_dir_relative = './input/1.jpg'\n",
    "\n",
    "# Ruta relativa y nombre del fichero JSON de salida\n",
    "output_file_path_relative = ''\n",
    "# Si se desea generar de forma automatica en cada ejecución descomentar:\n",
    "output_file_path_relative = ('./output_json/' + str(now.date()) + '_' + str(now.hour) + '-' + str(now.minute) + '.json')\n",
    "\n",
    "# Ruta relativa a carpeta de imagenes de salida\n",
    "visualization_dir_relative = './output'\n",
    "\n",
    "# Ruta relativa al modelo\n",
    "model_relative = './models/megadetector_v4_1_0.pb'\n",
    "\n",
    "#########################################################################################################################################################\n",
    "\n",
    "home = os.path.expanduser(\"~\")\n",
    "\n",
    "ai4utils = os.path.abspath(ai4eutils_relative)\n",
    "CameraTraps = os.path.abspath(CameraTraps_relative)\n",
    "images_dir = os.path.abspath(images_dir_relative)\n",
    "output_file_path = os.path.abspath(output_file_path_relative)\n",
    "visualization_dir = os.path.abspath(visualization_dir_relative)\n",
    "model = os.path.abspath(model_relative)\n",
    "\n",
    "try:\n",
    "    os.environ['PYTHONPATH']\n",
    "except KeyError:\n",
    "    os.environ['PYTHONPATH'] = \"\"\n",
    "if platform.system() == 'Windows':\n",
    "    os.environ['PYTHONPATH'] += (\";\" + ai4utils)\n",
    "    os.environ['PYTHONPATH'] += (\";\" + CameraTraps)\n",
    "else:\n",
    "    os.environ['PYTHONPATH'] += (\":\" + ai4utils)\n",
    "    os.environ['PYTHONPATH'] += (\":\" + CameraTraps)\n",
    "\n",
    "print('=======================================================================================================================================')\n",
    "print('PYTHONPATH: ' + os.environ['PYTHONPATH'])\n",
    "print('ai4eutils PATH: ' + ai4utils)\n",
    "print('CameraTraps PATH: ' + CameraTraps)\n",
    "print('input PATH: ' + images_dir)\n",
    "print('output_file_path: ' + output_file_path)\n",
    "print('output PATH: ' + visualization_dir)\n",
    "print('modelo: ' + model)\n",
    "print('=======================================================================================================================================')\n",
    "print('Version de TENSORFLOW: ' + tf.__version__)\n",
    "print('Configuracion de GPU:')\n",
    "tf.config.list_physical_devices('GPU')\n"
   ]
  },
  {
   "cell_type": "code",
   "execution_count": 30,
   "metadata": {},
   "outputs": [
    {
     "name": "stdout",
     "output_type": "stream",
     "text": [
      "TensorFlow version: 2.3.0\n",
      "Is GPU available? tf.test.is_gpu_available: True\n",
      "Running detector on 1 images...\n",
      "TFDetector: Loading graph...\n",
      "TFDetector: Detection graph loaded.\n",
      "Loaded model in 10.68 seconds\n",
      "TIEMPO:  18.092437982559204\n",
      "On average, for each image,\n",
      "- loading took 0.02 seconds, std dev is not available\n",
      "- inference took 18.09 seconds, std dev is not available\n"
     ]
    },
    {
     "name": "stderr",
     "output_type": "stream",
     "text": [
      "2022-06-27 18:31:11.995431: I tensorflow/stream_executor/platform/default/dso_loader.cc:48] Successfully opened dynamic library cudart64_101.dll\n",
      "WARNING:tensorflow:From ./modules/tf_detector_una_imagen.py:52: is_gpu_available (from tensorflow.python.framework.test_util) is deprecated and will be removed in a future version.\n",
      "Instructions for updating:\n",
      "Use `tf.config.list_physical_devices('GPU')` instead.\n",
      "2022-06-27 18:31:13.942328: I tensorflow/core/platform/cpu_feature_guard.cc:142] This TensorFlow binary is optimized with oneAPI Deep Neural Network Library (oneDNN)to use the following CPU instructions in performance-critical operations:  AVX2\n",
      "To enable them in other operations, rebuild TensorFlow with the appropriate compiler flags.\n",
      "2022-06-27 18:31:13.953082: I tensorflow/compiler/xla/service/service.cc:168] XLA service 0x1a173f039d0 initialized for platform Host (this does not guarantee that XLA will be used). Devices:\n",
      "2022-06-27 18:31:13.953510: I tensorflow/compiler/xla/service/service.cc:176]   StreamExecutor device (0): Host, Default Version\n",
      "2022-06-27 18:31:13.955939: I tensorflow/stream_executor/platform/default/dso_loader.cc:48] Successfully opened dynamic library nvcuda.dll\n",
      "2022-06-27 18:31:14.782109: I tensorflow/core/common_runtime/gpu/gpu_device.cc:1716] Found device 0 with properties: \n",
      "pciBusID: 0000:01:00.0 name: GeForce GTX 1050 Ti with Max-Q Design computeCapability: 6.1\n",
      "coreClock: 1.2905GHz coreCount: 6 deviceMemorySize: 4.00GiB deviceMemoryBandwidth: 104.43GiB/s\n",
      "2022-06-27 18:31:14.782549: I tensorflow/stream_executor/platform/default/dso_loader.cc:48] Successfully opened dynamic library cudart64_101.dll\n",
      "2022-06-27 18:31:14.785582: I tensorflow/stream_executor/platform/default/dso_loader.cc:48] Successfully opened dynamic library cublas64_10.dll\n",
      "2022-06-27 18:31:14.788616: I tensorflow/stream_executor/platform/default/dso_loader.cc:48] Successfully opened dynamic library cufft64_10.dll\n",
      "2022-06-27 18:31:14.789917: I tensorflow/stream_executor/platform/default/dso_loader.cc:48] Successfully opened dynamic library curand64_10.dll\n",
      "2022-06-27 18:31:14.793994: I tensorflow/stream_executor/platform/default/dso_loader.cc:48] Successfully opened dynamic library cusolver64_10.dll\n",
      "2022-06-27 18:31:14.796117: I tensorflow/stream_executor/platform/default/dso_loader.cc:48] Successfully opened dynamic library cusparse64_10.dll\n",
      "2022-06-27 18:31:14.802760: I tensorflow/stream_executor/platform/default/dso_loader.cc:48] Successfully opened dynamic library cudnn64_7.dll\n",
      "2022-06-27 18:31:14.803054: I tensorflow/core/common_runtime/gpu/gpu_device.cc:1858] Adding visible gpu devices: 0\n",
      "2022-06-27 18:31:15.318199: I tensorflow/core/common_runtime/gpu/gpu_device.cc:1257] Device interconnect StreamExecutor with strength 1 edge matrix:\n",
      "2022-06-27 18:31:15.318432: I tensorflow/core/common_runtime/gpu/gpu_device.cc:1263]      0 \n",
      "2022-06-27 18:31:15.318563: I tensorflow/core/common_runtime/gpu/gpu_device.cc:1276] 0:   N \n",
      "2022-06-27 18:31:15.318840: I tensorflow/core/common_runtime/gpu/gpu_device.cc:1402] Created TensorFlow device (/device:GPU:0 with 2984 MB memory) -> physical GPU (device: 0, name: GeForce GTX 1050 Ti with Max-Q Design, pci bus id: 0000:01:00.0, compute capability: 6.1)\n",
      "2022-06-27 18:31:15.322090: I tensorflow/compiler/xla/service/service.cc:168] XLA service 0x1a1120818e0 initialized for platform CUDA (this does not guarantee that XLA will be used). Devices:\n",
      "2022-06-27 18:31:15.322364: I tensorflow/compiler/xla/service/service.cc:176]   StreamExecutor device (0): GeForce GTX 1050 Ti with Max-Q Design, Compute Capability 6.1\n",
      "2022-06-27 18:31:25.900384: I tensorflow/core/common_runtime/gpu/gpu_device.cc:1716] Found device 0 with properties: \n",
      "pciBusID: 0000:01:00.0 name: GeForce GTX 1050 Ti with Max-Q Design computeCapability: 6.1\n",
      "coreClock: 1.2905GHz coreCount: 6 deviceMemorySize: 4.00GiB deviceMemoryBandwidth: 104.43GiB/s\n",
      "2022-06-27 18:31:25.901278: I tensorflow/stream_executor/platform/default/dso_loader.cc:48] Successfully opened dynamic library cudart64_101.dll\n",
      "2022-06-27 18:31:25.901699: I tensorflow/stream_executor/platform/default/dso_loader.cc:48] Successfully opened dynamic library cublas64_10.dll\n",
      "2022-06-27 18:31:25.902051: I tensorflow/stream_executor/platform/default/dso_loader.cc:48] Successfully opened dynamic library cufft64_10.dll\n",
      "2022-06-27 18:31:25.902341: I tensorflow/stream_executor/platform/default/dso_loader.cc:48] Successfully opened dynamic library curand64_10.dll\n",
      "2022-06-27 18:31:25.902560: I tensorflow/stream_executor/platform/default/dso_loader.cc:48] Successfully opened dynamic library cusolver64_10.dll\n",
      "2022-06-27 18:31:25.902772: I tensorflow/stream_executor/platform/default/dso_loader.cc:48] Successfully opened dynamic library cusparse64_10.dll\n",
      "2022-06-27 18:31:25.903035: I tensorflow/stream_executor/platform/default/dso_loader.cc:48] Successfully opened dynamic library cudnn64_7.dll\n",
      "2022-06-27 18:31:25.903359: I tensorflow/core/common_runtime/gpu/gpu_device.cc:1858] Adding visible gpu devices: 0\n",
      "2022-06-27 18:31:25.904150: I tensorflow/core/common_runtime/gpu/gpu_device.cc:1716] Found device 0 with properties: \n",
      "pciBusID: 0000:01:00.0 name: GeForce GTX 1050 Ti with Max-Q Design computeCapability: 6.1\n",
      "coreClock: 1.2905GHz coreCount: 6 deviceMemorySize: 4.00GiB deviceMemoryBandwidth: 104.43GiB/s\n",
      "2022-06-27 18:31:25.904594: I tensorflow/stream_executor/platform/default/dso_loader.cc:48] Successfully opened dynamic library cudart64_101.dll\n",
      "2022-06-27 18:31:25.904817: I tensorflow/stream_executor/platform/default/dso_loader.cc:48] Successfully opened dynamic library cublas64_10.dll\n",
      "2022-06-27 18:31:25.905045: I tensorflow/stream_executor/platform/default/dso_loader.cc:48] Successfully opened dynamic library cufft64_10.dll\n",
      "2022-06-27 18:31:25.905244: I tensorflow/stream_executor/platform/default/dso_loader.cc:48] Successfully opened dynamic library curand64_10.dll\n",
      "2022-06-27 18:31:25.905432: I tensorflow/stream_executor/platform/default/dso_loader.cc:48] Successfully opened dynamic library cusolver64_10.dll\n",
      "2022-06-27 18:31:25.905624: I tensorflow/stream_executor/platform/default/dso_loader.cc:48] Successfully opened dynamic library cusparse64_10.dll\n",
      "2022-06-27 18:31:25.905817: I tensorflow/stream_executor/platform/default/dso_loader.cc:48] Successfully opened dynamic library cudnn64_7.dll\n",
      "2022-06-27 18:31:25.906088: I tensorflow/core/common_runtime/gpu/gpu_device.cc:1858] Adding visible gpu devices: 0\n",
      "2022-06-27 18:31:25.906265: I tensorflow/core/common_runtime/gpu/gpu_device.cc:1257] Device interconnect StreamExecutor with strength 1 edge matrix:\n",
      "2022-06-27 18:31:25.906464: I tensorflow/core/common_runtime/gpu/gpu_device.cc:1263]      0 \n",
      "2022-06-27 18:31:25.906586: I tensorflow/core/common_runtime/gpu/gpu_device.cc:1276] 0:   N \n",
      "2022-06-27 18:31:26.003691: I tensorflow/core/common_runtime/gpu/gpu_device.cc:1402] Created TensorFlow device (/job:localhost/replica:0/task:0/device:GPU:0 with 2984 MB memory) -> physical GPU (device: 0, name: GeForce GTX 1050 Ti with Max-Q Design, pci bus id: 0000:01:00.0, compute capability: 6.1)\n",
      "\n",
      "  0%|          | 0/1 [00:00<?, ?it/s]2022-06-27 18:31:36.687480: I tensorflow/stream_executor/platform/default/dso_loader.cc:48] Successfully opened dynamic library cublas64_10.dll\n",
      "2022-06-27 18:31:36.905581: I tensorflow/stream_executor/platform/default/dso_loader.cc:48] Successfully opened dynamic library cudnn64_7.dll\n",
      "2022-06-27 18:31:37.593977: W tensorflow/stream_executor/gpu/redzone_allocator.cc:314] Internal: Invoking GPU asm compilation is supported on Cuda non-Windows platforms only\n",
      "Relying on driver to perform ptx compilation. \n",
      "Modify $PATH to customize ptxas location.\n",
      "This message will be only logged once.\n",
      "2022-06-27 18:31:40.261656: W tensorflow/core/common_runtime/bfc_allocator.cc:246] Allocator (GPU_0_bfc) ran out of memory trying to allocate 3.13GiB with freed_by_count=0. The caller indicates that this is not a failure, but may mean that there could be performance gains if more memory were available.\n",
      "2022-06-27 18:31:41.969253: W tensorflow/core/common_runtime/bfc_allocator.cc:246] Allocator (GPU_0_bfc) ran out of memory trying to allocate 2.21GiB with freed_by_count=0. The caller indicates that this is not a failure, but may mean that there could be performance gains if more memory were available.\n",
      "2022-06-27 18:31:42.294141: W tensorflow/core/common_runtime/bfc_allocator.cc:246] Allocator (GPU_0_bfc) ran out of memory trying to allocate 2.31GiB with freed_by_count=0. The caller indicates that this is not a failure, but may mean that there could be performance gains if more memory were available.\n",
      "\n",
      "100%|██████████| 1/1 [00:18<00:00, 18.13s/it]\n",
      "100%|██████████| 1/1 [00:18<00:00, 18.13s/it]\n"
     ]
    }
   ],
   "source": [
    "!python ./modules/tf_detector_una_imagen.py \"$model\" --image_file \"$images_dir\" --output_dir \"$visualization_dir_relative\""
   ]
  },
  {
   "cell_type": "code",
   "execution_count": 31,
   "metadata": {},
   "outputs": [
    {
     "name": "stdout",
     "output_type": "stream",
     "text": [
      "Version de TENSORFLOW: 2.3.0\n",
      "Configuracion de GPU:\n"
     ]
    },
    {
     "data": {
      "text/plain": [
       "[PhysicalDevice(name='/physical_device:GPU:0', device_type='GPU')]"
      ]
     },
     "execution_count": 31,
     "metadata": {},
     "output_type": "execute_result"
    }
   ],
   "source": [
    "import tensorflow as tf\n",
    "\n",
    "print('Version de TENSORFLOW: ' + tf.__version__)\n",
    "print('Configuracion de GPU:')\n",
    "tf.config.list_physical_devices('GPU')"
   ]
  },
  {
   "cell_type": "code",
   "execution_count": 32,
   "metadata": {},
   "outputs": [],
   "source": [
    "# import os\n",
    "# from PIL import Image\n",
    "\n",
    "# for viz_file_name in os.listdir(visualization_dir):\n",
    "#   print(viz_file_name)\n",
    "#   im = Image.open(os.path.join(visualization_dir, viz_file_name))\n",
    "#   display(im)"
   ]
  }
 ],
 "metadata": {
  "kernelspec": {
   "display_name": "Python 3.8.13 ('tf_gpu')",
   "language": "python",
   "name": "python3"
  },
  "language_info": {
   "codemirror_mode": {
    "name": "ipython",
    "version": 3
   },
   "file_extension": ".py",
   "mimetype": "text/x-python",
   "name": "python",
   "nbconvert_exporter": "python",
   "pygments_lexer": "ipython3",
   "version": "3.8.13"
  },
  "orig_nbformat": 4,
  "vscode": {
   "interpreter": {
    "hash": "5781d4d123495c858c015b7c66daac8fcf47e8d083aea67d0f04bc4616f08c49"
   }
  }
 },
 "nbformat": 4,
 "nbformat_minor": 2
}
