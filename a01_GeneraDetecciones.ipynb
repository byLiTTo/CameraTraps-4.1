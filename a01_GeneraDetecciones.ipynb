{
 "cells": [
  {
   "cell_type": "code",
   "execution_count": 44,
   "metadata": {},
   "outputs": [
    {
     "name": "stdout",
     "output_type": "stream",
     "text": [
      "=======================================================================================================================================\n",
      "PYTHONPATH: ;d:\\WORKSPACE\\TFG-DeteccionFototrampeo\\repos\\ai4eutils;d:\\WORKSPACE\\TFG-DeteccionFototrampeo\\repos\\CameraTraps;d:\\WORKSPACE\\TFG-DeteccionFototrampeo\\repos\\ai4eutils;d:\\WORKSPACE\\TFG-DeteccionFototrampeo\\repos\\CameraTraps;d:\\WORKSPACE\\TFG-DeteccionFototrampeo\\repos\\ai4eutils;d:\\WORKSPACE\\TFG-DeteccionFototrampeo\\repos\\CameraTraps;d:\\WORKSPACE\\TFG-DeteccionFototrampeo\\repos\\ai4eutils;d:\\WORKSPACE\\TFG-DeteccionFototrampeo\\repos\\CameraTraps;d:\\WORKSPACE\\TFG-DeteccionFototrampeo\\repos\\ai4eutils;d:\\WORKSPACE\\TFG-DeteccionFototrampeo\\repos\\CameraTraps;d:\\WORKSPACE\\TFG-DeteccionFototrampeo\\repos\\ai4eutils;d:\\WORKSPACE\\TFG-DeteccionFototrampeo\\repos\\CameraTraps;d:\\WORKSPACE\\TFG-DeteccionFototrampeo\\repos\\ai4eutils;d:\\WORKSPACE\\TFG-DeteccionFototrampeo\\repos\\CameraTraps;d:\\WORKSPACE\\TFG-DeteccionFototrampeo\\repos\\ai4eutils;d:\\WORKSPACE\\TFG-DeteccionFototrampeo\\repos\\CameraTraps;d:\\WORKSPACE\\TFG-DeteccionFototrampeo\\repos\\ai4eutils;d:\\WORKSPACE\\TFG-DeteccionFototrampeo\\repos\\CameraTraps;d:\\WORKSPACE\\TFG-DeteccionFototrampeo\\repos\\ai4eutils;d:\\WORKSPACE\\TFG-DeteccionFototrampeo\\repos\\CameraTraps;d:\\WORKSPACE\\TFG-DeteccionFototrampeo\\repos\\ai4eutils;d:\\WORKSPACE\\TFG-DeteccionFototrampeo\\repos\\CameraTraps;d:\\WORKSPACE\\TFG-DeteccionFototrampeo\\repos\\ai4eutils;d:\\WORKSPACE\\TFG-DeteccionFototrampeo\\repos\\CameraTraps;d:\\WORKSPACE\\TFG-DeteccionFototrampeo\\repos\\ai4eutils;d:\\WORKSPACE\\TFG-DeteccionFototrampeo\\repos\\CameraTraps;d:\\WORKSPACE\\TFG-DeteccionFototrampeo\\repos\\ai4eutils;d:\\WORKSPACE\\TFG-DeteccionFototrampeo\\repos\\CameraTraps;d:\\WORKSPACE\\TFG-DeteccionFototrampeo\\repos\\ai4eutils;d:\\WORKSPACE\\TFG-DeteccionFototrampeo\\repos\\CameraTraps;d:\\WORKSPACE\\TFG-DeteccionFototrampeo\\repos\\ai4eutils;d:\\WORKSPACE\\TFG-DeteccionFototrampeo\\repos\\CameraTraps\n",
      "ai4eutils PATH: d:\\WORKSPACE\\TFG-DeteccionFototrampeo\\repos\\ai4eutils\n",
      "CameraTraps PATH: d:\\WORKSPACE\\TFG-DeteccionFototrampeo\\repos\\CameraTraps\n",
      "input PATH: d:\\WORKSPACE\\TFG-DeteccionFototrampeo\\input\n",
      "output_file_path: d:\\WORKSPACE\\TFG-DeteccionFototrampeo\\output_tmp\\2022-06-09_13-32.json\n",
      "output PATH: d:\\WORKSPACE\\TFG-DeteccionFototrampeo\\output\n",
      "modelo: d:\\WORKSPACE\\TFG-DeteccionFototrampeo\\models\\megadetector_v4_1_0.pb\n",
      "=======================================================================================================================================\n",
      "Version de TENSORFLOW: 2.3.0\n",
      "Configuracion de GPU:\n"
     ]
    },
    {
     "data": {
      "text/plain": [
       "[PhysicalDevice(name='/physical_device:GPU:0', device_type='GPU')]"
      ]
     },
     "execution_count": 44,
     "metadata": {},
     "output_type": "execute_result"
    }
   ],
   "source": [
    "import os\n",
    "import platform\n",
    "import tensorflow as tf\n",
    "\n",
    "from datetime import datetime\n",
    "now = datetime.now()\n",
    "\n",
    "#########################################################################################################################################################\n",
    "# PARAMETROS DEFINIDOS EN FUNCION DEL USUARIO\n",
    "\n",
    "# Ruta relativa hacia la librería ai4eutils\n",
    "ai4eutils_relative = \"./repos/ai4eutils\"\n",
    "\n",
    "# Ruta relativa hacia la librería CameraTraps\n",
    "CameraTraps_relative = \"./repos/CameraTraps\"\n",
    "\n",
    "# Ruta relativa hacia carpeta de imagenes de entrada\n",
    "images_dir_relative = './input'\n",
    "\n",
    "# Ruta relativa y nombre del fichero JSON de salida\n",
    "output_file_path_relative = ''\n",
    "# Si se desea generar de forma automatica en cada ejecución descomentar:\n",
    "output_file_path_relative = ('./output_tmp/' + str(now.date()) + '_' + str(now.hour) + '-' + str(now.minute) + '.json')\n",
    "\n",
    "# Ruta relativa a carpeta de imagenes de salida\n",
    "visualization_dir_relative = './output'\n",
    "\n",
    "# Ruta relativa al modelo\n",
    "model_relative = './models/megadetector_v4_1_0.pb'\n",
    "\n",
    "#########################################################################################################################################################\n",
    "\n",
    "home = os.path.expanduser(\"~\")\n",
    "\n",
    "ai4utils = os.path.abspath(ai4eutils_relative)\n",
    "CameraTraps = os.path.abspath(CameraTraps_relative)\n",
    "images_dir = os.path.abspath(images_dir_relative)\n",
    "output_file_path = os.path.abspath(output_file_path_relative)\n",
    "visualization_dir = os.path.abspath(visualization_dir_relative)\n",
    "model = os.path.abspath(model_relative)\n",
    "\n",
    "try:\n",
    "    os.environ['PYTHONPATH']\n",
    "except KeyError:\n",
    "    os.environ['PYTHONPATH'] = \"\"\n",
    "if platform.system() == 'Windows':\n",
    "    os.environ['PYTHONPATH'] += (\";\" + ai4utils)\n",
    "    os.environ['PYTHONPATH'] += (\";\" + CameraTraps)\n",
    "else:\n",
    "    os.environ['PYTHONPATH'] += (\":\" + ai4utils)\n",
    "    os.environ['PYTHONPATH'] += (\":\" + CameraTraps)\n",
    "\n",
    "print('=======================================================================================================================================')\n",
    "print('PYTHONPATH: ' + os.environ['PYTHONPATH'])\n",
    "print('ai4eutils PATH: ' + ai4utils)\n",
    "print('CameraTraps PATH: ' + CameraTraps)\n",
    "print('input PATH: ' + images_dir)\n",
    "print('output_file_path: ' + output_file_path)\n",
    "print('output PATH: ' + visualization_dir)\n",
    "print('modelo: ' + model)\n",
    "print('=======================================================================================================================================')\n",
    "print('Version de TENSORFLOW: ' + tf.__version__)\n",
    "print('Configuracion de GPU:')\n",
    "tf.config.list_physical_devices('GPU')\n"
   ]
  },
  {
   "cell_type": "code",
   "execution_count": 45,
   "metadata": {},
   "outputs": [
    {
     "name": "stderr",
     "output_type": "stream",
     "text": [
      "python: can't open file './modules/tf_detector.py': [Errno 2] No such file or directory\n"
     ]
    }
   ],
   "source": [
    "!python ./modules/tf_detector_una_imagen.py \"$model\" --image_dir \"$images_dir\" --output_dir \"$visualization_dir_relative\" --crop"
   ]
  },
  {
   "cell_type": "code",
   "execution_count": null,
   "metadata": {},
   "outputs": [],
   "source": []
  },
  {
   "cell_type": "code",
   "execution_count": 46,
   "metadata": {},
   "outputs": [],
   "source": [
    "# import os\n",
    "# from PIL import Image\n",
    "\n",
    "# for viz_file_name in os.listdir(visualization_dir):\n",
    "#   print(viz_file_name)\n",
    "#   im = Image.open(os.path.join(visualization_dir, viz_file_name))\n",
    "#   display(im)"
   ]
  }
 ],
 "metadata": {
  "interpreter": {
   "hash": "5781d4d123495c858c015b7c66daac8fcf47e8d083aea67d0f04bc4616f08c49"
  },
  "kernelspec": {
   "display_name": "Python 3.8.13 ('tf_gpu')",
   "language": "python",
   "name": "python3"
  },
  "language_info": {
   "codemirror_mode": {
    "name": "ipython",
    "version": 3
   },
   "file_extension": ".py",
   "mimetype": "text/x-python",
   "name": "python",
   "nbconvert_exporter": "python",
   "pygments_lexer": "ipython3",
   "version": "3.8.13"
  },
  "orig_nbformat": 4
 },
 "nbformat": 4,
 "nbformat_minor": 2
}
