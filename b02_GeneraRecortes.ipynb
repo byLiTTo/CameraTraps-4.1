{
 "cells": [
  {
   "cell_type": "code",
   "execution_count": 1,
   "metadata": {},
   "outputs": [
    {
     "name": "stdout",
     "output_type": "stream",
     "text": [
      "=======================================================================================================================================\n",
      "PYTHONPATH: /home/carlos/.vscode/extensions/ms-toolsai.jupyter-2022.6.1101950301/pythonFiles:/home/carlos/.vscode/extensions/ms-toolsai.jupyter-2022.6.1101950301/pythonFiles/lib/python:/home/carlos/WORKSPACE/TFG-DeteccionFototrampeo/repos/ai4eutils:/home/carlos/WORKSPACE/TFG-DeteccionFototrampeo/repos/CameraTraps\n",
      "ai4eutils PATH: \t/home/carlos/WORKSPACE/TFG-DeteccionFototrampeo/repos/ai4eutils\n",
      "CameraTraps PATH: \t/home/carlos/WORKSPACE/TFG-DeteccionFototrampeo/repos/CameraTraps\n",
      "output_json PATH: \t/home/carlos/WORKSPACE/TFG-DeteccionFototrampeo/output_json\n",
      "output_crop PATH: \t/home/carlos/WORKSPACE/TFG-DeteccionFototrampeo/output_crop\n",
      "=======================================================================================================================================\n"
     ]
    }
   ],
   "source": [
    "import os\n",
    "import platform\n",
    "\n",
    "#########################################################################################################################################################\n",
    "# PARAMETROS DEFINIDOS EN FUNCION DEL USUARIO\n",
    "#########################################################################################################################################################\n",
    "\n",
    "# Ruta relativa hacia la librería ai4eutils\n",
    "ai4eutils_relative = \"./repos/ai4eutils\"\n",
    "\n",
    "# Ruta relativa hacia la librería CameraTraps\n",
    "CameraTraps_relative = \"./repos/CameraTraps\"\n",
    "\n",
    "# Ruta relativa hacia carpeta de JSON con los datos de entrada\n",
    "output_json_path_relative = './output_json'\n",
    "\n",
    "# Ruta relativa hacia la carpeta destino de los ficheros JSON:\n",
    "output_crop_path_relative = ('./output_crop')\n",
    "\n",
    "VISUALIZAR_RESULTADOS = False\n",
    "\n",
    "\n",
    "#########################################################################################################################################################\n",
    "#########################################################################################################################################################\n",
    "\n",
    "home = os.path.expanduser(\"~\")\n",
    "\n",
    "ai4utils = os.path.abspath(ai4eutils_relative)\n",
    "CameraTraps = os.path.abspath(CameraTraps_relative)\n",
    "output_json = os.path.abspath(output_json_path_relative)\n",
    "output_crop = os.path.abspath(output_crop_path_relative)\n",
    "\n",
    "try:\n",
    "    os.environ['PYTHONPATH']\n",
    "except KeyError:\n",
    "    os.environ['PYTHONPATH'] = \"\"\n",
    "if platform.system() == 'Windows':\n",
    "    os.environ['PYTHONPATH'] += (\";\" + ai4utils)\n",
    "    os.environ['PYTHONPATH'] += (\";\" + CameraTraps)\n",
    "else:\n",
    "    os.environ['PYTHONPATH'] += (\":\" + ai4utils)\n",
    "    os.environ['PYTHONPATH'] += (\":\" + CameraTraps)\n",
    "\n",
    "print('=======================================================================================================================================')\n",
    "print('PYTHONPATH: ' + os.environ['PYTHONPATH'])\n",
    "print('ai4eutils PATH: ' + '\\t' + ai4utils)\n",
    "print('CameraTraps PATH: ' + '\\t' + CameraTraps)\n",
    "print('output_json PATH: ' + '\\t' + output_json)\n",
    "print('output_crop PATH: ' + '\\t' + output_crop)\n",
    "print('=======================================================================================================================================')"
   ]
  },
  {
   "cell_type": "code",
   "execution_count": 2,
   "metadata": {},
   "outputs": [
    {
     "name": "stdout",
     "output_type": "stream",
     "text": [
      "100%|███████████████████████████████████████████| 10/10 [00:00<00:00, 29.52it/s]\n",
      "==========================================================================================\n"
     ]
    }
   ],
   "source": [
    "!python ./modules/genera_recortes.py --input_dir \"$output_json\" --output_dir \"$output_crop\""
   ]
  },
  {
   "cell_type": "code",
   "execution_count": 3,
   "metadata": {},
   "outputs": [],
   "source": [
    "if VISUALIZAR_RESULTADOS:\n",
    "    import os\n",
    "    import glob\n",
    "    from PIL import Image\n",
    "    from tqdm import tqdm\n",
    "\n",
    "    image_extensions = ['.png']\n",
    "\n",
    "    def is_image_file(s):\n",
    "        \"\"\"\n",
    "        Compara la extesión de un archivo con las extensiones admitadas en \n",
    "        image_extensions.\n",
    "        \"\"\"\n",
    "        ext = os.path.splitext(s)[1]\n",
    "        return ext.lower() in image_extensions\n",
    "\n",
    "    def find_image_files(strings):\n",
    "        \"\"\"\n",
    "        Devuelve una lista de nombres candidatos a ser ficheros de imágenes. Para los \n",
    "        nombres busca a partir de las extensiones incluidas en image_extension.\n",
    "        \"\"\"\n",
    "        return [s for s in strings if is_image_file(s)]\n",
    "\n",
    "    def find_images(dir_name):\n",
    "        \"\"\"\n",
    "        Busca todos los ficheros que parecen imagénes dentro de un directorio.\n",
    "        \"\"\"\n",
    "        strings = glob.glob(os.path.join(dir_name, '*.*'))\n",
    "\n",
    "        image_strings = find_image_files(strings)\n",
    "\n",
    "        return image_strings\n",
    "\n",
    "    image_file_names = find_images(output_crop)\n",
    "\n",
    "    for image_file in tqdm(image_file_names):\n",
    "        print(image_file)\n",
    "        im = Image.open(image_file)\n",
    "        display(im)\n",
    "        print('')"
   ]
  }
 ],
 "metadata": {
  "kernelspec": {
   "display_name": "Python 3.8.13 ('tf')",
   "language": "python",
   "name": "python3"
  },
  "language_info": {
   "codemirror_mode": {
    "name": "ipython",
    "version": 3
   },
   "file_extension": ".py",
   "mimetype": "text/x-python",
   "name": "python",
   "nbconvert_exporter": "python",
   "pygments_lexer": "ipython3",
   "version": "3.8.13"
  },
  "orig_nbformat": 4,
  "vscode": {
   "interpreter": {
    "hash": "1c9218b40fa62d7df6e2c99f2566df2475bdb172dc5334c976c3cfc411fb718d"
   }
  }
 },
 "nbformat": 4,
 "nbformat_minor": 2
}
