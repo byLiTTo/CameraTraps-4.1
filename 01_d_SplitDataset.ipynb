{
 "cells": [
  {
   "cell_type": "code",
   "execution_count": 12,
   "metadata": {},
   "outputs": [],
   "source": [
    "import os\n",
    "\n",
    "import src.data.Dataset as dt"
   ]
  },
  {
   "cell_type": "code",
   "execution_count": null,
   "metadata": {},
   "outputs": [],
   "source": [
    "DATASET_CSV = os.path.abspath(\"./data/interim/1000Images_reduced.csv\")\n",
    "OUTPUT_FOLDER = os.path.abspath(\"./data/processed\")\n",
    "\n",
    "print(f\"DATASET_CSV:     {DATASET_CSV}\")\n",
    "print(f\"OUTPUT_FOLDER:   {OUTPUT_FOLDER}\")"
   ]
  },
  {
   "cell_type": "code",
   "execution_count": null,
   "metadata": {},
   "outputs": [],
   "source": [
    "dataset = dt.load_from_csv(DATASET_CSV)\n",
    "dataset"
   ]
  },
  {
   "cell_type": "code",
   "execution_count": 15,
   "metadata": {},
   "outputs": [],
   "source": [
    "percentaje_train = 0.70\n",
    "percentaje_val = 0.15\n",
    "percentaje_test = 0.15"
   ]
  },
  {
   "cell_type": "code",
   "execution_count": null,
   "metadata": {},
   "outputs": [],
   "source": [
    "number_empty_samples = len(dataset[dataset[\"label\"] == 0])\n",
    "\n",
    "train_file_name = os.path.join(OUTPUT_FOLDER, \"train\", str(number_empty_samples) + \"Train.csv\")\n",
    "val_file_name = os.path.join(OUTPUT_FOLDER, \"validation\", str(number_empty_samples) + \"Validation.csv\")\n",
    "test_file_name = os.path.join(OUTPUT_FOLDER, \"test\", str(number_empty_samples) + \"Test.csv\")\n",
    "\n",
    "print(f\"train_file_name:   {train_file_name}\")\n",
    "print(f\"val_val_file_name: {val_file_name}\")\n",
    "print(f\"test_file_name:    {test_file_name}\")"
   ]
  },
  {
   "cell_type": "code",
   "execution_count": 17,
   "metadata": {},
   "outputs": [],
   "source": [
    "train_dataset, val_dataset, test_dataset = dt.split_dataset(\n",
    "    dataset, percentaje_train, percentaje_val, percentaje_test\n",
    ")"
   ]
  },
  {
   "cell_type": "code",
   "execution_count": null,
   "metadata": {},
   "outputs": [],
   "source": [
    "train_dataset"
   ]
  },
  {
   "cell_type": "code",
   "execution_count": null,
   "metadata": {},
   "outputs": [],
   "source": [
    "val_dataset"
   ]
  },
  {
   "cell_type": "code",
   "execution_count": null,
   "metadata": {},
   "outputs": [],
   "source": [
    "test_dataset"
   ]
  },
  {
   "cell_type": "code",
   "execution_count": null,
   "metadata": {},
   "outputs": [],
   "source": [
    "dt.dataset_to_csv(train_dataset, train_file_name)\n",
    "dt.dataset_to_csv(val_dataset, val_file_name)\n",
    "dt.dataset_to_csv(test_dataset, test_file_name)"
   ]
  },
  {
   "cell_type": "code",
   "execution_count": null,
   "metadata": {},
   "outputs": [],
   "source": [
    "print(\"==================================================================================\")\n",
    "print(f\"Calculos para TRAIN: {percentaje_train*100}%:\")\n",
    "print(\"==================================================================================\")\n",
    "print(f\"- Valor teorico: {len(dataset)} x {percentaje_train*100}% = {len(dataset)*percentaje_train}\")\n",
    "print(f\"- Valor generado: {len(train_dataset)}\")\n",
    "print()\n",
    "print(f\"- Valor teorico VACIA: {len(dataset[dataset['label'] == 0])} x {percentaje_train*100}% = {len(dataset[dataset['label'] == 0])*percentaje_train}\")\n",
    "print(f\"- Valor generado VACIA: {len(train_dataset[train_dataset['label'] == 0])}\")\n",
    "print()\n",
    "print(f\"- Valor teorico ANIMAL: {len(dataset[dataset['label'] == 1])} x {percentaje_train*100}% = {len(dataset[dataset['label'] == 1])*percentaje_train}\")\n",
    "print(f\"- Valor generado ANIMAL: {len(train_dataset[train_dataset['label'] == 1])}\")\n",
    "print()\n",
    "print(\"==================================================================================\")\n",
    "print(f\"Calculos para VALIDATION: {percentaje_val*100}%:\")\n",
    "print(\"==================================================================================\")\n",
    "print(f\"- Valor teorico: {len(dataset)} x {percentaje_val*100}% = {len(dataset)*percentaje_val}\")\n",
    "print(f\"- Valor generado: {len(val_dataset)}\")\n",
    "print()\n",
    "print(f\"- Valor teorico VACIA: {len(dataset[dataset['label'] == 0])} x {percentaje_val*100}% = {len(dataset[dataset['label'] == 0])*percentaje_val}\")\n",
    "print(f\"- Valor generado VACIA: {len(val_dataset[val_dataset['label'] == 0])}\")\n",
    "print()\n",
    "print(f\"- Valor teorico ANIMAL: {len(dataset[dataset['label'] == 1])} x {percentaje_val*100}% = {len(dataset[dataset['label'] == 1])*percentaje_val}\")\n",
    "print(f\"- Valor generado ANIMAL: {len(val_dataset[val_dataset['label'] == 1])}\")\n",
    "print()\n",
    "print(\"==================================================================================\")\n",
    "print(f\"Calculos para TEST: {percentaje_train*100}%:\")\n",
    "print(\"==================================================================================\")\n",
    "print(f\"- Valor teorico: {len(dataset)} x {percentaje_test*100}% = {len(dataset)*percentaje_test}\")\n",
    "print(f\"- Valor generado: {len(test_dataset)}\")\n",
    "print()\n",
    "print(f\"- Valor teorico VACIA: {len(dataset[dataset['label'] == 0])} x {percentaje_test*100}% = {len(dataset[dataset['label'] == 0])*percentaje_test}\")\n",
    "print(f\"- Valor generado VACIA: {len(test_dataset[test_dataset['label'] == 0])}\")\n",
    "print()\n",
    "print(f\"- Valor teorico ANIMAL: {len(dataset[dataset['label'] == 1])} x {percentaje_test*100}% = {len(dataset[dataset['label'] == 1])*percentaje_test}\")\n",
    "print(f\"- Valor generado ANIMAL: {len(test_dataset[test_dataset['label'] == 1])}\")\n",
    "print()\n"
   ]
  }
 ],
 "metadata": {
  "kernelspec": {
   "display_name": "cameratraps-detector",
   "language": "python",
   "name": "python3"
  },
  "language_info": {
   "codemirror_mode": {
    "name": "ipython",
    "version": 3
   },
   "file_extension": ".py",
   "mimetype": "text/x-python",
   "name": "python",
   "nbconvert_exporter": "python",
   "pygments_lexer": "ipython3",
   "version": "3.8.15"
  }
 },
 "nbformat": 4,
 "nbformat_minor": 2
}
