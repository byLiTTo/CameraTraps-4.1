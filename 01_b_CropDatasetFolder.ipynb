{
 "cells": [
  {
   "cell_type": "code",
   "execution_count": 5,
   "metadata": {},
   "outputs": [],
   "source": [
    "import os\n",
    "import shutil\n",
    "\n",
    "import pandas as pd\n",
    "\n",
    "import src.data.Dataset as dt"
   ]
  },
  {
   "cell_type": "code",
   "execution_count": null,
   "metadata": {},
   "outputs": [],
   "source": [
    "FROM_PATH = os.path.abspath(\"./dataset/emptyNonEmptyDataset\")\n",
    "TO_PATH = os.path.abspath(\"./dataset/emptyNonEmptyDatasetFiltered\")\n",
    "\n",
    "ORIGINAL_DATASET = os.path.abspath(\"./data/raw/10000Images_binary.csv\")\n",
    "dataset_file_name = os.path.basename(ORIGINAL_DATASET)\n",
    "FILTERED_PATH = os.path.abspath(\"./data/interim\")\n",
    "FILTERED_DATASET = os.path.join(FILTERED_PATH, dataset_file_name)\n",
    "\n",
    "print(f\"FROM_PATH:         {FROM_PATH}\")\n",
    "print(f\"TO_PATH:           {TO_PATH}\")\n",
    "print(f\"ORIGINAL_DATASET:  {ORIGINAL_DATASET}\")\n",
    "print(f\"FILTERED_PATH:     {FILTERED_PATH}\")\n",
    "print(f\"FILTERED_DATASET:  {FILTERED_DATASET}\")"
   ]
  },
  {
   "cell_type": "code",
   "execution_count": null,
   "metadata": {},
   "outputs": [],
   "source": [
    "dataset = dt.load_from_csv(ORIGINAL_DATASET)\n",
    "dataset"
   ]
  },
  {
   "cell_type": "code",
   "execution_count": null,
   "metadata": {},
   "outputs": [],
   "source": [
    "total_images_processed = 0\n",
    "total_images_copied = 0\n",
    "\n",
    "filtered_dataset = pd.DataFrame({}, columns=dataset.columns)\n",
    "\n",
    "for index, row in dataset.iterrows():\n",
    "    file_name = row[\"file_name\"].replace(\"\\\\\", \"/\")\n",
    "\n",
    "    original_file = os.path.join(FROM_PATH, file_name[1:])\n",
    "    \n",
    "    filtered_file = file_name.lower()\n",
    "    filtered_file = filtered_file.replace(\" \",\"\")\n",
    "    filtered_file = filtered_file.replace(\"(\", \"_\")\n",
    "    filtered_file = filtered_file.replace(\")\", \"_\")\n",
    "    filtered_file = filtered_file.replace(\"á\",\"a\").replace(\"é\",\"e\").replace(\"í\",\"i\").replace(\"ó\",\"o\").replace(\"ú\",\"u\")\n",
    "    filtered_file = filtered_file.replace(\"ñ\",\"n\")\n",
    "    \n",
    "    new_row = pd.DataFrame({\"file_name\": [filtered_file[1:]], \"label\": [row[\"label\"]]})\n",
    "    filtered_dataset = pd.concat([filtered_dataset, new_row], ignore_index=True)\n",
    "    \n",
    "    filtered_file = os.path.join(TO_PATH, filtered_file[1:])\n",
    "\n",
    "    os.makedirs(os.path.dirname(filtered_file), exist_ok=True)\n",
    "\n",
    "    try:\n",
    "        shutil.copyfile(original_file, filtered_file)\n",
    "        total_images_copied += 1\n",
    "    except FileNotFoundError:\n",
    "        print(f\"File not found: {original_file}\")\n",
    "\n",
    "    total_images_processed += 1\n",
    "\n",
    "print(f\"Total images processed: {total_images_processed}\")\n",
    "print(f\"Total images copied: {total_images_copied}\")\n",
    "\n",
    "dt.dataset_to_csv(filtered_dataset, FILTERED_DATASET)"
   ]
  }
 ],
 "metadata": {
  "kernelspec": {
   "display_name": "cameratraps-detector",
   "language": "python",
   "name": "python3"
  },
  "language_info": {
   "codemirror_mode": {
    "name": "ipython",
    "version": 3
   },
   "file_extension": ".py",
   "mimetype": "text/x-python",
   "name": "python",
   "nbconvert_exporter": "python",
   "pygments_lexer": "ipython3",
   "version": "3.8.15"
  }
 },
 "nbformat": 4,
 "nbformat_minor": 2
}
