{
 "cells": [
  {
   "cell_type": "code",
   "execution_count": null,
   "metadata": {},
   "outputs": [],
   "source": [
    "import os\n",
    "import platform\n",
    "import pandas as pd\n",
    "import tensorflow as tf\n",
    "import datetime\n",
    "\n",
    "from modules.dataset_utils import DatasetUtils as dataset\n",
    "from tensorflow import keras\n",
    "from tensorflow.keras import layers\n",
    "from tensorflow.keras.preprocessing.image import ImageDataGenerator\n",
    "\n",
    "\n",
    "#########################################################################################################################################################\n",
    "# PARAMETROS DEFINIDOS EN FUNCION DEL USUARIO\n",
    "#########################################################################################################################################################\n",
    "\n",
    "# Ruta hacia los CSV del dataset\n",
    "train_file_relative = './data/700Train.csv'\n",
    "validation_file_relative = './data/700Validation.csv'\n",
    "test_file_relative = './data/700Test.csv'\n",
    "\n",
    "# Ruta al directorio de imágenes con máscara aplicada\n",
    "masked_dir_relative = '../local/output_masked/'\n",
    "\n",
    "model_dir_relative = \"./models\"\n",
    "\n",
    "# Ruta relativa hacia la librería ai4eutils\n",
    "ai4eutils_relative = \"./repos/ai4eutils\"\n",
    "\n",
    "# Ruta relativa hacia la librería CameraTraps\n",
    "CameraTraps_relative = \"./repos/CameraTraps\"\n",
    "\n",
    "#########################################################################################################################################################\n",
    "# PARAMETROS PARA CNN\n",
    "#########################################################################################################################################################\n",
    "\n",
    "IMG_HEIGHT = IMG_WEIGHT = 700\n",
    "BATCH_SIZE = 32\n",
    "SEED = 42\n",
    "\n",
    "#########################################################################################################################################################\n",
    "#########################################################################################################################################################\n",
    "\n",
    "home = os.path.expanduser(\"~\")\n",
    "\n",
    "ai4utils = os.path.abspath(ai4eutils_relative)\n",
    "CameraTraps = os.path.abspath(CameraTraps_relative)\n",
    "train_file = os.path.abspath(train_file_relative)\n",
    "validation_file = os.path.abspath(validation_file_relative)\n",
    "test_file = os.path.abspath(test_file_relative)\n",
    "masked_dir = os.path.abspath(masked_dir_relative)\n",
    "model_dir = os.path.abspath(model_dir_relative)\n",
    "\n",
    "try:\n",
    "    os.environ['PYTHONPATH']\n",
    "except KeyError:\n",
    "    os.environ['PYTHONPATH'] = \"\"\n",
    "if platform.system() == 'Windows':\n",
    "    os.environ['PYTHONPATH'] += (\";\" + ai4utils)\n",
    "    os.environ['PYTHONPATH'] += (\";\" + CameraTraps)\n",
    "else:\n",
    "    os.environ['PYTHONPATH'] += (\":\" + ai4utils)\n",
    "    os.environ['PYTHONPATH'] += (\":\" + CameraTraps)\n",
    "\n",
    "print('=======================================================================================================================================')\n",
    "print('PYTHONPATH: ' + os.environ['PYTHONPATH'])\n",
    "print('')\n",
    "print('ai4eutils PATH: ' + '\\t' + ai4utils)\n",
    "print('CameraTraps PATH: ' + '\\t' + CameraTraps)\n",
    "print('Train CSV PATH: ' + '\\t'  + train_file)\n",
    "print('Validation CSV PATH: ' + '\\t' + validation_file)\n",
    "print('Test CSV PATH: ' + '\\t' + '\\t' + test_file)\n",
    "print('masked PATH: ' + '\\t' + '\\t' + masked_dir)\n",
    "print('models PATH: ' + '\\t' + '\\t' + model_dir)\n",
    "print('=======================================================================================================================================')"
   ]
  },
  {
   "cell_type": "code",
   "execution_count": null,
   "metadata": {},
   "outputs": [],
   "source": [
    "file_path, labels = dataset.load_dataset(train_file, masked_dir)\n",
    "TRAIN_SAMPLES=len(labels)\n",
    "train_dataset = tf.data.Dataset.from_tensor_slices((file_path, labels))\n",
    "train_dataset = train_dataset.map(dataset.load_image).map(dataset.resize_image).batch(BATCH_SIZE)\n",
    "\n",
    "file_path, labels = dataset.load_dataset(validation_file, masked_dir)\n",
    "VALIDATION_SAMPLES=len(labels)\n",
    "validation_dataset = tf.data.Dataset.from_tensor_slices((file_path, labels))\n",
    "validation_dataset = validation_dataset.map(dataset.load_image).map(dataset.resize_image).batch(BATCH_SIZE)\n",
    "\n",
    "file_path, labels = dataset.load_dataset(test_file, masked_dir)\n",
    "TEST_SAMPLES=len(labels)\n",
    "test_dataset = tf.data.Dataset.from_tensor_slices((file_path, labels))\n",
    "test_dataset = test_dataset.map(dataset.load_image).map(dataset.resize_image).batch(BATCH_SIZE)"
   ]
  },
  {
   "cell_type": "code",
   "execution_count": null,
   "metadata": {},
   "outputs": [],
   "source": [
    "model = keras.Sequential([\n",
    "    layers.Input((700, 700, 3)),\n",
    "    layers.Conv2D(32, 3, padding='valid', activation= 'relu'),\n",
    "    layers.MaxPooling2D(pool_size=(2, 2)),\n",
    "    layers.Conv2D(32, 3, padding='valid', activation= 'relu'),\n",
    "    layers.MaxPooling2D(pool_size=(2, 2)),\n",
    "    layers.Conv2D(64, 3, padding='valid', activation= 'relu'),\n",
    "    layers.MaxPooling2D(pool_size=(2, 2)),\n",
    "    layers.Conv2D(64, 3, padding='valid', activation= 'relu'),\n",
    "    layers.MaxPooling2D(pool_size=(2, 2)),\n",
    "    layers.Conv2D(128, 3, padding='valid', activation= 'relu'),\n",
    "    layers.MaxPooling2D(pool_size=(2, 2)),\n",
    "    #layers.Conv2D(128, 3, padding='valid', activation= 'relu'),\n",
    "    #layers.MaxPooling2D(pool_size=(2, 2)),\n",
    "    layers.Flatten(),\n",
    "    layers.Dropout(0.5),\n",
    "    layers.Dense(64, activation='relu'),\n",
    "    layers.Dense(1, activation='sigmoid')\n",
    "])"
   ]
  },
  {
   "cell_type": "code",
   "execution_count": null,
   "metadata": {},
   "outputs": [],
   "source": [
    "model.compile(\n",
    "    loss = [keras.losses.BinaryCrossentropy(from_logits=False)],\n",
    "    optimizer = keras.optimizers.Adam(),\n",
    "    metrics =  ['accuracy']\n",
    ")\n",
    "model.summary()"
   ]
  },
  {
   "cell_type": "code",
   "execution_count": null,
   "metadata": {},
   "outputs": [],
   "source": [
    "history = model.fit(\n",
    "            train_dataset, \n",
    "            epochs=100,\n",
    "            validation_data=validation_dataset,\n",
    "            batch_size=BATCH_SIZE\n",
    ")"
   ]
  },
  {
   "cell_type": "code",
   "execution_count": null,
   "metadata": {},
   "outputs": [],
   "source": [
    "ax = pd.DataFrame(data=history.history).plot(figsize=(15, 7))\n",
    "ax.grid()\n",
    "_ = ax.set(title=\"Training loss and accuracy\", xlabel=\"Epochs\")\n",
    "_ = ax.legend([\"Training loss\", \"Trainig accuracy\", \"Validation loss\", \"Validation accuracy\"])"
   ]
  },
  {
   "cell_type": "code",
   "execution_count": null,
   "metadata": {},
   "outputs": [],
   "source": [
    "results = model.evaluate(test_dataset, verbose=1)"
   ]
  },
  {
   "cell_type": "code",
   "execution_count": null,
   "metadata": {},
   "outputs": [],
   "source": [
    "date = datetime.utcnow().strftime('%Y-%m-%d_%H-%M')\n",
    "if platform.system() == 'Windows':\n",
    "    path = model_dir + '\\\\'+ date\n",
    "else:\n",
    "    path = model_dir + '/'+ date\n",
    "\n",
    "model.save(path)"
   ]
  }
 ],
 "metadata": {
  "kernelspec": {
   "display_name": "Python 3.8.13 ('tf_gpu')",
   "language": "python",
   "name": "python3"
  },
  "language_info": {
   "codemirror_mode": {
    "name": "ipython",
    "version": 3
   },
   "file_extension": ".py",
   "mimetype": "text/x-python",
   "name": "python",
   "nbconvert_exporter": "python",
   "pygments_lexer": "ipython3",
   "version": "3.8.13"
  },
  "orig_nbformat": 4,
  "vscode": {
   "interpreter": {
    "hash": "907d050957a886e998c55a62a25f72c12f58285fde8e87ef7996a2175b8c9579"
   }
  }
 },
 "nbformat": 4,
 "nbformat_minor": 2
}
