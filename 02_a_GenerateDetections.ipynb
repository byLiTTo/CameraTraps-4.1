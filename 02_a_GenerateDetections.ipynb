{
 "cells": [
  {
   "cell_type": "code",
   "execution_count": 1,
   "metadata": {},
   "outputs": [],
   "source": [
    "import json\n",
    "import os\n",
    "from datetime import datetime"
   ]
  },
  {
   "cell_type": "code",
   "execution_count": 2,
   "metadata": {},
   "outputs": [
    {
     "name": "stdout",
     "output_type": "stream",
     "text": [
      "PYTHONPATH: :/Users/carlos/WORKSPACE/MegaClassifier/data/external/ai4eutils:/Users/carlos/WORKSPACE/MegaClassifier/data/external/CameraTraps:/Users/carlos/WORKSPACE/MegaClassifier/data/external/yolov5\n"
     ]
    }
   ],
   "source": [
    "required_paths = [\"/ai4eutils\", \"/CameraTraps\", \"/yolov5\"]\n",
    "python_path = os.environ.get(\"PYTHONPATH\", \"\")\n",
    "root_path = os.getcwd()\n",
    "\n",
    "for path in required_paths:\n",
    "    if not any(p.endswith(path) for p in python_path.split(\":\")):\n",
    "        python_path += f\":{root_path}/data/external{path}\"\n",
    "\n",
    "os.environ[\"PYTHONPATH\"] = python_path\n",
    "\n",
    "!echo \"PYTHONPATH: $PYTHONPATH\""
   ]
  },
  {
   "cell_type": "code",
   "execution_count": 3,
   "metadata": {},
   "outputs": [
    {
     "name": "stdout",
     "output_type": "stream",
     "text": [
      "MODEL_PATH: /Users/carlos/WORKSPACE/MegaClassifier/models/MegaDetector/md_v5a.0.0.pt\n",
      "OUTPUT_FILE_PATH: /Users/carlos/WORKSPACE/MegaClassifier/resources/json/prueba.json\n",
      "OUTPUT_PATH: /Users/carlos/WORKSPACE/MegaClassifier/resources/json\n"
     ]
    }
   ],
   "source": [
    "threshold = float(0.01)\n",
    "\n",
    "OUTPUT_PATH = os.path.abspath(\"./resources/json\")\n",
    "MODEL_PATH = os.path.abspath(\"./models/MegaDetector/md_v5a.0.0.pt\")\n",
    "# MODEL_PATH = os.path.abspath(\"./models/MegaDetector/md_v5b.0.0.pt\")\n",
    "# MODEL_PATH = os.path.abspath(\"./models/MegaDetector/md_v4.1.0.pb\")\n",
    "\n",
    "file_name = \"prueba.json\"\n",
    "OUTPUT_FILE_PATH = os.path.join(OUTPUT_PATH, file_name)\n",
    "\n",
    "os.makedirs(OUTPUT_PATH, exist_ok=True)\n",
    "\n",
    "print(\"MODEL_PATH:\", MODEL_PATH)\n",
    "print(\"OUTPUT_FILE_PATH:\", OUTPUT_FILE_PATH)\n",
    "print(\"OUTPUT_PATH:\", OUTPUT_PATH)"
   ]
  },
  {
   "cell_type": "code",
   "execution_count": 4,
   "metadata": {},
   "outputs": [],
   "source": [
    "detection_inicialitation_time = datetime.utcnow().strftime(\"%Y-%m-%d %H:%M:%S\")"
   ]
  },
  {
   "cell_type": "code",
   "execution_count": 5,
   "metadata": {},
   "outputs": [
    {
     "name": "stdout",
     "output_type": "stream",
     "text": [
      "60 image files found in the input directory\n",
      "PyTorch reports 0 available CUDA devices\n",
      "GPU available: False\n",
      "Using PyTorch version 1.10.1\n",
      "Fusing layers... \n",
      "Model summary: 574 layers, 139990096 parameters, 0 gradients\n",
      "Loaded model in 1.67 seconds\n",
      "Loaded model in 1.67 seconds\n",
      "  0%|                                                    | 0/60 [00:00<?, ?it/s]Processing image /Users/carlos/WORKSPACE/MegaClassifier/dataset/emptyNonEmptyDatasetCROP/leporido/conejo_Paco_Carro_JC/PICT0646 (2).JPG\n",
      "  2%|▋                                           | 1/60 [00:02<02:46,  2.82s/it]Processing image /Users/carlos/WORKSPACE/MegaClassifier/dataset/emptyNonEmptyDatasetCROP/leporido/Conejo_PNC_2014_JC/c8663IM000121.JPG\n",
      "  3%|█▍                                          | 2/60 [00:05<02:43,  2.82s/it]Processing image /Users/carlos/WORKSPACE/MegaClassifier/dataset/emptyNonEmptyDatasetCROP/vaca/cow_CaltechCameraTrap/585c030e-23d2-11e8-a6a3-ec086b02610b.jpg\n",
      "  5%|██▏                                         | 3/60 [00:08<02:37,  2.76s/it]Processing image /Users/carlos/WORKSPACE/MegaClassifier/dataset/emptyNonEmptyDatasetCROP/vaca/vaca_Paco_Carro_JC/PICT0042.JPG\n",
      "  7%|██▉                                         | 4/60 [00:11<02:32,  2.73s/it]Processing image /Users/carlos/WORKSPACE/MegaClassifier/dataset/emptyNonEmptyDatasetCROP/vaca/COW_ZOO_5_6_7_9/21_20210418 (1498).JPG\n",
      "  8%|███▋                                        | 5/60 [00:13<02:22,  2.59s/it]Processing image /Users/carlos/WORKSPACE/MegaClassifier/dataset/emptyNonEmptyDatasetCROP/jabali/jabali_PNM_2013-O_ISAAC/f27560IMAG0113.JPG\n",
      " 10%|████▍                                       | 6/60 [00:15<02:20,  2.61s/it]Processing image /Users/carlos/WORKSPACE/MegaClassifier/dataset/emptyNonEmptyDatasetCROP/jabali/WILDBOAR_ZOO_5_6_7_9/20_20210219 (2902) (2021_04_15 06_16_22 UTC).JPG\n",
      " 12%|█████▏                                      | 7/60 [00:18<02:12,  2.50s/it]Processing image /Users/carlos/WORKSPACE/MegaClassifier/dataset/emptyNonEmptyDatasetCROP/jabali/WILDBOAR_ZOO_5_6_7_9/1_20210319 (7).JPG\n",
      " 13%|█████▊                                      | 8/60 [00:20<02:04,  2.40s/it]Processing image /Users/carlos/WORKSPACE/MegaClassifier/dataset/emptyNonEmptyDatasetCROP/jabali/jabali_Paco_Carro_camarasliron_4_2_PASADAS_POR_LA_RED_JC/MDGC0675.JPG\n",
      " 15%|██████▌                                     | 9/60 [00:23<02:05,  2.47s/it]Processing image /Users/carlos/WORKSPACE/MegaClassifier/dataset/emptyNonEmptyDatasetCROP/jabali/WILDBOAR_ZOO_1_4/22_20210115 (801).JPG\n",
      " 17%|███████▏                                   | 10/60 [00:25<02:00,  2.40s/it]Processing image /Users/carlos/WORKSPACE/MegaClassifier/dataset/emptyNonEmptyDatasetCROP/jabali/WILDBOAR_ZOO_1_4/37_20210115 (2245).JPG\n",
      " 18%|███████▉                                   | 11/60 [00:27<01:57,  2.41s/it]Processing image /Users/carlos/WORKSPACE/MegaClassifier/dataset/emptyNonEmptyDatasetCROP/cervidae/2_Ciervo_Paco_Carro_camarasliron_4_2_PASADAS_POR_LA_RED_JC/PICT0080.JPG\n",
      " 20%|████████▌                                  | 12/60 [00:30<01:57,  2.45s/it]Processing image /Users/carlos/WORKSPACE/MegaClassifier/dataset/emptyNonEmptyDatasetCROP/cervidae/ciervo_PNM_2013-O_ISAAC/f11190IM000199.JPG\n",
      " 22%|█████████▎                                 | 13/60 [00:32<01:57,  2.50s/it]Processing image /Users/carlos/WORKSPACE/MegaClassifier/dataset/emptyNonEmptyDatasetCROP/cervidae/Ciervo_PNC_2012_JC/a14725IM000641.JPG\n",
      " 23%|██████████                                 | 14/60 [00:35<01:57,  2.56s/it]Processing image /Users/carlos/WORKSPACE/MegaClassifier/dataset/emptyNonEmptyDatasetCROP/cervidae/Ciervo_PNC_2012_JC/a34265IM000500.JPG\n",
      " 25%|██████████▊                                | 15/60 [00:38<01:55,  2.57s/it]Processing image /Users/carlos/WORKSPACE/MegaClassifier/dataset/emptyNonEmptyDatasetCROP/cervidae/2_ciervo_alumno_2_TH/34_20201024 (2381).JPG\n",
      " 27%|███████████▍                               | 16/60 [00:40<01:50,  2.50s/it]Processing image /Users/carlos/WORKSPACE/MegaClassifier/dataset/emptyNonEmptyDatasetCROP/cervidae/ciervo_simone_2/34_20201024 (5494).JPG\n",
      " 28%|████████████▏                              | 17/60 [00:42<01:44,  2.44s/it]Processing image /Users/carlos/WORKSPACE/MegaClassifier/dataset/emptyNonEmptyDatasetCROP/cervidae/ciervo_simone_2/37_20201024 (1156).JPG\n",
      " 30%|████████████▉                              | 18/60 [00:45<01:39,  2.38s/it]Processing image /Users/carlos/WORKSPACE/MegaClassifier/dataset/emptyNonEmptyDatasetCROP/cervidae/CERVIDREDORFALLOWDEER_ZOO_1_4/34_20201024 (2742).JPG\n",
      " 32%|█████████████▌                             | 19/60 [00:47<01:37,  2.38s/it]Processing image /Users/carlos/WORKSPACE/MegaClassifier/dataset/emptyNonEmptyDatasetCROP/cervidae/CERVIDREDORFALLOWDEER_ZOO_1_4/17_20201225 (61).JPG\n",
      " 33%|██████████████▎                            | 20/60 [00:49<01:33,  2.34s/it]Processing image /Users/carlos/WORKSPACE/MegaClassifier/dataset/emptyNonEmptyDatasetCROP/cervidae/CERVIDREDORFALLOWDEER_ZOO_1_4/20_20201024 (741).JPG\n",
      " 35%|███████████████                            | 21/60 [00:52<01:31,  2.34s/it]Processing image /Users/carlos/WORKSPACE/MegaClassifier/dataset/emptyNonEmptyDatasetCROP/cervidae/CERVIDREDORFALLOWDEER_ZOO_5_6_7_9/10_20210417 (246).JPG\n",
      " 37%|███████████████▊                           | 22/60 [00:54<01:28,  2.32s/it]Processing image /Users/carlos/WORKSPACE/MegaClassifier/dataset/emptyNonEmptyDatasetCROP/cervidae/CERVIDREDORFALLOWDEER_ZOO_5_6_7_9/20_20210219 (2099) (2021_04_15 06_16_22 UTC).JPG\n",
      " 38%|████████████████▍                          | 23/60 [00:56<01:25,  2.31s/it]Processing image /Users/carlos/WORKSPACE/MegaClassifier/dataset/emptyNonEmptyDatasetCROP/cervidae/CERVIDREDORFALLOWDEER_ZOO_5_6_7_9/35_20210218 (2606) (2021_04_15 06_16_22 UTC).JPG\n",
      " 40%|█████████████████▏                         | 24/60 [00:58<01:23,  2.31s/it]Processing image /Users/carlos/WORKSPACE/MegaClassifier/dataset/emptyNonEmptyDatasetCROP/vacia/SnampshotEnonkishu/ENO_S1_D06_R1_IMAG5237.JPG\n",
      " 42%|█████████████████▉                         | 25/60 [01:01<01:25,  2.44s/it]Processing image /Users/carlos/WORKSPACE/MegaClassifier/dataset/emptyNonEmptyDatasetCROP/vacia/vacia_alumno_AM_2/25_20201024 (312).JPG\n",
      " 43%|██████████████████▋                        | 26/60 [01:03<01:21,  2.39s/it]Processing image /Users/carlos/WORKSPACE/MegaClassifier/dataset/emptyNonEmptyDatasetCROP/vacia/empty_SnapshotMountainZebra/MTZ_S1_D05_R1_IMAG2029.JPG\n",
      " 45%|███████████████████▎                       | 27/60 [01:06<01:22,  2.49s/it]Processing image /Users/carlos/WORKSPACE/MegaClassifier/dataset/emptyNonEmptyDatasetCROP/vacia/empty_SnapshotMountainZebra/MTZ_S1_D06_R1_IMAG0865.JPG\n",
      " 47%|████████████████████                       | 28/60 [01:09<01:21,  2.55s/it]Processing image /Users/carlos/WORKSPACE/MegaClassifier/dataset/emptyNonEmptyDatasetCROP/vacia/empty_SnapshotMountainZebra/MTZ_S1_C06_R3_IMAG2525.JPG\n",
      " 48%|████████████████████▊                      | 29/60 [01:12<01:20,  2.60s/it]Processing image /Users/carlos/WORKSPACE/MegaClassifier/dataset/emptyNonEmptyDatasetCROP/vacia/empty_SnapshotMountainZebra/MTZ_S1_D06_R1_IMAG1583.JPG\n",
      " 50%|█████████████████████▌                     | 30/60 [01:15<01:29,  2.99s/it]Processing image /Users/carlos/WORKSPACE/MegaClassifier/dataset/emptyNonEmptyDatasetCROP/vacia/vacias_PNC_2014_ISAAC/c11233IMAG0016.JPG\n",
      " 52%|██████████████████████▏                    | 31/60 [01:19<01:28,  3.05s/it]Processing image /Users/carlos/WORKSPACE/MegaClassifier/dataset/emptyNonEmptyDatasetCROP/vacia/vacias_PNM_2013-O_ISAAC/f7213IMAG0066.JPG\n",
      " 53%|██████████████████████▉                    | 32/60 [01:22<01:31,  3.26s/it]Processing image /Users/carlos/WORKSPACE/MegaClassifier/dataset/emptyNonEmptyDatasetCROP/vacia/empty_IslandConservationCameraTraps/dominicanrepublic_cam11618mayo2017_20170410_092515_img_0069.jpg\n",
      " 55%|███████████████████████▋                   | 33/60 [01:26<01:26,  3.22s/it]Processing image /Users/carlos/WORKSPACE/MegaClassifier/dataset/emptyNonEmptyDatasetCROP/vacia/empty_IslandConservationCameraTraps/dominicanrepublic_cam1826junio2015_20150505_130939_img_3077.jpg\n",
      " 57%|████████████████████████▎                  | 34/60 [01:28<01:20,  3.10s/it]Processing image /Users/carlos/WORKSPACE/MegaClassifier/dataset/emptyNonEmptyDatasetCROP/vacia/empty_IslandConservationCameraTraps/ecuador1_cam1612_20150209_051159_img_1446.jpg\n",
      " 58%|█████████████████████████                  | 35/60 [01:31<01:13,  2.94s/it]Processing image /Users/carlos/WORKSPACE/MegaClassifier/dataset/emptyNonEmptyDatasetCROP/vacia/empty_IslandConservationCameraTraps/dominicanrepublic_cam0926julio2015_20150630_185725_img_0015.jpg\n",
      " 60%|█████████████████████████▊                 | 36/60 [01:34<01:10,  2.95s/it]Processing image /Users/carlos/WORKSPACE/MegaClassifier/dataset/emptyNonEmptyDatasetCROP/vacia/NOANIMAL_ZOO_5_6_7_9/50_20210408 (6876).JPG\n",
      " 62%|██████████████████████████▌                | 37/60 [01:37<01:06,  2.91s/it]Processing image /Users/carlos/WORKSPACE/MegaClassifier/dataset/emptyNonEmptyDatasetCROP/vacia/NOANIMAL_ZOO_5_6_7_9/50_20210417 (25294).JPG\n",
      " 63%|███████████████████████████▏               | 38/60 [01:39<01:02,  2.86s/it]Processing image /Users/carlos/WORKSPACE/MegaClassifier/dataset/emptyNonEmptyDatasetCROP/vacia/NOANIMAL_ZOO_5_6_7_9/24_20210615 (7263).JPG\n",
      " 65%|███████████████████████████▉               | 39/60 [01:42<00:59,  2.85s/it]Processing image /Users/carlos/WORKSPACE/MegaClassifier/dataset/emptyNonEmptyDatasetCROP/vacia/NOANIMAL_ZOO_5_6_7_9/20_20210618 (3959).JPG\n",
      " 67%|████████████████████████████▋              | 40/60 [01:45<00:55,  2.79s/it]Processing image /Users/carlos/WORKSPACE/MegaClassifier/dataset/emptyNonEmptyDatasetCROP/vacia/NOANIMAL_ZOO_1_4/28_20201019 (329).JPG\n",
      " 68%|█████████████████████████████▍             | 41/60 [01:48<00:52,  2.74s/it]Processing image /Users/carlos/WORKSPACE/MegaClassifier/dataset/emptyNonEmptyDatasetCROP/vacia/NOANIMAL_ZOO_1_4/34_20210115 (1643).JPG\n",
      " 70%|██████████████████████████████             | 42/60 [01:50<00:47,  2.65s/it]Processing image /Users/carlos/WORKSPACE/MegaClassifier/dataset/emptyNonEmptyDatasetCROP/vacia/vacia_javi_2_JC/27_20201023 (4595).JPG\n",
      " 72%|██████████████████████████████▊            | 43/60 [01:53<00:45,  2.68s/it]Processing image /Users/carlos/WORKSPACE/MegaClassifier/dataset/emptyNonEmptyDatasetCROP/vacia/vacia_alumno_2_2_TH_JC/27_20201023 (5918).JPG\n",
      " 73%|███████████████████████████████▌           | 44/60 [01:55<00:42,  2.66s/it]Processing image /Users/carlos/WORKSPACE/MegaClassifier/dataset/emptyNonEmptyDatasetCROP/caballo/HORSE_ZOO_1_4/15_20201117 (7287).JPG\n",
      " 75%|████████████████████████████████▎          | 45/60 [01:58<00:40,  2.68s/it]Processing image /Users/carlos/WORKSPACE/MegaClassifier/dataset/emptyNonEmptyDatasetCROP/garduna/garduna_vacías_humanos_PNC_2012_ME/a43103IMAG0017.JPG\n",
      " 77%|████████████████████████████████▉          | 46/60 [02:01<00:39,  2.80s/it]Processing image /Users/carlos/WORKSPACE/MegaClassifier/dataset/emptyNonEmptyDatasetCROP/garduna/Garduna_PNM_2013-0_ME/f14844IM000051.JPG\n",
      " 78%|█████████████████████████████████▋         | 47/60 [02:04<00:37,  2.86s/it]Processing image /Users/carlos/WORKSPACE/MegaClassifier/dataset/emptyNonEmptyDatasetCROP/micromamiferos/rat_IslandConservationCameraTraps/palau_cam6a12132018_20180914_224626_rcnx0468.jpg\n",
      " 80%|██████████████████████████████████▍        | 48/60 [02:07<00:34,  2.90s/it]Processing image /Users/carlos/WORKSPACE/MegaClassifier/dataset/emptyNonEmptyDatasetCROP/tejon/Tejon_PEPE_IREC_JC/IMAG0423_(5).JPG\n",
      " 82%|███████████████████████████████████        | 49/60 [02:10<00:33,  3.02s/it]Processing image /Users/carlos/WORKSPACE/MegaClassifier/dataset/emptyNonEmptyDatasetCROP/humanovehiculo/humano_vehiculo_PNM_2013-O_ISAAC/f8130IM000003.JPG\n",
      " 83%|███████████████████████████████████▊       | 50/60 [02:14<00:30,  3.08s/it]Processing image /Users/carlos/WORKSPACE/MegaClassifier/dataset/emptyNonEmptyDatasetCROP/humanovehiculo/humano_vehiculo_PNC_2014_ISAAC/c12199IMAG0129.JPG\n",
      " 85%|████████████████████████████████████▌      | 51/60 [02:17<00:27,  3.08s/it]Processing image /Users/carlos/WORKSPACE/MegaClassifier/dataset/emptyNonEmptyDatasetCROP/zorro/zorro_Leo_Otra_fauna_PASADA_POR_LA_RED_JC/Otrafauna (675).JPG\n",
      " 87%|█████████████████████████████████████▎     | 52/60 [02:20<00:24,  3.11s/it]Processing image /Users/carlos/WORKSPACE/MegaClassifier/dataset/emptyNonEmptyDatasetCROP/ave/bird_CaltechCameraTrap/58ce4024-23d2-11e8-a6a3-ec086b02610b.jpg\n",
      " 88%|█████████████████████████████████████▉     | 53/60 [02:23<00:22,  3.15s/it]Processing image /Users/carlos/WORKSPACE/MegaClassifier/dataset/emptyNonEmptyDatasetCROP/ave/bird_CaltechCameraTrap/5976a214-23d2-11e8-a6a3-ec086b02610b.jpg\n",
      " 90%|██████████████████████████████████████▋    | 54/60 [02:26<00:19,  3.19s/it]Processing image /Users/carlos/WORKSPACE/MegaClassifier/dataset/emptyNonEmptyDatasetCROP/ave/Chicken_ena24/6426.jpg\n",
      " 92%|███████████████████████████████████████▍   | 55/60 [02:29<00:15,  3.05s/it]Processing image /Users/carlos/WORKSPACE/MegaClassifier/dataset/emptyNonEmptyDatasetCROP/ave/OTHERSPECIES_ZOO_5_6_7_9/38_20210618 (1691).JPG\n",
      " 93%|████████████████████████████████████████▏  | 56/60 [02:32<00:11,  2.92s/it]Processing image /Users/carlos/WORKSPACE/MegaClassifier/dataset/emptyNonEmptyDatasetCROP/ave/ave_ave_WellingtonCameraTraps_SS/050816133858011bs101.JPG\n",
      " 95%|████████████████████████████████████████▊  | 57/60 [02:35<00:08,  2.98s/it]Processing image /Users/carlos/WORKSPACE/MegaClassifier/dataset/emptyNonEmptyDatasetCROP/lince/Lince_a_Linces2_Leo_JC/Lince58 (22).JPG\n",
      " 97%|█████████████████████████████████████████▌ | 58/60 [02:38<00:06,  3.06s/it]Processing image /Users/carlos/WORKSPACE/MegaClassifier/dataset/emptyNonEmptyDatasetCROP/lince/Lince_a_Linces2_Leo_JC/lince130 (306).JPG\n",
      " 98%|██████████████████████████████████████████▎| 59/60 [02:41<00:02,  2.96s/it]Processing image /Users/carlos/WORKSPACE/MegaClassifier/dataset/emptyNonEmptyDatasetCROP/lince/linces_fecha_Linces2_Leo_JC/3_Lince_flecha_Linces2_Leo_JC/lince103 (371).JPG\n",
      "100%|███████████████████████████████████████████| 60/60 [02:43<00:00,  2.73s/it]\n",
      "Finished inference for 60 images in 2 minutes and 46.06 seconds\n",
      "Output file saved at /Users/carlos/WORKSPACE/MegaClassifier/resources/json/prueba.json\n",
      "Done!\n"
     ]
    }
   ],
   "source": [
    "!python data/external/CameraTraps/detection/run_detector_batch.py \\\n",
    "    \"$MODEL_PATH\" \\\n",
    "    /Users/carlos/WORKSPACE/MegaClassifier/dataset/emptyNonEmptyDatasetCROP \\\n",
    "    \"$OUTPUT_FILE_PATH\" \\\n",
    "    --recursive \\\n",
    "    --threshold \"$threshold\""
   ]
  },
  {
   "cell_type": "code",
   "execution_count": 7,
   "metadata": {},
   "outputs": [
    {
     "name": "stdout",
     "output_type": "stream",
     "text": [
      "Output file saved at /Users/carlos/WORKSPACE/MegaClassifier/resources/json/md_v5a/60_images_0_01_threshold.json\n",
      "Output file deleted: /Users/carlos/WORKSPACE/MegaClassifier/resources/json/prueba.json\n"
     ]
    }
   ],
   "source": [
    "with open(OUTPUT_FILE_PATH, \"r\") as file:\n",
    "    data = json.load(file)\n",
    "\n",
    "for image in data[\"images\"]:\n",
    "    image[\"file\"] = (\n",
    "        image[\"file\"]\n",
    "        .replace(\n",
    "            \"/Users/carlos/WORKSPACE/MegaClassifier/dataset/emptyNonEmptyDatasetCROP\",\n",
    "            \"\",\n",
    "        )\n",
    "        .replace(\"/\", \"\\\\\")\n",
    "    )\n",
    "\n",
    "info = {\n",
    "    \"detection_initial_time\": detection_inicialitation_time,\n",
    "    \"detection_completion_time\": data[\"info\"][\"detection_completion_time\"],\n",
    "    \"format_version\": data[\"info\"][\"format_version\"],\n",
    "    \"detector\": data[\"info\"][\"detector\"],\n",
    "    \"detector_threshold\": threshold,\n",
    "    \"detector_metadata\": data[\"info\"][\"detector_metadata\"],\n",
    "}\n",
    "\n",
    "final_output = {\n",
    "    \"images\": data[\"images\"],\n",
    "    \"detection_categories\": data[\"detection_categories\"],\n",
    "    \"info\": info,\n",
    "}\n",
    "\n",
    "threshold_str = str(threshold).replace(\".\", \"_\")\n",
    "json_name = f\"{len(data['images'])}_images_{threshold_str}_threshold.json\"\n",
    "model_name = os.path.basename(MODEL_PATH).split(\".\")[0]\n",
    "tmp_path = os.path.join(OUTPUT_PATH, model_name)\n",
    "os.makedirs(tmp_path, exist_ok=True)\n",
    "NEW_OUTPUT_FILE_PATH = os.path.join(tmp_path, json_name)\n",
    "\n",
    "\n",
    "with open(NEW_OUTPUT_FILE_PATH, \"w\") as f:\n",
    "    json.dump(final_output, f, indent=1)\n",
    "print(f\"Output file saved at {NEW_OUTPUT_FILE_PATH}\")\n",
    "\n",
    "os.remove(OUTPUT_FILE_PATH)\n",
    "print(f\"Output file deleted: {OUTPUT_FILE_PATH}\")\n"
   ]
  }
 ],
 "metadata": {
  "kernelspec": {
   "display_name": "cameratraps-detector",
   "language": "python",
   "name": "python3"
  },
  "language_info": {
   "codemirror_mode": {
    "name": "ipython",
    "version": 3
   },
   "file_extension": ".py",
   "mimetype": "text/x-python",
   "name": "python",
   "nbconvert_exporter": "python",
   "pygments_lexer": "ipython3",
   "version": "3.8.15"
  }
 },
 "nbformat": 4,
 "nbformat_minor": 2
}
