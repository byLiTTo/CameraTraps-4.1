{
 "cells": [
  {
   "cell_type": "code",
   "execution_count": 1,
   "metadata": {},
   "outputs": [],
   "source": [
    "import json\n",
    "import os\n",
    "from datetime import datetime\n",
    "\n",
    "import src.data.Dataset as dt"
   ]
  },
  {
   "cell_type": "code",
   "execution_count": null,
   "metadata": {},
   "outputs": [],
   "source": [
    "required_paths = [\"/ai4eutils\", \"/CameraTraps\", \"/yolov5\"]\n",
    "python_path = os.environ.get(\"PYTHONPATH\", \"\")\n",
    "root_path = os.getcwd()\n",
    "\n",
    "for path in required_paths:\n",
    "    if not any(p.endswith(path) for p in python_path.split(\":\")):\n",
    "        python_path += f\":{root_path}/data/external{path}\"\n",
    "\n",
    "os.environ[\"PYTHONPATH\"] = python_path\n",
    "\n",
    "!echo \"PYTHONPATH: $PYTHONPATH\""
   ]
  },
  {
   "cell_type": "code",
   "execution_count": null,
   "metadata": {},
   "outputs": [],
   "source": [
    "threshold = float(0.01)\n",
    "\n",
    "OUTPUT_PATH = os.path.abspath(\"./resources/json\")\n",
    "MODEL_PATH = os.path.abspath(\"./models/MegaDetector/md_v5a.0.0.pt\")\n",
    "# MODEL_PATH = os.path.abspath(\"./models/MegaDetector/md_v5b.0.0.pt\")\n",
    "# MODEL_PATH = os.path.abspath(\"./models/MegaDetector/md_v4.1.0.pb\")\n",
    "\n",
    "DATASET_PATH = os.path.abspath(\"./dataset/emptyNonEmptyDatasetCropped\")\n",
    "CSV_PATH = os.path.abspath(\"./data/interim/20Images_binary.csv\")\n",
    "dataset = dt.load_from_csv(CSV_PATH)\n",
    "\n",
    "dataset['file_name_abspath'] = dataset['file_name'].apply(lambda x: os.path.join(DATASET_PATH, x))\n",
    "IMAGES_PATH_JSON = os.path.join(OUTPUT_PATH, \"dataset_file_paths.json\")\n",
    "\n",
    "os.makedirs(OUTPUT_PATH, exist_ok=True)\n",
    "\n",
    "with open(IMAGES_PATH_JSON, \"w\") as f:\n",
    "    json.dump(dataset['file_name_abspath'].tolist(), f, indent=1)\n",
    "\n",
    "\n",
    "OUTPUT_FILE_PATH = os.path.join(OUTPUT_PATH, \"detections.json\")\n",
    "\n",
    "print()\n",
    "print(f\"MODEL_PATH:       {MODEL_PATH}\")\n",
    "print(f\"DATASET_PATH:     {DATASET_PATH}\")\n",
    "print(f\"IMAGES_PATH_JSON: {IMAGES_PATH_JSON}\")\n",
    "print(f\"OUTPUT_PATH:      {OUTPUT_PATH}\")\n",
    "print(f\"OUTPUT_FILE_PATH: {OUTPUT_FILE_PATH}\")"
   ]
  },
  {
   "cell_type": "code",
   "execution_count": 4,
   "metadata": {},
   "outputs": [],
   "source": [
    "detection_inicialitation_time = datetime.utcnow().strftime(\"%Y-%m-%d %H:%M:%S\")"
   ]
  },
  {
   "cell_type": "code",
   "execution_count": null,
   "metadata": {},
   "outputs": [],
   "source": [
    "command = f'python data/external/CameraTraps/detection/run_detector_batch.py \"{MODEL_PATH}\" \"{IMAGES_PATH_JSON}\" \"{OUTPUT_FILE_PATH}\" --recursive --threshold \"{threshold}\"'\n",
    "os.system(command)"
   ]
  },
  {
   "cell_type": "code",
   "execution_count": null,
   "metadata": {},
   "outputs": [],
   "source": [
    "with open(OUTPUT_FILE_PATH, \"r\") as file:\n",
    "    data = json.load(file)\n",
    "\n",
    "for image in data[\"images\"]:\n",
    "    image[\"file\"] = (\n",
    "        image[\"file\"]\n",
    "        .replace(\n",
    "            DATASET_PATH + \"/\",\n",
    "            \"\",\n",
    "        )\n",
    "    )\n",
    "\n",
    "info = {\n",
    "    \"detection_initial_time\": detection_inicialitation_time,\n",
    "    \"detection_completion_time\": data[\"info\"][\"detection_completion_time\"],\n",
    "    \"format_version\": data[\"info\"][\"format_version\"],\n",
    "    \"detector\": data[\"info\"][\"detector\"],\n",
    "    \"detector_threshold\": threshold,\n",
    "    \"detector_metadata\": data[\"info\"][\"detector_metadata\"],\n",
    "}\n",
    "\n",
    "final_output = {\n",
    "    \"images\": data[\"images\"],\n",
    "    \"detection_categories\": data[\"detection_categories\"],\n",
    "    \"info\": info,\n",
    "}\n",
    "\n",
    "threshold_str = str(threshold).replace(\".\", \"_\")\n",
    "json_name = f\"{len(data['images'])}_images_{threshold_str}_threshold.json\"\n",
    "model_name = os.path.basename(MODEL_PATH).split(\".\")[0]\n",
    "tmp_path = os.path.join(OUTPUT_PATH, model_name)\n",
    "os.makedirs(tmp_path, exist_ok=True)\n",
    "NEW_OUTPUT_FILE_PATH = os.path.join(tmp_path, json_name)\n",
    "\n",
    "\n",
    "with open(NEW_OUTPUT_FILE_PATH, \"w\") as f:\n",
    "    json.dump(final_output, f, indent=1)\n",
    "print(f\"Output file saved at {NEW_OUTPUT_FILE_PATH}\")\n",
    "\n",
    "os.remove(OUTPUT_FILE_PATH)\n",
    "print(f\"Output file deleted: {OUTPUT_FILE_PATH}\")\n",
    "\n",
    "os.remove(IMAGES_PATH_JSON)\n",
    "print(f\"Images paths json file deleted: {IMAGES_PATH_JSON}\")\n"
   ]
  }
 ],
 "metadata": {
  "kernelspec": {
   "display_name": "cameratraps-detector",
   "language": "python",
   "name": "python3"
  },
  "language_info": {
   "codemirror_mode": {
    "name": "ipython",
    "version": 3
   },
   "file_extension": ".py",
   "mimetype": "text/x-python",
   "name": "python",
   "nbconvert_exporter": "python",
   "pygments_lexer": "ipython3",
   "version": "3.8.15"
  }
 },
 "nbformat": 4,
 "nbformat_minor": 2
}
