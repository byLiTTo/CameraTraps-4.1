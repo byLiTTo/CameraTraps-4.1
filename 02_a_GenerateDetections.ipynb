{
 "cells": [
  {
   "cell_type": "code",
   "execution_count": 1,
   "metadata": {},
   "outputs": [
    {
     "name": "stdout",
     "output_type": "stream",
     "text": [
      "PYTHONPATH: :/Users/carlos/WORKSPACE/MegaClassifier/data/external/ai4eutils:/Users/carlos/WORKSPACE/MegaClassifier/data/external/CameraTraps:/Users/carlos/WORKSPACE/MegaClassifier/data/external/yolov5\n"
     ]
    }
   ],
   "source": [
    "import os\n",
    "\n",
    "required_paths = ['/ai4eutils', '/CameraTraps', '/yolov5']\n",
    "python_path = os.environ.get(\"PYTHONPATH\", \"\")\n",
    "root_path = os.getcwd()\n",
    "\n",
    "for path in required_paths:\n",
    "    if not any(p.endswith(path) for p in python_path.split(':')):\n",
    "        python_path += f':{root_path}/data/external{path}'\n",
    "\n",
    "os.environ[\"PYTHONPATH\"] = python_path\n",
    "\n",
    "!echo \"PYTHONPATH: $PYTHONPATH\"\n"
   ]
  },
  {
   "cell_type": "code",
   "execution_count": 5,
   "metadata": {},
   "outputs": [
    {
     "name": "stdout",
     "output_type": "stream",
     "text": [
      "DATASET_PATH: /Users/carlos/WORKSPACE/MegaClassifier/resources/input/emptyNonEmptyDataset\n",
      "MODEL_PATH: /Users/carlos/WORKSPACE/MegaClassifier/models/MegaDetector/md_v5a.0.0.pt\n",
      "OUTPUT_FILE_PATH: /Users/carlos/WORKSPACE/MegaClassifier/resources/json/prueba.json\n",
      "OUTPUT_PATH: /Users/carlos/WORKSPACE/MegaClassifier/resources/json\n"
     ]
    }
   ],
   "source": [
    "threshold = float(0.1)\n",
    "\n",
    "OUTPUT_PATH = os.path.abspath(\"./resources/json\")\n",
    "MODEL_PATH = os.path.abspath(\"./models/MegaDetector/md_v5a.0.0.pt\")\n",
    "\n",
    "file_name = \"prueba.json\"\n",
    "OUTPUT_FILE_PATH = os.path.join(OUTPUT_PATH, file_name)\n",
    "\n",
    "os.makedirs(OUTPUT_PATH, exist_ok=True)\n",
    "\n",
    "print(\"MODEL_PATH:\", MODEL_PATH)\n",
    "print(\"OUTPUT_FILE_PATH:\", OUTPUT_FILE_PATH)\n",
    "print(\"OUTPUT_PATH:\", OUTPUT_PATH)"
   ]
  },
  {
   "cell_type": "code",
   "execution_count": 14,
   "metadata": {},
   "outputs": [
    {
     "name": "stdout",
     "output_type": "stream",
     "text": [
      "30530 image files found in the input directory\n",
      "PyTorch reports 0 available CUDA devices\n",
      "GPU available: False\n",
      "Using PyTorch version 1.10.1\n",
      "Fusing layers... \n",
      "Model summary: 574 layers, 139990096 parameters, 0 gradients\n",
      "Loaded model in 1.53 seconds\n",
      "Loaded model in 1.53 seconds\n",
      "  0%|                                                 | 0/30530 [00:00<?, ?it/s]Processing image /Users/carlos/WORKSPACE/MegaClassifier/dataset/emptyNonEmptyDataset/leporido/conejo_PNC_2014_ISAAC/c24591IMAG0097.JPG\n",
      "^C\n",
      "  0%|                                                 | 0/30530 [00:00<?, ?it/s]\n",
      "Traceback (most recent call last):\n",
      "  File \"data/external/CameraTraps/detection/run_detector_batch.py\", line 655, in <module>\n",
      "    main()\n",
      "  File \"data/external/CameraTraps/detection/run_detector_batch.py\", line 627, in main\n",
      "    results = load_and_run_detector_batch(model_file=args.detector_file,\n",
      "  File \"data/external/CameraTraps/detection/run_detector_batch.py\", line 361, in load_and_run_detector_batch\n",
      "    result = process_image(im_file, detector, confidence_threshold, quiet=quiet)\n",
      "  File \"data/external/CameraTraps/detection/run_detector_batch.py\", line 287, in process_image\n",
      "    result = detector.generate_detections_one_image(\n",
      "  File \"/Users/carlos/WORKSPACE/MegaClassifier/data/external/CameraTraps/detection/pytorch_detector.py\", line 86, in generate_detections_one_image\n",
      "    pred: list = self.model(img)[0]\n",
      "  File \"/Users/carlos/miniconda3/envs/cameratraps-detector/lib/python3.8/site-packages/torch/nn/modules/module.py\", line 1102, in _call_impl\n",
      "    return forward_call(*input, **kwargs)\n",
      "  File \"/Users/carlos/WORKSPACE/MegaClassifier/data/external/yolov5/models/yolo.py\", line 135, in forward\n",
      "    return self._forward_once(x, profile, visualize)  # single-scale inference, train\n",
      "  File \"/Users/carlos/WORKSPACE/MegaClassifier/data/external/yolov5/models/yolo.py\", line 158, in _forward_once\n",
      "    x = m(x)  # run\n",
      "  File \"/Users/carlos/miniconda3/envs/cameratraps-detector/lib/python3.8/site-packages/torch/nn/modules/module.py\", line 1102, in _call_impl\n",
      "    return forward_call(*input, **kwargs)\n",
      "  File \"/Users/carlos/WORKSPACE/MegaClassifier/data/external/yolov5/models/common.py\", line 158, in forward\n",
      "    return self.cv3(torch.cat((self.m(self.cv1(x)), self.cv2(x)), 1))\n",
      "  File \"/Users/carlos/miniconda3/envs/cameratraps-detector/lib/python3.8/site-packages/torch/nn/modules/module.py\", line 1102, in _call_impl\n",
      "    return forward_call(*input, **kwargs)\n",
      "  File \"/Users/carlos/WORKSPACE/MegaClassifier/data/external/yolov5/models/common.py\", line 50, in forward_fuse\n",
      "    return self.act(self.conv(x))\n",
      "  File \"/Users/carlos/miniconda3/envs/cameratraps-detector/lib/python3.8/site-packages/torch/nn/modules/module.py\", line 1097, in _call_impl\n",
      "    forward_call = (self._slow_forward if torch._C._get_tracing_state() else self.forward)\n",
      "KeyboardInterrupt\n"
     ]
    }
   ],
   "source": [
    "!python data/external/CameraTraps/detection/run_detector_batch.py \\\n",
    "    \"$MODEL_PATH\" \\\n",
    "    /Users/carlos/WORKSPACE/MegaClassifier/dataset/emptyNonEmptyDataset \\\n",
    "    \"$OUTPUT_FILE_PATH\" \\\n",
    "    --recursive \\\n",
    "    --threshold \"$threshold\""
   ]
  }
 ],
 "metadata": {
  "kernelspec": {
   "display_name": "cameratraps-detector",
   "language": "python",
   "name": "python3"
  },
  "language_info": {
   "codemirror_mode": {
    "name": "ipython",
    "version": 3
   },
   "file_extension": ".py",
   "mimetype": "text/x-python",
   "name": "python",
   "nbconvert_exporter": "python",
   "pygments_lexer": "ipython3",
   "version": "3.8.15"
  }
 },
 "nbformat": 4,
 "nbformat_minor": 2
}
