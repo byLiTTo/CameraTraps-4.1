{
 "cells": [
  {
   "cell_type": "code",
   "execution_count": null,
   "id": "initial_id",
   "metadata": {
    "collapsed": true
   },
   "outputs": [],
   "source": [
    "import os\n",
    "\n",
    "USE_DATASET = True\n",
    "\n",
    "input_path_relative = \"../DATASETs/emptyNonEmptyDataset\"\n",
    "input_csv_path_relative = \"./data/10000Images.csv\"\n",
    "input_image_path_relative = \"./input\"\n",
    "\n",
    "output_json_path_relative = \"../local/output_json\"\n",
    "\n",
    "model_path_relative = \"./models/megadetector_v4_1_0.pb\"\n",
    "ai4eutils_path_relative = \"./repos/ai4eutils\"\n",
    "CameraTraps_path_realative = \"./repos/CameraTraps\"\n",
    "\n",
    "input_path = os.path.abspath(input_path_relative)\n",
    "\n",
    "try:\n",
    "    os.environ['PYTHONPATH']\n",
    "except KeyError:\n",
    "    os.environ['PYTHONPATH'] = \"\"\n",
    "if platform.system() == 'Windows':\n",
    "    os.environ['PYTHONPATH'] += (\";\" + ai4utils)\n",
    "    os.environ['PYTHONPATH'] += (\";\" + CameraTraps)\n",
    "else:\n",
    "    os.environ['PYTHONPATH'] += (\":\" + ai4utils)\n",
    "    os.environ['PYTHONPATH'] += (\":\" + CameraTraps)\n",
    "\n",
    "print('==============================================================================================================')\n",
    "print(''\n",
    "\n",
    "#######################################################################################################################\n",
    "\n"
   ]
  }
 ],
 "metadata": {
  "kernelspec": {
   "display_name": "Python 3",
   "language": "python",
   "name": "python3"
  },
  "language_info": {
   "codemirror_mode": {
    "name": "ipython",
    "version": 2
   },
   "file_extension": ".py",
   "mimetype": "text/x-python",
   "name": "python",
   "nbconvert_exporter": "python",
   "pygments_lexer": "ipython2",
   "version": "2.7.6"
  }
 },
 "nbformat": 4,
 "nbformat_minor": 5
}
