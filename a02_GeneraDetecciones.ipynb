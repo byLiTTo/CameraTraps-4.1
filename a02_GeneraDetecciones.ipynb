{
 "cells": [
  {
   "cell_type": "markdown",
   "source": [
    "# DEFINICIÓN DE PARÁMETROS"
   ],
   "metadata": {
    "collapsed": false,
    "pycharm": {
     "name": "#%% md\n"
    }
   }
  },
  {
   "cell_type": "code",
   "execution_count": null,
   "outputs": [],
   "source": [
    "#######################################################################################################################\n",
    "\n",
    "# SI VAMOS A USAR UN DATASET\n",
    "USE_DATASET = True\n",
    "\n",
    "# Ruta relativa hacia el fichero CSV del dataset\n",
    "dataset_dir_relative = '../DATASETs/emptyNonEmptyDataset/'\n",
    "\n",
    "csv_file_relative = './data/700Validation.csv'\n",
    "\n",
    "# Ruta relativa hacia carpeta de imágenes de entrada\n",
    "images_dir_relative = './input'\n",
    "\n",
    "# Ruta relativa hacia la carpeta destino de los ficheros JSON:\n",
    "output_json_path_relative = '../local/output_json'\n",
    "\n",
    "# Ruta relativa al modelo de detección\n",
    "model_relative = './models/megadetector_v4_1_0.pb'\n",
    "\n",
    "# Ruta relativa hacia la librería ai4eutils\n",
    "ai4eutils_relative = \"./repos/ai4eutils\"\n",
    "\n",
    "# Ruta relativa hacia la librería CameraTraps\n",
    "CameraTraps_relative = \"./repos/CameraTraps\"\n",
    "\n",
    "#######################################################################################################################"
   ],
   "metadata": {
    "collapsed": false,
    "pycharm": {
     "name": "#%%\n"
    }
   }
  },
  {
   "cell_type": "code",
   "execution_count": 1,
   "outputs": [
    {
     "name": "stdout",
     "output_type": "stream",
     "text": [
      "==================================================================================================================================\n",
      "PYTHONPATH: /Users/carlos/WORKSPACE/TFG-DeteccionFototrampeo:/Users/carlos/WORKSPACE/TFG-DeteccionFototrampeo/repos/ai4eutils:/Users/carlos/WORKSPACE/TFG-DeteccionFototrampeo/repos/CameraTraps\n",
      "\n",
      "ai4eutils PATH: \t/Users/carlos/WORKSPACE/TFG-DeteccionFototrampeo/repos/ai4eutils\n",
      "CameraTraps PATH: \t/Users/carlos/WORKSPACE/TFG-DeteccionFototrampeo/repos/CameraTraps\n",
      "CSV PATH: \t\t\t/Users/carlos/WORKSPACE/TFG-DeteccionFototrampeo/data/700Validation.csv\n",
      "dataset PATH: \t\t/Users/carlos/WORKSPACE/DATASETs/emptyNonEmptyDataset\n",
      "imágenes PATH: \t\t/Users/carlos/WORKSPACE/TFG-DeteccionFototrampeo/input\n",
      "output_json PATH: \t/Users/carlos/WORKSPACE/local/output_json\n",
      "modelo: \t\t\t/Users/carlos/WORKSPACE/TFG-DeteccionFototrampeo/models/megadetector_v4_1_0.pb\n",
      "==================================================================================================================================\n"
     ]
    }
   ],
   "source": [
    "import os\n",
    "import platform\n",
    "\n",
    "home = os.path.expanduser(\"~\")\n",
    "\n",
    "ai4utils = os.path.abspath(ai4eutils_relative)\n",
    "CameraTraps = os.path.abspath(CameraTraps_relative)\n",
    "csv_file = os.path.abspath(csv_file_relative)\n",
    "dataset_dir = os.path.abspath(dataset_dir_relative)\n",
    "images_dir = os.path.abspath(images_dir_relative)\n",
    "output_json = os.path.abspath(output_json_path_relative)\n",
    "model = os.path.abspath(model_relative)\n",
    "\n",
    "try:\n",
    "    os.environ['PYTHONPATH']\n",
    "except KeyError:\n",
    "    os.environ['PYTHONPATH'] = \"\"\n",
    "if platform.system() == 'Windows':\n",
    "    os.environ['PYTHONPATH'] += (\";\" + ai4utils)\n",
    "    os.environ['PYTHONPATH'] += (\";\" + CameraTraps)\n",
    "else:\n",
    "    os.environ['PYTHONPATH'] += (\":\" + ai4utils)\n",
    "    os.environ['PYTHONPATH'] += (\":\" + CameraTraps)\n",
    "\n",
    "print('=============================================================================================================')\n",
    "print('PYTHONPATH: ' + os.environ['PYTHONPATH'])\n",
    "print('')\n",
    "print('ai4eutils PATH: ' + '\\t' + ai4utils)\n",
    "print('CameraTraps PATH: ' + '\\t' + CameraTraps)\n",
    "print('CSV PATH: ' + '\\t' + '\\t' + '\\t' + csv_file)\n",
    "print('dataset PATH: ' + '\\t' + '\\t' + dataset_dir)\n",
    "print('imágenes PATH: ' + '\\t' + '\\t' + images_dir)\n",
    "print('output_json PATH: ' + '\\t' + output_json)\n",
    "print('modelo: ' + '\\t' + '\\t' + '\\t' + model)\n",
    "print('=============================================================================================================')"
   ],
   "metadata": {
    "collapsed": false,
    "pycharm": {
     "name": "#%%\n"
    }
   }
  },
  {
   "cell_type": "code",
   "execution_count": 2,
   "outputs": [
    {
     "name": "stdout",
     "output_type": "stream",
     "text": [
      "\r\n",
      "=======================================================================================================================================\r\n",
      "TensorFlow version: 2.10.0\r\n",
      "Is GPU available? tf.test.is_gpu_available: [PhysicalDevice(name='/physical_device:GPU:0', device_type='GPU')]\r\n",
      "=======================================================================================================================================\r\n",
      "\r\n",
      "\r\n",
      "=======================================================================================================================================\r\n",
      "TensorFlow version: 2.10.0\r\n",
      "Is GPU available? tf.test.is_gpu_available: [PhysicalDevice(name='/physical_device:GPU:0', device_type='GPU')]\r\n",
      "=======================================================================================================================================\r\n",
      "\r\n",
      "Ejecutando detector en 312 imágenes...\r\n",
      "\r\n",
      "==========================================================================================\r\n",
      "TFDetector: Cargando gráficos\r\n",
      "TFDetector: Gráficos de detección, cargados.\r\n",
      "==========================================================================================\r\n",
      "\r\n",
      "Metal device set to: Apple M1\r\n",
      "\r\n",
      "systemMemory: 16.00 GB\r\n",
      "maxCacheSize: 5.33 GB\r\n",
      "\r\n",
      "2022-10-05 14:56:44.923586: I tensorflow/core/common_runtime/pluggable_device/pluggable_device_factory.cc:306] Could not identify NUMA node of platform GPU ID 0, defaulting to 0. Your kernel may not have been built with NUMA support.\r\n",
      "2022-10-05 14:56:44.924448: I tensorflow/core/common_runtime/pluggable_device/pluggable_device_factory.cc:272] Created TensorFlow device (/job:localhost/replica:0/task:0/device:GPU:0 with 0 MB memory) -> physical PluggableDevice (device: 0, name: METAL, pci bus id: <undefined>)\r\n",
      "\r\n",
      "Modelo cargado en: 4.19 seconds.\r\n",
      "==========================================================================================\r\n",
      "\r\n",
      "  0%|                                                   | 0/312 [00:00<?, ?it/s]\r\n",
      "2022-10-05 14:56:45.114424: I tensorflow/compiler/mlir/mlir_graph_optimization_pass.cc:354] MLIR V1 optimization pass is not enabled\r\n",
      "2022-10-05 14:56:45.218752: W tensorflow/core/platform/profile_utils/cpu_utils.cc:128] Failed to get CPU frequency: 0 Hz\r\n",
      "2022-10-05 14:56:45.282362: I tensorflow/core/grappler/optimizers/custom_graph_optimizer_registry.cc:114] Plugin optimizer for device_type GPU is enabled.\r\n",
      "2022-10-05 14:56:46.732834: W tensorflow/core/grappler/costs/op_level_cost_estimator.cc:690] Error in PredictCost() for the op: op: \"CropAndResize\" attr { key: \"T\" value { type: DT_FLOAT } } attr { key: \"extrapolation_value\" value { f: 0 } } attr { key: \"method\" value { s: \"bilinear\" } } inputs { dtype: DT_FLOAT shape { dim { size: -1047 } dim { size: -1048 } dim { size: -1049 } dim { size: 1088 } } } inputs { dtype: DT_FLOAT shape { dim { size: -108 } dim { size: 4 } } } inputs { dtype: DT_INT32 shape { dim { size: -108 } } } inputs { dtype: DT_INT32 shape { dim { size: 2 } } value { dtype: DT_INT32 tensor_shape { dim { size: 2 } } int_val: 17 } } device { type: \"CPU\" model: \"0\" num_cores: 8 environment { key: \"cpu_instruction_set\" value: \"ARM NEON\" } environment { key: \"eigen\" value: \"3.4.90\" } l1_cache_size: 16384 l2_cache_size: 524288 l3_cache_size: 524288 memory_size: 268435456 } outputs { dtype: DT_FLOAT shape { dim { size: -108 } dim { size: 17 } dim { size: 17 } dim { size: 1088 } } }\r\n",
      "\r\n",
      "Generadas detecciones de imagen /Users/carlos/WORKSPACE/DATASETs/emptyNonEmptyDataset/caballo/HORSE_ZOO_1_4/2_20201215 (1824).JPG en 9.3 seconds.\r\n",
      "  0%|▏                                          | 1/312 [00:09<48:17,  9.32s/it]\r\n",
      "\r\n",
      "Generadas detecciones de imagen /Users/carlos/WORKSPACE/DATASETs/emptyNonEmptyDataset/vacia/NOANIMAL_ZOO_5_6_7_9/24_20210418 (9472).JPG en 4.46 seconds.\r\n",
      "  1%|▎                                          | 2/312 [00:13<33:22,  6.46s/it]\r\n",
      "\r\n",
      "Generadas detecciones de imagen /Users/carlos/WORKSPACE/DATASETs/emptyNonEmptyDataset/vacia/NOANIMAL_ZOO_1_4/15_20210117 (12857).JPG en 4.5 seconds.\r\n",
      "  1%|▍                                          | 3/312 [00:18<28:41,  5.57s/it]\r\n",
      "^C\r\n"
     ]
    }
   ],
   "source": [
    "if USE_DATASET:\n",
    "    !python .modules/genera_detecciones.py \"$model\" --dataset_dir \"$dataset_dir\" --csv_file \"$csv_file\" --output_dir \"$output_json\"\n",
    "else:\n",
    "    !python ./modules/genera_detecciones.py \"$model\" --image_dir \"$images_dir\" --output_dir \"$output_json\""
   ],
   "metadata": {
    "collapsed": false,
    "pycharm": {
     "name": "#%%\n"
    }
   }
  }
 ],
 "metadata": {
  "kernelspec": {
   "display_name": "Python 3.8.13 ('tf_gpu')",
   "language": "python",
   "name": "python3"
  },
  "language_info": {
   "codemirror_mode": {
    "name": "ipython",
    "version": 3
   },
   "file_extension": ".py",
   "mimetype": "text/x-python",
   "name": "python",
   "nbconvert_exporter": "python",
   "pygments_lexer": "ipython3",
   "version": "3.8.13"
  },
  "orig_nbformat": 4,
  "vscode": {
   "interpreter": {
    "hash": "907d050957a886e998c55a62a25f72c12f58285fde8e87ef7996a2175b8c9579"
   }
  }
 },
 "nbformat": 4,
 "nbformat_minor": 2
}