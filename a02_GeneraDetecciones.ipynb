{
 "cells": [
  {
   "cell_type": "code",
   "execution_count": 2,
   "metadata": {},
   "outputs": [
    {
     "name": "stdout",
     "output_type": "stream",
     "text": [
      "=======================================================================================================================================\n",
      "PYTHONPATH: /Users/carlos/.vscode/extensions/ms-toolsai.jupyter-2022.6.1201981810/pythonFiles:/Users/carlos/.vscode/extensions/ms-toolsai.jupyter-2022.6.1201981810/pythonFiles/lib/python:/Users/carlos/WORKSPACE/TFG-DeteccionFototrampeo/repos/ai4eutils:/Users/carlos/WORKSPACE/TFG-DeteccionFototrampeo/repos/CameraTraps\n",
      "\n",
      "ai4eutils PATH: \t/Users/carlos/WORKSPACE/TFG-DeteccionFototrampeo/repos/ai4eutils\n",
      "CameraTraps PATH: \t/Users/carlos/WORKSPACE/TFG-DeteccionFototrampeo/repos/CameraTraps\n",
      "dataset PATH: \t\t/Users/carlos/WORKSPACE/TFG-DeteccionFototrampeo/data/10000Imagenes.csv\n",
      "imagenes PATH: \t\t/Users/carlos/WORKSPACE/TFG-DeteccionFototrampeo/input\n",
      "output_json PATH: \t/Users/carlos/WORKSPACE/TFG-DeteccionFototrampeo/output_json\n",
      "modelo: \t\t/Users/carlos/WORKSPACE/TFG-DeteccionFototrampeo/models/megadetector_v4_1_0.pb\n",
      "=======================================================================================================================================\n"
     ]
    }
   ],
   "source": [
    "import os\n",
    "import platform\n",
    "from modules.path_utils import PathUtils as p_utils\n",
    "\n",
    "#########################################################################################################################################################\n",
    "# PARAMETROS DEFINIDOS EN FUNCION DEL USUARIO\n",
    "#########################################################################################################################################################\n",
    "\n",
    "# SI VAMOS A USAR UN DATASET\n",
    "USE_DATASET = True\n",
    "\n",
    "# Ruta relativa hacia el fichero CSV del dataset\n",
    "dataset_dir_relative = '../DATASETs/emptyNonEmptyDataset/'\n",
    "\n",
    "csv_file_relative = './data/10000Imagenes.csv'\n",
    "\n",
    "# Ruta relativa hacia carpeta de imagenes de entrada\n",
    "images_dir_relative = './input'\n",
    "\n",
    "# Ruta relativa hacia la librería ai4eutils\n",
    "ai4eutils_relative = \"./repos/ai4eutils\"\n",
    "\n",
    "# Ruta relativa hacia la librería CameraTraps\n",
    "CameraTraps_relative = \"./repos/CameraTraps\"\n",
    "\n",
    "# Ruta relativa hacia la carpeta destino de los ficheros JSON:\n",
    "output_json_path_relative = ('./output_json')\n",
    "\n",
    "# Ruta relativa al modelo de detección\n",
    "model_relative = './models/megadetector_v4_1_0.pb'\n",
    "\n",
    "#########################################################################################################################################################\n",
    "#########################################################################################################################################################\n",
    "\n",
    "home = os.path.expanduser(\"~\")\n",
    "\n",
    "ai4utils = os.path.abspath(ai4eutils_relative)\n",
    "CameraTraps = os.path.abspath(CameraTraps_relative)\n",
    "dataset_dir = os.path.abspath(dataset_dir_relative)\n",
    "images_dir = os.path.abspath(images_dir_relative)\n",
    "output_json = os.path.abspath(output_json_path_relative)\n",
    "model = os.path.abspath(model_relative)\n",
    "\n",
    "try:\n",
    "    os.environ['PYTHONPATH']\n",
    "except KeyError:\n",
    "    os.environ['PYTHONPATH'] = \"\"\n",
    "if platform.system() == 'Windows':\n",
    "    os.environ['PYTHONPATH'] += (\";\" + ai4utils)\n",
    "    os.environ['PYTHONPATH'] += (\";\" + CameraTraps)\n",
    "else:\n",
    "    os.environ['PYTHONPATH'] += (\":\" + ai4utils)\n",
    "    os.environ['PYTHONPATH'] += (\":\" + CameraTraps)\n",
    "\n",
    "print('=======================================================================================================================================')\n",
    "print('PYTHONPATH: ' + os.environ['PYTHONPATH'])\n",
    "print('')\n",
    "print('ai4eutils PATH: ' + '\\t' + ai4utils)\n",
    "print('CameraTraps PATH: ' + '\\t' + CameraTraps)\n",
    "print('dataset PATH: ' + '\\t' + '\\t' + dataset_dir)\n",
    "print('imagenes PATH: ' + '\\t' + '\\t' + images_dir)\n",
    "print('output_json PATH: ' + '\\t' + output_json)\n",
    "print('modelo: ' + '\\t' + '\\t' + model)\n",
    "print('=======================================================================================================================================')"
   ]
  },
  {
   "cell_type": "code",
   "execution_count": null,
   "metadata": {},
   "outputs": [],
   "source": [
    "if USE_DATASET:\n",
    "    !python ./modules/genera_detecciones.py \"$model\" --dataset_dir \"$images_dir\" --csv_file \"$csv_file\" --output_dir \"$output_json\"\n",
    "else:\n",
    "    !python ./modules/genera_detecciones.py \"$model\" --image_dir \"$images_dir\" --output_dir \"$output_json\""
   ]
  }
 ],
 "metadata": {
  "kernelspec": {
   "display_name": "Python 3.8.11 ('tensorflow_2.8')",
   "language": "python",
   "name": "python3"
  },
  "language_info": {
   "codemirror_mode": {
    "name": "ipython",
    "version": 3
   },
   "file_extension": ".py",
   "mimetype": "text/x-python",
   "name": "python",
   "nbconvert_exporter": "python",
   "pygments_lexer": "ipython3",
   "version": "3.8.11"
  },
  "orig_nbformat": 4,
  "vscode": {
   "interpreter": {
    "hash": "c869847218dbda1326190bfd304c163a22399a5d0bf580a3267b90a1cd24a9bc"
   }
  }
 },
 "nbformat": 4,
 "nbformat_minor": 2
}
