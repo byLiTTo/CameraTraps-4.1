{
 "cells": [
  {
   "cell_type": "code",
   "execution_count": 1,
   "metadata": {},
   "outputs": [],
   "source": [
    "import json\n",
    "import os\n",
    "\n",
    "import tqdm\n",
    "\n",
    "import src.visualization.fit_images as fi"
   ]
  },
  {
   "cell_type": "code",
   "execution_count": 2,
   "metadata": {},
   "outputs": [
    {
     "name": "stdout",
     "output_type": "stream",
     "text": [
      "PYTHONPATH: :/Users/carlos/WORKSPACE/MegaClassifier/data/external/ai4eutils:/Users/carlos/WORKSPACE/MegaClassifier/data/external/CameraTraps:/Users/carlos/WORKSPACE/MegaClassifier/data/external/yolov5\n"
     ]
    }
   ],
   "source": [
    "required_paths = [\"/ai4eutils\", \"/CameraTraps\", \"/yolov5\"]\n",
    "python_path = os.environ.get(\"PYTHONPATH\", \"\")\n",
    "root_path = os.getcwd()\n",
    "\n",
    "for path in required_paths:\n",
    "    if not any(p.endswith(path) for p in python_path.split(\":\")):\n",
    "        python_path += f\":{root_path}/data/external{path}\"\n",
    "\n",
    "os.environ[\"PYTHONPATH\"] = python_path\n",
    "\n",
    "!echo \"PYTHONPATH: $PYTHONPATH\""
   ]
  },
  {
   "cell_type": "code",
   "execution_count": 3,
   "metadata": {},
   "outputs": [
    {
     "name": "stdout",
     "output_type": "stream",
     "text": [
      "\n",
      "DATASET_PATH:   /Users/carlos/WORKSPACE/MegaClassifier/dataset/emptyNonEmptyDatasetCropped\n",
      "IMAGE_PATH:     /Users/carlos/WORKSPACE/MegaClassifier/resources/masked/emptyNonEmptyDatasetCropped/md_v4\n",
      "MASK_PATH:      /Users/carlos/WORKSPACE/MegaClassifier/resources/mask/emptyNonEmptyDatasetCropped/md_v4\n",
      "FIT_PATH:       /Users/carlos/WORKSPACE/MegaClassifier/resources/fit/emptyNonEmptyDatasetCropped/md_v4\n",
      "DETECTION_JSON: /Users/carlos/WORKSPACE/MegaClassifier/resources/json/md_v4/60_images_0_075_threshold.json\n"
     ]
    }
   ],
   "source": [
    "DATASET_PATH = os.path.abspath(\"./dataset/emptyNonEmptyDatasetCropped\")\n",
    "IMAGE_PATH = os.path.abspath(\"./resources/masked\")\n",
    "MASK_PATH = os.path.abspath(\"./resources/mask\")\n",
    "FIT_PATH = os.path.abspath(\"./resources/fit\")\n",
    "\n",
    "DETECTION_JSON = os.path.abspath(\n",
    "    \"./resources/json/md_v4/60_images_0_075_threshold.json\"\n",
    ")\n",
    "\n",
    "with open(DETECTION_JSON, \"r\") as f:\n",
    "    result = json.load(f)\n",
    "\n",
    "IMAGE_PATH = os.path.join(\n",
    "    IMAGE_PATH,\n",
    "    os.path.basename(DATASET_PATH),\n",
    "    result[\"info\"][\"detector\"].split(\".\")[0],\n",
    ")\n",
    "\n",
    "MASK_PATH = os.path.join(\n",
    "    MASK_PATH,\n",
    "    os.path.basename(DATASET_PATH),\n",
    "    result[\"info\"][\"detector\"].split(\".\")[0],\n",
    ")\n",
    "\n",
    "FIT_PATH = os.path.join(\n",
    "    FIT_PATH,\n",
    "    os.path.basename(DATASET_PATH),\n",
    "    result[\"info\"][\"detector\"].split(\".\")[0],\n",
    ")\n",
    "\n",
    "\n",
    "print()\n",
    "print(f\"DATASET_PATH:   {DATASET_PATH}\")\n",
    "print(f\"IMAGE_PATH:     {IMAGE_PATH}\")\n",
    "print(f\"MASK_PATH:      {MASK_PATH}\")\n",
    "print(f\"FIT_PATH:       {FIT_PATH}\")\n",
    "print(f\"DETECTION_JSON: {DETECTION_JSON}\")"
   ]
  },
  {
   "cell_type": "code",
   "execution_count": 4,
   "metadata": {},
   "outputs": [
    {
     "name": "stderr",
     "output_type": "stream",
     "text": [
      "100%|██████████| 60/60 [00:00<00:00, 99.90it/s] \n"
     ]
    }
   ],
   "source": [
    "for image in tqdm.tqdm(result[\"images\"]):\n",
    "    image_file = os.path.join(IMAGE_PATH, image[\"file\"])\n",
    "    mask_file = os.path.join(MASK_PATH, image[\"file\"])\n",
    "    fit_file = os.path.join(FIT_PATH, image[\"file\"])\n",
    "\n",
    "    fi.fit_image(image_file, mask_file, fit_file)\n"
   ]
  }
 ],
 "metadata": {
  "kernelspec": {
   "display_name": "cameratraps-detector",
   "language": "python",
   "name": "python3"
  },
  "language_info": {
   "codemirror_mode": {
    "name": "ipython",
    "version": 3
   },
   "file_extension": ".py",
   "mimetype": "text/x-python",
   "name": "python",
   "nbconvert_exporter": "python",
   "pygments_lexer": "ipython3",
   "version": "3.8.15"
  }
 },
 "nbformat": 4,
 "nbformat_minor": 2
}
