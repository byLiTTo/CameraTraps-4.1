{
 "cells": [
  {
   "cell_type": "code",
   "execution_count": 6,
   "metadata": {},
   "outputs": [],
   "source": [
    "import json\n",
    "import os\n",
    "from datetime import datetime\n",
    "\n",
    "from PIL import Image\n",
    "\n",
    "import src.data.Dataset as dt\n",
    "import src.visualization.visualization_utils as vu"
   ]
  },
  {
   "cell_type": "code",
   "execution_count": 7,
   "metadata": {},
   "outputs": [
    {
     "name": "stdout",
     "output_type": "stream",
     "text": [
      "PYTHONPATH: :/Users/carlos/WORKSPACE/MegaClassifier/data/external/ai4eutils:/Users/carlos/WORKSPACE/MegaClassifier/data/external/CameraTraps:/Users/carlos/WORKSPACE/MegaClassifier/data/external/yolov5:/Users/carlos/WORKSPACE/MegaClassifier/data/external/CameraTraps/visualization\n"
     ]
    }
   ],
   "source": [
    "required_paths = [\"/ai4eutils\", \"/CameraTraps\", \"/yolov5\", \"/CameraTraps/visualization\"]\n",
    "python_path = os.environ.get(\"PYTHONPATH\", \"\")\n",
    "root_path = os.getcwd()\n",
    "\n",
    "for path in required_paths:\n",
    "    if not any(p.endswith(path) for p in python_path.split(\":\")):\n",
    "        python_path += f\":{root_path}/data/external{path}\"\n",
    "\n",
    "os.environ[\"PYTHONPATH\"] = python_path\n",
    "\n",
    "!echo \"PYTHONPATH: $PYTHONPATH\""
   ]
  },
  {
   "cell_type": "code",
   "execution_count": 8,
   "metadata": {},
   "outputs": [
    {
     "name": "stdout",
     "output_type": "stream",
     "text": [
      "\n",
      "DATASET_PATH:     /Users/carlos/WORKSPACE/MegaClassifier/dataset/emptyNonEmptyDatasetCropped\n",
      "DETECTION_JSON:   /Users/carlos/WORKSPACE/MegaClassifier/resources/json/md_v5b/60_images_0_05_threshold.json\n"
     ]
    }
   ],
   "source": [
    "DATASET_PATH = os.path.abspath(\"./dataset/emptyNonEmptyDatasetCropped\")\n",
    "DETECTION_JSON = os.path.abspath(\n",
    "    \"./resources/json/md_v5b/60_images_0_05_threshold.json\"\n",
    ")\n",
    "\n",
    "\n",
    "# dataset['file_name_abspath'] = dataset['file_name'].apply(lambda x: os.path.join(DATASET_PATH, x))\n",
    "# IMAGES_PATH_JSON = os.path.join(OUTPUT_PATH, \"dataset_file_paths.json\")\n",
    "\n",
    "# os.makedirs(OUTPUT_PATH, exist_ok=True)\n",
    "\n",
    "# with open(IMAGES_PATH_JSON, \"w\") as f:\n",
    "#     json.dump(dataset['file_name_abspath'].tolist(), f, indent=1)\n",
    "\n",
    "\n",
    "# OUTPUT_FILE_PATH = os.path.join(OUTPUT_PATH, \"detections.json\")\n",
    "\n",
    "print()\n",
    "print(f\"DATASET_PATH:     {DATASET_PATH}\")\n",
    "print(f\"DETECTION_JSON:   {DETECTION_JSON}\")"
   ]
  },
  {
   "cell_type": "code",
   "execution_count": 9,
   "metadata": {},
   "outputs": [],
   "source": [
    "with open(DETECTION_JSON, \"r\") as f:\n",
    "    detections = json.load(f)"
   ]
  },
  {
   "cell_type": "code",
   "execution_count": 10,
   "metadata": {},
   "outputs": [],
   "source": [
    "image_path = os.path.join(DATASET_PATH, detections[\"images\"][18][\"file\"])\n",
    "\n",
    "image = Image.open(image_path)\n",
    "detection= detections[\"images\"][18][\"detections\"]\n",
    "detection\n",
    "\n",
    "image.show()\n",
    "vu.render_detection_bounding_boxes(detection,image,confidence_threshold=0.0,thickness=0)\n",
    "image.show()"
   ]
  }
 ],
 "metadata": {
  "kernelspec": {
   "display_name": "cameratraps-detector",
   "language": "python",
   "name": "python3"
  },
  "language_info": {
   "codemirror_mode": {
    "name": "ipython",
    "version": 3
   },
   "file_extension": ".py",
   "mimetype": "text/x-python",
   "name": "python",
   "nbconvert_exporter": "python",
   "pygments_lexer": "ipython3",
   "version": "3.8.15"
  }
 },
 "nbformat": 4,
 "nbformat_minor": 2
}
