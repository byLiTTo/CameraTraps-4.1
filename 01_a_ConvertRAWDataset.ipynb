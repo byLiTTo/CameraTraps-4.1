{
 "cells": [
  {
   "cell_type": "code",
   "execution_count": 1,
   "metadata": {},
   "outputs": [],
   "source": [
    "import os\n",
    "\n",
    "import src.data.Dataset as dt"
   ]
  },
  {
   "cell_type": "code",
   "execution_count": null,
   "metadata": {},
   "outputs": [],
   "source": [
    "RAW_DATASET = os.path.abspath(\"./data/raw/10000Images.csv\")\n",
    "print(f\"RAW_DATASET: {RAW_DATASET}\")"
   ]
  },
  {
   "cell_type": "code",
   "execution_count": null,
   "metadata": {},
   "outputs": [],
   "source": [
    "dataset = dt.load_from_csv(RAW_DATASET)\n",
    "dataset"
   ]
  },
  {
   "cell_type": "code",
   "execution_count": null,
   "metadata": {},
   "outputs": [],
   "source": [
    "print(\"Classes of dataset \")\n",
    "print(dataset[\"label\"].unique())\n",
    "\n",
    "print()\n",
    "print(\"Number of classes of dataset \")\n",
    "print(dataset[\"label\"].nunique())"
   ]
  },
  {
   "cell_type": "code",
   "execution_count": null,
   "metadata": {},
   "outputs": [],
   "source": [
    "label_counts = dataset[\"label\"].value_counts()\n",
    "label_counts_sorted = label_counts.sort_index()\n",
    "print(label_counts_sorted)"
   ]
  },
  {
   "cell_type": "code",
   "execution_count": null,
   "metadata": {},
   "outputs": [],
   "source": [
    "animal_class = [\n",
    "    \"ave\",\n",
    "    \"caballo\",\n",
    "    \"cervidae\",\n",
    "    \"dudosa\",\n",
    "    \"garduna\",\n",
    "    \"gato_domestico\",\n",
    "    \"gineta\",\n",
    "    \"humanovehiculo\",\n",
    "    \"jabali\",\n",
    "    \"leporido\",\n",
    "    \"lince\",\n",
    "    \"mapache\",\n",
    "    \"meloncillo\",\n",
    "    \"micromamiferos\",\n",
    "    \"perro\",\n",
    "    \"tejon\",\n",
    "    \"vaca\",\n",
    "    \"zorro\",\n",
    "]\n",
    "\n",
    "animal_class_filtered = [\n",
    "    \"ave\",\n",
    "    \"caballo\",\n",
    "    \"cervidae\",\n",
    "    \"garduna\",\n",
    "    \"gato_domestico\",\n",
    "    \"gineta\",\n",
    "    \"humanovehiculo\",\n",
    "    \"jabali\",\n",
    "    \"leporido\",\n",
    "    \"lince\",\n",
    "    \"mapache\",\n",
    "    \"meloncillo\",\n",
    "    \"micromamiferos\",\n",
    "    \"perro\",\n",
    "    \"tejon\",\n",
    "    \"vaca\",\n",
    "    \"zorro\",\n",
    "]\n",
    "\n",
    "empty_class = [\"vacia\"]\n",
    "\n",
    "print(\"Number of classes of custom dataset \")\n",
    "print(str(len(animal_class_filtered) + len(empty_class)))"
   ]
  },
  {
   "cell_type": "code",
   "execution_count": null,
   "metadata": {},
   "outputs": [],
   "source": [
    "dataset_binary = dt.convert_to_binary(dataset, empty_class, animal_class)\n",
    "dataset_filtered = dt.convert_to_binary(dataset, empty_class, animal_class_filtered)\n",
    "dataset_filtered"
   ]
  },
  {
   "cell_type": "code",
   "execution_count": null,
   "metadata": {},
   "outputs": [],
   "source": [
    "number_raw_samples = len(dataset_binary[\"file_name\"].values)\n",
    "number_raw_empty = len(dataset_binary[dataset_binary[\"label\"] == 0])\n",
    "number_raw_animal = len(dataset_binary[dataset_binary[\"label\"] == 1])\n",
    "\n",
    "print(\"Number of samples in raw dataset: \" + str(number_raw_samples))\n",
    "label_counts = dataset_binary[\"label\"].value_counts()\n",
    "label_counts_sorted = label_counts.sort_index()\n",
    "print(label_counts_sorted)\n",
    "print()\n",
    "\n",
    "number_set_samples = len(dataset_filtered[\"file_name\"].values)\n",
    "number_set_empty = len(dataset_filtered[dataset_filtered[\"label\"] == 0])\n",
    "number_set_animal = len(dataset_filtered[dataset_filtered[\"label\"] == 1])\n",
    "\n",
    "csv_set_path = os.path.join(\n",
    "    RAW_DATASET[: -len(os.path.basename(RAW_DATASET))],\n",
    "    str(number_set_empty) + \"Images_binary.csv\",\n",
    ")\n",
    "dt.dataset_to_csv(dataset_filtered, csv_set_path)\n",
    "\n",
    "print(\"\\nNumber of samples in set dataset: \" + str(number_set_samples))\n",
    "label_counts = dataset_filtered[\"label\"].value_counts()\n",
    "label_counts_sorted = label_counts.sort_index()\n",
    "print(label_counts_sorted)"
   ]
  },
  {
   "cell_type": "code",
   "execution_count": null,
   "metadata": {},
   "outputs": [],
   "source": [
    "# Calculate the proportion of samples for the empty class in each dataset\n",
    "proportion_empty_raw = number_raw_empty / number_raw_samples\n",
    "proportion_empty_set = number_set_empty / number_set_samples\n",
    "\n",
    "# Calculate the proportion of samples for the animal class in each dataset\n",
    "proportion_animal_raw = number_raw_animal / number_raw_samples\n",
    "proportion_animal_set = number_set_animal / number_set_samples\n",
    "\n",
    "# Print the proportions\n",
    "print(\n",
    "    \"Proportion of empty class samples in raw dataset: {:.2%}\".format(\n",
    "        proportion_empty_raw\n",
    "    )\n",
    ")\n",
    "print(\n",
    "    \"Proportion of empty class samples in set dataset: {:.2%}\".format(\n",
    "        proportion_empty_set\n",
    "    )\n",
    ")\n",
    "print()\n",
    "print(\n",
    "    \"Proportion of animal class samples in raw dataset: {:.2%}\".format(\n",
    "        proportion_animal_raw\n",
    "    )\n",
    ")\n",
    "print(\n",
    "    \"Proportion of animal class samples in set dataset: {:.2%}\".format(\n",
    "        proportion_animal_set\n",
    "    )\n",
    ")"
   ]
  }
 ],
 "metadata": {
  "kernelspec": {
   "display_name": "cameratraps-detector",
   "language": "python",
   "name": "python3"
  },
  "language_info": {
   "codemirror_mode": {
    "name": "ipython",
    "version": 3
   },
   "file_extension": ".py",
   "mimetype": "text/x-python",
   "name": "python",
   "nbconvert_exporter": "python",
   "pygments_lexer": "ipython3",
   "version": "3.8.15"
  }
 },
 "nbformat": 4,
 "nbformat_minor": 2
}
